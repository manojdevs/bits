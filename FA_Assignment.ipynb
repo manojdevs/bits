{
  "cells": [
    {
      "cell_type": "code",
      "execution_count": 1,
      "metadata": {
        "colab": {
          "base_uri": "https://localhost:8080/"
        },
        "id": "ZqQlhySVF8Ad",
        "outputId": "5a2bb508-836b-45d3-e7dc-35e41c674ea3"
      },
      "outputs": [
        {
          "output_type": "stream",
          "name": "stdout",
          "text": [
            "Collecting yfinance\n",
            "  Downloading yfinance-0.1.70-py2.py3-none-any.whl (26 kB)\n",
            "Collecting requests>=2.26\n",
            "  Downloading requests-2.27.1-py2.py3-none-any.whl (63 kB)\n",
            "\u001b[K     |████████████████████████████████| 63 kB 1.6 MB/s \n",
            "\u001b[?25hCollecting lxml>=4.5.1\n",
            "  Downloading lxml-4.8.0-cp37-cp37m-manylinux_2_17_x86_64.manylinux2014_x86_64.manylinux_2_24_x86_64.whl (6.4 MB)\n",
            "\u001b[K     |████████████████████████████████| 6.4 MB 64.8 MB/s \n",
            "\u001b[?25hRequirement already satisfied: numpy>=1.15 in /usr/local/lib/python3.7/dist-packages (from yfinance) (1.21.5)\n",
            "Requirement already satisfied: pandas>=0.24.0 in /usr/local/lib/python3.7/dist-packages (from yfinance) (1.3.5)\n",
            "Requirement already satisfied: multitasking>=0.0.7 in /usr/local/lib/python3.7/dist-packages (from yfinance) (0.0.10)\n",
            "Requirement already satisfied: python-dateutil>=2.7.3 in /usr/local/lib/python3.7/dist-packages (from pandas>=0.24.0->yfinance) (2.8.2)\n",
            "Requirement already satisfied: pytz>=2017.3 in /usr/local/lib/python3.7/dist-packages (from pandas>=0.24.0->yfinance) (2018.9)\n",
            "Requirement already satisfied: six>=1.5 in /usr/local/lib/python3.7/dist-packages (from python-dateutil>=2.7.3->pandas>=0.24.0->yfinance) (1.15.0)\n",
            "Requirement already satisfied: urllib3<1.27,>=1.21.1 in /usr/local/lib/python3.7/dist-packages (from requests>=2.26->yfinance) (1.24.3)\n",
            "Requirement already satisfied: idna<4,>=2.5 in /usr/local/lib/python3.7/dist-packages (from requests>=2.26->yfinance) (2.10)\n",
            "Requirement already satisfied: certifi>=2017.4.17 in /usr/local/lib/python3.7/dist-packages (from requests>=2.26->yfinance) (2021.10.8)\n",
            "Requirement already satisfied: charset-normalizer~=2.0.0 in /usr/local/lib/python3.7/dist-packages (from requests>=2.26->yfinance) (2.0.12)\n",
            "Installing collected packages: requests, lxml, yfinance\n",
            "  Attempting uninstall: requests\n",
            "    Found existing installation: requests 2.23.0\n",
            "    Uninstalling requests-2.23.0:\n",
            "      Successfully uninstalled requests-2.23.0\n",
            "  Attempting uninstall: lxml\n",
            "    Found existing installation: lxml 4.2.6\n",
            "    Uninstalling lxml-4.2.6:\n",
            "      Successfully uninstalled lxml-4.2.6\n",
            "\u001b[31mERROR: pip's dependency resolver does not currently take into account all the packages that are installed. This behaviour is the source of the following dependency conflicts.\n",
            "google-colab 1.0.0 requires requests~=2.23.0, but you have requests 2.27.1 which is incompatible.\n",
            "datascience 0.10.6 requires folium==0.2.1, but you have folium 0.8.3 which is incompatible.\u001b[0m\n",
            "Successfully installed lxml-4.8.0 requests-2.27.1 yfinance-0.1.70\n",
            "Collecting yahoofinancials\n",
            "  Downloading yahoofinancials-1.6.tar.gz (27 kB)\n",
            "Requirement already satisfied: beautifulsoup4 in /usr/local/lib/python3.7/dist-packages (from yahoofinancials) (4.6.3)\n",
            "Requirement already satisfied: pytz in /usr/local/lib/python3.7/dist-packages (from yahoofinancials) (2018.9)\n",
            "Building wheels for collected packages: yahoofinancials\n",
            "  Building wheel for yahoofinancials (setup.py) ... \u001b[?25l\u001b[?25hdone\n",
            "  Created wheel for yahoofinancials: filename=yahoofinancials-1.6-py3-none-any.whl size=15192 sha256=c14a4f14c696a6a174c1a55835246baed12d0fe5f5bd778901be9e0df57457b7\n",
            "  Stored in directory: /root/.cache/pip/wheels/4b/63/46/e7110bfee88685fe69e338d1b14d1748921862aa57b6705b60\n",
            "Successfully built yahoofinancials\n",
            "Installing collected packages: yahoofinancials\n",
            "Successfully installed yahoofinancials-1.6\n",
            "Collecting pmdarima\n",
            "  Downloading pmdarima-1.8.5-cp37-cp37m-manylinux_2_17_x86_64.manylinux2014_x86_64.manylinux_2_24_x86_64.whl (1.4 MB)\n",
            "\u001b[K     |████████████████████████████████| 1.4 MB 22.7 MB/s \n",
            "\u001b[?25hCollecting statsmodels!=0.12.0,>=0.11\n",
            "  Downloading statsmodels-0.13.2-cp37-cp37m-manylinux_2_17_x86_64.manylinux2014_x86_64.whl (9.8 MB)\n",
            "\u001b[K     |████████████████████████████████| 9.8 MB 59.8 MB/s \n",
            "\u001b[?25hRequirement already satisfied: pandas>=0.19 in /usr/local/lib/python3.7/dist-packages (from pmdarima) (1.3.5)\n",
            "Requirement already satisfied: joblib>=0.11 in /usr/local/lib/python3.7/dist-packages (from pmdarima) (1.1.0)\n",
            "Requirement already satisfied: Cython!=0.29.18,>=0.29 in /usr/local/lib/python3.7/dist-packages (from pmdarima) (0.29.28)\n",
            "Requirement already satisfied: setuptools!=50.0.0,>=38.6.0 in /usr/local/lib/python3.7/dist-packages (from pmdarima) (57.4.0)\n",
            "Requirement already satisfied: urllib3 in /usr/local/lib/python3.7/dist-packages (from pmdarima) (1.24.3)\n",
            "Requirement already satisfied: scikit-learn>=0.22 in /usr/local/lib/python3.7/dist-packages (from pmdarima) (1.0.2)\n",
            "Requirement already satisfied: scipy>=1.3.2 in /usr/local/lib/python3.7/dist-packages (from pmdarima) (1.4.1)\n",
            "Requirement already satisfied: numpy>=1.19.3 in /usr/local/lib/python3.7/dist-packages (from pmdarima) (1.21.5)\n",
            "Requirement already satisfied: python-dateutil>=2.7.3 in /usr/local/lib/python3.7/dist-packages (from pandas>=0.19->pmdarima) (2.8.2)\n",
            "Requirement already satisfied: pytz>=2017.3 in /usr/local/lib/python3.7/dist-packages (from pandas>=0.19->pmdarima) (2018.9)\n",
            "Requirement already satisfied: six>=1.5 in /usr/local/lib/python3.7/dist-packages (from python-dateutil>=2.7.3->pandas>=0.19->pmdarima) (1.15.0)\n",
            "Requirement already satisfied: threadpoolctl>=2.0.0 in /usr/local/lib/python3.7/dist-packages (from scikit-learn>=0.22->pmdarima) (3.1.0)\n",
            "Requirement already satisfied: packaging>=21.3 in /usr/local/lib/python3.7/dist-packages (from statsmodels!=0.12.0,>=0.11->pmdarima) (21.3)\n",
            "Requirement already satisfied: patsy>=0.5.2 in /usr/local/lib/python3.7/dist-packages (from statsmodels!=0.12.0,>=0.11->pmdarima) (0.5.2)\n",
            "Requirement already satisfied: pyparsing!=3.0.5,>=2.0.2 in /usr/local/lib/python3.7/dist-packages (from packaging>=21.3->statsmodels!=0.12.0,>=0.11->pmdarima) (3.0.7)\n",
            "Installing collected packages: statsmodels, pmdarima\n",
            "  Attempting uninstall: statsmodels\n",
            "    Found existing installation: statsmodels 0.10.2\n",
            "    Uninstalling statsmodels-0.10.2:\n",
            "      Successfully uninstalled statsmodels-0.10.2\n",
            "Successfully installed pmdarima-1.8.5 statsmodels-0.13.2\n"
          ]
        }
      ],
      "source": [
        "!pip install yfinance\n",
        "!pip install yahoofinancials\n",
        "!pip install pmdarima"
      ]
    },
    {
      "cell_type": "code",
      "execution_count": 2,
      "metadata": {
        "id": "dQrZPBcoGFoM"
      },
      "outputs": [],
      "source": [
        "# display multiple outputs\n",
        "from IPython.core.interactiveshell import InteractiveShell\n",
        "InteractiveShell.ast_node_interactivity = \"all\""
      ]
    },
    {
      "cell_type": "code",
      "execution_count": 3,
      "metadata": {
        "id": "QPfNPdMmGTiX"
      },
      "outputs": [],
      "source": [
        "import pandas as pd\n",
        "import numpy as np\n",
        "import yfinance as yf"
      ]
    },
    {
      "cell_type": "markdown",
      "metadata": {
        "id": "O7sPKLEQYioR"
      },
      "source": [
        "# 1. ARIMA"
      ]
    },
    {
      "cell_type": "code",
      "execution_count": 4,
      "metadata": {
        "id": "W-ekNFuQGg5p"
      },
      "outputs": [],
      "source": [
        "amexdf = yf.download(\"AXP\", start=\"2017-01-01\", progress=False)\n",
        "visadf = yf.download(\"V\", start=\"2017-01-01\", progress=False)\n",
        "mastercarddf = yf.download(\"MA\", start=\"2017-01-01\", progress=False)\n",
        "fiservdf = yf.download(\"FISV\", start=\"2017-01-01\", progress=False)\n",
        "paypaldf = yf.download(\"PYPL\", start=\"2017-01-01\", progress=False)"
      ]
    },
    {
      "cell_type": "code",
      "execution_count": 5,
      "metadata": {
        "colab": {
          "base_uri": "https://localhost:8080/",
          "height": 805
        },
        "id": "N5FYps8NK9UE",
        "outputId": "3f4b5ef5-d1b2-4f55-aaa4-90fad415fab7"
      },
      "outputs": [
        {
          "output_type": "execute_result",
          "data": {
            "text/plain": [
              "                 Open       High        Low      Close  Adj Close   Volume\n",
              "Date                                                                      \n",
              "2017-01-03  74.889999  75.750000  74.739998  75.349998  69.781242  5853900\n",
              "2017-01-04  75.260002  76.550003  75.059998  76.260002  70.925217  4635800\n",
              "2017-01-05  76.000000  76.180000  74.820000  75.320000  70.050957  3383000"
            ],
            "text/html": [
              "\n",
              "  <div id=\"df-f6c221d9-c5b0-4c01-a5ca-67b3d883f43a\">\n",
              "    <div class=\"colab-df-container\">\n",
              "      <div>\n",
              "<style scoped>\n",
              "    .dataframe tbody tr th:only-of-type {\n",
              "        vertical-align: middle;\n",
              "    }\n",
              "\n",
              "    .dataframe tbody tr th {\n",
              "        vertical-align: top;\n",
              "    }\n",
              "\n",
              "    .dataframe thead th {\n",
              "        text-align: right;\n",
              "    }\n",
              "</style>\n",
              "<table border=\"1\" class=\"dataframe\">\n",
              "  <thead>\n",
              "    <tr style=\"text-align: right;\">\n",
              "      <th></th>\n",
              "      <th>Open</th>\n",
              "      <th>High</th>\n",
              "      <th>Low</th>\n",
              "      <th>Close</th>\n",
              "      <th>Adj Close</th>\n",
              "      <th>Volume</th>\n",
              "    </tr>\n",
              "    <tr>\n",
              "      <th>Date</th>\n",
              "      <th></th>\n",
              "      <th></th>\n",
              "      <th></th>\n",
              "      <th></th>\n",
              "      <th></th>\n",
              "      <th></th>\n",
              "    </tr>\n",
              "  </thead>\n",
              "  <tbody>\n",
              "    <tr>\n",
              "      <th>2017-01-03</th>\n",
              "      <td>74.889999</td>\n",
              "      <td>75.750000</td>\n",
              "      <td>74.739998</td>\n",
              "      <td>75.349998</td>\n",
              "      <td>69.781242</td>\n",
              "      <td>5853900</td>\n",
              "    </tr>\n",
              "    <tr>\n",
              "      <th>2017-01-04</th>\n",
              "      <td>75.260002</td>\n",
              "      <td>76.550003</td>\n",
              "      <td>75.059998</td>\n",
              "      <td>76.260002</td>\n",
              "      <td>70.925217</td>\n",
              "      <td>4635800</td>\n",
              "    </tr>\n",
              "    <tr>\n",
              "      <th>2017-01-05</th>\n",
              "      <td>76.000000</td>\n",
              "      <td>76.180000</td>\n",
              "      <td>74.820000</td>\n",
              "      <td>75.320000</td>\n",
              "      <td>70.050957</td>\n",
              "      <td>3383000</td>\n",
              "    </tr>\n",
              "  </tbody>\n",
              "</table>\n",
              "</div>\n",
              "      <button class=\"colab-df-convert\" onclick=\"convertToInteractive('df-f6c221d9-c5b0-4c01-a5ca-67b3d883f43a')\"\n",
              "              title=\"Convert this dataframe to an interactive table.\"\n",
              "              style=\"display:none;\">\n",
              "        \n",
              "  <svg xmlns=\"http://www.w3.org/2000/svg\" height=\"24px\"viewBox=\"0 0 24 24\"\n",
              "       width=\"24px\">\n",
              "    <path d=\"M0 0h24v24H0V0z\" fill=\"none\"/>\n",
              "    <path d=\"M18.56 5.44l.94 2.06.94-2.06 2.06-.94-2.06-.94-.94-2.06-.94 2.06-2.06.94zm-11 1L8.5 8.5l.94-2.06 2.06-.94-2.06-.94L8.5 2.5l-.94 2.06-2.06.94zm10 10l.94 2.06.94-2.06 2.06-.94-2.06-.94-.94-2.06-.94 2.06-2.06.94z\"/><path d=\"M17.41 7.96l-1.37-1.37c-.4-.4-.92-.59-1.43-.59-.52 0-1.04.2-1.43.59L10.3 9.45l-7.72 7.72c-.78.78-.78 2.05 0 2.83L4 21.41c.39.39.9.59 1.41.59.51 0 1.02-.2 1.41-.59l7.78-7.78 2.81-2.81c.8-.78.8-2.07 0-2.86zM5.41 20L4 18.59l7.72-7.72 1.47 1.35L5.41 20z\"/>\n",
              "  </svg>\n",
              "      </button>\n",
              "      \n",
              "  <style>\n",
              "    .colab-df-container {\n",
              "      display:flex;\n",
              "      flex-wrap:wrap;\n",
              "      gap: 12px;\n",
              "    }\n",
              "\n",
              "    .colab-df-convert {\n",
              "      background-color: #E8F0FE;\n",
              "      border: none;\n",
              "      border-radius: 50%;\n",
              "      cursor: pointer;\n",
              "      display: none;\n",
              "      fill: #1967D2;\n",
              "      height: 32px;\n",
              "      padding: 0 0 0 0;\n",
              "      width: 32px;\n",
              "    }\n",
              "\n",
              "    .colab-df-convert:hover {\n",
              "      background-color: #E2EBFA;\n",
              "      box-shadow: 0px 1px 2px rgba(60, 64, 67, 0.3), 0px 1px 3px 1px rgba(60, 64, 67, 0.15);\n",
              "      fill: #174EA6;\n",
              "    }\n",
              "\n",
              "    [theme=dark] .colab-df-convert {\n",
              "      background-color: #3B4455;\n",
              "      fill: #D2E3FC;\n",
              "    }\n",
              "\n",
              "    [theme=dark] .colab-df-convert:hover {\n",
              "      background-color: #434B5C;\n",
              "      box-shadow: 0px 1px 3px 1px rgba(0, 0, 0, 0.15);\n",
              "      filter: drop-shadow(0px 1px 2px rgba(0, 0, 0, 0.3));\n",
              "      fill: #FFFFFF;\n",
              "    }\n",
              "  </style>\n",
              "\n",
              "      <script>\n",
              "        const buttonEl =\n",
              "          document.querySelector('#df-f6c221d9-c5b0-4c01-a5ca-67b3d883f43a button.colab-df-convert');\n",
              "        buttonEl.style.display =\n",
              "          google.colab.kernel.accessAllowed ? 'block' : 'none';\n",
              "\n",
              "        async function convertToInteractive(key) {\n",
              "          const element = document.querySelector('#df-f6c221d9-c5b0-4c01-a5ca-67b3d883f43a');\n",
              "          const dataTable =\n",
              "            await google.colab.kernel.invokeFunction('convertToInteractive',\n",
              "                                                     [key], {});\n",
              "          if (!dataTable) return;\n",
              "\n",
              "          const docLinkHtml = 'Like what you see? Visit the ' +\n",
              "            '<a target=\"_blank\" href=https://colab.research.google.com/notebooks/data_table.ipynb>data table notebook</a>'\n",
              "            + ' to learn more about interactive tables.';\n",
              "          element.innerHTML = '';\n",
              "          dataTable['output_type'] = 'display_data';\n",
              "          await google.colab.output.renderOutput(dataTable, element);\n",
              "          const docLink = document.createElement('div');\n",
              "          docLink.innerHTML = docLinkHtml;\n",
              "          element.appendChild(docLink);\n",
              "        }\n",
              "      </script>\n",
              "    </div>\n",
              "  </div>\n",
              "  "
            ]
          },
          "metadata": {},
          "execution_count": 5
        },
        {
          "output_type": "execute_result",
          "data": {
            "text/plain": [
              "                 Open       High        Low      Close  Adj Close    Volume\n",
              "Date                                                                       \n",
              "2017-01-03  78.760002  79.910004  78.489998  79.500000  76.844223  13785200\n",
              "2017-01-04  79.440002  80.260002  79.360001  80.150002  77.472504   8033100\n",
              "2017-01-05  80.339996  81.529999  80.220001  81.089996  78.381088   7805100"
            ],
            "text/html": [
              "\n",
              "  <div id=\"df-da757ed3-5835-473f-a794-0b14b9d83992\">\n",
              "    <div class=\"colab-df-container\">\n",
              "      <div>\n",
              "<style scoped>\n",
              "    .dataframe tbody tr th:only-of-type {\n",
              "        vertical-align: middle;\n",
              "    }\n",
              "\n",
              "    .dataframe tbody tr th {\n",
              "        vertical-align: top;\n",
              "    }\n",
              "\n",
              "    .dataframe thead th {\n",
              "        text-align: right;\n",
              "    }\n",
              "</style>\n",
              "<table border=\"1\" class=\"dataframe\">\n",
              "  <thead>\n",
              "    <tr style=\"text-align: right;\">\n",
              "      <th></th>\n",
              "      <th>Open</th>\n",
              "      <th>High</th>\n",
              "      <th>Low</th>\n",
              "      <th>Close</th>\n",
              "      <th>Adj Close</th>\n",
              "      <th>Volume</th>\n",
              "    </tr>\n",
              "    <tr>\n",
              "      <th>Date</th>\n",
              "      <th></th>\n",
              "      <th></th>\n",
              "      <th></th>\n",
              "      <th></th>\n",
              "      <th></th>\n",
              "      <th></th>\n",
              "    </tr>\n",
              "  </thead>\n",
              "  <tbody>\n",
              "    <tr>\n",
              "      <th>2017-01-03</th>\n",
              "      <td>78.760002</td>\n",
              "      <td>79.910004</td>\n",
              "      <td>78.489998</td>\n",
              "      <td>79.500000</td>\n",
              "      <td>76.844223</td>\n",
              "      <td>13785200</td>\n",
              "    </tr>\n",
              "    <tr>\n",
              "      <th>2017-01-04</th>\n",
              "      <td>79.440002</td>\n",
              "      <td>80.260002</td>\n",
              "      <td>79.360001</td>\n",
              "      <td>80.150002</td>\n",
              "      <td>77.472504</td>\n",
              "      <td>8033100</td>\n",
              "    </tr>\n",
              "    <tr>\n",
              "      <th>2017-01-05</th>\n",
              "      <td>80.339996</td>\n",
              "      <td>81.529999</td>\n",
              "      <td>80.220001</td>\n",
              "      <td>81.089996</td>\n",
              "      <td>78.381088</td>\n",
              "      <td>7805100</td>\n",
              "    </tr>\n",
              "  </tbody>\n",
              "</table>\n",
              "</div>\n",
              "      <button class=\"colab-df-convert\" onclick=\"convertToInteractive('df-da757ed3-5835-473f-a794-0b14b9d83992')\"\n",
              "              title=\"Convert this dataframe to an interactive table.\"\n",
              "              style=\"display:none;\">\n",
              "        \n",
              "  <svg xmlns=\"http://www.w3.org/2000/svg\" height=\"24px\"viewBox=\"0 0 24 24\"\n",
              "       width=\"24px\">\n",
              "    <path d=\"M0 0h24v24H0V0z\" fill=\"none\"/>\n",
              "    <path d=\"M18.56 5.44l.94 2.06.94-2.06 2.06-.94-2.06-.94-.94-2.06-.94 2.06-2.06.94zm-11 1L8.5 8.5l.94-2.06 2.06-.94-2.06-.94L8.5 2.5l-.94 2.06-2.06.94zm10 10l.94 2.06.94-2.06 2.06-.94-2.06-.94-.94-2.06-.94 2.06-2.06.94z\"/><path d=\"M17.41 7.96l-1.37-1.37c-.4-.4-.92-.59-1.43-.59-.52 0-1.04.2-1.43.59L10.3 9.45l-7.72 7.72c-.78.78-.78 2.05 0 2.83L4 21.41c.39.39.9.59 1.41.59.51 0 1.02-.2 1.41-.59l7.78-7.78 2.81-2.81c.8-.78.8-2.07 0-2.86zM5.41 20L4 18.59l7.72-7.72 1.47 1.35L5.41 20z\"/>\n",
              "  </svg>\n",
              "      </button>\n",
              "      \n",
              "  <style>\n",
              "    .colab-df-container {\n",
              "      display:flex;\n",
              "      flex-wrap:wrap;\n",
              "      gap: 12px;\n",
              "    }\n",
              "\n",
              "    .colab-df-convert {\n",
              "      background-color: #E8F0FE;\n",
              "      border: none;\n",
              "      border-radius: 50%;\n",
              "      cursor: pointer;\n",
              "      display: none;\n",
              "      fill: #1967D2;\n",
              "      height: 32px;\n",
              "      padding: 0 0 0 0;\n",
              "      width: 32px;\n",
              "    }\n",
              "\n",
              "    .colab-df-convert:hover {\n",
              "      background-color: #E2EBFA;\n",
              "      box-shadow: 0px 1px 2px rgba(60, 64, 67, 0.3), 0px 1px 3px 1px rgba(60, 64, 67, 0.15);\n",
              "      fill: #174EA6;\n",
              "    }\n",
              "\n",
              "    [theme=dark] .colab-df-convert {\n",
              "      background-color: #3B4455;\n",
              "      fill: #D2E3FC;\n",
              "    }\n",
              "\n",
              "    [theme=dark] .colab-df-convert:hover {\n",
              "      background-color: #434B5C;\n",
              "      box-shadow: 0px 1px 3px 1px rgba(0, 0, 0, 0.15);\n",
              "      filter: drop-shadow(0px 1px 2px rgba(0, 0, 0, 0.3));\n",
              "      fill: #FFFFFF;\n",
              "    }\n",
              "  </style>\n",
              "\n",
              "      <script>\n",
              "        const buttonEl =\n",
              "          document.querySelector('#df-da757ed3-5835-473f-a794-0b14b9d83992 button.colab-df-convert');\n",
              "        buttonEl.style.display =\n",
              "          google.colab.kernel.accessAllowed ? 'block' : 'none';\n",
              "\n",
              "        async function convertToInteractive(key) {\n",
              "          const element = document.querySelector('#df-da757ed3-5835-473f-a794-0b14b9d83992');\n",
              "          const dataTable =\n",
              "            await google.colab.kernel.invokeFunction('convertToInteractive',\n",
              "                                                     [key], {});\n",
              "          if (!dataTable) return;\n",
              "\n",
              "          const docLinkHtml = 'Like what you see? Visit the ' +\n",
              "            '<a target=\"_blank\" href=https://colab.research.google.com/notebooks/data_table.ipynb>data table notebook</a>'\n",
              "            + ' to learn more about interactive tables.';\n",
              "          element.innerHTML = '';\n",
              "          dataTable['output_type'] = 'display_data';\n",
              "          await google.colab.output.renderOutput(dataTable, element);\n",
              "          const docLink = document.createElement('div');\n",
              "          docLink.innerHTML = docLinkHtml;\n",
              "          element.appendChild(docLink);\n",
              "        }\n",
              "      </script>\n",
              "    </div>\n",
              "  </div>\n",
              "  "
            ]
          },
          "metadata": {},
          "execution_count": 5
        },
        {
          "output_type": "execute_result",
          "data": {
            "text/plain": [
              "                  Open        High         Low       Close   Adj Close  \\\n",
              "Date                                                                     \n",
              "2017-01-03  104.410004  105.940002  104.110001  105.389999  102.280418   \n",
              "2017-01-04  105.339996  106.750000  104.860001  106.389999  103.250885   \n",
              "2017-01-05  107.050003  108.150002  106.459999  106.989998  104.048363   \n",
              "\n",
              "             Volume  \n",
              "Date                 \n",
              "2017-01-03  4711300  \n",
              "2017-01-04  3299000  \n",
              "2017-01-05  3262200  "
            ],
            "text/html": [
              "\n",
              "  <div id=\"df-b37a2fef-ab43-437c-8e4b-f9339ebb8705\">\n",
              "    <div class=\"colab-df-container\">\n",
              "      <div>\n",
              "<style scoped>\n",
              "    .dataframe tbody tr th:only-of-type {\n",
              "        vertical-align: middle;\n",
              "    }\n",
              "\n",
              "    .dataframe tbody tr th {\n",
              "        vertical-align: top;\n",
              "    }\n",
              "\n",
              "    .dataframe thead th {\n",
              "        text-align: right;\n",
              "    }\n",
              "</style>\n",
              "<table border=\"1\" class=\"dataframe\">\n",
              "  <thead>\n",
              "    <tr style=\"text-align: right;\">\n",
              "      <th></th>\n",
              "      <th>Open</th>\n",
              "      <th>High</th>\n",
              "      <th>Low</th>\n",
              "      <th>Close</th>\n",
              "      <th>Adj Close</th>\n",
              "      <th>Volume</th>\n",
              "    </tr>\n",
              "    <tr>\n",
              "      <th>Date</th>\n",
              "      <th></th>\n",
              "      <th></th>\n",
              "      <th></th>\n",
              "      <th></th>\n",
              "      <th></th>\n",
              "      <th></th>\n",
              "    </tr>\n",
              "  </thead>\n",
              "  <tbody>\n",
              "    <tr>\n",
              "      <th>2017-01-03</th>\n",
              "      <td>104.410004</td>\n",
              "      <td>105.940002</td>\n",
              "      <td>104.110001</td>\n",
              "      <td>105.389999</td>\n",
              "      <td>102.280418</td>\n",
              "      <td>4711300</td>\n",
              "    </tr>\n",
              "    <tr>\n",
              "      <th>2017-01-04</th>\n",
              "      <td>105.339996</td>\n",
              "      <td>106.750000</td>\n",
              "      <td>104.860001</td>\n",
              "      <td>106.389999</td>\n",
              "      <td>103.250885</td>\n",
              "      <td>3299000</td>\n",
              "    </tr>\n",
              "    <tr>\n",
              "      <th>2017-01-05</th>\n",
              "      <td>107.050003</td>\n",
              "      <td>108.150002</td>\n",
              "      <td>106.459999</td>\n",
              "      <td>106.989998</td>\n",
              "      <td>104.048363</td>\n",
              "      <td>3262200</td>\n",
              "    </tr>\n",
              "  </tbody>\n",
              "</table>\n",
              "</div>\n",
              "      <button class=\"colab-df-convert\" onclick=\"convertToInteractive('df-b37a2fef-ab43-437c-8e4b-f9339ebb8705')\"\n",
              "              title=\"Convert this dataframe to an interactive table.\"\n",
              "              style=\"display:none;\">\n",
              "        \n",
              "  <svg xmlns=\"http://www.w3.org/2000/svg\" height=\"24px\"viewBox=\"0 0 24 24\"\n",
              "       width=\"24px\">\n",
              "    <path d=\"M0 0h24v24H0V0z\" fill=\"none\"/>\n",
              "    <path d=\"M18.56 5.44l.94 2.06.94-2.06 2.06-.94-2.06-.94-.94-2.06-.94 2.06-2.06.94zm-11 1L8.5 8.5l.94-2.06 2.06-.94-2.06-.94L8.5 2.5l-.94 2.06-2.06.94zm10 10l.94 2.06.94-2.06 2.06-.94-2.06-.94-.94-2.06-.94 2.06-2.06.94z\"/><path d=\"M17.41 7.96l-1.37-1.37c-.4-.4-.92-.59-1.43-.59-.52 0-1.04.2-1.43.59L10.3 9.45l-7.72 7.72c-.78.78-.78 2.05 0 2.83L4 21.41c.39.39.9.59 1.41.59.51 0 1.02-.2 1.41-.59l7.78-7.78 2.81-2.81c.8-.78.8-2.07 0-2.86zM5.41 20L4 18.59l7.72-7.72 1.47 1.35L5.41 20z\"/>\n",
              "  </svg>\n",
              "      </button>\n",
              "      \n",
              "  <style>\n",
              "    .colab-df-container {\n",
              "      display:flex;\n",
              "      flex-wrap:wrap;\n",
              "      gap: 12px;\n",
              "    }\n",
              "\n",
              "    .colab-df-convert {\n",
              "      background-color: #E8F0FE;\n",
              "      border: none;\n",
              "      border-radius: 50%;\n",
              "      cursor: pointer;\n",
              "      display: none;\n",
              "      fill: #1967D2;\n",
              "      height: 32px;\n",
              "      padding: 0 0 0 0;\n",
              "      width: 32px;\n",
              "    }\n",
              "\n",
              "    .colab-df-convert:hover {\n",
              "      background-color: #E2EBFA;\n",
              "      box-shadow: 0px 1px 2px rgba(60, 64, 67, 0.3), 0px 1px 3px 1px rgba(60, 64, 67, 0.15);\n",
              "      fill: #174EA6;\n",
              "    }\n",
              "\n",
              "    [theme=dark] .colab-df-convert {\n",
              "      background-color: #3B4455;\n",
              "      fill: #D2E3FC;\n",
              "    }\n",
              "\n",
              "    [theme=dark] .colab-df-convert:hover {\n",
              "      background-color: #434B5C;\n",
              "      box-shadow: 0px 1px 3px 1px rgba(0, 0, 0, 0.15);\n",
              "      filter: drop-shadow(0px 1px 2px rgba(0, 0, 0, 0.3));\n",
              "      fill: #FFFFFF;\n",
              "    }\n",
              "  </style>\n",
              "\n",
              "      <script>\n",
              "        const buttonEl =\n",
              "          document.querySelector('#df-b37a2fef-ab43-437c-8e4b-f9339ebb8705 button.colab-df-convert');\n",
              "        buttonEl.style.display =\n",
              "          google.colab.kernel.accessAllowed ? 'block' : 'none';\n",
              "\n",
              "        async function convertToInteractive(key) {\n",
              "          const element = document.querySelector('#df-b37a2fef-ab43-437c-8e4b-f9339ebb8705');\n",
              "          const dataTable =\n",
              "            await google.colab.kernel.invokeFunction('convertToInteractive',\n",
              "                                                     [key], {});\n",
              "          if (!dataTable) return;\n",
              "\n",
              "          const docLinkHtml = 'Like what you see? Visit the ' +\n",
              "            '<a target=\"_blank\" href=https://colab.research.google.com/notebooks/data_table.ipynb>data table notebook</a>'\n",
              "            + ' to learn more about interactive tables.';\n",
              "          element.innerHTML = '';\n",
              "          dataTable['output_type'] = 'display_data';\n",
              "          await google.colab.output.renderOutput(dataTable, element);\n",
              "          const docLink = document.createElement('div');\n",
              "          docLink.innerHTML = docLinkHtml;\n",
              "          element.appendChild(docLink);\n",
              "        }\n",
              "      </script>\n",
              "    </div>\n",
              "  </div>\n",
              "  "
            ]
          },
          "metadata": {},
          "execution_count": 5
        },
        {
          "output_type": "execute_result",
          "data": {
            "text/plain": [
              "             Open       High        Low      Close  Adj Close   Volume\n",
              "Date                                                                  \n",
              "2017-01-03  53.41  53.845001  53.244999  53.669998  53.669998  2142600\n",
              "2017-01-04  53.66  54.365002  53.654999  54.325001  54.325001  1359000\n",
              "2017-01-05  54.23  54.590000  54.005001  54.305000  54.305000  1662400"
            ],
            "text/html": [
              "\n",
              "  <div id=\"df-1e56e5c4-f80a-43df-bce0-14ac7f6b7061\">\n",
              "    <div class=\"colab-df-container\">\n",
              "      <div>\n",
              "<style scoped>\n",
              "    .dataframe tbody tr th:only-of-type {\n",
              "        vertical-align: middle;\n",
              "    }\n",
              "\n",
              "    .dataframe tbody tr th {\n",
              "        vertical-align: top;\n",
              "    }\n",
              "\n",
              "    .dataframe thead th {\n",
              "        text-align: right;\n",
              "    }\n",
              "</style>\n",
              "<table border=\"1\" class=\"dataframe\">\n",
              "  <thead>\n",
              "    <tr style=\"text-align: right;\">\n",
              "      <th></th>\n",
              "      <th>Open</th>\n",
              "      <th>High</th>\n",
              "      <th>Low</th>\n",
              "      <th>Close</th>\n",
              "      <th>Adj Close</th>\n",
              "      <th>Volume</th>\n",
              "    </tr>\n",
              "    <tr>\n",
              "      <th>Date</th>\n",
              "      <th></th>\n",
              "      <th></th>\n",
              "      <th></th>\n",
              "      <th></th>\n",
              "      <th></th>\n",
              "      <th></th>\n",
              "    </tr>\n",
              "  </thead>\n",
              "  <tbody>\n",
              "    <tr>\n",
              "      <th>2017-01-03</th>\n",
              "      <td>53.41</td>\n",
              "      <td>53.845001</td>\n",
              "      <td>53.244999</td>\n",
              "      <td>53.669998</td>\n",
              "      <td>53.669998</td>\n",
              "      <td>2142600</td>\n",
              "    </tr>\n",
              "    <tr>\n",
              "      <th>2017-01-04</th>\n",
              "      <td>53.66</td>\n",
              "      <td>54.365002</td>\n",
              "      <td>53.654999</td>\n",
              "      <td>54.325001</td>\n",
              "      <td>54.325001</td>\n",
              "      <td>1359000</td>\n",
              "    </tr>\n",
              "    <tr>\n",
              "      <th>2017-01-05</th>\n",
              "      <td>54.23</td>\n",
              "      <td>54.590000</td>\n",
              "      <td>54.005001</td>\n",
              "      <td>54.305000</td>\n",
              "      <td>54.305000</td>\n",
              "      <td>1662400</td>\n",
              "    </tr>\n",
              "  </tbody>\n",
              "</table>\n",
              "</div>\n",
              "      <button class=\"colab-df-convert\" onclick=\"convertToInteractive('df-1e56e5c4-f80a-43df-bce0-14ac7f6b7061')\"\n",
              "              title=\"Convert this dataframe to an interactive table.\"\n",
              "              style=\"display:none;\">\n",
              "        \n",
              "  <svg xmlns=\"http://www.w3.org/2000/svg\" height=\"24px\"viewBox=\"0 0 24 24\"\n",
              "       width=\"24px\">\n",
              "    <path d=\"M0 0h24v24H0V0z\" fill=\"none\"/>\n",
              "    <path d=\"M18.56 5.44l.94 2.06.94-2.06 2.06-.94-2.06-.94-.94-2.06-.94 2.06-2.06.94zm-11 1L8.5 8.5l.94-2.06 2.06-.94-2.06-.94L8.5 2.5l-.94 2.06-2.06.94zm10 10l.94 2.06.94-2.06 2.06-.94-2.06-.94-.94-2.06-.94 2.06-2.06.94z\"/><path d=\"M17.41 7.96l-1.37-1.37c-.4-.4-.92-.59-1.43-.59-.52 0-1.04.2-1.43.59L10.3 9.45l-7.72 7.72c-.78.78-.78 2.05 0 2.83L4 21.41c.39.39.9.59 1.41.59.51 0 1.02-.2 1.41-.59l7.78-7.78 2.81-2.81c.8-.78.8-2.07 0-2.86zM5.41 20L4 18.59l7.72-7.72 1.47 1.35L5.41 20z\"/>\n",
              "  </svg>\n",
              "      </button>\n",
              "      \n",
              "  <style>\n",
              "    .colab-df-container {\n",
              "      display:flex;\n",
              "      flex-wrap:wrap;\n",
              "      gap: 12px;\n",
              "    }\n",
              "\n",
              "    .colab-df-convert {\n",
              "      background-color: #E8F0FE;\n",
              "      border: none;\n",
              "      border-radius: 50%;\n",
              "      cursor: pointer;\n",
              "      display: none;\n",
              "      fill: #1967D2;\n",
              "      height: 32px;\n",
              "      padding: 0 0 0 0;\n",
              "      width: 32px;\n",
              "    }\n",
              "\n",
              "    .colab-df-convert:hover {\n",
              "      background-color: #E2EBFA;\n",
              "      box-shadow: 0px 1px 2px rgba(60, 64, 67, 0.3), 0px 1px 3px 1px rgba(60, 64, 67, 0.15);\n",
              "      fill: #174EA6;\n",
              "    }\n",
              "\n",
              "    [theme=dark] .colab-df-convert {\n",
              "      background-color: #3B4455;\n",
              "      fill: #D2E3FC;\n",
              "    }\n",
              "\n",
              "    [theme=dark] .colab-df-convert:hover {\n",
              "      background-color: #434B5C;\n",
              "      box-shadow: 0px 1px 3px 1px rgba(0, 0, 0, 0.15);\n",
              "      filter: drop-shadow(0px 1px 2px rgba(0, 0, 0, 0.3));\n",
              "      fill: #FFFFFF;\n",
              "    }\n",
              "  </style>\n",
              "\n",
              "      <script>\n",
              "        const buttonEl =\n",
              "          document.querySelector('#df-1e56e5c4-f80a-43df-bce0-14ac7f6b7061 button.colab-df-convert');\n",
              "        buttonEl.style.display =\n",
              "          google.colab.kernel.accessAllowed ? 'block' : 'none';\n",
              "\n",
              "        async function convertToInteractive(key) {\n",
              "          const element = document.querySelector('#df-1e56e5c4-f80a-43df-bce0-14ac7f6b7061');\n",
              "          const dataTable =\n",
              "            await google.colab.kernel.invokeFunction('convertToInteractive',\n",
              "                                                     [key], {});\n",
              "          if (!dataTable) return;\n",
              "\n",
              "          const docLinkHtml = 'Like what you see? Visit the ' +\n",
              "            '<a target=\"_blank\" href=https://colab.research.google.com/notebooks/data_table.ipynb>data table notebook</a>'\n",
              "            + ' to learn more about interactive tables.';\n",
              "          element.innerHTML = '';\n",
              "          dataTable['output_type'] = 'display_data';\n",
              "          await google.colab.output.renderOutput(dataTable, element);\n",
              "          const docLink = document.createElement('div');\n",
              "          docLink.innerHTML = docLinkHtml;\n",
              "          element.appendChild(docLink);\n",
              "        }\n",
              "      </script>\n",
              "    </div>\n",
              "  </div>\n",
              "  "
            ]
          },
          "metadata": {},
          "execution_count": 5
        },
        {
          "output_type": "execute_result",
          "data": {
            "text/plain": [
              "                 Open       High        Low      Close  Adj Close   Volume\n",
              "Date                                                                      \n",
              "2017-01-03  40.290001  40.980000  40.000000  40.250000  40.250000  8247400\n",
              "2017-01-04  40.349998  41.029999  40.044998  41.000000  41.000000  6806400\n",
              "2017-01-05  41.430000  41.720001  41.040001  41.060001  41.060001  6432000"
            ],
            "text/html": [
              "\n",
              "  <div id=\"df-3a814fc0-686e-4f94-a53e-c10a74a82e9d\">\n",
              "    <div class=\"colab-df-container\">\n",
              "      <div>\n",
              "<style scoped>\n",
              "    .dataframe tbody tr th:only-of-type {\n",
              "        vertical-align: middle;\n",
              "    }\n",
              "\n",
              "    .dataframe tbody tr th {\n",
              "        vertical-align: top;\n",
              "    }\n",
              "\n",
              "    .dataframe thead th {\n",
              "        text-align: right;\n",
              "    }\n",
              "</style>\n",
              "<table border=\"1\" class=\"dataframe\">\n",
              "  <thead>\n",
              "    <tr style=\"text-align: right;\">\n",
              "      <th></th>\n",
              "      <th>Open</th>\n",
              "      <th>High</th>\n",
              "      <th>Low</th>\n",
              "      <th>Close</th>\n",
              "      <th>Adj Close</th>\n",
              "      <th>Volume</th>\n",
              "    </tr>\n",
              "    <tr>\n",
              "      <th>Date</th>\n",
              "      <th></th>\n",
              "      <th></th>\n",
              "      <th></th>\n",
              "      <th></th>\n",
              "      <th></th>\n",
              "      <th></th>\n",
              "    </tr>\n",
              "  </thead>\n",
              "  <tbody>\n",
              "    <tr>\n",
              "      <th>2017-01-03</th>\n",
              "      <td>40.290001</td>\n",
              "      <td>40.980000</td>\n",
              "      <td>40.000000</td>\n",
              "      <td>40.250000</td>\n",
              "      <td>40.250000</td>\n",
              "      <td>8247400</td>\n",
              "    </tr>\n",
              "    <tr>\n",
              "      <th>2017-01-04</th>\n",
              "      <td>40.349998</td>\n",
              "      <td>41.029999</td>\n",
              "      <td>40.044998</td>\n",
              "      <td>41.000000</td>\n",
              "      <td>41.000000</td>\n",
              "      <td>6806400</td>\n",
              "    </tr>\n",
              "    <tr>\n",
              "      <th>2017-01-05</th>\n",
              "      <td>41.430000</td>\n",
              "      <td>41.720001</td>\n",
              "      <td>41.040001</td>\n",
              "      <td>41.060001</td>\n",
              "      <td>41.060001</td>\n",
              "      <td>6432000</td>\n",
              "    </tr>\n",
              "  </tbody>\n",
              "</table>\n",
              "</div>\n",
              "      <button class=\"colab-df-convert\" onclick=\"convertToInteractive('df-3a814fc0-686e-4f94-a53e-c10a74a82e9d')\"\n",
              "              title=\"Convert this dataframe to an interactive table.\"\n",
              "              style=\"display:none;\">\n",
              "        \n",
              "  <svg xmlns=\"http://www.w3.org/2000/svg\" height=\"24px\"viewBox=\"0 0 24 24\"\n",
              "       width=\"24px\">\n",
              "    <path d=\"M0 0h24v24H0V0z\" fill=\"none\"/>\n",
              "    <path d=\"M18.56 5.44l.94 2.06.94-2.06 2.06-.94-2.06-.94-.94-2.06-.94 2.06-2.06.94zm-11 1L8.5 8.5l.94-2.06 2.06-.94-2.06-.94L8.5 2.5l-.94 2.06-2.06.94zm10 10l.94 2.06.94-2.06 2.06-.94-2.06-.94-.94-2.06-.94 2.06-2.06.94z\"/><path d=\"M17.41 7.96l-1.37-1.37c-.4-.4-.92-.59-1.43-.59-.52 0-1.04.2-1.43.59L10.3 9.45l-7.72 7.72c-.78.78-.78 2.05 0 2.83L4 21.41c.39.39.9.59 1.41.59.51 0 1.02-.2 1.41-.59l7.78-7.78 2.81-2.81c.8-.78.8-2.07 0-2.86zM5.41 20L4 18.59l7.72-7.72 1.47 1.35L5.41 20z\"/>\n",
              "  </svg>\n",
              "      </button>\n",
              "      \n",
              "  <style>\n",
              "    .colab-df-container {\n",
              "      display:flex;\n",
              "      flex-wrap:wrap;\n",
              "      gap: 12px;\n",
              "    }\n",
              "\n",
              "    .colab-df-convert {\n",
              "      background-color: #E8F0FE;\n",
              "      border: none;\n",
              "      border-radius: 50%;\n",
              "      cursor: pointer;\n",
              "      display: none;\n",
              "      fill: #1967D2;\n",
              "      height: 32px;\n",
              "      padding: 0 0 0 0;\n",
              "      width: 32px;\n",
              "    }\n",
              "\n",
              "    .colab-df-convert:hover {\n",
              "      background-color: #E2EBFA;\n",
              "      box-shadow: 0px 1px 2px rgba(60, 64, 67, 0.3), 0px 1px 3px 1px rgba(60, 64, 67, 0.15);\n",
              "      fill: #174EA6;\n",
              "    }\n",
              "\n",
              "    [theme=dark] .colab-df-convert {\n",
              "      background-color: #3B4455;\n",
              "      fill: #D2E3FC;\n",
              "    }\n",
              "\n",
              "    [theme=dark] .colab-df-convert:hover {\n",
              "      background-color: #434B5C;\n",
              "      box-shadow: 0px 1px 3px 1px rgba(0, 0, 0, 0.15);\n",
              "      filter: drop-shadow(0px 1px 2px rgba(0, 0, 0, 0.3));\n",
              "      fill: #FFFFFF;\n",
              "    }\n",
              "  </style>\n",
              "\n",
              "      <script>\n",
              "        const buttonEl =\n",
              "          document.querySelector('#df-3a814fc0-686e-4f94-a53e-c10a74a82e9d button.colab-df-convert');\n",
              "        buttonEl.style.display =\n",
              "          google.colab.kernel.accessAllowed ? 'block' : 'none';\n",
              "\n",
              "        async function convertToInteractive(key) {\n",
              "          const element = document.querySelector('#df-3a814fc0-686e-4f94-a53e-c10a74a82e9d');\n",
              "          const dataTable =\n",
              "            await google.colab.kernel.invokeFunction('convertToInteractive',\n",
              "                                                     [key], {});\n",
              "          if (!dataTable) return;\n",
              "\n",
              "          const docLinkHtml = 'Like what you see? Visit the ' +\n",
              "            '<a target=\"_blank\" href=https://colab.research.google.com/notebooks/data_table.ipynb>data table notebook</a>'\n",
              "            + ' to learn more about interactive tables.';\n",
              "          element.innerHTML = '';\n",
              "          dataTable['output_type'] = 'display_data';\n",
              "          await google.colab.output.renderOutput(dataTable, element);\n",
              "          const docLink = document.createElement('div');\n",
              "          docLink.innerHTML = docLinkHtml;\n",
              "          element.appendChild(docLink);\n",
              "        }\n",
              "      </script>\n",
              "    </div>\n",
              "  </div>\n",
              "  "
            ]
          },
          "metadata": {},
          "execution_count": 5
        }
      ],
      "source": [
        "amexdf.head(3)\n",
        "visadf.head(3)\n",
        "mastercarddf.head(3)\n",
        "fiservdf.head(3)\n",
        "paypaldf.head(3)"
      ]
    },
    {
      "cell_type": "code",
      "execution_count": 6,
      "metadata": {
        "id": "Pm9CfQHKI0lR"
      },
      "outputs": [],
      "source": [
        "import matplotlib.pyplot as plt\n",
        "plt.rcParams[\"figure.figsize\"] = (15, 8)\n",
        "plt.rcParams[\"lines.linewidth\"] = 5.0"
      ]
    },
    {
      "cell_type": "code",
      "execution_count": 7,
      "metadata": {
        "colab": {
          "base_uri": "https://localhost:8080/",
          "height": 484
        },
        "id": "s3btVC2fJMwx",
        "outputId": "b4228537-779a-4e85-b2a9-84ffc8a89f12"
      },
      "outputs": [
        {
          "output_type": "execute_result",
          "data": {
            "text/plain": [
              "<matplotlib.axes._subplots.AxesSubplot at 0x7f4cd89aac10>"
            ]
          },
          "metadata": {},
          "execution_count": 7
        },
        {
          "output_type": "display_data",
          "data": {
            "text/plain": [
              "<Figure size 1080x576 with 1 Axes>"
            ],
            "image/png": "[encoded data removed]"
          },
          "metadata": {
            "needs_background": "light"
          }
        }
      ],
      "source": [
        "amexdf[\"Adj Close\"].plot()"
      ]
    },
    {
      "cell_type": "code",
      "execution_count": 8,
      "metadata": {
        "colab": {
          "base_uri": "https://localhost:8080/"
        },
        "id": "gi2NGrxHJWhg",
        "outputId": "0c755e4f-c19b-4149-939d-9f587ca5100f"
      },
      "outputs": [
        {
          "output_type": "execute_result",
          "data": {
            "text/plain": [
              "0"
            ]
          },
          "metadata": {},
          "execution_count": 8
        }
      ],
      "source": [
        "amexdf.isnull().sum().sum()"
      ]
    },
    {
      "cell_type": "code",
      "execution_count": 9,
      "metadata": {
        "colab": {
          "base_uri": "https://localhost:8080/",
          "height": 300
        },
        "id": "zsyUWOsjJuEU",
        "outputId": "5d51f27e-9d72-427f-ce8c-6dbfc8d03f4f"
      },
      "outputs": [
        {
          "output_type": "execute_result",
          "data": {
            "text/plain": [
              "              Open         High          Low        Close    Adj Close  \\\n",
              "count  1321.000000  1321.000000  1321.000000  1321.000000  1321.000000   \n",
              "mean    115.857328   117.029720   114.648759   115.845034   112.440586   \n",
              "std      30.072058    30.440633    29.695173    30.059099    31.508716   \n",
              "min      72.540001    75.419998    67.000000    68.959999    67.033676   \n",
              "25%      95.059998    96.269997    93.870003    95.180000    91.278633   \n",
              "50%     106.790001   107.800003   106.239998   106.779999   102.764793   \n",
              "75%     126.910004   128.000000   126.360001   127.150002   123.580154   \n",
              "max     197.500000   199.550003   197.240005   198.380005   198.380005   \n",
              "\n",
              "             Volume  \n",
              "count  1.321000e+03  \n",
              "mean   3.893254e+06  \n",
              "std    1.897977e+06  \n",
              "min    7.070000e+05  \n",
              "25%    2.738600e+06  \n",
              "50%    3.361300e+06  \n",
              "75%    4.423000e+06  \n",
              "max    1.726170e+07  "
            ],
            "text/html": [
              "\n",
              "  <div id=\"df-b43174a6-c1d5-46e6-95e3-9a6e9f07eea5\">\n",
              "    <div class=\"colab-df-container\">\n",
              "      <div>\n",
              "<style scoped>\n",
              "    .dataframe tbody tr th:only-of-type {\n",
              "        vertical-align: middle;\n",
              "    }\n",
              "\n",
              "    .dataframe tbody tr th {\n",
              "        vertical-align: top;\n",
              "    }\n",
              "\n",
              "    .dataframe thead th {\n",
              "        text-align: right;\n",
              "    }\n",
              "</style>\n",
              "<table border=\"1\" class=\"dataframe\">\n",
              "  <thead>\n",
              "    <tr style=\"text-align: right;\">\n",
              "      <th></th>\n",
              "      <th>Open</th>\n",
              "      <th>High</th>\n",
              "      <th>Low</th>\n",
              "      <th>Close</th>\n",
              "      <th>Adj Close</th>\n",
              "      <th>Volume</th>\n",
              "    </tr>\n",
              "  </thead>\n",
              "  <tbody>\n",
              "    <tr>\n",
              "      <th>count</th>\n",
              "      <td>1321.000000</td>\n",
              "      <td>1321.000000</td>\n",
              "      <td>1321.000000</td>\n",
              "      <td>1321.000000</td>\n",
              "      <td>1321.000000</td>\n",
              "      <td>1.321000e+03</td>\n",
              "    </tr>\n",
              "    <tr>\n",
              "      <th>mean</th>\n",
              "      <td>115.857328</td>\n",
              "      <td>117.029720</td>\n",
              "      <td>114.648759</td>\n",
              "      <td>115.845034</td>\n",
              "      <td>112.440586</td>\n",
              "      <td>3.893254e+06</td>\n",
              "    </tr>\n",
              "    <tr>\n",
              "      <th>std</th>\n",
              "      <td>30.072058</td>\n",
              "      <td>30.440633</td>\n",
              "      <td>29.695173</td>\n",
              "      <td>30.059099</td>\n",
              "      <td>31.508716</td>\n",
              "      <td>1.897977e+06</td>\n",
              "    </tr>\n",
              "    <tr>\n",
              "      <th>min</th>\n",
              "      <td>72.540001</td>\n",
              "      <td>75.419998</td>\n",
              "      <td>67.000000</td>\n",
              "      <td>68.959999</td>\n",
              "      <td>67.033676</td>\n",
              "      <td>7.070000e+05</td>\n",
              "    </tr>\n",
              "    <tr>\n",
              "      <th>25%</th>\n",
              "      <td>95.059998</td>\n",
              "      <td>96.269997</td>\n",
              "      <td>93.870003</td>\n",
              "      <td>95.180000</td>\n",
              "      <td>91.278633</td>\n",
              "      <td>2.738600e+06</td>\n",
              "    </tr>\n",
              "    <tr>\n",
              "      <th>50%</th>\n",
              "      <td>106.790001</td>\n",
              "      <td>107.800003</td>\n",
              "      <td>106.239998</td>\n",
              "      <td>106.779999</td>\n",
              "      <td>102.764793</td>\n",
              "      <td>3.361300e+06</td>\n",
              "    </tr>\n",
              "    <tr>\n",
              "      <th>75%</th>\n",
              "      <td>126.910004</td>\n",
              "      <td>128.000000</td>\n",
              "      <td>126.360001</td>\n",
              "      <td>127.150002</td>\n",
              "      <td>123.580154</td>\n",
              "      <td>4.423000e+06</td>\n",
              "    </tr>\n",
              "    <tr>\n",
              "      <th>max</th>\n",
              "      <td>197.500000</td>\n",
              "      <td>199.550003</td>\n",
              "      <td>197.240005</td>\n",
              "      <td>198.380005</td>\n",
              "      <td>198.380005</td>\n",
              "      <td>1.726170e+07</td>\n",
              "    </tr>\n",
              "  </tbody>\n",
              "</table>\n",
              "</div>\n",
              "      <button class=\"colab-df-convert\" onclick=\"convertToInteractive('df-b43174a6-c1d5-46e6-95e3-9a6e9f07eea5')\"\n",
              "              title=\"Convert this dataframe to an interactive table.\"\n",
              "              style=\"display:none;\">\n",
              "        \n",
              "  <svg xmlns=\"http://www.w3.org/2000/svg\" height=\"24px\"viewBox=\"0 0 24 24\"\n",
              "       width=\"24px\">\n",
              "    <path d=\"M0 0h24v24H0V0z\" fill=\"none\"/>\n",
              "    <path d=\"M18.56 5.44l.94 2.06.94-2.06 2.06-.94-2.06-.94-.94-2.06-.94 2.06-2.06.94zm-11 1L8.5 8.5l.94-2.06 2.06-.94-2.06-.94L8.5 2.5l-.94 2.06-2.06.94zm10 10l.94 2.06.94-2.06 2.06-.94-2.06-.94-.94-2.06-.94 2.06-2.06.94z\"/><path d=\"M17.41 7.96l-1.37-1.37c-.4-.4-.92-.59-1.43-.59-.52 0-1.04.2-1.43.59L10.3 9.45l-7.72 7.72c-.78.78-.78 2.05 0 2.83L4 21.41c.39.39.9.59 1.41.59.51 0 1.02-.2 1.41-.59l7.78-7.78 2.81-2.81c.8-.78.8-2.07 0-2.86zM5.41 20L4 18.59l7.72-7.72 1.47 1.35L5.41 20z\"/>\n",
              "  </svg>\n",
              "      </button>\n",
              "      \n",
              "  <style>\n",
              "    .colab-df-container {\n",
              "      display:flex;\n",
              "      flex-wrap:wrap;\n",
              "      gap: 12px;\n",
              "    }\n",
              "\n",
              "    .colab-df-convert {\n",
              "      background-color: #E8F0FE;\n",
              "      border: none;\n",
              "      border-radius: 50%;\n",
              "      cursor: pointer;\n",
              "      display: none;\n",
              "      fill: #1967D2;\n",
              "      height: 32px;\n",
              "      padding: 0 0 0 0;\n",
              "      width: 32px;\n",
              "    }\n",
              "\n",
              "    .colab-df-convert:hover {\n",
              "      background-color: #E2EBFA;\n",
              "      box-shadow: 0px 1px 2px rgba(60, 64, 67, 0.3), 0px 1px 3px 1px rgba(60, 64, 67, 0.15);\n",
              "      fill: #174EA6;\n",
              "    }\n",
              "\n",
              "    [theme=dark] .colab-df-convert {\n",
              "      background-color: #3B4455;\n",
              "      fill: #D2E3FC;\n",
              "    }\n",
              "\n",
              "    [theme=dark] .colab-df-convert:hover {\n",
              "      background-color: #434B5C;\n",
              "      box-shadow: 0px 1px 3px 1px rgba(0, 0, 0, 0.15);\n",
              "      filter: drop-shadow(0px 1px 2px rgba(0, 0, 0, 0.3));\n",
              "      fill: #FFFFFF;\n",
              "    }\n",
              "  </style>\n",
              "\n",
              "      <script>\n",
              "        const buttonEl =\n",
              "          document.querySelector('#df-b43174a6-c1d5-46e6-95e3-9a6e9f07eea5 button.colab-df-convert');\n",
              "        buttonEl.style.display =\n",
              "          google.colab.kernel.accessAllowed ? 'block' : 'none';\n",
              "\n",
              "        async function convertToInteractive(key) {\n",
              "          const element = document.querySelector('#df-b43174a6-c1d5-46e6-95e3-9a6e9f07eea5');\n",
              "          const dataTable =\n",
              "            await google.colab.kernel.invokeFunction('convertToInteractive',\n",
              "                                                     [key], {});\n",
              "          if (!dataTable) return;\n",
              "\n",
              "          const docLinkHtml = 'Like what you see? Visit the ' +\n",
              "            '<a target=\"_blank\" href=https://colab.research.google.com/notebooks/data_table.ipynb>data table notebook</a>'\n",
              "            + ' to learn more about interactive tables.';\n",
              "          element.innerHTML = '';\n",
              "          dataTable['output_type'] = 'display_data';\n",
              "          await google.colab.output.renderOutput(dataTable, element);\n",
              "          const docLink = document.createElement('div');\n",
              "          docLink.innerHTML = docLinkHtml;\n",
              "          element.appendChild(docLink);\n",
              "        }\n",
              "      </script>\n",
              "    </div>\n",
              "  </div>\n",
              "  "
            ]
          },
          "metadata": {},
          "execution_count": 9
        }
      ],
      "source": [
        "amexdf.describe()"
      ]
    },
    {
      "cell_type": "code",
      "execution_count": 10,
      "metadata": {
        "colab": {
          "base_uri": "https://localhost:8080/",
          "height": 175
        },
        "id": "bcM8Sg-oJ0rN",
        "outputId": "d41ef30a-647d-46b4-e44b-87aff3c64b96"
      },
      "outputs": [
        {
          "output_type": "execute_result",
          "data": {
            "text/plain": [
              "                 Open       High        Low      Close  Adj Close  \\\n",
              "Date                                                                \n",
              "2017-01-31  76.532000  77.120500  75.928000  76.501500  71.134927   \n",
              "2017-02-28  78.704211  79.168947  78.346842  78.858949  73.342335   \n",
              "2017-03-31  79.118261  79.640869  78.648260  79.076086  73.544287   \n",
              "\n",
              "                  Volume  \n",
              "Date                      \n",
              "2017-01-31  5.195245e+06  \n",
              "2017-02-28  3.464032e+06  \n",
              "2017-03-31  4.291339e+06  "
            ],
            "text/html": [
              "\n",
              "  <div id=\"df-79a2a372-80ee-4e40-9083-f9b3646c4705\">\n",
              "    <div class=\"colab-df-container\">\n",
              "      <div>\n",
              "<style scoped>\n",
              "    .dataframe tbody tr th:only-of-type {\n",
              "        vertical-align: middle;\n",
              "    }\n",
              "\n",
              "    .dataframe tbody tr th {\n",
              "        vertical-align: top;\n",
              "    }\n",
              "\n",
              "    .dataframe thead th {\n",
              "        text-align: right;\n",
              "    }\n",
              "</style>\n",
              "<table border=\"1\" class=\"dataframe\">\n",
              "  <thead>\n",
              "    <tr style=\"text-align: right;\">\n",
              "      <th></th>\n",
              "      <th>Open</th>\n",
              "      <th>High</th>\n",
              "      <th>Low</th>\n",
              "      <th>Close</th>\n",
              "      <th>Adj Close</th>\n",
              "      <th>Volume</th>\n",
              "    </tr>\n",
              "    <tr>\n",
              "      <th>Date</th>\n",
              "      <th></th>\n",
              "      <th></th>\n",
              "      <th></th>\n",
              "      <th></th>\n",
              "      <th></th>\n",
              "      <th></th>\n",
              "    </tr>\n",
              "  </thead>\n",
              "  <tbody>\n",
              "    <tr>\n",
              "      <th>2017-01-31</th>\n",
              "      <td>76.532000</td>\n",
              "      <td>77.120500</td>\n",
              "      <td>75.928000</td>\n",
              "      <td>76.501500</td>\n",
              "      <td>71.134927</td>\n",
              "      <td>5.195245e+06</td>\n",
              "    </tr>\n",
              "    <tr>\n",
              "      <th>2017-02-28</th>\n",
              "      <td>78.704211</td>\n",
              "      <td>79.168947</td>\n",
              "      <td>78.346842</td>\n",
              "      <td>78.858949</td>\n",
              "      <td>73.342335</td>\n",
              "      <td>3.464032e+06</td>\n",
              "    </tr>\n",
              "    <tr>\n",
              "      <th>2017-03-31</th>\n",
              "      <td>79.118261</td>\n",
              "      <td>79.640869</td>\n",
              "      <td>78.648260</td>\n",
              "      <td>79.076086</td>\n",
              "      <td>73.544287</td>\n",
              "      <td>4.291339e+06</td>\n",
              "    </tr>\n",
              "  </tbody>\n",
              "</table>\n",
              "</div>\n",
              "      <button class=\"colab-df-convert\" onclick=\"convertToInteractive('df-79a2a372-80ee-4e40-9083-f9b3646c4705')\"\n",
              "              title=\"Convert this dataframe to an interactive table.\"\n",
              "              style=\"display:none;\">\n",
              "        \n",
              "  <svg xmlns=\"http://www.w3.org/2000/svg\" height=\"24px\"viewBox=\"0 0 24 24\"\n",
              "       width=\"24px\">\n",
              "    <path d=\"M0 0h24v24H0V0z\" fill=\"none\"/>\n",
              "    <path d=\"M18.56 5.44l.94 2.06.94-2.06 2.06-.94-2.06-.94-.94-2.06-.94 2.06-2.06.94zm-11 1L8.5 8.5l.94-2.06 2.06-.94-2.06-.94L8.5 2.5l-.94 2.06-2.06.94zm10 10l.94 2.06.94-2.06 2.06-.94-2.06-.94-.94-2.06-.94 2.06-2.06.94z\"/><path d=\"M17.41 7.96l-1.37-1.37c-.4-.4-.92-.59-1.43-.59-.52 0-1.04.2-1.43.59L10.3 9.45l-7.72 7.72c-.78.78-.78 2.05 0 2.83L4 21.41c.39.39.9.59 1.41.59.51 0 1.02-.2 1.41-.59l7.78-7.78 2.81-2.81c.8-.78.8-2.07 0-2.86zM5.41 20L4 18.59l7.72-7.72 1.47 1.35L5.41 20z\"/>\n",
              "  </svg>\n",
              "      </button>\n",
              "      \n",
              "  <style>\n",
              "    .colab-df-container {\n",
              "      display:flex;\n",
              "      flex-wrap:wrap;\n",
              "      gap: 12px;\n",
              "    }\n",
              "\n",
              "    .colab-df-convert {\n",
              "      background-color: #E8F0FE;\n",
              "      border: none;\n",
              "      border-radius: 50%;\n",
              "      cursor: pointer;\n",
              "      display: none;\n",
              "      fill: #1967D2;\n",
              "      height: 32px;\n",
              "      padding: 0 0 0 0;\n",
              "      width: 32px;\n",
              "    }\n",
              "\n",
              "    .colab-df-convert:hover {\n",
              "      background-color: #E2EBFA;\n",
              "      box-shadow: 0px 1px 2px rgba(60, 64, 67, 0.3), 0px 1px 3px 1px rgba(60, 64, 67, 0.15);\n",
              "      fill: #174EA6;\n",
              "    }\n",
              "\n",
              "    [theme=dark] .colab-df-convert {\n",
              "      background-color: #3B4455;\n",
              "      fill: #D2E3FC;\n",
              "    }\n",
              "\n",
              "    [theme=dark] .colab-df-convert:hover {\n",
              "      background-color: #434B5C;\n",
              "      box-shadow: 0px 1px 3px 1px rgba(0, 0, 0, 0.15);\n",
              "      filter: drop-shadow(0px 1px 2px rgba(0, 0, 0, 0.3));\n",
              "      fill: #FFFFFF;\n",
              "    }\n",
              "  </style>\n",
              "\n",
              "      <script>\n",
              "        const buttonEl =\n",
              "          document.querySelector('#df-79a2a372-80ee-4e40-9083-f9b3646c4705 button.colab-df-convert');\n",
              "        buttonEl.style.display =\n",
              "          google.colab.kernel.accessAllowed ? 'block' : 'none';\n",
              "\n",
              "        async function convertToInteractive(key) {\n",
              "          const element = document.querySelector('#df-79a2a372-80ee-4e40-9083-f9b3646c4705');\n",
              "          const dataTable =\n",
              "            await google.colab.kernel.invokeFunction('convertToInteractive',\n",
              "                                                     [key], {});\n",
              "          if (!dataTable) return;\n",
              "\n",
              "          const docLinkHtml = 'Like what you see? Visit the ' +\n",
              "            '<a target=\"_blank\" href=https://colab.research.google.com/notebooks/data_table.ipynb>data table notebook</a>'\n",
              "            + ' to learn more about interactive tables.';\n",
              "          element.innerHTML = '';\n",
              "          dataTable['output_type'] = 'display_data';\n",
              "          await google.colab.output.renderOutput(dataTable, element);\n",
              "          const docLink = document.createElement('div');\n",
              "          docLink.innerHTML = docLinkHtml;\n",
              "          element.appendChild(docLink);\n",
              "        }\n",
              "      </script>\n",
              "    </div>\n",
              "  </div>\n",
              "  "
            ]
          },
          "metadata": {},
          "execution_count": 10
        }
      ],
      "source": [
        "# ril_monthly_df = rildf.resample(\"1m\").mean().sort_values(by=\"Date\", ascending=False)\n",
        "amex_monthly_df = amexdf.resample(\"1m\").mean()\n",
        "amex_monthly_df.head(3)"
      ]
    },
    {
      "cell_type": "code",
      "execution_count": 11,
      "metadata": {
        "id": "CmQ8N7y7KXNK"
      },
      "outputs": [],
      "source": [
        "# amex_monthly_df['Adj Close'].plot()"
      ]
    },
    {
      "cell_type": "code",
      "execution_count": 12,
      "metadata": {
        "id": "xw-h-qKwL8K8"
      },
      "outputs": [],
      "source": [
        "# from statsmodels.tsa.seasonal import seasonal_decompose\n",
        "\n",
        "# decomposition = seasonal_decompose(amexdf[\"Adj Close\"], period=12)\n",
        "# figure = decomposition.plot()\n",
        "# plt.show()"
      ]
    },
    {
      "cell_type": "code",
      "execution_count": 13,
      "metadata": {
        "colab": {
          "base_uri": "https://localhost:8080/",
          "height": 175
        },
        "id": "WUTfm0SlN4dF",
        "outputId": "b8f94675-0d6a-433c-f061-1bc72b956525"
      },
      "outputs": [
        {
          "output_type": "execute_result",
          "data": {
            "text/plain": [
              "                 Open       High        Low      Close  Adj Close   Volume  \\\n",
              "Date                                                                         \n",
              "2017-01-03  74.889999  75.750000  74.739998  75.349998  69.781242  5853900   \n",
              "2017-01-04  75.260002  76.550003  75.059998  76.260002  70.925217  4635800   \n",
              "2017-01-05  76.000000  76.180000  74.820000  75.320000  70.050957  3383000   \n",
              "\n",
              "              Return  \n",
              "Date                  \n",
              "2017-01-03       NaN  \n",
              "2017-01-04  0.016261  \n",
              "2017-01-05 -0.012403  "
            ],
            "text/html": [
              "\n",
              "  <div id=\"df-c7956bb9-77f0-4815-9db1-37ee3ce85e21\">\n",
              "    <div class=\"colab-df-container\">\n",
              "      <div>\n",
              "<style scoped>\n",
              "    .dataframe tbody tr th:only-of-type {\n",
              "        vertical-align: middle;\n",
              "    }\n",
              "\n",
              "    .dataframe tbody tr th {\n",
              "        vertical-align: top;\n",
              "    }\n",
              "\n",
              "    .dataframe thead th {\n",
              "        text-align: right;\n",
              "    }\n",
              "</style>\n",
              "<table border=\"1\" class=\"dataframe\">\n",
              "  <thead>\n",
              "    <tr style=\"text-align: right;\">\n",
              "      <th></th>\n",
              "      <th>Open</th>\n",
              "      <th>High</th>\n",
              "      <th>Low</th>\n",
              "      <th>Close</th>\n",
              "      <th>Adj Close</th>\n",
              "      <th>Volume</th>\n",
              "      <th>Return</th>\n",
              "    </tr>\n",
              "    <tr>\n",
              "      <th>Date</th>\n",
              "      <th></th>\n",
              "      <th></th>\n",
              "      <th></th>\n",
              "      <th></th>\n",
              "      <th></th>\n",
              "      <th></th>\n",
              "      <th></th>\n",
              "    </tr>\n",
              "  </thead>\n",
              "  <tbody>\n",
              "    <tr>\n",
              "      <th>2017-01-03</th>\n",
              "      <td>74.889999</td>\n",
              "      <td>75.750000</td>\n",
              "      <td>74.739998</td>\n",
              "      <td>75.349998</td>\n",
              "      <td>69.781242</td>\n",
              "      <td>5853900</td>\n",
              "      <td>NaN</td>\n",
              "    </tr>\n",
              "    <tr>\n",
              "      <th>2017-01-04</th>\n",
              "      <td>75.260002</td>\n",
              "      <td>76.550003</td>\n",
              "      <td>75.059998</td>\n",
              "      <td>76.260002</td>\n",
              "      <td>70.925217</td>\n",
              "      <td>4635800</td>\n",
              "      <td>0.016261</td>\n",
              "    </tr>\n",
              "    <tr>\n",
              "      <th>2017-01-05</th>\n",
              "      <td>76.000000</td>\n",
              "      <td>76.180000</td>\n",
              "      <td>74.820000</td>\n",
              "      <td>75.320000</td>\n",
              "      <td>70.050957</td>\n",
              "      <td>3383000</td>\n",
              "      <td>-0.012403</td>\n",
              "    </tr>\n",
              "  </tbody>\n",
              "</table>\n",
              "</div>\n",
              "      <button class=\"colab-df-convert\" onclick=\"convertToInteractive('df-c7956bb9-77f0-4815-9db1-37ee3ce85e21')\"\n",
              "              title=\"Convert this dataframe to an interactive table.\"\n",
              "              style=\"display:none;\">\n",
              "        \n",
              "  <svg xmlns=\"http://www.w3.org/2000/svg\" height=\"24px\"viewBox=\"0 0 24 24\"\n",
              "       width=\"24px\">\n",
              "    <path d=\"M0 0h24v24H0V0z\" fill=\"none\"/>\n",
              "    <path d=\"M18.56 5.44l.94 2.06.94-2.06 2.06-.94-2.06-.94-.94-2.06-.94 2.06-2.06.94zm-11 1L8.5 8.5l.94-2.06 2.06-.94-2.06-.94L8.5 2.5l-.94 2.06-2.06.94zm10 10l.94 2.06.94-2.06 2.06-.94-2.06-.94-.94-2.06-.94 2.06-2.06.94z\"/><path d=\"M17.41 7.96l-1.37-1.37c-.4-.4-.92-.59-1.43-.59-.52 0-1.04.2-1.43.59L10.3 9.45l-7.72 7.72c-.78.78-.78 2.05 0 2.83L4 21.41c.39.39.9.59 1.41.59.51 0 1.02-.2 1.41-.59l7.78-7.78 2.81-2.81c.8-.78.8-2.07 0-2.86zM5.41 20L4 18.59l7.72-7.72 1.47 1.35L5.41 20z\"/>\n",
              "  </svg>\n",
              "      </button>\n",
              "      \n",
              "  <style>\n",
              "    .colab-df-container {\n",
              "      display:flex;\n",
              "      flex-wrap:wrap;\n",
              "      gap: 12px;\n",
              "    }\n",
              "\n",
              "    .colab-df-convert {\n",
              "      background-color: #E8F0FE;\n",
              "      border: none;\n",
              "      border-radius: 50%;\n",
              "      cursor: pointer;\n",
              "      display: none;\n",
              "      fill: #1967D2;\n",
              "      height: 32px;\n",
              "      padding: 0 0 0 0;\n",
              "      width: 32px;\n",
              "    }\n",
              "\n",
              "    .colab-df-convert:hover {\n",
              "      background-color: #E2EBFA;\n",
              "      box-shadow: 0px 1px 2px rgba(60, 64, 67, 0.3), 0px 1px 3px 1px rgba(60, 64, 67, 0.15);\n",
              "      fill: #174EA6;\n",
              "    }\n",
              "\n",
              "    [theme=dark] .colab-df-convert {\n",
              "      background-color: #3B4455;\n",
              "      fill: #D2E3FC;\n",
              "    }\n",
              "\n",
              "    [theme=dark] .colab-df-convert:hover {\n",
              "      background-color: #434B5C;\n",
              "      box-shadow: 0px 1px 3px 1px rgba(0, 0, 0, 0.15);\n",
              "      filter: drop-shadow(0px 1px 2px rgba(0, 0, 0, 0.3));\n",
              "      fill: #FFFFFF;\n",
              "    }\n",
              "  </style>\n",
              "\n",
              "      <script>\n",
              "        const buttonEl =\n",
              "          document.querySelector('#df-c7956bb9-77f0-4815-9db1-37ee3ce85e21 button.colab-df-convert');\n",
              "        buttonEl.style.display =\n",
              "          google.colab.kernel.accessAllowed ? 'block' : 'none';\n",
              "\n",
              "        async function convertToInteractive(key) {\n",
              "          const element = document.querySelector('#df-c7956bb9-77f0-4815-9db1-37ee3ce85e21');\n",
              "          const dataTable =\n",
              "            await google.colab.kernel.invokeFunction('convertToInteractive',\n",
              "                                                     [key], {});\n",
              "          if (!dataTable) return;\n",
              "\n",
              "          const docLinkHtml = 'Like what you see? Visit the ' +\n",
              "            '<a target=\"_blank\" href=https://colab.research.google.com/notebooks/data_table.ipynb>data table notebook</a>'\n",
              "            + ' to learn more about interactive tables.';\n",
              "          element.innerHTML = '';\n",
              "          dataTable['output_type'] = 'display_data';\n",
              "          await google.colab.output.renderOutput(dataTable, element);\n",
              "          const docLink = document.createElement('div');\n",
              "          docLink.innerHTML = docLinkHtml;\n",
              "          element.appendChild(docLink);\n",
              "        }\n",
              "      </script>\n",
              "    </div>\n",
              "  </div>\n",
              "  "
            ]
          },
          "metadata": {},
          "execution_count": 13
        }
      ],
      "source": [
        "amexdf[\"Return\"] = np.log(amexdf[\"Adj Close\"]) - np.log(amexdf[\"Adj Close\"].shift(1))\n",
        "amexdf.head(3)"
      ]
    },
    {
      "cell_type": "code",
      "execution_count": 14,
      "metadata": {
        "id": "OxPGe_9rOiSC"
      },
      "outputs": [],
      "source": [
        "amexdf.dropna(inplace=True)"
      ]
    },
    {
      "cell_type": "code",
      "execution_count": 15,
      "metadata": {
        "colab": {
          "base_uri": "https://localhost:8080/",
          "height": 484
        },
        "id": "n4jj6rYOOqaT",
        "outputId": "51753457-540d-4fb0-9651-6d5653b21b36"
      },
      "outputs": [
        {
          "output_type": "execute_result",
          "data": {
            "text/plain": [
              "<matplotlib.axes._subplots.AxesSubplot at 0x7f4ce4e38cd0>"
            ]
          },
          "metadata": {},
          "execution_count": 15
        },
        {
          "output_type": "display_data",
          "data": {
            "text/plain": [
              "<Figure size 1080x576 with 1 Axes>"
            ],
            "image/png": "[encoded data removed]"
          },
          "metadata": {
            "needs_background": "light"
          }
        }
      ],
      "source": [
        "amexdf.Return.plot()"
      ]
    },
    {
      "cell_type": "code",
      "execution_count": 16,
      "metadata": {
        "id": "EMyL0n35Oyd9"
      },
      "outputs": [],
      "source": [
        "# from statsmodels.tsa.seasonal import seasonal_decompose\n",
        "\n",
        "# decomposition = seasonal_decompose(amexdf[\"Adj Close\"], period=12, model=\"multiplicative\")\n",
        "# figure = decomposition.plot()\n",
        "# plt.show()"
      ]
    },
    {
      "cell_type": "code",
      "execution_count": 17,
      "metadata": {
        "colab": {
          "base_uri": "https://localhost:8080/"
        },
        "id": "mwHDNVX2Mf4g",
        "outputId": "04ced6d7-88fe-4f7a-d89a-a10c32b5b499"
      },
      "outputs": [
        {
          "output_type": "stream",
          "name": "stdout",
          "text": [
            "JarqueBeraTest (22296.138266181028, 0.0)\n",
            "AndersonResult(statistic=48.80355706119781, critical_values=array([0.574, 0.654, 0.785, 0.915, 1.089]), significance_level=array([15. , 10. ,  5. ,  2.5,  1. ]))\n",
            "KstestResult(statistic=0.4680825675922563, pvalue=1.1718506593989545e-265)\n",
            "ShapiroWilkTest 0.8046603202819824 3.4639313310969456e-37\n"
          ]
        }
      ],
      "source": [
        "# Tests of Normality\n",
        "import scipy.stats as ss\n",
        "\n",
        "# Jarque–Bera Test\n",
        "statistic = ss.jarque_bera(amexdf[\"Return\"])\n",
        "print(\"JarqueBeraTest\", statistic)\n",
        "\n",
        "# Anderson-Darling Normality Test\n",
        "statistic = ss.anderson(amexdf[\"Return\"])\n",
        "print(statistic)\n",
        "\n",
        "# Kolmogorov-Smirnov Test\n",
        "statistic = ss.kstest(amexdf[\"Return\"], 'norm')\n",
        "print(statistic)\n",
        "\n",
        "# Shapiro-Wilk Test\n",
        "statistic, pvalue = ss.shapiro(amexdf[\"Return\"])\n",
        "print(\"ShapiroWilkTest\", statistic, pvalue)"
      ]
    },
    {
      "cell_type": "code",
      "execution_count": 18,
      "metadata": {
        "colab": {
          "base_uri": "https://localhost:8080/"
        },
        "id": "mfWy0g3sN5pC",
        "outputId": "76bf4fc0-5687-4cf6-99cd-5ec92cae08cc"
      },
      "outputs": [
        {
          "output_type": "stream",
          "name": "stdout",
          "text": [
            "JarqueBeraTest (177.85491065203146, 0.0)\n",
            "AndersonResult(statistic=47.41308113871219, critical_values=array([0.574, 0.654, 0.785, 0.915, 1.089]), significance_level=array([15. , 10. ,  5. ,  2.5,  1. ]))\n",
            "KstestResult(statistic=1.0, pvalue=0.0)\n",
            "ShapiroWilkTest 0.900117039680481 1.747893128468191e-28\n"
          ]
        }
      ],
      "source": [
        "# Tests of Normality\n",
        "import scipy.stats as ss\n",
        "\n",
        "# Jarque–Bera Test\n",
        "statistic = ss.jarque_bera(amexdf[\"Adj Close\"])\n",
        "print(\"JarqueBeraTest\", statistic)\n",
        "\n",
        "# Anderson-Darling Normality Test\n",
        "statistic = ss.anderson(amexdf[\"Adj Close\"])\n",
        "print(statistic)\n",
        "\n",
        "# Kolmogorov-Smirnov Test\n",
        "statistic = ss.kstest(amexdf[\"Adj Close\"], 'norm')\n",
        "print(statistic)\n",
        "\n",
        "# Shapiro-Wilk Test\n",
        "statistic, pvalue = ss.shapiro(amexdf[\"Adj Close\"])\n",
        "print(\"ShapiroWilkTest\", statistic, pvalue)"
      ]
    },
    {
      "cell_type": "code",
      "execution_count": 19,
      "metadata": {
        "id": "X5JuhCoDPxrF"
      },
      "outputs": [],
      "source": [
        "# from numpy.random import randn\n",
        "# data = 5 * randn(100) + 5"
      ]
    },
    {
      "cell_type": "code",
      "execution_count": 20,
      "metadata": {
        "id": "c-HHcSShSu-Z"
      },
      "outputs": [],
      "source": [
        "# # Tests of Normality\n",
        "# import scipy.stats as ss\n",
        "\n",
        "# # Jarque–Bera Test\n",
        "# statistic = ss.jarque_bera(data)\n",
        "# print(\"JarqueBeraTest\", statistic)\n",
        "\n",
        "# # Anderson-Darling Normality Test\n",
        "# statistic = ss.anderson(data)\n",
        "# print(statistic)\n",
        "\n",
        "# # Kolmogorov-Smirnov Test\n",
        "# statistic = ss.kstest(data, 'norm')\n",
        "# print(statistic)\n",
        "\n",
        "# # Shapiro-Wilk Test\n",
        "# statistic, pvalue = ss.shapiro(data)\n",
        "# print(f\"ShapiroWilkTest ({statistic}, {pvalue})\")"
      ]
    },
    {
      "cell_type": "code",
      "execution_count": 21,
      "metadata": {
        "colab": {
          "base_uri": "https://localhost:8080/"
        },
        "id": "-V2QImmXSv-Y",
        "outputId": "38d56525-d683-440a-d766-438a316e70d5"
      },
      "outputs": [
        {
          "output_type": "stream",
          "name": "stdout",
          "text": [
            "AugmentedDickeyFullerTest (-14.63775960702874, 3.6651084501260265e-27, 6, 1313, {'1%': -3.435340198430096, '5%': -2.863743768394356, '10%': -2.567943297315671}, -6303.007354372455)\n",
            "LjungboxTest     lb_stat  lb_pvalue\n",
            "1  8.974791   0.002737\n"
          ]
        }
      ],
      "source": [
        "# Tests of Stationarity\n",
        "from statsmodels.tsa import stattools\n",
        "from statsmodels.stats import diagnostic\n",
        "\n",
        "# Augmented Dickey Fuller Test\n",
        "statistic = stattools.adfuller(amexdf[\"Return\"])\n",
        "print(\"AugmentedDickeyFullerTest\", statistic)\n",
        "\n",
        "# Ljung-Box Test (test for auto-correlation)\n",
        "statistic = diagnostic.acorr_ljungbox(amexdf[\"Return\"], lags=[1])\n",
        "print(\"LjungboxTest\", statistic)"
      ]
    },
    {
      "cell_type": "code",
      "execution_count": 22,
      "metadata": {
        "colab": {
          "base_uri": "https://localhost:8080/",
          "height": 1000
        },
        "id": "ajkYWvkbYGwh",
        "outputId": "335c82c5-ed73-420c-8c6c-0474b09199f9"
      },
      "outputs": [
        {
          "output_type": "stream",
          "name": "stderr",
          "text": [
            "/usr/local/lib/python3.7/dist-packages/statsmodels/graphics/tsaplots.py:353: FutureWarning: The default method 'yw' can produce PACF values outside of the [-1,1] interval. After 0.13, the default will change tounadjusted Yule-Walker ('ywm'). You can use this method now by setting method='ywm'.\n",
            "  FutureWarning,\n"
          ]
        },
        {
          "output_type": "display_data",
          "data": {
            "text/plain": [
              "<Figure size 1080x576 with 1 Axes>"
            ],
            "image/png": "[encoded data removed]"
          },
          "metadata": {
            "needs_background": "light"
          }
        },
        {
          "output_type": "display_data",
          "data": {
            "text/plain": [
              "<Figure size 1080x576 with 1 Axes>"
            ],
            "image/png": "[encoded data removed]"
          },
          "metadata": {
            "needs_background": "light"
          }
        }
      ],
      "source": [
        "# plot acf and pacf\n",
        "import statsmodels.graphics.tsaplots as sgt\n",
        "acf = sgt.plot_acf(amexdf[\"Adj Close\"])\n",
        "pacf = sgt.plot_pacf(amexdf[\"Adj Close\"])"
      ]
    },
    {
      "cell_type": "code",
      "execution_count": 23,
      "metadata": {
        "colab": {
          "base_uri": "https://localhost:8080/",
          "height": 1000
        },
        "id": "v47d9dy9Vznw",
        "outputId": "8af5a726-485e-498e-cdbe-f91c07b3e402"
      },
      "outputs": [
        {
          "output_type": "stream",
          "name": "stderr",
          "text": [
            "/usr/local/lib/python3.7/dist-packages/statsmodels/graphics/tsaplots.py:353: FutureWarning: The default method 'yw' can produce PACF values outside of the [-1,1] interval. After 0.13, the default will change tounadjusted Yule-Walker ('ywm'). You can use this method now by setting method='ywm'.\n",
            "  FutureWarning,\n"
          ]
        },
        {
          "output_type": "display_data",
          "data": {
            "text/plain": [
              "<Figure size 1080x576 with 1 Axes>"
            ],
            "image/png": "[encoded data removed]"
          },
          "metadata": {
            "needs_background": "light"
          }
        },
        {
          "output_type": "display_data",
          "data": {
            "text/plain": [
              "<Figure size 1080x576 with 1 Axes>"
            ],
            "image/png": "[encoded data removed]"
          },
          "metadata": {
            "needs_background": "light"
          }
        }
      ],
      "source": [
        "# plot acf and pacf\n",
        "import statsmodels.graphics.tsaplots as sgt\n",
        "acf = sgt.plot_acf(amexdf[\"Return\"])\n",
        "pacf = sgt.plot_pacf(amexdf[\"Return\"])"
      ]
    },
    {
      "cell_type": "code",
      "execution_count": 24,
      "metadata": {
        "colab": {
          "base_uri": "https://localhost:8080/"
        },
        "id": "wHewBe01X2Qh",
        "outputId": "d5a8a31f-02ba-4ddd-90fc-eb30daf8a092"
      },
      "outputs": [
        {
          "output_type": "stream",
          "name": "stdout",
          "text": [
            "old adjusted close skew: 0.8940512788833888 old kurtosis: -0.19082686164862084\n",
            "old return skew: 0.7115416179088515 old kurtosis: 20.083803579409874\n",
            "box skew: 0.06496660521632246 old kurtosis: -0.762668005445521\n",
            "yeo skew: -0.15073125584641547 old kurtosis: 17.98943313671826\n"
          ]
        }
      ],
      "source": [
        "# normal transformation\n",
        "box_data, box_lambda = ss.boxcox(amexdf[\"Adj Close\"])\n",
        "yeo_data, yeo_lambda = ss.yeojohnson(amexdf[\"Return\"])\n",
        "\n",
        "print(f\"old adjusted close skew: {ss.skew(amexdf['Adj Close'])} old kurtosis: {ss.kurtosis(amexdf['Adj Close'])}\")\n",
        "print(f\"old return skew: {ss.skew(amexdf['Return'])} old kurtosis: {ss.kurtosis(amexdf['Return'])}\")\n",
        "print(f\"box skew: {ss.skew(box_data)} old kurtosis: {ss.kurtosis(box_data)}\")\n",
        "print(f\"yeo skew: {ss.skew(yeo_data)} old kurtosis: {ss.kurtosis(yeo_data)}\")"
      ]
    },
    {
      "cell_type": "code",
      "execution_count": 25,
      "metadata": {
        "colab": {
          "base_uri": "https://localhost:8080/"
        },
        "id": "qceSgRaSdVon",
        "outputId": "303bea87-9eda-4ebd-e9be-2e4f0ac8bf55"
      },
      "outputs": [
        {
          "output_type": "stream",
          "name": "stdout",
          "text": [
            "JarqueBeraTest (32.91998191369708, 7.10422577432368e-08)\n",
            "AndersonResult(statistic=9.581490866933564, critical_values=array([0.574, 0.654, 0.785, 0.915, 1.089]), significance_level=array([15. , 10. ,  5. ,  2.5,  1. ]))\n",
            "KstestResult(statistic=0.8631161575208195, pvalue=0.0)\n",
            "ShapiroWilkTest 0.9694088101387024 4.3118654225299507e-16\n"
          ]
        }
      ],
      "source": [
        "# Tests of Normality\n",
        "import scipy.stats as ss\n",
        "\n",
        "# Jarque–Bera Test\n",
        "statistic = ss.jarque_bera(box_data)\n",
        "print(\"JarqueBeraTest\", statistic)\n",
        "\n",
        "# Anderson-Darling Normality Test\n",
        "statistic = ss.anderson(box_data)\n",
        "print(statistic)\n",
        "\n",
        "# Kolmogorov-Smirnov Test\n",
        "statistic = ss.kstest(box_data, 'norm')\n",
        "print(statistic)\n",
        "\n",
        "# Shapiro-Wilk Test\n",
        "statistic, pvalue = ss.shapiro(box_data)\n",
        "print(\"ShapiroWilkTest\", statistic, pvalue)"
      ]
    },
    {
      "cell_type": "code",
      "execution_count": 26,
      "metadata": {
        "id": "kG6YBGBgeMmT"
      },
      "outputs": [],
      "source": [
        "# import pmdarima as pmd\n",
        "# model = pmd.auto_arima(rildf[\"Return\"], max_p=10, max_q=10, max_d=3, max_order=20)\n",
        "# model.summary()\n",
        "# import pmdarima as pmd\n",
        "# yeo_model = pmd.auto_arima(yeo_data, max_p=10, max_q=10, max_d=3, max_order=20)\n",
        "# yeo_model.summary()\n",
        "# import pmdarima as pmd\n",
        "# box_model = pmd.auto_arima(box_data, max_p=10, max_q=10, max_d=3, max_order=20)\n",
        "# box_model.summary()\n",
        "# model.predict(n_periods=10)\n",
        "# infy_df.reset_index(inplace=True)"
      ]
    },
    {
      "cell_type": "code",
      "execution_count": 27,
      "metadata": {
        "id": "rZYBzMVohOiZ"
      },
      "outputs": [],
      "source": [
        "# cutoff_date = '2021-12-31'\n",
        "# xtrain, xtest = amexdf.loc[amexdf.index <= cutoff_date], amexdf.loc[amexdf.index > cutoff_date]"
      ]
    },
    {
      "cell_type": "code",
      "execution_count": 28,
      "metadata": {
        "colab": {
          "base_uri": "https://localhost:8080/"
        },
        "id": "7gnNv63pZMK5",
        "outputId": "2232129c-9089-4fc8-a066-94a92f4e4567"
      },
      "outputs": [
        {
          "output_type": "execute_result",
          "data": {
            "text/plain": [
              "ARIMA(order=(3, 1, 3), scoring_args={}, suppress_warnings=True)"
            ]
          },
          "metadata": {},
          "execution_count": 28
        },
        {
          "output_type": "execute_result",
          "data": {
            "text/plain": [
              "ARIMA(order=(3, 1, 3), scoring_args={}, suppress_warnings=True)"
            ]
          },
          "metadata": {},
          "execution_count": 28
        },
        {
          "output_type": "execute_result",
          "data": {
            "text/plain": [
              "ARIMA(order=(3, 1, 3), scoring_args={}, suppress_warnings=True)"
            ]
          },
          "metadata": {},
          "execution_count": 28
        },
        {
          "output_type": "execute_result",
          "data": {
            "text/plain": [
              "ARIMA(order=(3, 1, 3), scoring_args={}, suppress_warnings=True)"
            ]
          },
          "metadata": {},
          "execution_count": 28
        },
        {
          "output_type": "execute_result",
          "data": {
            "text/plain": [
              "ARIMA(order=(3, 1, 3), scoring_args={}, suppress_warnings=True)"
            ]
          },
          "metadata": {},
          "execution_count": 28
        },
        {
          "output_type": "execute_result",
          "data": {
            "text/plain": [
              "ARIMA(order=(3, 1, 3), scoring_args={}, suppress_warnings=True)"
            ]
          },
          "metadata": {},
          "execution_count": 28
        },
        {
          "output_type": "execute_result",
          "data": {
            "text/plain": [
              "ARIMA(order=(2, 1, 2), scoring_args={}, suppress_warnings=True)"
            ]
          },
          "metadata": {},
          "execution_count": 28
        },
        {
          "output_type": "execute_result",
          "data": {
            "text/plain": [
              "ARIMA(order=(2, 1, 2), scoring_args={}, suppress_warnings=True)"
            ]
          },
          "metadata": {},
          "execution_count": 28
        },
        {
          "output_type": "execute_result",
          "data": {
            "text/plain": [
              "ARIMA(order=(2, 1, 2), scoring_args={}, suppress_warnings=True,\n",
              "      with_intercept=False)"
            ]
          },
          "metadata": {},
          "execution_count": 28
        },
        {
          "output_type": "execute_result",
          "data": {
            "text/plain": [
              "ARIMA(order=(2, 1, 2), scoring_args={}, suppress_warnings=True,\n",
              "      with_intercept=False)"
            ]
          },
          "metadata": {},
          "execution_count": 28
        },
        {
          "output_type": "execute_result",
          "data": {
            "text/plain": [
              "ARIMA(order=(2, 1, 2), scoring_args={}, suppress_warnings=True,\n",
              "      with_intercept=False)"
            ]
          },
          "metadata": {},
          "execution_count": 28
        },
        {
          "output_type": "execute_result",
          "data": {
            "text/plain": [
              "ARIMA(order=(3, 1, 5), scoring_args={}, suppress_warnings=True)"
            ]
          },
          "metadata": {},
          "execution_count": 28
        },
        {
          "output_type": "execute_result",
          "data": {
            "text/plain": [
              "ARIMA(order=(0, 1, 0), scoring_args={}, suppress_warnings=True,\n",
              "      with_intercept=False)"
            ]
          },
          "metadata": {},
          "execution_count": 28
        },
        {
          "output_type": "execute_result",
          "data": {
            "text/plain": [
              "ARIMA(order=(0, 1, 0), scoring_args={}, suppress_warnings=True,\n",
              "      with_intercept=False)"
            ]
          },
          "metadata": {},
          "execution_count": 28
        },
        {
          "output_type": "execute_result",
          "data": {
            "text/plain": [
              "ARIMA(order=(2, 1, 2), scoring_args={}, suppress_warnings=True)"
            ]
          },
          "metadata": {},
          "execution_count": 28
        },
        {
          "output_type": "execute_result",
          "data": {
            "text/plain": [
              "ARIMA(order=(2, 1, 2), scoring_args={}, suppress_warnings=True,\n",
              "      with_intercept=False)"
            ]
          },
          "metadata": {},
          "execution_count": 28
        },
        {
          "output_type": "execute_result",
          "data": {
            "text/plain": [
              "ARIMA(order=(0, 1, 0), scoring_args={}, suppress_warnings=True,\n",
              "      with_intercept=False)"
            ]
          },
          "metadata": {},
          "execution_count": 28
        },
        {
          "output_type": "execute_result",
          "data": {
            "text/plain": [
              "ARIMA(order=(0, 1, 0), scoring_args={}, suppress_warnings=True,\n",
              "      with_intercept=False)"
            ]
          },
          "metadata": {},
          "execution_count": 28
        },
        {
          "output_type": "execute_result",
          "data": {
            "text/plain": [
              "ARIMA(order=(0, 1, 0), scoring_args={}, suppress_warnings=True,\n",
              "      with_intercept=False)"
            ]
          },
          "metadata": {},
          "execution_count": 28
        },
        {
          "output_type": "execute_result",
          "data": {
            "text/plain": [
              "ARIMA(order=(3, 1, 3), scoring_args={}, suppress_warnings=True)"
            ]
          },
          "metadata": {},
          "execution_count": 28
        },
        {
          "output_type": "execute_result",
          "data": {
            "text/plain": [
              "ARIMA(order=(2, 1, 2), scoring_args={}, suppress_warnings=True)"
            ]
          },
          "metadata": {},
          "execution_count": 28
        },
        {
          "output_type": "execute_result",
          "data": {
            "text/plain": [
              "ARIMA(order=(2, 1, 2), scoring_args={}, suppress_warnings=True)"
            ]
          },
          "metadata": {},
          "execution_count": 28
        },
        {
          "output_type": "execute_result",
          "data": {
            "text/plain": [
              "ARIMA(order=(0, 1, 0), scoring_args={}, suppress_warnings=True,\n",
              "      with_intercept=False)"
            ]
          },
          "metadata": {},
          "execution_count": 28
        },
        {
          "output_type": "execute_result",
          "data": {
            "text/plain": [
              "ARIMA(order=(0, 1, 0), scoring_args={}, suppress_warnings=True,\n",
              "      with_intercept=False)"
            ]
          },
          "metadata": {},
          "execution_count": 28
        },
        {
          "output_type": "execute_result",
          "data": {
            "text/plain": [
              "ARIMA(order=(0, 1, 0), scoring_args={}, suppress_warnings=True,\n",
              "      with_intercept=False)"
            ]
          },
          "metadata": {},
          "execution_count": 28
        },
        {
          "output_type": "execute_result",
          "data": {
            "text/plain": [
              "ARIMA(order=(3, 1, 3), scoring_args={}, suppress_warnings=True)"
            ]
          },
          "metadata": {},
          "execution_count": 28
        },
        {
          "output_type": "execute_result",
          "data": {
            "text/plain": [
              "ARIMA(order=(3, 1, 3), scoring_args={}, suppress_warnings=True)"
            ]
          },
          "metadata": {},
          "execution_count": 28
        },
        {
          "output_type": "execute_result",
          "data": {
            "text/plain": [
              "ARIMA(order=(0, 1, 0), scoring_args={}, suppress_warnings=True,\n",
              "      with_intercept=False)"
            ]
          },
          "metadata": {},
          "execution_count": 28
        },
        {
          "output_type": "execute_result",
          "data": {
            "text/plain": [
              "ARIMA(order=(3, 1, 3), scoring_args={}, suppress_warnings=True)"
            ]
          },
          "metadata": {},
          "execution_count": 28
        },
        {
          "output_type": "execute_result",
          "data": {
            "text/plain": [
              "ARIMA(order=(0, 1, 0), scoring_args={}, suppress_warnings=True,\n",
              "      with_intercept=False)"
            ]
          },
          "metadata": {},
          "execution_count": 28
        }
      ],
      "source": [
        "import pmdarima as pmd\n",
        "\n",
        "maxlen = len(amexdf)\n",
        "forecast1 = []\n",
        "\n",
        "for ii in range(30):\n",
        "  train_model = pmd.auto_arima(amexdf[ii:ii+maxlen-30][\"Adj Close\"], max_p=5, max_q=5, max_d=2, max_order=11)\n",
        "  train_model.fit(amexdf[ii:ii+maxlen-30][\"Adj Close\"])\n",
        "  forecast1.append(train_model.predict(n_periods=1).item())\n"
      ]
    },
    {
      "cell_type": "code",
      "execution_count": 29,
      "metadata": {
        "colab": {
          "base_uri": "https://localhost:8080/"
        },
        "id": "QFXChfjhiWd2",
        "outputId": "d812cf03-5ab3-4cb1-85c8-c54a9977c1c8"
      },
      "outputs": [
        {
          "output_type": "stream",
          "name": "stdout",
          "text": [
            "RMSE=5.31\n"
          ]
        }
      ],
      "source": [
        "from sklearn.metrics import mean_squared_error\n",
        "\n",
        "rmse = mean_squared_error(amexdf[-30:][\"Adj Close\"], forecast1, squared=False)\n",
        "print(f\"RMSE={rmse:.2f}\")"
      ]
    },
    {
      "cell_type": "code",
      "execution_count": 30,
      "metadata": {
        "id": "WTJ7IPOt0X79"
      },
      "outputs": [],
      "source": [
        "# import pmdarima as pmd\n",
        "# train_model = pmd.auto_arima(amexdf[:-30][\"Adj Close\"], max_p=10, max_q=10, max_d=3, max_order=20)\n",
        "# train_model.fit(amexdf[:-30][\"Adj Close\"])\n",
        "# train_model.summary()"
      ]
    },
    {
      "cell_type": "code",
      "execution_count": 31,
      "metadata": {
        "id": "7e6JNw5R09Zp"
      },
      "outputs": [],
      "source": [
        "# forecast1 = train_model.predict(n_periods=30)"
      ]
    },
    {
      "cell_type": "code",
      "execution_count": 32,
      "metadata": {
        "colab": {
          "base_uri": "https://localhost:8080/",
          "height": 501
        },
        "id": "rlYtlXXM1M-t",
        "outputId": "cdac3690-11c1-4717-a53d-a0ca1f992408"
      },
      "outputs": [
        {
          "output_type": "execute_result",
          "data": {
            "text/plain": [
              "[<matplotlib.lines.Line2D at 0x7f4cc6db8a50>]"
            ]
          },
          "metadata": {},
          "execution_count": 32
        },
        {
          "output_type": "execute_result",
          "data": {
            "text/plain": [
              "[<matplotlib.lines.Line2D at 0x7f4cb98b4590>]"
            ]
          },
          "metadata": {},
          "execution_count": 32
        },
        {
          "output_type": "execute_result",
          "data": {
            "text/plain": [
              "[<matplotlib.lines.Line2D at 0x7f4cb98b4190>]"
            ]
          },
          "metadata": {},
          "execution_count": 32
        },
        {
          "output_type": "execute_result",
          "data": {
            "text/plain": [
              "<matplotlib.legend.Legend at 0x7f4cb7762550>"
            ]
          },
          "metadata": {},
          "execution_count": 32
        },
        {
          "output_type": "display_data",
          "data": {
            "text/plain": [
              "<Figure size 1080x576 with 1 Axes>"
            ],
            "image/png": "[encoded data removed]"
          },
          "metadata": {
            "needs_background": "light"
          }
        }
      ],
      "source": [
        "forecast1 = pd.DataFrame(forecast1, index = amexdf[-30:][\"Adj Close\"].index, columns=['Prediction'])\n",
        "plt.plot(amexdf[-90:-30][\"Adj Close\"], label=\"Train\")\n",
        "plt.plot(amexdf[-31:][\"Adj Close\"], label=\"Test\")\n",
        "plt.plot(forecast1, label=\"Prediction\")\n",
        "plt.legend(loc='lower right', fontsize=15)\n",
        "plt.show()"
      ]
    },
    {
      "cell_type": "code",
      "execution_count": 33,
      "metadata": {
        "id": "K6a8C8g9RRaB"
      },
      "outputs": [],
      "source": [
        "# xresiduals = xtest[\"Return\"].values - forecast[\"Prediction\"].values"
      ]
    },
    {
      "cell_type": "code",
      "execution_count": 34,
      "metadata": {
        "id": "U9IKgr6ORQUC"
      },
      "outputs": [],
      "source": [
        "# _ = sgt.plot_acf(xresiduals, lags=15)\n",
        "# _ = sgt.plot_pacf(xresiduals, lags=15)\n"
      ]
    },
    {
      "cell_type": "code",
      "execution_count": 35,
      "metadata": {
        "id": "grZrc3Ek2X04"
      },
      "outputs": [],
      "source": [
        "# from statsmodels.tsa.holtwinters import ExponentialSmoothing\n",
        "\n",
        "# fit1 = ExponentialSmoothing(xtrain[\"Adj Close\"], seasonal_periods=52, trend='mul', seasonal='mul')\n",
        "# fit1 = fit1.fit()\n",
        "# prediction = fit1.forecast(len(xtest)).copy()\n",
        "# xresiduals = xtest[\"Adj Close\"].values - prediction"
      ]
    },
    {
      "cell_type": "code",
      "execution_count": 36,
      "metadata": {
        "id": "yy7jJUOyNfQB"
      },
      "outputs": [],
      "source": [
        "# # fit1.params_formatted\n",
        "# xtest.shape[0]/xtrain.shape[0]"
      ]
    },
    {
      "cell_type": "code",
      "execution_count": 37,
      "metadata": {
        "id": "qYhwgArgPheK"
      },
      "outputs": [],
      "source": [
        "# sgt.plot_acf(xresiduals, lags=15);\n",
        "# sgt.plot_pacf(xresiduals, lags=15);"
      ]
    },
    {
      "cell_type": "code",
      "execution_count": 38,
      "metadata": {
        "id": "slDnSX6eT7vc"
      },
      "outputs": [],
      "source": [
        "# prediction = pd.DataFrame(prediction.values, index = xtest.index, columns=['Prediction'])"
      ]
    },
    {
      "cell_type": "code",
      "execution_count": 39,
      "metadata": {
        "id": "VSuQWhX7UAwX"
      },
      "outputs": [],
      "source": [
        "# plt.plot(xtrain[\"Adj Close\"], label=\"Train\")\n",
        "# plt.plot(xtest[\"Adj Close\"], label=\"Test\")\n",
        "# plt.plot(prediction, label=\"Prediction\")\n",
        "# plt.legend(loc='lower right', fontsize=15)\n",
        "# plt.show()"
      ]
    },
    {
      "cell_type": "code",
      "execution_count": 40,
      "metadata": {
        "id": "s1ZlKZf0UZUl"
      },
      "outputs": [],
      "source": [
        "# from sklearn.metrics import mean_squared_error\n",
        "\n",
        "# rmse = mean_squared_error(xtest[\"Return\"], forecast[\"Prediction\"], squared=False)\n",
        "# print(f\"RMSE={rmse*100:.4f}%\")"
      ]
    },
    {
      "cell_type": "markdown",
      "metadata": {
        "id": "zNLzUgcOY64z"
      },
      "source": [
        "# 2. VAR"
      ]
    },
    {
      "cell_type": "code",
      "execution_count": 41,
      "metadata": {
        "id": "PFo8RXTtGJdX"
      },
      "outputs": [],
      "source": [
        "amexdf = yf.download(\"AXP\", start=\"2017-01-01\", progress=False)\n",
        "amazondf = yf.download(\"AMZN\", start=\"2017-01-01\", progress=False)\n",
        "eurodf = yf.download(\"USDEUR=X\", start=\"2017-01-01\", progress=False)\n",
        "treasurydf = yf.download(\"^TNX\", start=\"2017-01-01\", progress=False)\n",
        "inflationdf = yf.download(\"FCPI\", start=\"2017-01-01\", progress=False)"
      ]
    },
    {
      "cell_type": "code",
      "execution_count": 42,
      "metadata": {
        "colab": {
          "base_uri": "https://localhost:8080/",
          "height": 805
        },
        "id": "QQpUnA_VNn-T",
        "outputId": "1b586722-291c-44a7-be70-8396370c79ec"
      },
      "outputs": [
        {
          "output_type": "execute_result",
          "data": {
            "text/plain": [
              "                 Open       High        Low      Close  Adj Close   Volume\n",
              "Date                                                                      \n",
              "2017-01-03  74.889999  75.750000  74.739998  75.349998  69.781258  5853900\n",
              "2017-01-04  75.260002  76.550003  75.059998  76.260002  70.925209  4635800\n",
              "2017-01-05  76.000000  76.180000  74.820000  75.320000  70.050941  3383000"
            ],
            "text/html": [
              "\n",
              "  <div id=\"df-7f8596be-a580-4ebe-8cae-990583a2a14b\">\n",
              "    <div class=\"colab-df-container\">\n",
              "      <div>\n",
              "<style scoped>\n",
              "    .dataframe tbody tr th:only-of-type {\n",
              "        vertical-align: middle;\n",
              "    }\n",
              "\n",
              "    .dataframe tbody tr th {\n",
              "        vertical-align: top;\n",
              "    }\n",
              "\n",
              "    .dataframe thead th {\n",
              "        text-align: right;\n",
              "    }\n",
              "</style>\n",
              "<table border=\"1\" class=\"dataframe\">\n",
              "  <thead>\n",
              "    <tr style=\"text-align: right;\">\n",
              "      <th></th>\n",
              "      <th>Open</th>\n",
              "      <th>High</th>\n",
              "      <th>Low</th>\n",
              "      <th>Close</th>\n",
              "      <th>Adj Close</th>\n",
              "      <th>Volume</th>\n",
              "    </tr>\n",
              "    <tr>\n",
              "      <th>Date</th>\n",
              "      <th></th>\n",
              "      <th></th>\n",
              "      <th></th>\n",
              "      <th></th>\n",
              "      <th></th>\n",
              "      <th></th>\n",
              "    </tr>\n",
              "  </thead>\n",
              "  <tbody>\n",
              "    <tr>\n",
              "      <th>2017-01-03</th>\n",
              "      <td>74.889999</td>\n",
              "      <td>75.750000</td>\n",
              "      <td>74.739998</td>\n",
              "      <td>75.349998</td>\n",
              "      <td>69.781258</td>\n",
              "      <td>5853900</td>\n",
              "    </tr>\n",
              "    <tr>\n",
              "      <th>2017-01-04</th>\n",
              "      <td>75.260002</td>\n",
              "      <td>76.550003</td>\n",
              "      <td>75.059998</td>\n",
              "      <td>76.260002</td>\n",
              "      <td>70.925209</td>\n",
              "      <td>4635800</td>\n",
              "    </tr>\n",
              "    <tr>\n",
              "      <th>2017-01-05</th>\n",
              "      <td>76.000000</td>\n",
              "      <td>76.180000</td>\n",
              "      <td>74.820000</td>\n",
              "      <td>75.320000</td>\n",
              "      <td>70.050941</td>\n",
              "      <td>3383000</td>\n",
              "    </tr>\n",
              "  </tbody>\n",
              "</table>\n",
              "</div>\n",
              "      <button class=\"colab-df-convert\" onclick=\"convertToInteractive('df-7f8596be-a580-4ebe-8cae-990583a2a14b')\"\n",
              "              title=\"Convert this dataframe to an interactive table.\"\n",
              "              style=\"display:none;\">\n",
              "        \n",
              "  <svg xmlns=\"http://www.w3.org/2000/svg\" height=\"24px\"viewBox=\"0 0 24 24\"\n",
              "       width=\"24px\">\n",
              "    <path d=\"M0 0h24v24H0V0z\" fill=\"none\"/>\n",
              "    <path d=\"M18.56 5.44l.94 2.06.94-2.06 2.06-.94-2.06-.94-.94-2.06-.94 2.06-2.06.94zm-11 1L8.5 8.5l.94-2.06 2.06-.94-2.06-.94L8.5 2.5l-.94 2.06-2.06.94zm10 10l.94 2.06.94-2.06 2.06-.94-2.06-.94-.94-2.06-.94 2.06-2.06.94z\"/><path d=\"M17.41 7.96l-1.37-1.37c-.4-.4-.92-.59-1.43-.59-.52 0-1.04.2-1.43.59L10.3 9.45l-7.72 7.72c-.78.78-.78 2.05 0 2.83L4 21.41c.39.39.9.59 1.41.59.51 0 1.02-.2 1.41-.59l7.78-7.78 2.81-2.81c.8-.78.8-2.07 0-2.86zM5.41 20L4 18.59l7.72-7.72 1.47 1.35L5.41 20z\"/>\n",
              "  </svg>\n",
              "      </button>\n",
              "      \n",
              "  <style>\n",
              "    .colab-df-container {\n",
              "      display:flex;\n",
              "      flex-wrap:wrap;\n",
              "      gap: 12px;\n",
              "    }\n",
              "\n",
              "    .colab-df-convert {\n",
              "      background-color: #E8F0FE;\n",
              "      border: none;\n",
              "      border-radius: 50%;\n",
              "      cursor: pointer;\n",
              "      display: none;\n",
              "      fill: #1967D2;\n",
              "      height: 32px;\n",
              "      padding: 0 0 0 0;\n",
              "      width: 32px;\n",
              "    }\n",
              "\n",
              "    .colab-df-convert:hover {\n",
              "      background-color: #E2EBFA;\n",
              "      box-shadow: 0px 1px 2px rgba(60, 64, 67, 0.3), 0px 1px 3px 1px rgba(60, 64, 67, 0.15);\n",
              "      fill: #174EA6;\n",
              "    }\n",
              "\n",
              "    [theme=dark] .colab-df-convert {\n",
              "      background-color: #3B4455;\n",
              "      fill: #D2E3FC;\n",
              "    }\n",
              "\n",
              "    [theme=dark] .colab-df-convert:hover {\n",
              "      background-color: #434B5C;\n",
              "      box-shadow: 0px 1px 3px 1px rgba(0, 0, 0, 0.15);\n",
              "      filter: drop-shadow(0px 1px 2px rgba(0, 0, 0, 0.3));\n",
              "      fill: #FFFFFF;\n",
              "    }\n",
              "  </style>\n",
              "\n",
              "      <script>\n",
              "        const buttonEl =\n",
              "          document.querySelector('#df-7f8596be-a580-4ebe-8cae-990583a2a14b button.colab-df-convert');\n",
              "        buttonEl.style.display =\n",
              "          google.colab.kernel.accessAllowed ? 'block' : 'none';\n",
              "\n",
              "        async function convertToInteractive(key) {\n",
              "          const element = document.querySelector('#df-7f8596be-a580-4ebe-8cae-990583a2a14b');\n",
              "          const dataTable =\n",
              "            await google.colab.kernel.invokeFunction('convertToInteractive',\n",
              "                                                     [key], {});\n",
              "          if (!dataTable) return;\n",
              "\n",
              "          const docLinkHtml = 'Like what you see? Visit the ' +\n",
              "            '<a target=\"_blank\" href=https://colab.research.google.com/notebooks/data_table.ipynb>data table notebook</a>'\n",
              "            + ' to learn more about interactive tables.';\n",
              "          element.innerHTML = '';\n",
              "          dataTable['output_type'] = 'display_data';\n",
              "          await google.colab.output.renderOutput(dataTable, element);\n",
              "          const docLink = document.createElement('div');\n",
              "          docLink.innerHTML = docLinkHtml;\n",
              "          element.appendChild(docLink);\n",
              "        }\n",
              "      </script>\n",
              "    </div>\n",
              "  </div>\n",
              "  "
            ]
          },
          "metadata": {},
          "execution_count": 42
        },
        {
          "output_type": "execute_result",
          "data": {
            "text/plain": [
              "                  Open        High         Low       Close   Adj Close  \\\n",
              "Date                                                                     \n",
              "2017-01-03  757.919983  758.760010  747.700012  753.669983  753.669983   \n",
              "2017-01-04  758.390015  759.679993  754.200012  757.179993  757.179993   \n",
              "2017-01-05  761.549988  782.400024  760.260010  780.450012  780.450012   \n",
              "\n",
              "             Volume  \n",
              "Date                 \n",
              "2017-01-03  3521100  \n",
              "2017-01-04  2510500  \n",
              "2017-01-05  5830100  "
            ],
            "text/html": [
              "\n",
              "  <div id=\"df-113e32dd-020e-4e05-9cf9-0024095891bd\">\n",
              "    <div class=\"colab-df-container\">\n",
              "      <div>\n",
              "<style scoped>\n",
              "    .dataframe tbody tr th:only-of-type {\n",
              "        vertical-align: middle;\n",
              "    }\n",
              "\n",
              "    .dataframe tbody tr th {\n",
              "        vertical-align: top;\n",
              "    }\n",
              "\n",
              "    .dataframe thead th {\n",
              "        text-align: right;\n",
              "    }\n",
              "</style>\n",
              "<table border=\"1\" class=\"dataframe\">\n",
              "  <thead>\n",
              "    <tr style=\"text-align: right;\">\n",
              "      <th></th>\n",
              "      <th>Open</th>\n",
              "      <th>High</th>\n",
              "      <th>Low</th>\n",
              "      <th>Close</th>\n",
              "      <th>Adj Close</th>\n",
              "      <th>Volume</th>\n",
              "    </tr>\n",
              "    <tr>\n",
              "      <th>Date</th>\n",
              "      <th></th>\n",
              "      <th></th>\n",
              "      <th></th>\n",
              "      <th></th>\n",
              "      <th></th>\n",
              "      <th></th>\n",
              "    </tr>\n",
              "  </thead>\n",
              "  <tbody>\n",
              "    <tr>\n",
              "      <th>2017-01-03</th>\n",
              "      <td>757.919983</td>\n",
              "      <td>758.760010</td>\n",
              "      <td>747.700012</td>\n",
              "      <td>753.669983</td>\n",
              "      <td>753.669983</td>\n",
              "      <td>3521100</td>\n",
              "    </tr>\n",
              "    <tr>\n",
              "      <th>2017-01-04</th>\n",
              "      <td>758.390015</td>\n",
              "      <td>759.679993</td>\n",
              "      <td>754.200012</td>\n",
              "      <td>757.179993</td>\n",
              "      <td>757.179993</td>\n",
              "      <td>2510500</td>\n",
              "    </tr>\n",
              "    <tr>\n",
              "      <th>2017-01-05</th>\n",
              "      <td>761.549988</td>\n",
              "      <td>782.400024</td>\n",
              "      <td>760.260010</td>\n",
              "      <td>780.450012</td>\n",
              "      <td>780.450012</td>\n",
              "      <td>5830100</td>\n",
              "    </tr>\n",
              "  </tbody>\n",
              "</table>\n",
              "</div>\n",
              "      <button class=\"colab-df-convert\" onclick=\"convertToInteractive('df-113e32dd-020e-4e05-9cf9-0024095891bd')\"\n",
              "              title=\"Convert this dataframe to an interactive table.\"\n",
              "              style=\"display:none;\">\n",
              "        \n",
              "  <svg xmlns=\"http://www.w3.org/2000/svg\" height=\"24px\"viewBox=\"0 0 24 24\"\n",
              "       width=\"24px\">\n",
              "    <path d=\"M0 0h24v24H0V0z\" fill=\"none\"/>\n",
              "    <path d=\"M18.56 5.44l.94 2.06.94-2.06 2.06-.94-2.06-.94-.94-2.06-.94 2.06-2.06.94zm-11 1L8.5 8.5l.94-2.06 2.06-.94-2.06-.94L8.5 2.5l-.94 2.06-2.06.94zm10 10l.94 2.06.94-2.06 2.06-.94-2.06-.94-.94-2.06-.94 2.06-2.06.94z\"/><path d=\"M17.41 7.96l-1.37-1.37c-.4-.4-.92-.59-1.43-.59-.52 0-1.04.2-1.43.59L10.3 9.45l-7.72 7.72c-.78.78-.78 2.05 0 2.83L4 21.41c.39.39.9.59 1.41.59.51 0 1.02-.2 1.41-.59l7.78-7.78 2.81-2.81c.8-.78.8-2.07 0-2.86zM5.41 20L4 18.59l7.72-7.72 1.47 1.35L5.41 20z\"/>\n",
              "  </svg>\n",
              "      </button>\n",
              "      \n",
              "  <style>\n",
              "    .colab-df-container {\n",
              "      display:flex;\n",
              "      flex-wrap:wrap;\n",
              "      gap: 12px;\n",
              "    }\n",
              "\n",
              "    .colab-df-convert {\n",
              "      background-color: #E8F0FE;\n",
              "      border: none;\n",
              "      border-radius: 50%;\n",
              "      cursor: pointer;\n",
              "      display: none;\n",
              "      fill: #1967D2;\n",
              "      height: 32px;\n",
              "      padding: 0 0 0 0;\n",
              "      width: 32px;\n",
              "    }\n",
              "\n",
              "    .colab-df-convert:hover {\n",
              "      background-color: #E2EBFA;\n",
              "      box-shadow: 0px 1px 2px rgba(60, 64, 67, 0.3), 0px 1px 3px 1px rgba(60, 64, 67, 0.15);\n",
              "      fill: #174EA6;\n",
              "    }\n",
              "\n",
              "    [theme=dark] .colab-df-convert {\n",
              "      background-color: #3B4455;\n",
              "      fill: #D2E3FC;\n",
              "    }\n",
              "\n",
              "    [theme=dark] .colab-df-convert:hover {\n",
              "      background-color: #434B5C;\n",
              "      box-shadow: 0px 1px 3px 1px rgba(0, 0, 0, 0.15);\n",
              "      filter: drop-shadow(0px 1px 2px rgba(0, 0, 0, 0.3));\n",
              "      fill: #FFFFFF;\n",
              "    }\n",
              "  </style>\n",
              "\n",
              "      <script>\n",
              "        const buttonEl =\n",
              "          document.querySelector('#df-113e32dd-020e-4e05-9cf9-0024095891bd button.colab-df-convert');\n",
              "        buttonEl.style.display =\n",
              "          google.colab.kernel.accessAllowed ? 'block' : 'none';\n",
              "\n",
              "        async function convertToInteractive(key) {\n",
              "          const element = document.querySelector('#df-113e32dd-020e-4e05-9cf9-0024095891bd');\n",
              "          const dataTable =\n",
              "            await google.colab.kernel.invokeFunction('convertToInteractive',\n",
              "                                                     [key], {});\n",
              "          if (!dataTable) return;\n",
              "\n",
              "          const docLinkHtml = 'Like what you see? Visit the ' +\n",
              "            '<a target=\"_blank\" href=https://colab.research.google.com/notebooks/data_table.ipynb>data table notebook</a>'\n",
              "            + ' to learn more about interactive tables.';\n",
              "          element.innerHTML = '';\n",
              "          dataTable['output_type'] = 'display_data';\n",
              "          await google.colab.output.renderOutput(dataTable, element);\n",
              "          const docLink = document.createElement('div');\n",
              "          docLink.innerHTML = docLinkHtml;\n",
              "          element.appendChild(docLink);\n",
              "        }\n",
              "      </script>\n",
              "    </div>\n",
              "  </div>\n",
              "  "
            ]
          },
          "metadata": {},
          "execution_count": 42
        },
        {
          "output_type": "execute_result",
          "data": {
            "text/plain": [
              "               Open     High     Low    Close  Adj Close  Volume\n",
              "Date                                                            \n",
              "2017-01-02  0.94960  0.95550  0.9487  0.94994    0.94994       0\n",
              "2017-01-03  0.95610  0.96640  0.9531  0.95602    0.95602       0\n",
              "2017-01-04  0.95984  0.96234  0.9543  0.95970    0.95970       0"
            ],
            "text/html": [
              "\n",
              "  <div id=\"df-e2c8f41f-7625-497e-b544-d10b7711a3c8\">\n",
              "    <div class=\"colab-df-container\">\n",
              "      <div>\n",
              "<style scoped>\n",
              "    .dataframe tbody tr th:only-of-type {\n",
              "        vertical-align: middle;\n",
              "    }\n",
              "\n",
              "    .dataframe tbody tr th {\n",
              "        vertical-align: top;\n",
              "    }\n",
              "\n",
              "    .dataframe thead th {\n",
              "        text-align: right;\n",
              "    }\n",
              "</style>\n",
              "<table border=\"1\" class=\"dataframe\">\n",
              "  <thead>\n",
              "    <tr style=\"text-align: right;\">\n",
              "      <th></th>\n",
              "      <th>Open</th>\n",
              "      <th>High</th>\n",
              "      <th>Low</th>\n",
              "      <th>Close</th>\n",
              "      <th>Adj Close</th>\n",
              "      <th>Volume</th>\n",
              "    </tr>\n",
              "    <tr>\n",
              "      <th>Date</th>\n",
              "      <th></th>\n",
              "      <th></th>\n",
              "      <th></th>\n",
              "      <th></th>\n",
              "      <th></th>\n",
              "      <th></th>\n",
              "    </tr>\n",
              "  </thead>\n",
              "  <tbody>\n",
              "    <tr>\n",
              "      <th>2017-01-02</th>\n",
              "      <td>0.94960</td>\n",
              "      <td>0.95550</td>\n",
              "      <td>0.9487</td>\n",
              "      <td>0.94994</td>\n",
              "      <td>0.94994</td>\n",
              "      <td>0</td>\n",
              "    </tr>\n",
              "    <tr>\n",
              "      <th>2017-01-03</th>\n",
              "      <td>0.95610</td>\n",
              "      <td>0.96640</td>\n",
              "      <td>0.9531</td>\n",
              "      <td>0.95602</td>\n",
              "      <td>0.95602</td>\n",
              "      <td>0</td>\n",
              "    </tr>\n",
              "    <tr>\n",
              "      <th>2017-01-04</th>\n",
              "      <td>0.95984</td>\n",
              "      <td>0.96234</td>\n",
              "      <td>0.9543</td>\n",
              "      <td>0.95970</td>\n",
              "      <td>0.95970</td>\n",
              "      <td>0</td>\n",
              "    </tr>\n",
              "  </tbody>\n",
              "</table>\n",
              "</div>\n",
              "      <button class=\"colab-df-convert\" onclick=\"convertToInteractive('df-e2c8f41f-7625-497e-b544-d10b7711a3c8')\"\n",
              "              title=\"Convert this dataframe to an interactive table.\"\n",
              "              style=\"display:none;\">\n",
              "        \n",
              "  <svg xmlns=\"http://www.w3.org/2000/svg\" height=\"24px\"viewBox=\"0 0 24 24\"\n",
              "       width=\"24px\">\n",
              "    <path d=\"M0 0h24v24H0V0z\" fill=\"none\"/>\n",
              "    <path d=\"M18.56 5.44l.94 2.06.94-2.06 2.06-.94-2.06-.94-.94-2.06-.94 2.06-2.06.94zm-11 1L8.5 8.5l.94-2.06 2.06-.94-2.06-.94L8.5 2.5l-.94 2.06-2.06.94zm10 10l.94 2.06.94-2.06 2.06-.94-2.06-.94-.94-2.06-.94 2.06-2.06.94z\"/><path d=\"M17.41 7.96l-1.37-1.37c-.4-.4-.92-.59-1.43-.59-.52 0-1.04.2-1.43.59L10.3 9.45l-7.72 7.72c-.78.78-.78 2.05 0 2.83L4 21.41c.39.39.9.59 1.41.59.51 0 1.02-.2 1.41-.59l7.78-7.78 2.81-2.81c.8-.78.8-2.07 0-2.86zM5.41 20L4 18.59l7.72-7.72 1.47 1.35L5.41 20z\"/>\n",
              "  </svg>\n",
              "      </button>\n",
              "      \n",
              "  <style>\n",
              "    .colab-df-container {\n",
              "      display:flex;\n",
              "      flex-wrap:wrap;\n",
              "      gap: 12px;\n",
              "    }\n",
              "\n",
              "    .colab-df-convert {\n",
              "      background-color: #E8F0FE;\n",
              "      border: none;\n",
              "      border-radius: 50%;\n",
              "      cursor: pointer;\n",
              "      display: none;\n",
              "      fill: #1967D2;\n",
              "      height: 32px;\n",
              "      padding: 0 0 0 0;\n",
              "      width: 32px;\n",
              "    }\n",
              "\n",
              "    .colab-df-convert:hover {\n",
              "      background-color: #E2EBFA;\n",
              "      box-shadow: 0px 1px 2px rgba(60, 64, 67, 0.3), 0px 1px 3px 1px rgba(60, 64, 67, 0.15);\n",
              "      fill: #174EA6;\n",
              "    }\n",
              "\n",
              "    [theme=dark] .colab-df-convert {\n",
              "      background-color: #3B4455;\n",
              "      fill: #D2E3FC;\n",
              "    }\n",
              "\n",
              "    [theme=dark] .colab-df-convert:hover {\n",
              "      background-color: #434B5C;\n",
              "      box-shadow: 0px 1px 3px 1px rgba(0, 0, 0, 0.15);\n",
              "      filter: drop-shadow(0px 1px 2px rgba(0, 0, 0, 0.3));\n",
              "      fill: #FFFFFF;\n",
              "    }\n",
              "  </style>\n",
              "\n",
              "      <script>\n",
              "        const buttonEl =\n",
              "          document.querySelector('#df-e2c8f41f-7625-497e-b544-d10b7711a3c8 button.colab-df-convert');\n",
              "        buttonEl.style.display =\n",
              "          google.colab.kernel.accessAllowed ? 'block' : 'none';\n",
              "\n",
              "        async function convertToInteractive(key) {\n",
              "          const element = document.querySelector('#df-e2c8f41f-7625-497e-b544-d10b7711a3c8');\n",
              "          const dataTable =\n",
              "            await google.colab.kernel.invokeFunction('convertToInteractive',\n",
              "                                                     [key], {});\n",
              "          if (!dataTable) return;\n",
              "\n",
              "          const docLinkHtml = 'Like what you see? Visit the ' +\n",
              "            '<a target=\"_blank\" href=https://colab.research.google.com/notebooks/data_table.ipynb>data table notebook</a>'\n",
              "            + ' to learn more about interactive tables.';\n",
              "          element.innerHTML = '';\n",
              "          dataTable['output_type'] = 'display_data';\n",
              "          await google.colab.output.renderOutput(dataTable, element);\n",
              "          const docLink = document.createElement('div');\n",
              "          docLink.innerHTML = docLinkHtml;\n",
              "          element.appendChild(docLink);\n",
              "        }\n",
              "      </script>\n",
              "    </div>\n",
              "  </div>\n",
              "  "
            ]
          },
          "metadata": {},
          "execution_count": 42
        },
        {
          "output_type": "execute_result",
          "data": {
            "text/plain": [
              "             Open   High    Low  Close  Adj Close  Volume\n",
              "Date                                                     \n",
              "2017-01-03  2.511  2.518  2.448  2.450      2.450       0\n",
              "2017-01-04  2.456  2.474  2.434  2.452      2.452       0\n",
              "2017-01-05  2.439  2.443  2.346  2.368      2.368       0"
            ],
            "text/html": [
              "\n",
              "  <div id=\"df-79a2e87f-09bb-4e77-8e3c-0c90ad7c5761\">\n",
              "    <div class=\"colab-df-container\">\n",
              "      <div>\n",
              "<style scoped>\n",
              "    .dataframe tbody tr th:only-of-type {\n",
              "        vertical-align: middle;\n",
              "    }\n",
              "\n",
              "    .dataframe tbody tr th {\n",
              "        vertical-align: top;\n",
              "    }\n",
              "\n",
              "    .dataframe thead th {\n",
              "        text-align: right;\n",
              "    }\n",
              "</style>\n",
              "<table border=\"1\" class=\"dataframe\">\n",
              "  <thead>\n",
              "    <tr style=\"text-align: right;\">\n",
              "      <th></th>\n",
              "      <th>Open</th>\n",
              "      <th>High</th>\n",
              "      <th>Low</th>\n",
              "      <th>Close</th>\n",
              "      <th>Adj Close</th>\n",
              "      <th>Volume</th>\n",
              "    </tr>\n",
              "    <tr>\n",
              "      <th>Date</th>\n",
              "      <th></th>\n",
              "      <th></th>\n",
              "      <th></th>\n",
              "      <th></th>\n",
              "      <th></th>\n",
              "      <th></th>\n",
              "    </tr>\n",
              "  </thead>\n",
              "  <tbody>\n",
              "    <tr>\n",
              "      <th>2017-01-03</th>\n",
              "      <td>2.511</td>\n",
              "      <td>2.518</td>\n",
              "      <td>2.448</td>\n",
              "      <td>2.450</td>\n",
              "      <td>2.450</td>\n",
              "      <td>0</td>\n",
              "    </tr>\n",
              "    <tr>\n",
              "      <th>2017-01-04</th>\n",
              "      <td>2.456</td>\n",
              "      <td>2.474</td>\n",
              "      <td>2.434</td>\n",
              "      <td>2.452</td>\n",
              "      <td>2.452</td>\n",
              "      <td>0</td>\n",
              "    </tr>\n",
              "    <tr>\n",
              "      <th>2017-01-05</th>\n",
              "      <td>2.439</td>\n",
              "      <td>2.443</td>\n",
              "      <td>2.346</td>\n",
              "      <td>2.368</td>\n",
              "      <td>2.368</td>\n",
              "      <td>0</td>\n",
              "    </tr>\n",
              "  </tbody>\n",
              "</table>\n",
              "</div>\n",
              "      <button class=\"colab-df-convert\" onclick=\"convertToInteractive('df-79a2e87f-09bb-4e77-8e3c-0c90ad7c5761')\"\n",
              "              title=\"Convert this dataframe to an interactive table.\"\n",
              "              style=\"display:none;\">\n",
              "        \n",
              "  <svg xmlns=\"http://www.w3.org/2000/svg\" height=\"24px\"viewBox=\"0 0 24 24\"\n",
              "       width=\"24px\">\n",
              "    <path d=\"M0 0h24v24H0V0z\" fill=\"none\"/>\n",
              "    <path d=\"M18.56 5.44l.94 2.06.94-2.06 2.06-.94-2.06-.94-.94-2.06-.94 2.06-2.06.94zm-11 1L8.5 8.5l.94-2.06 2.06-.94-2.06-.94L8.5 2.5l-.94 2.06-2.06.94zm10 10l.94 2.06.94-2.06 2.06-.94-2.06-.94-.94-2.06-.94 2.06-2.06.94z\"/><path d=\"M17.41 7.96l-1.37-1.37c-.4-.4-.92-.59-1.43-.59-.52 0-1.04.2-1.43.59L10.3 9.45l-7.72 7.72c-.78.78-.78 2.05 0 2.83L4 21.41c.39.39.9.59 1.41.59.51 0 1.02-.2 1.41-.59l7.78-7.78 2.81-2.81c.8-.78.8-2.07 0-2.86zM5.41 20L4 18.59l7.72-7.72 1.47 1.35L5.41 20z\"/>\n",
              "  </svg>\n",
              "      </button>\n",
              "      \n",
              "  <style>\n",
              "    .colab-df-container {\n",
              "      display:flex;\n",
              "      flex-wrap:wrap;\n",
              "      gap: 12px;\n",
              "    }\n",
              "\n",
              "    .colab-df-convert {\n",
              "      background-color: #E8F0FE;\n",
              "      border: none;\n",
              "      border-radius: 50%;\n",
              "      cursor: pointer;\n",
              "      display: none;\n",
              "      fill: #1967D2;\n",
              "      height: 32px;\n",
              "      padding: 0 0 0 0;\n",
              "      width: 32px;\n",
              "    }\n",
              "\n",
              "    .colab-df-convert:hover {\n",
              "      background-color: #E2EBFA;\n",
              "      box-shadow: 0px 1px 2px rgba(60, 64, 67, 0.3), 0px 1px 3px 1px rgba(60, 64, 67, 0.15);\n",
              "      fill: #174EA6;\n",
              "    }\n",
              "\n",
              "    [theme=dark] .colab-df-convert {\n",
              "      background-color: #3B4455;\n",
              "      fill: #D2E3FC;\n",
              "    }\n",
              "\n",
              "    [theme=dark] .colab-df-convert:hover {\n",
              "      background-color: #434B5C;\n",
              "      box-shadow: 0px 1px 3px 1px rgba(0, 0, 0, 0.15);\n",
              "      filter: drop-shadow(0px 1px 2px rgba(0, 0, 0, 0.3));\n",
              "      fill: #FFFFFF;\n",
              "    }\n",
              "  </style>\n",
              "\n",
              "      <script>\n",
              "        const buttonEl =\n",
              "          document.querySelector('#df-79a2e87f-09bb-4e77-8e3c-0c90ad7c5761 button.colab-df-convert');\n",
              "        buttonEl.style.display =\n",
              "          google.colab.kernel.accessAllowed ? 'block' : 'none';\n",
              "\n",
              "        async function convertToInteractive(key) {\n",
              "          const element = document.querySelector('#df-79a2e87f-09bb-4e77-8e3c-0c90ad7c5761');\n",
              "          const dataTable =\n",
              "            await google.colab.kernel.invokeFunction('convertToInteractive',\n",
              "                                                     [key], {});\n",
              "          if (!dataTable) return;\n",
              "\n",
              "          const docLinkHtml = 'Like what you see? Visit the ' +\n",
              "            '<a target=\"_blank\" href=https://colab.research.google.com/notebooks/data_table.ipynb>data table notebook</a>'\n",
              "            + ' to learn more about interactive tables.';\n",
              "          element.innerHTML = '';\n",
              "          dataTable['output_type'] = 'display_data';\n",
              "          await google.colab.output.renderOutput(dataTable, element);\n",
              "          const docLink = document.createElement('div');\n",
              "          docLink.innerHTML = docLinkHtml;\n",
              "          element.appendChild(docLink);\n",
              "        }\n",
              "      </script>\n",
              "    </div>\n",
              "  </div>\n",
              "  "
            ]
          },
          "metadata": {},
          "execution_count": 42
        },
        {
          "output_type": "execute_result",
          "data": {
            "text/plain": [
              "                 Open       High        Low      Close  Adj Close  Volume\n",
              "Date                                                                     \n",
              "2019-11-07  25.070000  25.110001  25.028999  25.028999  23.581007    1400\n",
              "2019-11-08  25.110001  25.134001  25.030001  25.134001  23.679941    1200\n",
              "2019-11-11  25.129999  25.129999  25.080000  25.103001  23.650728    3300"
            ],
            "text/html": [
              "\n",
              "  <div id=\"df-811b091b-d379-4c78-b893-82ef3e8d0ce3\">\n",
              "    <div class=\"colab-df-container\">\n",
              "      <div>\n",
              "<style scoped>\n",
              "    .dataframe tbody tr th:only-of-type {\n",
              "        vertical-align: middle;\n",
              "    }\n",
              "\n",
              "    .dataframe tbody tr th {\n",
              "        vertical-align: top;\n",
              "    }\n",
              "\n",
              "    .dataframe thead th {\n",
              "        text-align: right;\n",
              "    }\n",
              "</style>\n",
              "<table border=\"1\" class=\"dataframe\">\n",
              "  <thead>\n",
              "    <tr style=\"text-align: right;\">\n",
              "      <th></th>\n",
              "      <th>Open</th>\n",
              "      <th>High</th>\n",
              "      <th>Low</th>\n",
              "      <th>Close</th>\n",
              "      <th>Adj Close</th>\n",
              "      <th>Volume</th>\n",
              "    </tr>\n",
              "    <tr>\n",
              "      <th>Date</th>\n",
              "      <th></th>\n",
              "      <th></th>\n",
              "      <th></th>\n",
              "      <th></th>\n",
              "      <th></th>\n",
              "      <th></th>\n",
              "    </tr>\n",
              "  </thead>\n",
              "  <tbody>\n",
              "    <tr>\n",
              "      <th>2019-11-07</th>\n",
              "      <td>25.070000</td>\n",
              "      <td>25.110001</td>\n",
              "      <td>25.028999</td>\n",
              "      <td>25.028999</td>\n",
              "      <td>23.581007</td>\n",
              "      <td>1400</td>\n",
              "    </tr>\n",
              "    <tr>\n",
              "      <th>2019-11-08</th>\n",
              "      <td>25.110001</td>\n",
              "      <td>25.134001</td>\n",
              "      <td>25.030001</td>\n",
              "      <td>25.134001</td>\n",
              "      <td>23.679941</td>\n",
              "      <td>1200</td>\n",
              "    </tr>\n",
              "    <tr>\n",
              "      <th>2019-11-11</th>\n",
              "      <td>25.129999</td>\n",
              "      <td>25.129999</td>\n",
              "      <td>25.080000</td>\n",
              "      <td>25.103001</td>\n",
              "      <td>23.650728</td>\n",
              "      <td>3300</td>\n",
              "    </tr>\n",
              "  </tbody>\n",
              "</table>\n",
              "</div>\n",
              "      <button class=\"colab-df-convert\" onclick=\"convertToInteractive('df-811b091b-d379-4c78-b893-82ef3e8d0ce3')\"\n",
              "              title=\"Convert this dataframe to an interactive table.\"\n",
              "              style=\"display:none;\">\n",
              "        \n",
              "  <svg xmlns=\"http://www.w3.org/2000/svg\" height=\"24px\"viewBox=\"0 0 24 24\"\n",
              "       width=\"24px\">\n",
              "    <path d=\"M0 0h24v24H0V0z\" fill=\"none\"/>\n",
              "    <path d=\"M18.56 5.44l.94 2.06.94-2.06 2.06-.94-2.06-.94-.94-2.06-.94 2.06-2.06.94zm-11 1L8.5 8.5l.94-2.06 2.06-.94-2.06-.94L8.5 2.5l-.94 2.06-2.06.94zm10 10l.94 2.06.94-2.06 2.06-.94-2.06-.94-.94-2.06-.94 2.06-2.06.94z\"/><path d=\"M17.41 7.96l-1.37-1.37c-.4-.4-.92-.59-1.43-.59-.52 0-1.04.2-1.43.59L10.3 9.45l-7.72 7.72c-.78.78-.78 2.05 0 2.83L4 21.41c.39.39.9.59 1.41.59.51 0 1.02-.2 1.41-.59l7.78-7.78 2.81-2.81c.8-.78.8-2.07 0-2.86zM5.41 20L4 18.59l7.72-7.72 1.47 1.35L5.41 20z\"/>\n",
              "  </svg>\n",
              "      </button>\n",
              "      \n",
              "  <style>\n",
              "    .colab-df-container {\n",
              "      display:flex;\n",
              "      flex-wrap:wrap;\n",
              "      gap: 12px;\n",
              "    }\n",
              "\n",
              "    .colab-df-convert {\n",
              "      background-color: #E8F0FE;\n",
              "      border: none;\n",
              "      border-radius: 50%;\n",
              "      cursor: pointer;\n",
              "      display: none;\n",
              "      fill: #1967D2;\n",
              "      height: 32px;\n",
              "      padding: 0 0 0 0;\n",
              "      width: 32px;\n",
              "    }\n",
              "\n",
              "    .colab-df-convert:hover {\n",
              "      background-color: #E2EBFA;\n",
              "      box-shadow: 0px 1px 2px rgba(60, 64, 67, 0.3), 0px 1px 3px 1px rgba(60, 64, 67, 0.15);\n",
              "      fill: #174EA6;\n",
              "    }\n",
              "\n",
              "    [theme=dark] .colab-df-convert {\n",
              "      background-color: #3B4455;\n",
              "      fill: #D2E3FC;\n",
              "    }\n",
              "\n",
              "    [theme=dark] .colab-df-convert:hover {\n",
              "      background-color: #434B5C;\n",
              "      box-shadow: 0px 1px 3px 1px rgba(0, 0, 0, 0.15);\n",
              "      filter: drop-shadow(0px 1px 2px rgba(0, 0, 0, 0.3));\n",
              "      fill: #FFFFFF;\n",
              "    }\n",
              "  </style>\n",
              "\n",
              "      <script>\n",
              "        const buttonEl =\n",
              "          document.querySelector('#df-811b091b-d379-4c78-b893-82ef3e8d0ce3 button.colab-df-convert');\n",
              "        buttonEl.style.display =\n",
              "          google.colab.kernel.accessAllowed ? 'block' : 'none';\n",
              "\n",
              "        async function convertToInteractive(key) {\n",
              "          const element = document.querySelector('#df-811b091b-d379-4c78-b893-82ef3e8d0ce3');\n",
              "          const dataTable =\n",
              "            await google.colab.kernel.invokeFunction('convertToInteractive',\n",
              "                                                     [key], {});\n",
              "          if (!dataTable) return;\n",
              "\n",
              "          const docLinkHtml = 'Like what you see? Visit the ' +\n",
              "            '<a target=\"_blank\" href=https://colab.research.google.com/notebooks/data_table.ipynb>data table notebook</a>'\n",
              "            + ' to learn more about interactive tables.';\n",
              "          element.innerHTML = '';\n",
              "          dataTable['output_type'] = 'display_data';\n",
              "          await google.colab.output.renderOutput(dataTable, element);\n",
              "          const docLink = document.createElement('div');\n",
              "          docLink.innerHTML = docLinkHtml;\n",
              "          element.appendChild(docLink);\n",
              "        }\n",
              "      </script>\n",
              "    </div>\n",
              "  </div>\n",
              "  "
            ]
          },
          "metadata": {},
          "execution_count": 42
        }
      ],
      "source": [
        "amexdf.head(3)\n",
        "amazondf.head(3)\n",
        "eurodf.head(3)\n",
        "treasurydf.head(3)\n",
        "inflationdf.head(3)"
      ]
    },
    {
      "cell_type": "code",
      "execution_count": 43,
      "metadata": {
        "colab": {
          "base_uri": "https://localhost:8080/",
          "height": 455
        },
        "id": "H7gA2WXDN3PB",
        "outputId": "83fddb21-4b8a-4e05-bd91-02f3f6e24f0d"
      },
      "outputs": [
        {
          "output_type": "execute_result",
          "data": {
            "text/plain": [
              "            amex price  amazon price  euro price  treasury price  \\\n",
              "Date                                                               \n",
              "2019-11-07  117.484978   1788.199951    0.903310           1.926   \n",
              "2019-11-08  117.669022   1785.880005    0.907466           1.933   \n",
              "2019-11-11  117.116859   1771.650024    0.907240           1.943   \n",
              "2019-11-12  117.107170   1778.000000    0.906170           1.909   \n",
              "2019-11-13  116.496880   1753.109985    0.908070           1.870   \n",
              "...                ...           ...         ...             ...   \n",
              "2022-03-25  190.279999   3295.469971    0.908300           2.492   \n",
              "2022-03-28  189.699997   3379.810059    0.910590           2.468   \n",
              "2022-03-29  190.940002   3386.300049    0.909600           2.400   \n",
              "2022-03-30  189.759995   3326.020020    0.901590           2.358   \n",
              "2022-03-31  187.000000   3259.949951    0.895910           2.327   \n",
              "\n",
              "            inflation price  \n",
              "Date                         \n",
              "2019-11-07        23.581007  \n",
              "2019-11-08        23.679941  \n",
              "2019-11-11        23.650728  \n",
              "2019-11-12        23.698776  \n",
              "2019-11-13        23.698776  \n",
              "...                     ...  \n",
              "2022-03-25        34.250000  \n",
              "2022-03-28        34.250000  \n",
              "2022-03-29        34.779999  \n",
              "2022-03-30        34.549999  \n",
              "2022-03-31        34.000000  \n",
              "\n",
              "[604 rows x 5 columns]"
            ],
            "text/html": [
              "\n",
              "  <div id=\"df-0fbd8a52-36ff-4cae-bbef-0bf4f32edf61\">\n",
              "    <div class=\"colab-df-container\">\n",
              "      <div>\n",
              "<style scoped>\n",
              "    .dataframe tbody tr th:only-of-type {\n",
              "        vertical-align: middle;\n",
              "    }\n",
              "\n",
              "    .dataframe tbody tr th {\n",
              "        vertical-align: top;\n",
              "    }\n",
              "\n",
              "    .dataframe thead th {\n",
              "        text-align: right;\n",
              "    }\n",
              "</style>\n",
              "<table border=\"1\" class=\"dataframe\">\n",
              "  <thead>\n",
              "    <tr style=\"text-align: right;\">\n",
              "      <th></th>\n",
              "      <th>amex price</th>\n",
              "      <th>amazon price</th>\n",
              "      <th>euro price</th>\n",
              "      <th>treasury price</th>\n",
              "      <th>inflation price</th>\n",
              "    </tr>\n",
              "    <tr>\n",
              "      <th>Date</th>\n",
              "      <th></th>\n",
              "      <th></th>\n",
              "      <th></th>\n",
              "      <th></th>\n",
              "      <th></th>\n",
              "    </tr>\n",
              "  </thead>\n",
              "  <tbody>\n",
              "    <tr>\n",
              "      <th>2019-11-07</th>\n",
              "      <td>117.484978</td>\n",
              "      <td>1788.199951</td>\n",
              "      <td>0.903310</td>\n",
              "      <td>1.926</td>\n",
              "      <td>23.581007</td>\n",
              "    </tr>\n",
              "    <tr>\n",
              "      <th>2019-11-08</th>\n",
              "      <td>117.669022</td>\n",
              "      <td>1785.880005</td>\n",
              "      <td>0.907466</td>\n",
              "      <td>1.933</td>\n",
              "      <td>23.679941</td>\n",
              "    </tr>\n",
              "    <tr>\n",
              "      <th>2019-11-11</th>\n",
              "      <td>117.116859</td>\n",
              "      <td>1771.650024</td>\n",
              "      <td>0.907240</td>\n",
              "      <td>1.943</td>\n",
              "      <td>23.650728</td>\n",
              "    </tr>\n",
              "    <tr>\n",
              "      <th>2019-11-12</th>\n",
              "      <td>117.107170</td>\n",
              "      <td>1778.000000</td>\n",
              "      <td>0.906170</td>\n",
              "      <td>1.909</td>\n",
              "      <td>23.698776</td>\n",
              "    </tr>\n",
              "    <tr>\n",
              "      <th>2019-11-13</th>\n",
              "      <td>116.496880</td>\n",
              "      <td>1753.109985</td>\n",
              "      <td>0.908070</td>\n",
              "      <td>1.870</td>\n",
              "      <td>23.698776</td>\n",
              "    </tr>\n",
              "    <tr>\n",
              "      <th>...</th>\n",
              "      <td>...</td>\n",
              "      <td>...</td>\n",
              "      <td>...</td>\n",
              "      <td>...</td>\n",
              "      <td>...</td>\n",
              "    </tr>\n",
              "    <tr>\n",
              "      <th>2022-03-25</th>\n",
              "      <td>190.279999</td>\n",
              "      <td>3295.469971</td>\n",
              "      <td>0.908300</td>\n",
              "      <td>2.492</td>\n",
              "      <td>34.250000</td>\n",
              "    </tr>\n",
              "    <tr>\n",
              "      <th>2022-03-28</th>\n",
              "      <td>189.699997</td>\n",
              "      <td>3379.810059</td>\n",
              "      <td>0.910590</td>\n",
              "      <td>2.468</td>\n",
              "      <td>34.250000</td>\n",
              "    </tr>\n",
              "    <tr>\n",
              "      <th>2022-03-29</th>\n",
              "      <td>190.940002</td>\n",
              "      <td>3386.300049</td>\n",
              "      <td>0.909600</td>\n",
              "      <td>2.400</td>\n",
              "      <td>34.779999</td>\n",
              "    </tr>\n",
              "    <tr>\n",
              "      <th>2022-03-30</th>\n",
              "      <td>189.759995</td>\n",
              "      <td>3326.020020</td>\n",
              "      <td>0.901590</td>\n",
              "      <td>2.358</td>\n",
              "      <td>34.549999</td>\n",
              "    </tr>\n",
              "    <tr>\n",
              "      <th>2022-03-31</th>\n",
              "      <td>187.000000</td>\n",
              "      <td>3259.949951</td>\n",
              "      <td>0.895910</td>\n",
              "      <td>2.327</td>\n",
              "      <td>34.000000</td>\n",
              "    </tr>\n",
              "  </tbody>\n",
              "</table>\n",
              "<p>604 rows × 5 columns</p>\n",
              "</div>\n",
              "      <button class=\"colab-df-convert\" onclick=\"convertToInteractive('df-0fbd8a52-36ff-4cae-bbef-0bf4f32edf61')\"\n",
              "              title=\"Convert this dataframe to an interactive table.\"\n",
              "              style=\"display:none;\">\n",
              "        \n",
              "  <svg xmlns=\"http://www.w3.org/2000/svg\" height=\"24px\"viewBox=\"0 0 24 24\"\n",
              "       width=\"24px\">\n",
              "    <path d=\"M0 0h24v24H0V0z\" fill=\"none\"/>\n",
              "    <path d=\"M18.56 5.44l.94 2.06.94-2.06 2.06-.94-2.06-.94-.94-2.06-.94 2.06-2.06.94zm-11 1L8.5 8.5l.94-2.06 2.06-.94-2.06-.94L8.5 2.5l-.94 2.06-2.06.94zm10 10l.94 2.06.94-2.06 2.06-.94-2.06-.94-.94-2.06-.94 2.06-2.06.94z\"/><path d=\"M17.41 7.96l-1.37-1.37c-.4-.4-.92-.59-1.43-.59-.52 0-1.04.2-1.43.59L10.3 9.45l-7.72 7.72c-.78.78-.78 2.05 0 2.83L4 21.41c.39.39.9.59 1.41.59.51 0 1.02-.2 1.41-.59l7.78-7.78 2.81-2.81c.8-.78.8-2.07 0-2.86zM5.41 20L4 18.59l7.72-7.72 1.47 1.35L5.41 20z\"/>\n",
              "  </svg>\n",
              "      </button>\n",
              "      \n",
              "  <style>\n",
              "    .colab-df-container {\n",
              "      display:flex;\n",
              "      flex-wrap:wrap;\n",
              "      gap: 12px;\n",
              "    }\n",
              "\n",
              "    .colab-df-convert {\n",
              "      background-color: #E8F0FE;\n",
              "      border: none;\n",
              "      border-radius: 50%;\n",
              "      cursor: pointer;\n",
              "      display: none;\n",
              "      fill: #1967D2;\n",
              "      height: 32px;\n",
              "      padding: 0 0 0 0;\n",
              "      width: 32px;\n",
              "    }\n",
              "\n",
              "    .colab-df-convert:hover {\n",
              "      background-color: #E2EBFA;\n",
              "      box-shadow: 0px 1px 2px rgba(60, 64, 67, 0.3), 0px 1px 3px 1px rgba(60, 64, 67, 0.15);\n",
              "      fill: #174EA6;\n",
              "    }\n",
              "\n",
              "    [theme=dark] .colab-df-convert {\n",
              "      background-color: #3B4455;\n",
              "      fill: #D2E3FC;\n",
              "    }\n",
              "\n",
              "    [theme=dark] .colab-df-convert:hover {\n",
              "      background-color: #434B5C;\n",
              "      box-shadow: 0px 1px 3px 1px rgba(0, 0, 0, 0.15);\n",
              "      filter: drop-shadow(0px 1px 2px rgba(0, 0, 0, 0.3));\n",
              "      fill: #FFFFFF;\n",
              "    }\n",
              "  </style>\n",
              "\n",
              "      <script>\n",
              "        const buttonEl =\n",
              "          document.querySelector('#df-0fbd8a52-36ff-4cae-bbef-0bf4f32edf61 button.colab-df-convert');\n",
              "        buttonEl.style.display =\n",
              "          google.colab.kernel.accessAllowed ? 'block' : 'none';\n",
              "\n",
              "        async function convertToInteractive(key) {\n",
              "          const element = document.querySelector('#df-0fbd8a52-36ff-4cae-bbef-0bf4f32edf61');\n",
              "          const dataTable =\n",
              "            await google.colab.kernel.invokeFunction('convertToInteractive',\n",
              "                                                     [key], {});\n",
              "          if (!dataTable) return;\n",
              "\n",
              "          const docLinkHtml = 'Like what you see? Visit the ' +\n",
              "            '<a target=\"_blank\" href=https://colab.research.google.com/notebooks/data_table.ipynb>data table notebook</a>'\n",
              "            + ' to learn more about interactive tables.';\n",
              "          element.innerHTML = '';\n",
              "          dataTable['output_type'] = 'display_data';\n",
              "          await google.colab.output.renderOutput(dataTable, element);\n",
              "          const docLink = document.createElement('div');\n",
              "          docLink.innerHTML = docLinkHtml;\n",
              "          element.appendChild(docLink);\n",
              "        }\n",
              "      </script>\n",
              "    </div>\n",
              "  </div>\n",
              "  "
            ]
          },
          "metadata": {},
          "execution_count": 43
        }
      ],
      "source": [
        "masterdf = pd.concat([amexdf[\"Adj Close\"], amazondf[\"Adj Close\"], eurodf[\"Adj Close\"], treasurydf[\"Adj Close\"], inflationdf[\"Adj Close\"]], axis=1, join=\"inner\")\n",
        "masterdf.columns = [\"amex price\", \"amazon price\", \"euro price\", \"treasury price\", \"inflation price\"]\n",
        "masterdf"
      ]
    },
    {
      "cell_type": "code",
      "execution_count": 45,
      "metadata": {
        "colab": {
          "base_uri": "https://localhost:8080/"
        },
        "id": "g_K4zdkek_6o",
        "outputId": "e371cae5-a4c7-4399-cb49-e0de10def093"
      },
      "outputs": [
        {
          "output_type": "stream",
          "name": "stderr",
          "text": [
            "/usr/local/lib/python3.7/dist-packages/statsmodels/tsa/base/tsa_model.py:471: ValueWarning: A date index has been provided, but it has no associated frequency information and so will be ignored when e.g. forecasting.\n",
            "  self._init_dates(dates, freq)\n",
            "/usr/local/lib/python3.7/dist-packages/statsmodels/tsa/base/tsa_model.py:471: ValueWarning: A date index has been provided, but it has no associated frequency information and so will be ignored when e.g. forecasting.\n",
            "  self._init_dates(dates, freq)\n",
            "/usr/local/lib/python3.7/dist-packages/statsmodels/tsa/base/tsa_model.py:471: ValueWarning: A date index has been provided, but it has no associated frequency information and so will be ignored when e.g. forecasting.\n",
            "  self._init_dates(dates, freq)\n",
            "/usr/local/lib/python3.7/dist-packages/statsmodels/tsa/base/tsa_model.py:471: ValueWarning: A date index has been provided, but it has no associated frequency information and so will be ignored when e.g. forecasting.\n",
            "  self._init_dates(dates, freq)\n",
            "/usr/local/lib/python3.7/dist-packages/statsmodels/tsa/base/tsa_model.py:471: ValueWarning: A date index has been provided, but it has no associated frequency information and so will be ignored when e.g. forecasting.\n",
            "  self._init_dates(dates, freq)\n",
            "/usr/local/lib/python3.7/dist-packages/statsmodels/tsa/base/tsa_model.py:471: ValueWarning: A date index has been provided, but it has no associated frequency information and so will be ignored when e.g. forecasting.\n",
            "  self._init_dates(dates, freq)\n",
            "/usr/local/lib/python3.7/dist-packages/statsmodels/tsa/base/tsa_model.py:471: ValueWarning: A date index has been provided, but it has no associated frequency information and so will be ignored when e.g. forecasting.\n",
            "  self._init_dates(dates, freq)\n",
            "/usr/local/lib/python3.7/dist-packages/statsmodels/tsa/base/tsa_model.py:471: ValueWarning: A date index has been provided, but it has no associated frequency information and so will be ignored when e.g. forecasting.\n",
            "  self._init_dates(dates, freq)\n",
            "/usr/local/lib/python3.7/dist-packages/statsmodels/tsa/base/tsa_model.py:471: ValueWarning: A date index has been provided, but it has no associated frequency information and so will be ignored when e.g. forecasting.\n",
            "  self._init_dates(dates, freq)\n",
            "/usr/local/lib/python3.7/dist-packages/statsmodels/tsa/base/tsa_model.py:471: ValueWarning: A date index has been provided, but it has no associated frequency information and so will be ignored when e.g. forecasting.\n",
            "  self._init_dates(dates, freq)\n",
            "/usr/local/lib/python3.7/dist-packages/statsmodels/tsa/base/tsa_model.py:471: ValueWarning: A date index has been provided, but it has no associated frequency information and so will be ignored when e.g. forecasting.\n",
            "  self._init_dates(dates, freq)\n",
            "/usr/local/lib/python3.7/dist-packages/statsmodels/tsa/base/tsa_model.py:471: ValueWarning: A date index has been provided, but it has no associated frequency information and so will be ignored when e.g. forecasting.\n",
            "  self._init_dates(dates, freq)\n",
            "/usr/local/lib/python3.7/dist-packages/statsmodels/tsa/base/tsa_model.py:471: ValueWarning: A date index has been provided, but it has no associated frequency information and so will be ignored when e.g. forecasting.\n",
            "  self._init_dates(dates, freq)\n",
            "/usr/local/lib/python3.7/dist-packages/statsmodels/tsa/base/tsa_model.py:471: ValueWarning: A date index has been provided, but it has no associated frequency information and so will be ignored when e.g. forecasting.\n",
            "  self._init_dates(dates, freq)\n",
            "/usr/local/lib/python3.7/dist-packages/statsmodels/tsa/base/tsa_model.py:471: ValueWarning: A date index has been provided, but it has no associated frequency information and so will be ignored when e.g. forecasting.\n",
            "  self._init_dates(dates, freq)\n",
            "/usr/local/lib/python3.7/dist-packages/statsmodels/tsa/base/tsa_model.py:471: ValueWarning: A date index has been provided, but it has no associated frequency information and so will be ignored when e.g. forecasting.\n",
            "  self._init_dates(dates, freq)\n",
            "/usr/local/lib/python3.7/dist-packages/statsmodels/tsa/base/tsa_model.py:471: ValueWarning: A date index has been provided, but it has no associated frequency information and so will be ignored when e.g. forecasting.\n",
            "  self._init_dates(dates, freq)\n",
            "/usr/local/lib/python3.7/dist-packages/statsmodels/tsa/base/tsa_model.py:471: ValueWarning: A date index has been provided, but it has no associated frequency information and so will be ignored when e.g. forecasting.\n",
            "  self._init_dates(dates, freq)\n",
            "/usr/local/lib/python3.7/dist-packages/statsmodels/tsa/base/tsa_model.py:471: ValueWarning: A date index has been provided, but it has no associated frequency information and so will be ignored when e.g. forecasting.\n",
            "  self._init_dates(dates, freq)\n",
            "/usr/local/lib/python3.7/dist-packages/statsmodels/tsa/base/tsa_model.py:471: ValueWarning: A date index has been provided, but it has no associated frequency information and so will be ignored when e.g. forecasting.\n",
            "  self._init_dates(dates, freq)\n",
            "/usr/local/lib/python3.7/dist-packages/statsmodels/tsa/base/tsa_model.py:471: ValueWarning: A date index has been provided, but it has no associated frequency information and so will be ignored when e.g. forecasting.\n",
            "  self._init_dates(dates, freq)\n",
            "/usr/local/lib/python3.7/dist-packages/statsmodels/tsa/base/tsa_model.py:471: ValueWarning: A date index has been provided, but it has no associated frequency information and so will be ignored when e.g. forecasting.\n",
            "  self._init_dates(dates, freq)\n",
            "/usr/local/lib/python3.7/dist-packages/statsmodels/tsa/base/tsa_model.py:471: ValueWarning: A date index has been provided, but it has no associated frequency information and so will be ignored when e.g. forecasting.\n",
            "  self._init_dates(dates, freq)\n",
            "/usr/local/lib/python3.7/dist-packages/statsmodels/tsa/base/tsa_model.py:471: ValueWarning: A date index has been provided, but it has no associated frequency information and so will be ignored when e.g. forecasting.\n",
            "  self._init_dates(dates, freq)\n",
            "/usr/local/lib/python3.7/dist-packages/statsmodels/tsa/base/tsa_model.py:471: ValueWarning: A date index has been provided, but it has no associated frequency information and so will be ignored when e.g. forecasting.\n",
            "  self._init_dates(dates, freq)\n",
            "/usr/local/lib/python3.7/dist-packages/statsmodels/tsa/base/tsa_model.py:471: ValueWarning: A date index has been provided, but it has no associated frequency information and so will be ignored when e.g. forecasting.\n",
            "  self._init_dates(dates, freq)\n",
            "/usr/local/lib/python3.7/dist-packages/statsmodels/tsa/base/tsa_model.py:471: ValueWarning: A date index has been provided, but it has no associated frequency information and so will be ignored when e.g. forecasting.\n",
            "  self._init_dates(dates, freq)\n",
            "/usr/local/lib/python3.7/dist-packages/statsmodels/tsa/base/tsa_model.py:471: ValueWarning: A date index has been provided, but it has no associated frequency information and so will be ignored when e.g. forecasting.\n",
            "  self._init_dates(dates, freq)\n",
            "/usr/local/lib/python3.7/dist-packages/statsmodels/tsa/base/tsa_model.py:471: ValueWarning: A date index has been provided, but it has no associated frequency information and so will be ignored when e.g. forecasting.\n",
            "  self._init_dates(dates, freq)\n",
            "/usr/local/lib/python3.7/dist-packages/statsmodels/tsa/base/tsa_model.py:471: ValueWarning: A date index has been provided, but it has no associated frequency information and so will be ignored when e.g. forecasting.\n",
            "  self._init_dates(dates, freq)\n"
          ]
        }
      ],
      "source": [
        "from statsmodels.tsa.vector_ar.var_model import VAR\n",
        "\n",
        "maxlen = len(masterdf)\n",
        "forecast2 = []\n",
        "\n",
        "for ii in range(30):\n",
        "  df = masterdf[ii:ii+maxlen-30]\n",
        "  train_model = VAR(df)\n",
        "  result = train_model.select_order(maxlags=10)\n",
        "  result = train_model.fit(maxlags=result.aic)\n",
        "  lagged_Values = df.values[-result.k_ar:]\n",
        "  forecast2.append(result.forecast(y=lagged_Values, steps=1)[0][0])"
      ]
    },
    {
      "cell_type": "code",
      "execution_count": 46,
      "metadata": {
        "colab": {
          "base_uri": "https://localhost:8080/"
        },
        "id": "NUOCwTAYnLY7",
        "outputId": "9b5d4503-ec41-4bf7-c2c6-a159b0795412"
      },
      "outputs": [
        {
          "output_type": "stream",
          "name": "stdout",
          "text": [
            "RMSE=5.47\n"
          ]
        }
      ],
      "source": [
        "from sklearn.metrics import mean_squared_error\n",
        "\n",
        "rmse = mean_squared_error(masterdf[-30:][\"amex price\"], forecast2, squared=False)\n",
        "print(f\"RMSE={rmse:.2f}\")"
      ]
    },
    {
      "cell_type": "code",
      "execution_count": 47,
      "metadata": {
        "colab": {
          "base_uri": "https://localhost:8080/",
          "height": 501
        },
        "id": "3vcGLw5Qu-ue",
        "outputId": "81cfc79a-2235-4f5f-afaa-68ea7952d3c4"
      },
      "outputs": [
        {
          "output_type": "execute_result",
          "data": {
            "text/plain": [
              "[<matplotlib.lines.Line2D at 0x7f4cb76eef50>]"
            ]
          },
          "metadata": {},
          "execution_count": 47
        },
        {
          "output_type": "execute_result",
          "data": {
            "text/plain": [
              "[<matplotlib.lines.Line2D at 0x7f4cb7845f90>]"
            ]
          },
          "metadata": {},
          "execution_count": 47
        },
        {
          "output_type": "execute_result",
          "data": {
            "text/plain": [
              "[<matplotlib.lines.Line2D at 0x7f4cb78412d0>]"
            ]
          },
          "metadata": {},
          "execution_count": 47
        },
        {
          "output_type": "execute_result",
          "data": {
            "text/plain": [
              "<matplotlib.legend.Legend at 0x7f4cb76ee750>"
            ]
          },
          "metadata": {},
          "execution_count": 47
        },
        {
          "output_type": "display_data",
          "data": {
            "text/plain": [
              "<Figure size 1080x576 with 1 Axes>"
            ],
            "image/png": "[encoded data removed]"
          },
          "metadata": {
            "needs_background": "light"
          }
        }
      ],
      "source": [
        "forecast2 = pd.DataFrame(forecast2, index = amexdf[-30:][\"Adj Close\"].index, columns=['Prediction'])\n",
        "plt.plot(amexdf[-90:-30][\"Adj Close\"], label=\"Train\")\n",
        "plt.plot(amexdf[-31:][\"Adj Close\"], label=\"Test\")\n",
        "plt.plot(forecast2, label=\"Prediction\")\n",
        "plt.legend(loc='lower right', fontsize=15)\n",
        "plt.show()"
      ]
    },
    {
      "cell_type": "code",
      "execution_count": null,
      "metadata": {
        "id": "ei4-am2omS76"
      },
      "outputs": [],
      "source": [
        "# from statsmodels.tsa.vector_ar.var_model import VAR\n",
        "\n",
        "# # masterdf = np.log(masterdf).diff(1).dropna()\n",
        "# # masterdf\n",
        "# model = VAR(masterdf[:-30])\n",
        "# result = model.select_order(maxlags=10)\n",
        "# result.summary()\n",
        "# result = model.fit(maxlags=result.aic)\n",
        "# # result.summary()\n",
        "# lagged_Values = masterdf.values[-result.k_ar:]\n",
        "\n",
        "# forecast2 = result.forecast(y=lagged_Values, steps=30) \n",
        "# forecast2 = pd.DataFrame(forecast2[:,0], index = amexdf[-30:][\"Adj Close\"].index, columns=['Prediction'])\n",
        "\n",
        "# plt.plot(amexdf[-90:-29][\"Adj Close\"], label=\"Train\")\n",
        "# plt.plot(amexdf[-30:][\"Adj Close\"], label=\"Test\")\n",
        "# plt.plot(forecast2, label=\"Prediction\")\n",
        "# plt.legend(loc='lower right', fontsize=15)\n",
        "# plt.show()"
      ]
    },
    {
      "cell_type": "markdown",
      "metadata": {
        "id": "xGp4DaQnZPnZ"
      },
      "source": [
        "# 3. Deep Learning - LSTM"
      ]
    },
    {
      "cell_type": "code",
      "execution_count": null,
      "metadata": {
        "colab": {
          "base_uri": "https://localhost:8080/",
          "height": 174
        },
        "id": "nNQe6UpuL-xg",
        "outputId": "13d041e5-cb50-4699-e5d8-d902b60a6579"
      },
      "outputs": [
        {
          "data": {
            "text/html": [
              "\n",
              "  <div id=\"df-db7f3ee8-687a-4cea-be93-d0cf2edf89be\">\n",
              "    <div class=\"colab-df-container\">\n",
              "      <div>\n",
              "<style scoped>\n",
              "    .dataframe tbody tr th:only-of-type {\n",
              "        vertical-align: middle;\n",
              "    }\n",
              "\n",
              "    .dataframe tbody tr th {\n",
              "        vertical-align: top;\n",
              "    }\n",
              "\n",
              "    .dataframe thead th {\n",
              "        text-align: right;\n",
              "    }\n",
              "</style>\n",
              "<table border=\"1\" class=\"dataframe\">\n",
              "  <thead>\n",
              "    <tr style=\"text-align: right;\">\n",
              "      <th></th>\n",
              "      <th>Open</th>\n",
              "      <th>High</th>\n",
              "      <th>Low</th>\n",
              "      <th>Close</th>\n",
              "      <th>Adj Close</th>\n",
              "      <th>Volume</th>\n",
              "      <th>Return</th>\n",
              "    </tr>\n",
              "    <tr>\n",
              "      <th>Date</th>\n",
              "      <th></th>\n",
              "      <th></th>\n",
              "      <th></th>\n",
              "      <th></th>\n",
              "      <th></th>\n",
              "      <th></th>\n",
              "      <th></th>\n",
              "    </tr>\n",
              "  </thead>\n",
              "  <tbody>\n",
              "    <tr>\n",
              "      <th>2017-01-04</th>\n",
              "      <td>75.260002</td>\n",
              "      <td>76.550003</td>\n",
              "      <td>75.059998</td>\n",
              "      <td>76.260002</td>\n",
              "      <td>70.925217</td>\n",
              "      <td>4635800</td>\n",
              "      <td>0.016261</td>\n",
              "    </tr>\n",
              "    <tr>\n",
              "      <th>2017-01-05</th>\n",
              "      <td>76.000000</td>\n",
              "      <td>76.180000</td>\n",
              "      <td>74.820000</td>\n",
              "      <td>75.320000</td>\n",
              "      <td>70.050972</td>\n",
              "      <td>3383000</td>\n",
              "      <td>-0.012403</td>\n",
              "    </tr>\n",
              "    <tr>\n",
              "      <th>2017-01-06</th>\n",
              "      <td>75.400002</td>\n",
              "      <td>75.919998</td>\n",
              "      <td>75.059998</td>\n",
              "      <td>75.470001</td>\n",
              "      <td>70.190468</td>\n",
              "      <td>3089600</td>\n",
              "      <td>0.001989</td>\n",
              "    </tr>\n",
              "  </tbody>\n",
              "</table>\n",
              "</div>\n",
              "      <button class=\"colab-df-convert\" onclick=\"convertToInteractive('df-db7f3ee8-687a-4cea-be93-d0cf2edf89be')\"\n",
              "              title=\"Convert this dataframe to an interactive table.\"\n",
              "              style=\"display:none;\">\n",
              "        \n",
              "  <svg xmlns=\"http://www.w3.org/2000/svg\" height=\"24px\"viewBox=\"0 0 24 24\"\n",
              "       width=\"24px\">\n",
              "    <path d=\"M0 0h24v24H0V0z\" fill=\"none\"/>\n",
              "    <path d=\"M18.56 5.44l.94 2.06.94-2.06 2.06-.94-2.06-.94-.94-2.06-.94 2.06-2.06.94zm-11 1L8.5 8.5l.94-2.06 2.06-.94-2.06-.94L8.5 2.5l-.94 2.06-2.06.94zm10 10l.94 2.06.94-2.06 2.06-.94-2.06-.94-.94-2.06-.94 2.06-2.06.94z\"/><path d=\"M17.41 7.96l-1.37-1.37c-.4-.4-.92-.59-1.43-.59-.52 0-1.04.2-1.43.59L10.3 9.45l-7.72 7.72c-.78.78-.78 2.05 0 2.83L4 21.41c.39.39.9.59 1.41.59.51 0 1.02-.2 1.41-.59l7.78-7.78 2.81-2.81c.8-.78.8-2.07 0-2.86zM5.41 20L4 18.59l7.72-7.72 1.47 1.35L5.41 20z\"/>\n",
              "  </svg>\n",
              "      </button>\n",
              "      \n",
              "  <style>\n",
              "    .colab-df-container {\n",
              "      display:flex;\n",
              "      flex-wrap:wrap;\n",
              "      gap: 12px;\n",
              "    }\n",
              "\n",
              "    .colab-df-convert {\n",
              "      background-color: #E8F0FE;\n",
              "      border: none;\n",
              "      border-radius: 50%;\n",
              "      cursor: pointer;\n",
              "      display: none;\n",
              "      fill: #1967D2;\n",
              "      height: 32px;\n",
              "      padding: 0 0 0 0;\n",
              "      width: 32px;\n",
              "    }\n",
              "\n",
              "    .colab-df-convert:hover {\n",
              "      background-color: #E2EBFA;\n",
              "      box-shadow: 0px 1px 2px rgba(60, 64, 67, 0.3), 0px 1px 3px 1px rgba(60, 64, 67, 0.15);\n",
              "      fill: #174EA6;\n",
              "    }\n",
              "\n",
              "    [theme=dark] .colab-df-convert {\n",
              "      background-color: #3B4455;\n",
              "      fill: #D2E3FC;\n",
              "    }\n",
              "\n",
              "    [theme=dark] .colab-df-convert:hover {\n",
              "      background-color: #434B5C;\n",
              "      box-shadow: 0px 1px 3px 1px rgba(0, 0, 0, 0.15);\n",
              "      filter: drop-shadow(0px 1px 2px rgba(0, 0, 0, 0.3));\n",
              "      fill: #FFFFFF;\n",
              "    }\n",
              "  </style>\n",
              "\n",
              "      <script>\n",
              "        const buttonEl =\n",
              "          document.querySelector('#df-db7f3ee8-687a-4cea-be93-d0cf2edf89be button.colab-df-convert');\n",
              "        buttonEl.style.display =\n",
              "          google.colab.kernel.accessAllowed ? 'block' : 'none';\n",
              "\n",
              "        async function convertToInteractive(key) {\n",
              "          const element = document.querySelector('#df-db7f3ee8-687a-4cea-be93-d0cf2edf89be');\n",
              "          const dataTable =\n",
              "            await google.colab.kernel.invokeFunction('convertToInteractive',\n",
              "                                                     [key], {});\n",
              "          if (!dataTable) return;\n",
              "\n",
              "          const docLinkHtml = 'Like what you see? Visit the ' +\n",
              "            '<a target=\"_blank\" href=https://colab.research.google.com/notebooks/data_table.ipynb>data table notebook</a>'\n",
              "            + ' to learn more about interactive tables.';\n",
              "          element.innerHTML = '';\n",
              "          dataTable['output_type'] = 'display_data';\n",
              "          await google.colab.output.renderOutput(dataTable, element);\n",
              "          const docLink = document.createElement('div');\n",
              "          docLink.innerHTML = docLinkHtml;\n",
              "          element.appendChild(docLink);\n",
              "        }\n",
              "      </script>\n",
              "    </div>\n",
              "  </div>\n",
              "  "
            ],
            "text/plain": [
              "                 Open       High        Low      Close  Adj Close   Volume  \\\n",
              "Date                                                                         \n",
              "2017-01-04  75.260002  76.550003  75.059998  76.260002  70.925217  4635800   \n",
              "2017-01-05  76.000000  76.180000  74.820000  75.320000  70.050972  3383000   \n",
              "2017-01-06  75.400002  75.919998  75.059998  75.470001  70.190468  3089600   \n",
              "\n",
              "              Return  \n",
              "Date                  \n",
              "2017-01-04  0.016261  \n",
              "2017-01-05 -0.012403  \n",
              "2017-01-06  0.001989  "
            ]
          },
          "execution_count": 69,
          "metadata": {},
          "output_type": "execute_result"
        }
      ],
      "source": [
        "amexdf = yf.download(\"AXP\", start=\"2017-01-01\", progress=False)\n",
        "amexdf[\"Return\"] = np.log(amexdf[\"Adj Close\"]) - np.log(amexdf[\"Adj Close\"].shift(1))\n",
        "amexdf.dropna(inplace=True)\n",
        "amexdf.head(3)"
      ]
    },
    {
      "cell_type": "code",
      "execution_count": null,
      "metadata": {
        "id": "uG-v6_JpZG02"
      },
      "outputs": [],
      "source": [
        "import torch\n",
        "\n",
        "def sliding_window(ts, window_size=10):\n",
        "  X = []\n",
        "  Y = []\n",
        "  ts = ts.tolist()\n",
        "\n",
        "  for ii in range(window_size+1, len(ts)+1):\n",
        "    X.append(ts[ii-(window_size+1):ii-1])\n",
        "    Y.append(ts[ii-1])\n",
        "\n",
        "  return torch.Tensor(X), torch.Tensor(Y)"
      ]
    },
    {
      "cell_type": "code",
      "execution_count": null,
      "metadata": {
        "id": "HxW0x6C6RkWA"
      },
      "outputs": [],
      "source": [
        "xtrain, ytrain = sliding_window(amexdf[\"Return\"])"
      ]
    },
    {
      "cell_type": "code",
      "execution_count": null,
      "metadata": {
        "id": "9_9YMGYqbP8P"
      },
      "outputs": [],
      "source": [
        "import torch\n",
        "import torch.nn as nn\n",
        "\n",
        "class GRU(nn.Module):\n",
        "  def __init__(self, hidden_size, in_size=1, out_size=1):\n",
        "    super(GRU, self).__init__()\n",
        "    self.hidden_size = hidden_size\n",
        "    self.gru = nn.GRU(\n",
        "        input_size = in_size,\n",
        "        hidden_size = hidden_size,\n",
        "        batch_first = True\n",
        "    )\n",
        "    self.fc = nn.Linear(hidden_size, out_size)\n",
        "\n",
        "  def forward(self, x, h):\n",
        "    # h = torch.zeros(1, x.size(0), self.hidden_size)\n",
        "    out, _ = self.gru(x, h)\n",
        "    last_hidden_states = out[:, -1]\n",
        "    out = self.fc(last_hidden_states)\n",
        "    return out, last_hidden_states \n",
        "\n",
        "  def init_state(self, batch_size):\n",
        "    hidden = next(self.parameters()).data.new(batch_size, self.hidden_size).zero_()\n",
        "    return hidden\n"
      ]
    },
    {
      "cell_type": "code",
      "execution_count": null,
      "metadata": {
        "id": "6D3kE1JsctHJ"
      },
      "outputs": [],
      "source": [
        "hidden_size = 100\n",
        "learning_rate = 0.0001\n",
        "epochs = 500"
      ]
    },
    {
      "cell_type": "code",
      "execution_count": null,
      "metadata": {
        "colab": {
          "base_uri": "https://localhost:8080/"
        },
        "id": "98o8xG47hWyV",
        "outputId": "4e25fbbc-8ba0-4054-95e2-ba6dbc0ee5f1"
      },
      "outputs": [
        {
          "data": {
            "text/plain": [
              "GRU(\n",
              "  (gru): GRU(1, 100, batch_first=True)\n",
              "  (fc): Linear(in_features=100, out_features=1, bias=True)\n",
              ")"
            ]
          },
          "execution_count": 57,
          "metadata": {},
          "output_type": "execute_result"
        }
      ],
      "source": [
        "model = GRU(hidden_size = hidden_size)\n",
        "model.train()\n",
        "criterion = torch.nn.MSELoss()\n",
        "optimizer = torch.optim.Adam(params = model.parameters(), lr = learning_rate)"
      ]
    },
    {
      "cell_type": "code",
      "execution_count": null,
      "metadata": {
        "colab": {
          "base_uri": "https://localhost:8080/"
        },
        "id": "CjDSJ1nKiAZL",
        "outputId": "ae9ff993-c2cc-419a-fa93-3151eeb0c1c1"
      },
      "outputs": [
        {
          "name": "stderr",
          "output_type": "stream",
          "text": [
            "/usr/local/lib/python3.7/dist-packages/torch/nn/modules/loss.py:520: UserWarning: Using a target size (torch.Size([298, 1])) that is different to the input size (torch.Size([299])). This will likely lead to incorrect results due to broadcasting. Please ensure they have the same size.\n",
            "  return F.mse_loss(input, target, reduction=self.reduction)\n"
          ]
        },
        {
          "name": "stdout",
          "output_type": "stream",
          "text": [
            "epoch: 50... loss: 0.00031171090085990727\n",
            "epoch: 100... loss: 0.0002764727978501469\n",
            "epoch: 150... loss: 0.0002762599615380168\n",
            "epoch: 200... loss: 0.0002762563817668706\n",
            "epoch: 250... loss: 0.0002762547810561955\n",
            "epoch: 300... loss: 0.00027625341317616403\n",
            "epoch: 350... loss: 0.0002762523654382676\n",
            "epoch: 400... loss: 0.00027625157963484526\n",
            "epoch: 450... loss: 0.0002762509975582361\n",
            "epoch: 500... loss: 0.00027625056100077927\n"
          ]
        }
      ],
      "source": [
        "losses = []\n",
        "hidden = model.init_state(xtrain.size(0)-1)\n",
        "\n",
        "for ii in range(1, epochs+1):\n",
        "  hidden = hidden.data.unsqueeze(0)\n",
        "  pred, hidden = model(xtrain[:-1,:].unsqueeze(2), hidden)\n",
        "  loss = criterion(ytrain, pred)\n",
        "  optimizer.zero_grad()\n",
        "  loss.backward()\n",
        "  optimizer.step()\n",
        "  losses.append(loss.item())\n",
        "\n",
        "  if (ii%50 == 0):\n",
        "    print(f\"epoch: {ii}... loss: {losses[-1]}\")"
      ]
    },
    {
      "cell_type": "code",
      "execution_count": null,
      "metadata": {
        "colab": {
          "base_uri": "https://localhost:8080/"
        },
        "id": "6eehmO969ssU",
        "outputId": "a6dcb447-6a92-4b84-ae2e-b14e05e6a8d0"
      },
      "outputs": [
        {
          "data": {
            "text/plain": [
              "GRU(\n",
              "  (gru): GRU(1, 100, batch_first=True)\n",
              "  (fc): Linear(in_features=100, out_features=1, bias=True)\n",
              ")"
            ]
          },
          "execution_count": 59,
          "metadata": {},
          "output_type": "execute_result"
        }
      ],
      "source": [
        "model.eval()"
      ]
    },
    {
      "cell_type": "code",
      "execution_count": null,
      "metadata": {
        "colab": {
          "base_uri": "https://localhost:8080/"
        },
        "id": "ZsExKRWsFSHH",
        "outputId": "a7deaca5-b7c1-40be-de6a-66e3110d72a3"
      },
      "outputs": [
        {
          "data": {
            "text/plain": [
              "torch.Size([10])"
            ]
          },
          "execution_count": 60,
          "metadata": {},
          "output_type": "execute_result"
        }
      ],
      "source": [
        "xtrain[-1, :].shape"
      ]
    },
    {
      "cell_type": "code",
      "execution_count": null,
      "metadata": {
        "id": "Tu2PuWgLE-y9"
      },
      "outputs": [],
      "source": [
        "with torch.no_grad():\n",
        "  pred, hidden = model(xtrain[-1:, :].unsqueeze(2), hidden[-1:, :].unsqueeze(0))"
      ]
    },
    {
      "cell_type": "code",
      "execution_count": null,
      "metadata": {
        "colab": {
          "base_uri": "https://localhost:8080/"
        },
        "id": "zkEz47RmFlAL",
        "outputId": "6b262b2e-7240-4f31-f119-3a4ed3e19422"
      },
      "outputs": [
        {
          "data": {
            "text/plain": [
              "torch.Size([1, 10, 1])"
            ]
          },
          "execution_count": 62,
          "metadata": {},
          "output_type": "execute_result"
        }
      ],
      "source": [
        "xtrain[-1:, :].unsqueeze(2).shape"
      ]
    },
    {
      "cell_type": "code",
      "execution_count": null,
      "metadata": {
        "colab": {
          "base_uri": "https://localhost:8080/"
        },
        "id": "he_oYyItFleC",
        "outputId": "c50e258f-cba9-435c-f209-0877f28eb124"
      },
      "outputs": [
        {
          "data": {
            "text/plain": [
              "torch.Size([1, 1, 100])"
            ]
          },
          "execution_count": 63,
          "metadata": {},
          "output_type": "execute_result"
        }
      ],
      "source": [
        "hidden[-1:, :].unsqueeze(0).shape"
      ]
    },
    {
      "cell_type": "code",
      "execution_count": null,
      "metadata": {
        "colab": {
          "base_uri": "https://localhost:8080/"
        },
        "id": "bFl4QP_cGJKr",
        "outputId": "09e11015-dd47-4fed-d2fc-3829c7459eda"
      },
      "outputs": [
        {
          "data": {
            "text/plain": [
              "tensor([[0.0010]])"
            ]
          },
          "execution_count": 64,
          "metadata": {},
          "output_type": "execute_result"
        }
      ],
      "source": [
        "pred"
      ]
    },
    {
      "cell_type": "code",
      "execution_count": null,
      "metadata": {
        "colab": {
          "base_uri": "https://localhost:8080/"
        },
        "id": "R9O_x3h3HPuk",
        "outputId": "9875ef25-6d01-4c75-9f12-efc14651a48f"
      },
      "outputs": [
        {
          "data": {
            "text/plain": [
              "GRU(\n",
              "  (gru): GRU(1, 100, batch_first=True)\n",
              "  (fc): Linear(in_features=100, out_features=1, bias=True)\n",
              ")"
            ]
          },
          "execution_count": 65,
          "metadata": {},
          "output_type": "execute_result"
        },
        {
          "name": "stderr",
          "output_type": "stream",
          "text": [
            "/usr/local/lib/python3.7/dist-packages/torch/nn/modules/loss.py:520: UserWarning: Using a target size (torch.Size([249, 1])) that is different to the input size (torch.Size([250])). This will likely lead to incorrect results due to broadcasting. Please ensure they have the same size.\n",
            "  return F.mse_loss(input, target, reduction=self.reduction)\n"
          ]
        },
        {
          "name": "stdout",
          "output_type": "stream",
          "text": [
            "epoch: 50... loss: 0.00025992377777583897\n",
            "epoch: 100... loss: 0.0002599234285298735\n",
            "epoch: 150... loss: 0.0002599232248030603\n",
            "epoch: 200... loss: 0.000259923079283908\n",
            "epoch: 250... loss: 0.0002599229628685862\n",
            "epoch: 300... loss: 0.00025992284645326436\n",
            "epoch: 350... loss: 0.00025992273003794253\n",
            "epoch: 400... loss: 0.00025992258451879025\n",
            "epoch: 450... loss: 0.0002599224972072989\n",
            "epoch: 500... loss: 0.0002599224098958075\n"
          ]
        },
        {
          "data": {
            "text/plain": [
              "GRU(\n",
              "  (gru): GRU(1, 100, batch_first=True)\n",
              "  (fc): Linear(in_features=100, out_features=1, bias=True)\n",
              ")"
            ]
          },
          "execution_count": 65,
          "metadata": {},
          "output_type": "execute_result"
        },
        {
          "data": {
            "text/plain": [
              "GRU(\n",
              "  (gru): GRU(1, 100, batch_first=True)\n",
              "  (fc): Linear(in_features=100, out_features=1, bias=True)\n",
              ")"
            ]
          },
          "execution_count": 65,
          "metadata": {},
          "output_type": "execute_result"
        },
        {
          "name": "stdout",
          "output_type": "stream",
          "text": [
            "epoch: 50... loss: 0.0002592596283648163\n",
            "epoch: 100... loss: 0.00025925945374183357\n",
            "epoch: 150... loss: 0.00025925939553417265\n",
            "epoch: 200... loss: 0.0002592593082226813\n",
            "epoch: 250... loss: 0.0002592592209111899\n",
            "epoch: 300... loss: 0.000259259162703529\n",
            "epoch: 350... loss: 0.00025925913359969854\n",
            "epoch: 400... loss: 0.00025925907539203763\n",
            "epoch: 450... loss: 0.0002592590462882072\n",
            "epoch: 500... loss: 0.0002592590171843767\n"
          ]
        },
        {
          "data": {
            "text/plain": [
              "GRU(\n",
              "  (gru): GRU(1, 100, batch_first=True)\n",
              "  (fc): Linear(in_features=100, out_features=1, bias=True)\n",
              ")"
            ]
          },
          "execution_count": 65,
          "metadata": {},
          "output_type": "execute_result"
        },
        {
          "data": {
            "text/plain": [
              "GRU(\n",
              "  (gru): GRU(1, 100, batch_first=True)\n",
              "  (fc): Linear(in_features=100, out_features=1, bias=True)\n",
              ")"
            ]
          },
          "execution_count": 65,
          "metadata": {},
          "output_type": "execute_result"
        },
        {
          "name": "stdout",
          "output_type": "stream",
          "text": [
            "epoch: 50... loss: 0.00025858310982584953\n",
            "epoch: 100... loss: 0.0002585827896837145\n",
            "epoch: 150... loss: 0.00025858276057988405\n",
            "epoch: 200... loss: 0.0002585827314760536\n",
            "epoch: 250... loss: 0.0002585827314760536\n",
            "epoch: 300... loss: 0.00025858270237222314\n",
            "epoch: 350... loss: 0.00025858270237222314\n",
            "epoch: 400... loss: 0.0002585826732683927\n",
            "epoch: 450... loss: 0.0002585826732683927\n",
            "epoch: 500... loss: 0.0002585826441645622\n"
          ]
        },
        {
          "data": {
            "text/plain": [
              "GRU(\n",
              "  (gru): GRU(1, 100, batch_first=True)\n",
              "  (fc): Linear(in_features=100, out_features=1, bias=True)\n",
              ")"
            ]
          },
          "execution_count": 65,
          "metadata": {},
          "output_type": "execute_result"
        },
        {
          "data": {
            "text/plain": [
              "GRU(\n",
              "  (gru): GRU(1, 100, batch_first=True)\n",
              "  (fc): Linear(in_features=100, out_features=1, bias=True)\n",
              ")"
            ]
          },
          "execution_count": 65,
          "metadata": {},
          "output_type": "execute_result"
        },
        {
          "name": "stdout",
          "output_type": "stream",
          "text": [
            "epoch: 50... loss: 0.0002576416591182351\n",
            "epoch: 100... loss: 0.00025764157180674374\n",
            "epoch: 150... loss: 0.00025764157180674374\n",
            "epoch: 200... loss: 0.00025764157180674374\n",
            "epoch: 250... loss: 0.0002576416009105742\n",
            "epoch: 300... loss: 0.00025764157180674374\n",
            "epoch: 350... loss: 0.00025764157180674374\n",
            "epoch: 400... loss: 0.0002576416009105742\n",
            "epoch: 450... loss: 0.00025764157180674374\n",
            "epoch: 500... loss: 0.00025764151359908283\n"
          ]
        },
        {
          "data": {
            "text/plain": [
              "GRU(\n",
              "  (gru): GRU(1, 100, batch_first=True)\n",
              "  (fc): Linear(in_features=100, out_features=1, bias=True)\n",
              ")"
            ]
          },
          "execution_count": 65,
          "metadata": {},
          "output_type": "execute_result"
        },
        {
          "data": {
            "text/plain": [
              "GRU(\n",
              "  (gru): GRU(1, 100, batch_first=True)\n",
              "  (fc): Linear(in_features=100, out_features=1, bias=True)\n",
              ")"
            ]
          },
          "execution_count": 65,
          "metadata": {},
          "output_type": "execute_result"
        },
        {
          "name": "stdout",
          "output_type": "stream",
          "text": [
            "epoch: 50... loss: 0.00026335095753893256\n",
            "epoch: 100... loss: 0.0002633506082929671\n",
            "epoch: 150... loss: 0.0002633505791891366\n",
            "epoch: 200... loss: 0.0002633506082929671\n",
            "epoch: 250... loss: 0.0002633506082929671\n",
            "epoch: 300... loss: 0.00026335063739679754\n",
            "epoch: 350... loss: 0.0002633506082929671\n",
            "epoch: 400... loss: 0.00026335063739679754\n",
            "epoch: 450... loss: 0.00026335063739679754\n",
            "epoch: 500... loss: 0.0002633506082929671\n"
          ]
        },
        {
          "data": {
            "text/plain": [
              "GRU(\n",
              "  (gru): GRU(1, 100, batch_first=True)\n",
              "  (fc): Linear(in_features=100, out_features=1, bias=True)\n",
              ")"
            ]
          },
          "execution_count": 65,
          "metadata": {},
          "output_type": "execute_result"
        },
        {
          "data": {
            "text/plain": [
              "GRU(\n",
              "  (gru): GRU(1, 100, batch_first=True)\n",
              "  (fc): Linear(in_features=100, out_features=1, bias=True)\n",
              ")"
            ]
          },
          "execution_count": 65,
          "metadata": {},
          "output_type": "execute_result"
        },
        {
          "name": "stdout",
          "output_type": "stream",
          "text": [
            "epoch: 50... loss: 0.00026161709683947265\n",
            "epoch: 100... loss: 0.00026161657297052443\n",
            "epoch: 150... loss: 0.00026161657297052443\n",
            "epoch: 200... loss: 0.00026161657297052443\n",
            "epoch: 250... loss: 0.00026161657297052443\n",
            "epoch: 300... loss: 0.00026161657297052443\n",
            "epoch: 350... loss: 0.00026161657297052443\n",
            "epoch: 400... loss: 0.00026161657297052443\n",
            "epoch: 450... loss: 0.00026161657297052443\n",
            "epoch: 500... loss: 0.00026161657297052443\n"
          ]
        },
        {
          "data": {
            "text/plain": [
              "GRU(\n",
              "  (gru): GRU(1, 100, batch_first=True)\n",
              "  (fc): Linear(in_features=100, out_features=1, bias=True)\n",
              ")"
            ]
          },
          "execution_count": 65,
          "metadata": {},
          "output_type": "execute_result"
        },
        {
          "data": {
            "text/plain": [
              "GRU(\n",
              "  (gru): GRU(1, 100, batch_first=True)\n",
              "  (fc): Linear(in_features=100, out_features=1, bias=True)\n",
              ")"
            ]
          },
          "execution_count": 65,
          "metadata": {},
          "output_type": "execute_result"
        },
        {
          "name": "stdout",
          "output_type": "stream",
          "text": [
            "epoch: 50... loss: 0.0002601642336230725\n",
            "epoch: 100... loss: 0.00026016394258476794\n",
            "epoch: 150... loss: 0.00026016394258476794\n",
            "epoch: 200... loss: 0.00026016394258476794\n",
            "epoch: 250... loss: 0.00026016394258476794\n",
            "epoch: 300... loss: 0.00026016394258476794\n",
            "epoch: 350... loss: 0.00026016394258476794\n",
            "epoch: 400... loss: 0.00026016394258476794\n",
            "epoch: 450... loss: 0.00026016394258476794\n",
            "epoch: 500... loss: 0.00026016394258476794\n"
          ]
        },
        {
          "data": {
            "text/plain": [
              "GRU(\n",
              "  (gru): GRU(1, 100, batch_first=True)\n",
              "  (fc): Linear(in_features=100, out_features=1, bias=True)\n",
              ")"
            ]
          },
          "execution_count": 65,
          "metadata": {},
          "output_type": "execute_result"
        },
        {
          "data": {
            "text/plain": [
              "GRU(\n",
              "  (gru): GRU(1, 100, batch_first=True)\n",
              "  (fc): Linear(in_features=100, out_features=1, bias=True)\n",
              ")"
            ]
          },
          "execution_count": 65,
          "metadata": {},
          "output_type": "execute_result"
        },
        {
          "name": "stdout",
          "output_type": "stream",
          "text": [
            "epoch: 50... loss: 0.00024803573614917696\n",
            "epoch: 100... loss: 0.00024803559063002467\n",
            "epoch: 150... loss: 0.00024803559063002467\n",
            "epoch: 200... loss: 0.00024803559063002467\n",
            "epoch: 250... loss: 0.00024803559063002467\n",
            "epoch: 300... loss: 0.00024803559063002467\n",
            "epoch: 350... loss: 0.00024803559063002467\n",
            "epoch: 400... loss: 0.00024803559063002467\n",
            "epoch: 450... loss: 0.00024803559063002467\n",
            "epoch: 500... loss: 0.00024803559063002467\n"
          ]
        },
        {
          "data": {
            "text/plain": [
              "GRU(\n",
              "  (gru): GRU(1, 100, batch_first=True)\n",
              "  (fc): Linear(in_features=100, out_features=1, bias=True)\n",
              ")"
            ]
          },
          "execution_count": 65,
          "metadata": {},
          "output_type": "execute_result"
        },
        {
          "data": {
            "text/plain": [
              "GRU(\n",
              "  (gru): GRU(1, 100, batch_first=True)\n",
              "  (fc): Linear(in_features=100, out_features=1, bias=True)\n",
              ")"
            ]
          },
          "execution_count": 65,
          "metadata": {},
          "output_type": "execute_result"
        },
        {
          "name": "stdout",
          "output_type": "stream",
          "text": [
            "epoch: 50... loss: 0.00024727630079723895\n",
            "epoch: 100... loss: 0.0002472752530593425\n",
            "epoch: 150... loss: 0.0002472752530593425\n",
            "epoch: 200... loss: 0.0002472752530593425\n",
            "epoch: 250... loss: 0.0002472752530593425\n",
            "epoch: 300... loss: 0.0002472752530593425\n",
            "epoch: 350... loss: 0.0002472752530593425\n",
            "epoch: 400... loss: 0.0002472752530593425\n",
            "epoch: 450... loss: 0.00024727528216317296\n",
            "epoch: 500... loss: 0.0002472752530593425\n"
          ]
        },
        {
          "data": {
            "text/plain": [
              "GRU(\n",
              "  (gru): GRU(1, 100, batch_first=True)\n",
              "  (fc): Linear(in_features=100, out_features=1, bias=True)\n",
              ")"
            ]
          },
          "execution_count": 65,
          "metadata": {},
          "output_type": "execute_result"
        },
        {
          "data": {
            "text/plain": [
              "GRU(\n",
              "  (gru): GRU(1, 100, batch_first=True)\n",
              "  (fc): Linear(in_features=100, out_features=1, bias=True)\n",
              ")"
            ]
          },
          "execution_count": 65,
          "metadata": {},
          "output_type": "execute_result"
        },
        {
          "name": "stdout",
          "output_type": "stream",
          "text": [
            "epoch: 50... loss: 0.00024688831763342023\n",
            "epoch: 100... loss: 0.0002468872698955238\n",
            "epoch: 150... loss: 0.0002468872698955238\n",
            "epoch: 200... loss: 0.0002468872698955238\n",
            "epoch: 250... loss: 0.0002468872698955238\n",
            "epoch: 300... loss: 0.0002468872698955238\n",
            "epoch: 350... loss: 0.0002468872698955238\n",
            "epoch: 400... loss: 0.0002468872698955238\n",
            "epoch: 450... loss: 0.0002468872698955238\n",
            "epoch: 500... loss: 0.00024688729899935424\n"
          ]
        },
        {
          "data": {
            "text/plain": [
              "GRU(\n",
              "  (gru): GRU(1, 100, batch_first=True)\n",
              "  (fc): Linear(in_features=100, out_features=1, bias=True)\n",
              ")"
            ]
          },
          "execution_count": 65,
          "metadata": {},
          "output_type": "execute_result"
        },
        {
          "data": {
            "text/plain": [
              "GRU(\n",
              "  (gru): GRU(1, 100, batch_first=True)\n",
              "  (fc): Linear(in_features=100, out_features=1, bias=True)\n",
              ")"
            ]
          },
          "execution_count": 65,
          "metadata": {},
          "output_type": "execute_result"
        },
        {
          "name": "stdout",
          "output_type": "stream",
          "text": [
            "epoch: 50... loss: 0.00024535335251130164\n",
            "epoch: 100... loss: 0.0002453529159538448\n",
            "epoch: 150... loss: 0.0002453529159538448\n",
            "epoch: 200... loss: 0.00024535288685001433\n",
            "epoch: 250... loss: 0.0002453529159538448\n",
            "epoch: 300... loss: 0.0002453529159538448\n",
            "epoch: 350... loss: 0.0002453529159538448\n",
            "epoch: 400... loss: 0.0002453529159538448\n",
            "epoch: 450... loss: 0.00024535288685001433\n",
            "epoch: 500... loss: 0.0002453529159538448\n"
          ]
        },
        {
          "data": {
            "text/plain": [
              "GRU(\n",
              "  (gru): GRU(1, 100, batch_first=True)\n",
              "  (fc): Linear(in_features=100, out_features=1, bias=True)\n",
              ")"
            ]
          },
          "execution_count": 65,
          "metadata": {},
          "output_type": "execute_result"
        },
        {
          "data": {
            "text/plain": [
              "GRU(\n",
              "  (gru): GRU(1, 100, batch_first=True)\n",
              "  (fc): Linear(in_features=100, out_features=1, bias=True)\n",
              ")"
            ]
          },
          "execution_count": 65,
          "metadata": {},
          "output_type": "execute_result"
        },
        {
          "name": "stdout",
          "output_type": "stream",
          "text": [
            "epoch: 50... loss: 0.000243088070419617\n",
            "epoch: 100... loss: 0.0002430880267638713\n",
            "epoch: 150... loss: 0.00024308804131578654\n",
            "epoch: 200... loss: 0.00024308801221195608\n",
            "epoch: 250... loss: 0.00024308804131578654\n",
            "epoch: 300... loss: 0.0002430880267638713\n",
            "epoch: 350... loss: 0.0002430880267638713\n",
            "epoch: 400... loss: 0.0002430880267638713\n",
            "epoch: 450... loss: 0.00024308801221195608\n",
            "epoch: 500... loss: 0.00024308801221195608\n"
          ]
        },
        {
          "data": {
            "text/plain": [
              "GRU(\n",
              "  (gru): GRU(1, 100, batch_first=True)\n",
              "  (fc): Linear(in_features=100, out_features=1, bias=True)\n",
              ")"
            ]
          },
          "execution_count": 65,
          "metadata": {},
          "output_type": "execute_result"
        },
        {
          "data": {
            "text/plain": [
              "GRU(\n",
              "  (gru): GRU(1, 100, batch_first=True)\n",
              "  (fc): Linear(in_features=100, out_features=1, bias=True)\n",
              ")"
            ]
          },
          "execution_count": 65,
          "metadata": {},
          "output_type": "execute_result"
        },
        {
          "name": "stdout",
          "output_type": "stream",
          "text": [
            "epoch: 50... loss: 0.00024257162294816226\n",
            "epoch: 100... loss: 0.0002425704151391983\n",
            "epoch: 150... loss: 0.0002425704151391983\n",
            "epoch: 200... loss: 0.0002425704151391983\n",
            "epoch: 250... loss: 0.0002425704151391983\n",
            "epoch: 300... loss: 0.00024257042969111353\n",
            "epoch: 350... loss: 0.0002425704151391983\n",
            "epoch: 400... loss: 0.0002425704151391983\n",
            "epoch: 450... loss: 0.00024257042969111353\n",
            "epoch: 500... loss: 0.00024257042969111353\n"
          ]
        },
        {
          "data": {
            "text/plain": [
              "GRU(\n",
              "  (gru): GRU(1, 100, batch_first=True)\n",
              "  (fc): Linear(in_features=100, out_features=1, bias=True)\n",
              ")"
            ]
          },
          "execution_count": 65,
          "metadata": {},
          "output_type": "execute_result"
        },
        {
          "data": {
            "text/plain": [
              "GRU(\n",
              "  (gru): GRU(1, 100, batch_first=True)\n",
              "  (fc): Linear(in_features=100, out_features=1, bias=True)\n",
              ")"
            ]
          },
          "execution_count": 65,
          "metadata": {},
          "output_type": "execute_result"
        },
        {
          "name": "stdout",
          "output_type": "stream",
          "text": [
            "epoch: 50... loss: 0.0002427484723739326\n",
            "epoch: 100... loss: 0.0002427468862151727\n",
            "epoch: 150... loss: 0.00024274685711134225\n",
            "epoch: 200... loss: 0.00024274685711134225\n",
            "epoch: 250... loss: 0.00024274685711134225\n",
            "epoch: 300... loss: 0.00024274685711134225\n",
            "epoch: 350... loss: 0.00024274684255942702\n",
            "epoch: 400... loss: 0.00024274685711134225\n",
            "epoch: 450... loss: 0.00024274685711134225\n",
            "epoch: 500... loss: 0.00024274684255942702\n"
          ]
        },
        {
          "data": {
            "text/plain": [
              "GRU(\n",
              "  (gru): GRU(1, 100, batch_first=True)\n",
              "  (fc): Linear(in_features=100, out_features=1, bias=True)\n",
              ")"
            ]
          },
          "execution_count": 65,
          "metadata": {},
          "output_type": "execute_result"
        },
        {
          "data": {
            "text/plain": [
              "GRU(\n",
              "  (gru): GRU(1, 100, batch_first=True)\n",
              "  (fc): Linear(in_features=100, out_features=1, bias=True)\n",
              ")"
            ]
          },
          "execution_count": 65,
          "metadata": {},
          "output_type": "execute_result"
        },
        {
          "name": "stdout",
          "output_type": "stream",
          "text": [
            "epoch: 50... loss: 0.00024369322636630386\n",
            "epoch: 100... loss: 0.0002436900103930384\n",
            "epoch: 150... loss: 0.00024368999584112316\n",
            "epoch: 200... loss: 0.00024368999584112316\n",
            "epoch: 250... loss: 0.00024368999584112316\n",
            "epoch: 300... loss: 0.00024368999584112316\n",
            "epoch: 350... loss: 0.0002436900103930384\n",
            "epoch: 400... loss: 0.0002436900103930384\n",
            "epoch: 450... loss: 0.0002436900103930384\n",
            "epoch: 500... loss: 0.0002436900103930384\n"
          ]
        },
        {
          "data": {
            "text/plain": [
              "GRU(\n",
              "  (gru): GRU(1, 100, batch_first=True)\n",
              "  (fc): Linear(in_features=100, out_features=1, bias=True)\n",
              ")"
            ]
          },
          "execution_count": 65,
          "metadata": {},
          "output_type": "execute_result"
        },
        {
          "data": {
            "text/plain": [
              "GRU(\n",
              "  (gru): GRU(1, 100, batch_first=True)\n",
              "  (fc): Linear(in_features=100, out_features=1, bias=True)\n",
              ")"
            ]
          },
          "execution_count": 65,
          "metadata": {},
          "output_type": "execute_result"
        },
        {
          "name": "stdout",
          "output_type": "stream",
          "text": [
            "epoch: 50... loss: 0.00024415389634668827\n",
            "epoch: 100... loss: 0.00024414603831246495\n",
            "epoch: 150... loss: 0.0002441460092086345\n",
            "epoch: 200... loss: 0.00024414603831246495\n",
            "epoch: 250... loss: 0.00024414603831246495\n",
            "epoch: 300... loss: 0.0002441460092086345\n",
            "epoch: 350... loss: 0.00024414603831246495\n",
            "epoch: 400... loss: 0.00024414603831246495\n",
            "epoch: 450... loss: 0.00024414603831246495\n",
            "epoch: 500... loss: 0.00024414603831246495\n"
          ]
        },
        {
          "data": {
            "text/plain": [
              "GRU(\n",
              "  (gru): GRU(1, 100, batch_first=True)\n",
              "  (fc): Linear(in_features=100, out_features=1, bias=True)\n",
              ")"
            ]
          },
          "execution_count": 65,
          "metadata": {},
          "output_type": "execute_result"
        },
        {
          "data": {
            "text/plain": [
              "GRU(\n",
              "  (gru): GRU(1, 100, batch_first=True)\n",
              "  (fc): Linear(in_features=100, out_features=1, bias=True)\n",
              ")"
            ]
          },
          "execution_count": 65,
          "metadata": {},
          "output_type": "execute_result"
        },
        {
          "name": "stdout",
          "output_type": "stream",
          "text": [
            "epoch: 50... loss: 0.00024343935365322977\n",
            "epoch: 100... loss: 0.00024343565746676177\n",
            "epoch: 150... loss: 0.00024343564291484654\n",
            "epoch: 200... loss: 0.00024343564291484654\n",
            "epoch: 250... loss: 0.00024343564291484654\n",
            "epoch: 300... loss: 0.00024343564291484654\n",
            "epoch: 350... loss: 0.00024343564291484654\n",
            "epoch: 400... loss: 0.00024343564291484654\n",
            "epoch: 450... loss: 0.0002434356283629313\n",
            "epoch: 500... loss: 0.0002434356283629313\n"
          ]
        },
        {
          "data": {
            "text/plain": [
              "GRU(\n",
              "  (gru): GRU(1, 100, batch_first=True)\n",
              "  (fc): Linear(in_features=100, out_features=1, bias=True)\n",
              ")"
            ]
          },
          "execution_count": 65,
          "metadata": {},
          "output_type": "execute_result"
        },
        {
          "data": {
            "text/plain": [
              "GRU(\n",
              "  (gru): GRU(1, 100, batch_first=True)\n",
              "  (fc): Linear(in_features=100, out_features=1, bias=True)\n",
              ")"
            ]
          },
          "execution_count": 65,
          "metadata": {},
          "output_type": "execute_result"
        },
        {
          "name": "stdout",
          "output_type": "stream",
          "text": [
            "epoch: 50... loss: 0.00024345774727407843\n",
            "epoch: 100... loss: 0.00024345571000594646\n",
            "epoch: 150... loss: 0.000243455680902116\n",
            "epoch: 200... loss: 0.00024345566635020077\n",
            "epoch: 250... loss: 0.00024345571000594646\n",
            "epoch: 300... loss: 0.00024345569545403123\n",
            "epoch: 350... loss: 0.00024345569545403123\n",
            "epoch: 400... loss: 0.00024345569545403123\n",
            "epoch: 450... loss: 0.00024345569545403123\n",
            "epoch: 500... loss: 0.00024345566635020077\n"
          ]
        },
        {
          "data": {
            "text/plain": [
              "GRU(\n",
              "  (gru): GRU(1, 100, batch_first=True)\n",
              "  (fc): Linear(in_features=100, out_features=1, bias=True)\n",
              ")"
            ]
          },
          "execution_count": 65,
          "metadata": {},
          "output_type": "execute_result"
        },
        {
          "data": {
            "text/plain": [
              "GRU(\n",
              "  (gru): GRU(1, 100, batch_first=True)\n",
              "  (fc): Linear(in_features=100, out_features=1, bias=True)\n",
              ")"
            ]
          },
          "execution_count": 65,
          "metadata": {},
          "output_type": "execute_result"
        },
        {
          "name": "stdout",
          "output_type": "stream",
          "text": [
            "epoch: 50... loss: 0.0002442959521431476\n",
            "epoch: 100... loss: 0.0002442955446895212\n",
            "epoch: 150... loss: 0.0002442954864818603\n",
            "epoch: 200... loss: 0.0002442954864818603\n",
            "epoch: 250... loss: 0.0002442954864818603\n",
            "epoch: 300... loss: 0.0002442954864818603\n",
            "epoch: 350... loss: 0.0002442954864818603\n",
            "epoch: 400... loss: 0.0002442954864818603\n",
            "epoch: 450... loss: 0.0002442954864818603\n",
            "epoch: 500... loss: 0.0002442954864818603\n"
          ]
        },
        {
          "data": {
            "text/plain": [
              "GRU(\n",
              "  (gru): GRU(1, 100, batch_first=True)\n",
              "  (fc): Linear(in_features=100, out_features=1, bias=True)\n",
              ")"
            ]
          },
          "execution_count": 65,
          "metadata": {},
          "output_type": "execute_result"
        },
        {
          "data": {
            "text/plain": [
              "GRU(\n",
              "  (gru): GRU(1, 100, batch_first=True)\n",
              "  (fc): Linear(in_features=100, out_features=1, bias=True)\n",
              ")"
            ]
          },
          "execution_count": 65,
          "metadata": {},
          "output_type": "execute_result"
        },
        {
          "name": "stdout",
          "output_type": "stream",
          "text": [
            "epoch: 50... loss: 0.00024227060202974826\n",
            "epoch: 100... loss: 0.00024226329696830362\n",
            "epoch: 150... loss: 0.00024226326786447316\n",
            "epoch: 200... loss: 0.00024226326786447316\n",
            "epoch: 250... loss: 0.00024226325331255794\n",
            "epoch: 300... loss: 0.00024226326786447316\n",
            "epoch: 350... loss: 0.00024226326786447316\n",
            "epoch: 400... loss: 0.0002422632387606427\n",
            "epoch: 450... loss: 0.00024226326786447316\n",
            "epoch: 500... loss: 0.00024226326786447316\n"
          ]
        },
        {
          "data": {
            "text/plain": [
              "GRU(\n",
              "  (gru): GRU(1, 100, batch_first=True)\n",
              "  (fc): Linear(in_features=100, out_features=1, bias=True)\n",
              ")"
            ]
          },
          "execution_count": 65,
          "metadata": {},
          "output_type": "execute_result"
        },
        {
          "data": {
            "text/plain": [
              "GRU(\n",
              "  (gru): GRU(1, 100, batch_first=True)\n",
              "  (fc): Linear(in_features=100, out_features=1, bias=True)\n",
              ")"
            ]
          },
          "execution_count": 65,
          "metadata": {},
          "output_type": "execute_result"
        },
        {
          "name": "stdout",
          "output_type": "stream",
          "text": [
            "epoch: 50... loss: 0.00024207269598264247\n",
            "epoch: 100... loss: 0.0002420650707790628\n",
            "epoch: 150... loss: 0.0002420650707790628\n",
            "epoch: 200... loss: 0.00024206505622714758\n",
            "epoch: 250... loss: 0.00024206505622714758\n",
            "epoch: 300... loss: 0.00024206505622714758\n",
            "epoch: 350... loss: 0.00024206505622714758\n",
            "epoch: 400... loss: 0.00024206505622714758\n",
            "epoch: 450... loss: 0.00024206505622714758\n",
            "epoch: 500... loss: 0.00024206505622714758\n"
          ]
        },
        {
          "data": {
            "text/plain": [
              "GRU(\n",
              "  (gru): GRU(1, 100, batch_first=True)\n",
              "  (fc): Linear(in_features=100, out_features=1, bias=True)\n",
              ")"
            ]
          },
          "execution_count": 65,
          "metadata": {},
          "output_type": "execute_result"
        },
        {
          "data": {
            "text/plain": [
              "GRU(\n",
              "  (gru): GRU(1, 100, batch_first=True)\n",
              "  (fc): Linear(in_features=100, out_features=1, bias=True)\n",
              ")"
            ]
          },
          "execution_count": 65,
          "metadata": {},
          "output_type": "execute_result"
        },
        {
          "name": "stdout",
          "output_type": "stream",
          "text": [
            "epoch: 50... loss: 0.00024252923321910203\n",
            "epoch: 100... loss: 0.00024252290313597769\n",
            "epoch: 150... loss: 0.00024252287403214723\n",
            "epoch: 200... loss: 0.00024252287403214723\n",
            "epoch: 250... loss: 0.00024252287403214723\n",
            "epoch: 300... loss: 0.00024252287403214723\n",
            "epoch: 350... loss: 0.00024252288858406246\n",
            "epoch: 400... loss: 0.00024252288858406246\n",
            "epoch: 450... loss: 0.00024252288858406246\n",
            "epoch: 500... loss: 0.00024252288858406246\n"
          ]
        },
        {
          "data": {
            "text/plain": [
              "GRU(\n",
              "  (gru): GRU(1, 100, batch_first=True)\n",
              "  (fc): Linear(in_features=100, out_features=1, bias=True)\n",
              ")"
            ]
          },
          "execution_count": 65,
          "metadata": {},
          "output_type": "execute_result"
        },
        {
          "data": {
            "text/plain": [
              "GRU(\n",
              "  (gru): GRU(1, 100, batch_first=True)\n",
              "  (fc): Linear(in_features=100, out_features=1, bias=True)\n",
              ")"
            ]
          },
          "execution_count": 65,
          "metadata": {},
          "output_type": "execute_result"
        },
        {
          "name": "stdout",
          "output_type": "stream",
          "text": [
            "epoch: 50... loss: 0.00024220011255238205\n",
            "epoch: 100... loss: 0.00024219660554081202\n",
            "epoch: 150... loss: 0.0002421965909888968\n",
            "epoch: 200... loss: 0.00024219657643698156\n",
            "epoch: 250... loss: 0.0002421965909888968\n",
            "epoch: 300... loss: 0.0002421965909888968\n",
            "epoch: 350... loss: 0.0002421965909888968\n",
            "epoch: 400... loss: 0.0002421965909888968\n",
            "epoch: 450... loss: 0.00024219657643698156\n",
            "epoch: 500... loss: 0.0002421965909888968\n"
          ]
        },
        {
          "data": {
            "text/plain": [
              "GRU(\n",
              "  (gru): GRU(1, 100, batch_first=True)\n",
              "  (fc): Linear(in_features=100, out_features=1, bias=True)\n",
              ")"
            ]
          },
          "execution_count": 65,
          "metadata": {},
          "output_type": "execute_result"
        },
        {
          "data": {
            "text/plain": [
              "GRU(\n",
              "  (gru): GRU(1, 100, batch_first=True)\n",
              "  (fc): Linear(in_features=100, out_features=1, bias=True)\n",
              ")"
            ]
          },
          "execution_count": 65,
          "metadata": {},
          "output_type": "execute_result"
        },
        {
          "name": "stdout",
          "output_type": "stream",
          "text": [
            "epoch: 50... loss: 0.0002421919343760237\n",
            "epoch: 100... loss: 0.00024219098850153387\n",
            "epoch: 150... loss: 0.00024219097394961864\n",
            "epoch: 200... loss: 0.00024219097394961864\n",
            "epoch: 250... loss: 0.00024219097394961864\n",
            "epoch: 300... loss: 0.00024219097394961864\n",
            "epoch: 350... loss: 0.00024219097394961864\n",
            "epoch: 400... loss: 0.00024219098850153387\n",
            "epoch: 450... loss: 0.00024219097394961864\n",
            "epoch: 500... loss: 0.00024219097394961864\n"
          ]
        },
        {
          "data": {
            "text/plain": [
              "GRU(\n",
              "  (gru): GRU(1, 100, batch_first=True)\n",
              "  (fc): Linear(in_features=100, out_features=1, bias=True)\n",
              ")"
            ]
          },
          "execution_count": 65,
          "metadata": {},
          "output_type": "execute_result"
        },
        {
          "data": {
            "text/plain": [
              "GRU(\n",
              "  (gru): GRU(1, 100, batch_first=True)\n",
              "  (fc): Linear(in_features=100, out_features=1, bias=True)\n",
              ")"
            ]
          },
          "execution_count": 65,
          "metadata": {},
          "output_type": "execute_result"
        },
        {
          "name": "stdout",
          "output_type": "stream",
          "text": [
            "epoch: 50... loss: 0.00024204365035984665\n",
            "epoch: 100... loss: 0.00024203563225455582\n",
            "epoch: 150... loss: 0.00024203555949497968\n",
            "epoch: 200... loss: 0.0002420355740468949\n",
            "epoch: 250... loss: 0.0002420355740468949\n",
            "epoch: 300... loss: 0.0002420355740468949\n",
            "epoch: 350... loss: 0.0002420355740468949\n",
            "epoch: 400... loss: 0.00024203558859881014\n",
            "epoch: 450... loss: 0.00024203558859881014\n",
            "epoch: 500... loss: 0.00024203558859881014\n"
          ]
        },
        {
          "data": {
            "text/plain": [
              "GRU(\n",
              "  (gru): GRU(1, 100, batch_first=True)\n",
              "  (fc): Linear(in_features=100, out_features=1, bias=True)\n",
              ")"
            ]
          },
          "execution_count": 65,
          "metadata": {},
          "output_type": "execute_result"
        },
        {
          "data": {
            "text/plain": [
              "GRU(\n",
              "  (gru): GRU(1, 100, batch_first=True)\n",
              "  (fc): Linear(in_features=100, out_features=1, bias=True)\n",
              ")"
            ]
          },
          "execution_count": 65,
          "metadata": {},
          "output_type": "execute_result"
        },
        {
          "name": "stdout",
          "output_type": "stream",
          "text": [
            "epoch: 50... loss: 0.00024210500123444945\n",
            "epoch: 100... loss: 0.00024210152332670987\n",
            "epoch: 150... loss: 0.0002421014942228794\n",
            "epoch: 200... loss: 0.0002421014942228794\n",
            "epoch: 250... loss: 0.00024210147967096418\n",
            "epoch: 300... loss: 0.00024210147967096418\n",
            "epoch: 350... loss: 0.0002421014942228794\n",
            "epoch: 400... loss: 0.0002421014942228794\n",
            "epoch: 450... loss: 0.0002421014942228794\n",
            "epoch: 500... loss: 0.0002421014942228794\n"
          ]
        },
        {
          "data": {
            "text/plain": [
              "GRU(\n",
              "  (gru): GRU(1, 100, batch_first=True)\n",
              "  (fc): Linear(in_features=100, out_features=1, bias=True)\n",
              ")"
            ]
          },
          "execution_count": 65,
          "metadata": {},
          "output_type": "execute_result"
        },
        {
          "data": {
            "text/plain": [
              "GRU(\n",
              "  (gru): GRU(1, 100, batch_first=True)\n",
              "  (fc): Linear(in_features=100, out_features=1, bias=True)\n",
              ")"
            ]
          },
          "execution_count": 65,
          "metadata": {},
          "output_type": "execute_result"
        },
        {
          "name": "stdout",
          "output_type": "stream",
          "text": [
            "epoch: 50... loss: 0.00024762831162661314\n",
            "epoch: 100... loss: 0.00024762589600868523\n",
            "epoch: 150... loss: 0.0002476258669048548\n",
            "epoch: 200... loss: 0.0002476258669048548\n",
            "epoch: 250... loss: 0.0002476258669048548\n",
            "epoch: 300... loss: 0.0002476258669048548\n",
            "epoch: 350... loss: 0.0002476258669048548\n",
            "epoch: 400... loss: 0.0002476258669048548\n",
            "epoch: 450... loss: 0.0002476258669048548\n",
            "epoch: 500... loss: 0.0002476258669048548\n"
          ]
        },
        {
          "data": {
            "text/plain": [
              "GRU(\n",
              "  (gru): GRU(1, 100, batch_first=True)\n",
              "  (fc): Linear(in_features=100, out_features=1, bias=True)\n",
              ")"
            ]
          },
          "execution_count": 65,
          "metadata": {},
          "output_type": "execute_result"
        },
        {
          "data": {
            "text/plain": [
              "GRU(\n",
              "  (gru): GRU(1, 100, batch_first=True)\n",
              "  (fc): Linear(in_features=100, out_features=1, bias=True)\n",
              ")"
            ]
          },
          "execution_count": 65,
          "metadata": {},
          "output_type": "execute_result"
        },
        {
          "name": "stdout",
          "output_type": "stream",
          "text": [
            "epoch: 50... loss: 0.00024800130631774664\n",
            "epoch: 100... loss: 0.0002479926042724401\n",
            "epoch: 150... loss: 0.0002479925751686096\n",
            "epoch: 200... loss: 0.00024799254606477916\n",
            "epoch: 250... loss: 0.00024799254606477916\n",
            "epoch: 300... loss: 0.0002479925751686096\n",
            "epoch: 350... loss: 0.00024799254606477916\n",
            "epoch: 400... loss: 0.0002479925751686096\n",
            "epoch: 450... loss: 0.00024799254606477916\n",
            "epoch: 500... loss: 0.0002479925751686096\n"
          ]
        },
        {
          "data": {
            "text/plain": [
              "GRU(\n",
              "  (gru): GRU(1, 100, batch_first=True)\n",
              "  (fc): Linear(in_features=100, out_features=1, bias=True)\n",
              ")"
            ]
          },
          "execution_count": 65,
          "metadata": {},
          "output_type": "execute_result"
        },
        {
          "data": {
            "text/plain": [
              "GRU(\n",
              "  (gru): GRU(1, 100, batch_first=True)\n",
              "  (fc): Linear(in_features=100, out_features=1, bias=True)\n",
              ")"
            ]
          },
          "execution_count": 65,
          "metadata": {},
          "output_type": "execute_result"
        },
        {
          "name": "stdout",
          "output_type": "stream",
          "text": [
            "epoch: 50... loss: 0.0002508308389224112\n",
            "epoch: 100... loss: 0.00025082239881157875\n",
            "epoch: 150... loss: 0.00025082239881157875\n",
            "epoch: 200... loss: 0.00025082239881157875\n",
            "epoch: 250... loss: 0.0002508223697077483\n",
            "epoch: 300... loss: 0.0002508223697077483\n",
            "epoch: 350... loss: 0.0002508223697077483\n",
            "epoch: 400... loss: 0.0002508223697077483\n",
            "epoch: 450... loss: 0.0002508223697077483\n",
            "epoch: 500... loss: 0.0002508223697077483\n"
          ]
        },
        {
          "data": {
            "text/plain": [
              "GRU(\n",
              "  (gru): GRU(1, 100, batch_first=True)\n",
              "  (fc): Linear(in_features=100, out_features=1, bias=True)\n",
              ")"
            ]
          },
          "execution_count": 65,
          "metadata": {},
          "output_type": "execute_result"
        },
        {
          "data": {
            "text/plain": [
              "GRU(\n",
              "  (gru): GRU(1, 100, batch_first=True)\n",
              "  (fc): Linear(in_features=100, out_features=1, bias=True)\n",
              ")"
            ]
          },
          "execution_count": 65,
          "metadata": {},
          "output_type": "execute_result"
        },
        {
          "name": "stdout",
          "output_type": "stream",
          "text": [
            "epoch: 50... loss: 0.00024570481036789715\n",
            "epoch: 100... loss: 0.0002457047812640667\n",
            "epoch: 150... loss: 0.00024570475216023624\n",
            "epoch: 200... loss: 0.0002457047812640667\n",
            "epoch: 250... loss: 0.0002457047812640667\n",
            "epoch: 300... loss: 0.00024570475216023624\n",
            "epoch: 350... loss: 0.0002457047812640667\n",
            "epoch: 400... loss: 0.0002457047812640667\n",
            "epoch: 450... loss: 0.00024570475216023624\n",
            "epoch: 500... loss: 0.00024570475216023624\n"
          ]
        },
        {
          "data": {
            "text/plain": [
              "GRU(\n",
              "  (gru): GRU(1, 100, batch_first=True)\n",
              "  (fc): Linear(in_features=100, out_features=1, bias=True)\n",
              ")"
            ]
          },
          "execution_count": 65,
          "metadata": {},
          "output_type": "execute_result"
        },
        {
          "data": {
            "text/plain": [
              "GRU(\n",
              "  (gru): GRU(1, 100, batch_first=True)\n",
              "  (fc): Linear(in_features=100, out_features=1, bias=True)\n",
              ")"
            ]
          },
          "execution_count": 65,
          "metadata": {},
          "output_type": "execute_result"
        },
        {
          "name": "stdout",
          "output_type": "stream",
          "text": [
            "epoch: 50... loss: 0.0002428499865345657\n",
            "epoch: 100... loss: 0.00024284997198265046\n",
            "epoch: 150... loss: 0.00024284997198265046\n",
            "epoch: 200... loss: 0.00024284995743073523\n",
            "epoch: 250... loss: 0.00024284994287882\n",
            "epoch: 300... loss: 0.00024284994287882\n",
            "epoch: 350... loss: 0.00024284994287882\n",
            "epoch: 400... loss: 0.00024284994287882\n",
            "epoch: 450... loss: 0.00024284994287882\n",
            "epoch: 500... loss: 0.00024284994287882\n"
          ]
        },
        {
          "data": {
            "text/plain": [
              "GRU(\n",
              "  (gru): GRU(1, 100, batch_first=True)\n",
              "  (fc): Linear(in_features=100, out_features=1, bias=True)\n",
              ")"
            ]
          },
          "execution_count": 65,
          "metadata": {},
          "output_type": "execute_result"
        },
        {
          "data": {
            "text/plain": [
              "GRU(\n",
              "  (gru): GRU(1, 100, batch_first=True)\n",
              "  (fc): Linear(in_features=100, out_features=1, bias=True)\n",
              ")"
            ]
          },
          "execution_count": 65,
          "metadata": {},
          "output_type": "execute_result"
        },
        {
          "name": "stdout",
          "output_type": "stream",
          "text": [
            "epoch: 50... loss: 0.0002447470324113965\n",
            "epoch: 100... loss: 0.00024474633391946554\n",
            "epoch: 150... loss: 0.0002447463048156351\n",
            "epoch: 200... loss: 0.0002447463048156351\n",
            "epoch: 250... loss: 0.00024474633391946554\n",
            "epoch: 300... loss: 0.00024474633391946554\n",
            "epoch: 350... loss: 0.0002447463048156351\n",
            "epoch: 400... loss: 0.00024474633391946554\n",
            "epoch: 450... loss: 0.00024474633391946554\n",
            "epoch: 500... loss: 0.0002447463048156351\n"
          ]
        },
        {
          "data": {
            "text/plain": [
              "GRU(\n",
              "  (gru): GRU(1, 100, batch_first=True)\n",
              "  (fc): Linear(in_features=100, out_features=1, bias=True)\n",
              ")"
            ]
          },
          "execution_count": 65,
          "metadata": {},
          "output_type": "execute_result"
        },
        {
          "data": {
            "text/plain": [
              "GRU(\n",
              "  (gru): GRU(1, 100, batch_first=True)\n",
              "  (fc): Linear(in_features=100, out_features=1, bias=True)\n",
              ")"
            ]
          },
          "execution_count": 65,
          "metadata": {},
          "output_type": "execute_result"
        },
        {
          "name": "stdout",
          "output_type": "stream",
          "text": [
            "epoch: 50... loss: 0.0002505213487893343\n",
            "epoch: 100... loss: 0.0002505167212802917\n",
            "epoch: 150... loss: 0.0002505167212802917\n",
            "epoch: 200... loss: 0.00025051675038412213\n",
            "epoch: 250... loss: 0.00025051675038412213\n",
            "epoch: 300... loss: 0.00025051675038412213\n",
            "epoch: 350... loss: 0.00025051675038412213\n",
            "epoch: 400... loss: 0.0002505167212802917\n",
            "epoch: 450... loss: 0.0002505167212802917\n",
            "epoch: 500... loss: 0.00025051675038412213\n"
          ]
        },
        {
          "data": {
            "text/plain": [
              "GRU(\n",
              "  (gru): GRU(1, 100, batch_first=True)\n",
              "  (fc): Linear(in_features=100, out_features=1, bias=True)\n",
              ")"
            ]
          },
          "execution_count": 65,
          "metadata": {},
          "output_type": "execute_result"
        },
        {
          "data": {
            "text/plain": [
              "GRU(\n",
              "  (gru): GRU(1, 100, batch_first=True)\n",
              "  (fc): Linear(in_features=100, out_features=1, bias=True)\n",
              ")"
            ]
          },
          "execution_count": 65,
          "metadata": {},
          "output_type": "execute_result"
        },
        {
          "name": "stdout",
          "output_type": "stream",
          "text": [
            "epoch: 50... loss: 0.00024262888473458588\n",
            "epoch: 100... loss: 0.00024262731312774122\n",
            "epoch: 150... loss: 0.000242627298575826\n",
            "epoch: 200... loss: 0.000242627298575826\n",
            "epoch: 250... loss: 0.000242627298575826\n",
            "epoch: 300... loss: 0.000242627298575826\n",
            "epoch: 350... loss: 0.000242627298575826\n",
            "epoch: 400... loss: 0.00024262728402391076\n",
            "epoch: 450... loss: 0.000242627298575826\n",
            "epoch: 500... loss: 0.00024262728402391076\n"
          ]
        },
        {
          "data": {
            "text/plain": [
              "GRU(\n",
              "  (gru): GRU(1, 100, batch_first=True)\n",
              "  (fc): Linear(in_features=100, out_features=1, bias=True)\n",
              ")"
            ]
          },
          "execution_count": 65,
          "metadata": {},
          "output_type": "execute_result"
        },
        {
          "data": {
            "text/plain": [
              "GRU(\n",
              "  (gru): GRU(1, 100, batch_first=True)\n",
              "  (fc): Linear(in_features=100, out_features=1, bias=True)\n",
              ")"
            ]
          },
          "execution_count": 65,
          "metadata": {},
          "output_type": "execute_result"
        },
        {
          "name": "stdout",
          "output_type": "stream",
          "text": [
            "epoch: 50... loss: 0.0002526422613300383\n",
            "epoch: 100... loss: 0.00025263888528570533\n",
            "epoch: 150... loss: 0.00025263885618187487\n",
            "epoch: 200... loss: 0.00025263885618187487\n",
            "epoch: 250... loss: 0.00025263885618187487\n",
            "epoch: 300... loss: 0.00025263885618187487\n",
            "epoch: 350... loss: 0.00025263885618187487\n",
            "epoch: 400... loss: 0.00025263885618187487\n",
            "epoch: 450... loss: 0.00025263885618187487\n",
            "epoch: 500... loss: 0.00025263885618187487\n"
          ]
        },
        {
          "data": {
            "text/plain": [
              "GRU(\n",
              "  (gru): GRU(1, 100, batch_first=True)\n",
              "  (fc): Linear(in_features=100, out_features=1, bias=True)\n",
              ")"
            ]
          },
          "execution_count": 65,
          "metadata": {},
          "output_type": "execute_result"
        },
        {
          "data": {
            "text/plain": [
              "GRU(\n",
              "  (gru): GRU(1, 100, batch_first=True)\n",
              "  (fc): Linear(in_features=100, out_features=1, bias=True)\n",
              ")"
            ]
          },
          "execution_count": 65,
          "metadata": {},
          "output_type": "execute_result"
        },
        {
          "name": "stdout",
          "output_type": "stream",
          "text": [
            "epoch: 50... loss: 0.00025362547603435814\n",
            "epoch: 100... loss: 0.00025362352607771754\n",
            "epoch: 150... loss: 0.00025362352607771754\n",
            "epoch: 200... loss: 0.00025362352607771754\n",
            "epoch: 250... loss: 0.000253623555181548\n",
            "epoch: 300... loss: 0.00025362352607771754\n",
            "epoch: 350... loss: 0.00025362352607771754\n",
            "epoch: 400... loss: 0.00025362352607771754\n",
            "epoch: 450... loss: 0.00025362352607771754\n",
            "epoch: 500... loss: 0.00025362352607771754\n"
          ]
        },
        {
          "data": {
            "text/plain": [
              "GRU(\n",
              "  (gru): GRU(1, 100, batch_first=True)\n",
              "  (fc): Linear(in_features=100, out_features=1, bias=True)\n",
              ")"
            ]
          },
          "execution_count": 65,
          "metadata": {},
          "output_type": "execute_result"
        },
        {
          "data": {
            "text/plain": [
              "GRU(\n",
              "  (gru): GRU(1, 100, batch_first=True)\n",
              "  (fc): Linear(in_features=100, out_features=1, bias=True)\n",
              ")"
            ]
          },
          "execution_count": 65,
          "metadata": {},
          "output_type": "execute_result"
        },
        {
          "name": "stdout",
          "output_type": "stream",
          "text": [
            "epoch: 50... loss: 0.0002535389503464103\n",
            "epoch: 100... loss: 0.0002535363892093301\n",
            "epoch: 150... loss: 0.0002535363892093301\n",
            "epoch: 200... loss: 0.0002535363892093301\n",
            "epoch: 250... loss: 0.0002535363892093301\n",
            "epoch: 300... loss: 0.0002535363892093301\n",
            "epoch: 350... loss: 0.0002535363601054996\n",
            "epoch: 400... loss: 0.0002535363892093301\n",
            "epoch: 450... loss: 0.0002535363892093301\n",
            "epoch: 500... loss: 0.0002535363601054996\n"
          ]
        },
        {
          "data": {
            "text/plain": [
              "GRU(\n",
              "  (gru): GRU(1, 100, batch_first=True)\n",
              "  (fc): Linear(in_features=100, out_features=1, bias=True)\n",
              ")"
            ]
          },
          "execution_count": 65,
          "metadata": {},
          "output_type": "execute_result"
        },
        {
          "data": {
            "text/plain": [
              "GRU(\n",
              "  (gru): GRU(1, 100, batch_first=True)\n",
              "  (fc): Linear(in_features=100, out_features=1, bias=True)\n",
              ")"
            ]
          },
          "execution_count": 65,
          "metadata": {},
          "output_type": "execute_result"
        },
        {
          "name": "stdout",
          "output_type": "stream",
          "text": [
            "epoch: 50... loss: 0.0002537824911996722\n",
            "epoch: 100... loss: 0.0002537782129365951\n",
            "epoch: 150... loss: 0.0002537781838327646\n",
            "epoch: 200... loss: 0.0002537781838327646\n",
            "epoch: 250... loss: 0.0002537781838327646\n",
            "epoch: 300... loss: 0.00025377815472893417\n",
            "epoch: 350... loss: 0.0002537781838327646\n",
            "epoch: 400... loss: 0.00025377815472893417\n",
            "epoch: 450... loss: 0.00025377815472893417\n",
            "epoch: 500... loss: 0.00025377815472893417\n"
          ]
        },
        {
          "data": {
            "text/plain": [
              "GRU(\n",
              "  (gru): GRU(1, 100, batch_first=True)\n",
              "  (fc): Linear(in_features=100, out_features=1, bias=True)\n",
              ")"
            ]
          },
          "execution_count": 65,
          "metadata": {},
          "output_type": "execute_result"
        },
        {
          "data": {
            "text/plain": [
              "GRU(\n",
              "  (gru): GRU(1, 100, batch_first=True)\n",
              "  (fc): Linear(in_features=100, out_features=1, bias=True)\n",
              ")"
            ]
          },
          "execution_count": 65,
          "metadata": {},
          "output_type": "execute_result"
        },
        {
          "name": "stdout",
          "output_type": "stream",
          "text": [
            "epoch: 50... loss: 0.0002559145796112716\n",
            "epoch: 100... loss: 0.00025591260055080056\n",
            "epoch: 150... loss: 0.00025591260055080056\n",
            "epoch: 200... loss: 0.00025591260055080056\n",
            "epoch: 250... loss: 0.00025591260055080056\n",
            "epoch: 300... loss: 0.00025591260055080056\n",
            "epoch: 350... loss: 0.000255912629654631\n",
            "epoch: 400... loss: 0.00025591260055080056\n",
            "epoch: 450... loss: 0.00025591260055080056\n",
            "epoch: 500... loss: 0.00025591260055080056\n"
          ]
        },
        {
          "data": {
            "text/plain": [
              "GRU(\n",
              "  (gru): GRU(1, 100, batch_first=True)\n",
              "  (fc): Linear(in_features=100, out_features=1, bias=True)\n",
              ")"
            ]
          },
          "execution_count": 65,
          "metadata": {},
          "output_type": "execute_result"
        },
        {
          "data": {
            "text/plain": [
              "GRU(\n",
              "  (gru): GRU(1, 100, batch_first=True)\n",
              "  (fc): Linear(in_features=100, out_features=1, bias=True)\n",
              ")"
            ]
          },
          "execution_count": 65,
          "metadata": {},
          "output_type": "execute_result"
        },
        {
          "name": "stdout",
          "output_type": "stream",
          "text": [
            "epoch: 50... loss: 0.00025523576186969876\n",
            "epoch: 100... loss: 0.000255225517321378\n",
            "epoch: 150... loss: 0.000255225517321378\n",
            "epoch: 200... loss: 0.000255225517321378\n",
            "epoch: 250... loss: 0.000255225517321378\n",
            "epoch: 300... loss: 0.000255225517321378\n",
            "epoch: 350... loss: 0.000255225517321378\n",
            "epoch: 400... loss: 0.000255225517321378\n",
            "epoch: 450... loss: 0.000255225517321378\n",
            "epoch: 500... loss: 0.000255225517321378\n"
          ]
        },
        {
          "data": {
            "text/plain": [
              "GRU(\n",
              "  (gru): GRU(1, 100, batch_first=True)\n",
              "  (fc): Linear(in_features=100, out_features=1, bias=True)\n",
              ")"
            ]
          },
          "execution_count": 65,
          "metadata": {},
          "output_type": "execute_result"
        },
        {
          "data": {
            "text/plain": [
              "GRU(\n",
              "  (gru): GRU(1, 100, batch_first=True)\n",
              "  (fc): Linear(in_features=100, out_features=1, bias=True)\n",
              ")"
            ]
          },
          "execution_count": 65,
          "metadata": {},
          "output_type": "execute_result"
        },
        {
          "name": "stdout",
          "output_type": "stream",
          "text": [
            "epoch: 50... loss: 0.0002584039466455579\n",
            "epoch: 100... loss: 0.00025840222951956093\n",
            "epoch: 150... loss: 0.0002584022586233914\n",
            "epoch: 200... loss: 0.0002584022586233914\n",
            "epoch: 250... loss: 0.00025840222951956093\n",
            "epoch: 300... loss: 0.0002584022586233914\n",
            "epoch: 350... loss: 0.0002584022586233914\n",
            "epoch: 400... loss: 0.00025840222951956093\n",
            "epoch: 450... loss: 0.00025840222951956093\n",
            "epoch: 500... loss: 0.00025840222951956093\n"
          ]
        },
        {
          "data": {
            "text/plain": [
              "GRU(\n",
              "  (gru): GRU(1, 100, batch_first=True)\n",
              "  (fc): Linear(in_features=100, out_features=1, bias=True)\n",
              ")"
            ]
          },
          "execution_count": 65,
          "metadata": {},
          "output_type": "execute_result"
        },
        {
          "data": {
            "text/plain": [
              "GRU(\n",
              "  (gru): GRU(1, 100, batch_first=True)\n",
              "  (fc): Linear(in_features=100, out_features=1, bias=True)\n",
              ")"
            ]
          },
          "execution_count": 65,
          "metadata": {},
          "output_type": "execute_result"
        },
        {
          "name": "stdout",
          "output_type": "stream",
          "text": [
            "epoch: 50... loss: 0.0002584856119938195\n",
            "epoch: 100... loss: 0.00025848334189504385\n",
            "epoch: 150... loss: 0.00025848334189504385\n",
            "epoch: 200... loss: 0.00025848334189504385\n",
            "epoch: 250... loss: 0.00025848334189504385\n",
            "epoch: 300... loss: 0.00025848334189504385\n",
            "epoch: 350... loss: 0.00025848334189504385\n",
            "epoch: 400... loss: 0.00025848334189504385\n",
            "epoch: 450... loss: 0.00025848334189504385\n",
            "epoch: 500... loss: 0.0002584833127912134\n"
          ]
        },
        {
          "data": {
            "text/plain": [
              "GRU(\n",
              "  (gru): GRU(1, 100, batch_first=True)\n",
              "  (fc): Linear(in_features=100, out_features=1, bias=True)\n",
              ")"
            ]
          },
          "execution_count": 65,
          "metadata": {},
          "output_type": "execute_result"
        },
        {
          "data": {
            "text/plain": [
              "GRU(\n",
              "  (gru): GRU(1, 100, batch_first=True)\n",
              "  (fc): Linear(in_features=100, out_features=1, bias=True)\n",
              ")"
            ]
          },
          "execution_count": 65,
          "metadata": {},
          "output_type": "execute_result"
        },
        {
          "name": "stdout",
          "output_type": "stream",
          "text": [
            "epoch: 50... loss: 0.00025890933466143906\n",
            "epoch: 100... loss: 0.000258904998190701\n",
            "epoch: 150... loss: 0.000258904998190701\n",
            "epoch: 200... loss: 0.000258904998190701\n",
            "epoch: 250... loss: 0.000258904998190701\n",
            "epoch: 300... loss: 0.000258904998190701\n",
            "epoch: 350... loss: 0.00025890502729453146\n",
            "epoch: 400... loss: 0.000258904998190701\n",
            "epoch: 450... loss: 0.000258904998190701\n",
            "epoch: 500... loss: 0.000258904998190701\n"
          ]
        },
        {
          "data": {
            "text/plain": [
              "GRU(\n",
              "  (gru): GRU(1, 100, batch_first=True)\n",
              "  (fc): Linear(in_features=100, out_features=1, bias=True)\n",
              ")"
            ]
          },
          "execution_count": 65,
          "metadata": {},
          "output_type": "execute_result"
        },
        {
          "data": {
            "text/plain": [
              "GRU(\n",
              "  (gru): GRU(1, 100, batch_first=True)\n",
              "  (fc): Linear(in_features=100, out_features=1, bias=True)\n",
              ")"
            ]
          },
          "execution_count": 65,
          "metadata": {},
          "output_type": "execute_result"
        },
        {
          "name": "stdout",
          "output_type": "stream",
          "text": [
            "epoch: 50... loss: 0.0002566877519711852\n",
            "epoch: 100... loss: 0.00025668716989457607\n",
            "epoch: 150... loss: 0.00025668716989457607\n",
            "epoch: 200... loss: 0.00025668716989457607\n",
            "epoch: 250... loss: 0.00025668716989457607\n",
            "epoch: 300... loss: 0.00025668716989457607\n",
            "epoch: 350... loss: 0.00025668716989457607\n",
            "epoch: 400... loss: 0.00025668716989457607\n",
            "epoch: 450... loss: 0.00025668716989457607\n",
            "epoch: 500... loss: 0.00025668716989457607\n"
          ]
        },
        {
          "data": {
            "text/plain": [
              "GRU(\n",
              "  (gru): GRU(1, 100, batch_first=True)\n",
              "  (fc): Linear(in_features=100, out_features=1, bias=True)\n",
              ")"
            ]
          },
          "execution_count": 65,
          "metadata": {},
          "output_type": "execute_result"
        },
        {
          "data": {
            "text/plain": [
              "GRU(\n",
              "  (gru): GRU(1, 100, batch_first=True)\n",
              "  (fc): Linear(in_features=100, out_features=1, bias=True)\n",
              ")"
            ]
          },
          "execution_count": 65,
          "metadata": {},
          "output_type": "execute_result"
        },
        {
          "name": "stdout",
          "output_type": "stream",
          "text": [
            "epoch: 50... loss: 0.00025270384503528476\n",
            "epoch: 100... loss: 0.0002527035539969802\n",
            "epoch: 150... loss: 0.0002527035539969802\n",
            "epoch: 200... loss: 0.0002527035539969802\n",
            "epoch: 250... loss: 0.00025270352489314973\n",
            "epoch: 300... loss: 0.00025270352489314973\n",
            "epoch: 350... loss: 0.00025270352489314973\n",
            "epoch: 400... loss: 0.00025270352489314973\n",
            "epoch: 450... loss: 0.00025270352489314973\n",
            "epoch: 500... loss: 0.00025270352489314973\n"
          ]
        },
        {
          "data": {
            "text/plain": [
              "GRU(\n",
              "  (gru): GRU(1, 100, batch_first=True)\n",
              "  (fc): Linear(in_features=100, out_features=1, bias=True)\n",
              ")"
            ]
          },
          "execution_count": 65,
          "metadata": {},
          "output_type": "execute_result"
        },
        {
          "data": {
            "text/plain": [
              "GRU(\n",
              "  (gru): GRU(1, 100, batch_first=True)\n",
              "  (fc): Linear(in_features=100, out_features=1, bias=True)\n",
              ")"
            ]
          },
          "execution_count": 65,
          "metadata": {},
          "output_type": "execute_result"
        },
        {
          "name": "stdout",
          "output_type": "stream",
          "text": [
            "epoch: 50... loss: 0.0002524066367186606\n",
            "epoch: 100... loss: 0.00025240640388801694\n",
            "epoch: 150... loss: 0.00025240640388801694\n",
            "epoch: 200... loss: 0.00025240640388801694\n",
            "epoch: 250... loss: 0.00025240640388801694\n",
            "epoch: 300... loss: 0.00025240640388801694\n",
            "epoch: 350... loss: 0.00025240640388801694\n",
            "epoch: 400... loss: 0.00025240640388801694\n",
            "epoch: 450... loss: 0.00025240640388801694\n",
            "epoch: 500... loss: 0.00025240640388801694\n"
          ]
        },
        {
          "data": {
            "text/plain": [
              "GRU(\n",
              "  (gru): GRU(1, 100, batch_first=True)\n",
              "  (fc): Linear(in_features=100, out_features=1, bias=True)\n",
              ")"
            ]
          },
          "execution_count": 65,
          "metadata": {},
          "output_type": "execute_result"
        },
        {
          "data": {
            "text/plain": [
              "GRU(\n",
              "  (gru): GRU(1, 100, batch_first=True)\n",
              "  (fc): Linear(in_features=100, out_features=1, bias=True)\n",
              ")"
            ]
          },
          "execution_count": 65,
          "metadata": {},
          "output_type": "execute_result"
        },
        {
          "name": "stdout",
          "output_type": "stream",
          "text": [
            "epoch: 50... loss: 0.00025223722332157195\n",
            "epoch: 100... loss: 0.00025223696138709784\n",
            "epoch: 150... loss: 0.00025223696138709784\n",
            "epoch: 200... loss: 0.00025223696138709784\n",
            "epoch: 250... loss: 0.00025223696138709784\n",
            "epoch: 300... loss: 0.00025223696138709784\n",
            "epoch: 350... loss: 0.00025223696138709784\n",
            "epoch: 400... loss: 0.00025223696138709784\n",
            "epoch: 450... loss: 0.00025223696138709784\n",
            "epoch: 500... loss: 0.00025223696138709784\n"
          ]
        },
        {
          "data": {
            "text/plain": [
              "GRU(\n",
              "  (gru): GRU(1, 100, batch_first=True)\n",
              "  (fc): Linear(in_features=100, out_features=1, bias=True)\n",
              ")"
            ]
          },
          "execution_count": 65,
          "metadata": {},
          "output_type": "execute_result"
        },
        {
          "data": {
            "text/plain": [
              "GRU(\n",
              "  (gru): GRU(1, 100, batch_first=True)\n",
              "  (fc): Linear(in_features=100, out_features=1, bias=True)\n",
              ")"
            ]
          },
          "execution_count": 65,
          "metadata": {},
          "output_type": "execute_result"
        },
        {
          "name": "stdout",
          "output_type": "stream",
          "text": [
            "epoch: 50... loss: 0.0002505769080016762\n",
            "epoch: 100... loss: 0.0002505729498807341\n",
            "epoch: 150... loss: 0.0002505729498807341\n",
            "epoch: 200... loss: 0.00025057297898456454\n",
            "epoch: 250... loss: 0.00025057297898456454\n",
            "epoch: 300... loss: 0.0002505729498807341\n",
            "epoch: 350... loss: 0.0002505729498807341\n",
            "epoch: 400... loss: 0.0002505729498807341\n",
            "epoch: 450... loss: 0.0002505729498807341\n",
            "epoch: 500... loss: 0.0002505729498807341\n"
          ]
        },
        {
          "data": {
            "text/plain": [
              "GRU(\n",
              "  (gru): GRU(1, 100, batch_first=True)\n",
              "  (fc): Linear(in_features=100, out_features=1, bias=True)\n",
              ")"
            ]
          },
          "execution_count": 65,
          "metadata": {},
          "output_type": "execute_result"
        },
        {
          "data": {
            "text/plain": [
              "GRU(\n",
              "  (gru): GRU(1, 100, batch_first=True)\n",
              "  (fc): Linear(in_features=100, out_features=1, bias=True)\n",
              ")"
            ]
          },
          "execution_count": 65,
          "metadata": {},
          "output_type": "execute_result"
        },
        {
          "name": "stdout",
          "output_type": "stream",
          "text": [
            "epoch: 50... loss: 0.00024855369701981544\n",
            "epoch: 100... loss: 0.000248552649281919\n",
            "epoch: 150... loss: 0.00024855262017808855\n",
            "epoch: 200... loss: 0.000248552649281919\n",
            "epoch: 250... loss: 0.00024855262017808855\n",
            "epoch: 300... loss: 0.00024855262017808855\n",
            "epoch: 350... loss: 0.000248552649281919\n",
            "epoch: 400... loss: 0.00024855262017808855\n",
            "epoch: 450... loss: 0.00024855262017808855\n",
            "epoch: 500... loss: 0.00024855262017808855\n"
          ]
        },
        {
          "data": {
            "text/plain": [
              "GRU(\n",
              "  (gru): GRU(1, 100, batch_first=True)\n",
              "  (fc): Linear(in_features=100, out_features=1, bias=True)\n",
              ")"
            ]
          },
          "execution_count": 65,
          "metadata": {},
          "output_type": "execute_result"
        },
        {
          "data": {
            "text/plain": [
              "GRU(\n",
              "  (gru): GRU(1, 100, batch_first=True)\n",
              "  (fc): Linear(in_features=100, out_features=1, bias=True)\n",
              ")"
            ]
          },
          "execution_count": 65,
          "metadata": {},
          "output_type": "execute_result"
        },
        {
          "name": "stdout",
          "output_type": "stream",
          "text": [
            "epoch: 50... loss: 0.00024905469035729766\n",
            "epoch: 100... loss: 0.00024905416648834944\n",
            "epoch: 150... loss: 0.00024905416648834944\n",
            "epoch: 200... loss: 0.00024905416648834944\n",
            "epoch: 250... loss: 0.00024905416648834944\n",
            "epoch: 300... loss: 0.00024905416648834944\n",
            "epoch: 350... loss: 0.00024905416648834944\n",
            "epoch: 400... loss: 0.00024905416648834944\n",
            "epoch: 450... loss: 0.00024905416648834944\n",
            "epoch: 500... loss: 0.00024905416648834944\n"
          ]
        },
        {
          "data": {
            "text/plain": [
              "GRU(\n",
              "  (gru): GRU(1, 100, batch_first=True)\n",
              "  (fc): Linear(in_features=100, out_features=1, bias=True)\n",
              ")"
            ]
          },
          "execution_count": 65,
          "metadata": {},
          "output_type": "execute_result"
        }
      ],
      "source": [
        "maxlen = len(rildf)\n",
        "forecast = []\n",
        "\n",
        "for ii in range(50):\n",
        "  xtrain, ytrain = sliding_window(rildf[ii:ii+maxlen-50+1][\"Return\"])\n",
        "\n",
        "  losses = []\n",
        "  hidden = model.init_state(xtrain.size(0)-1)\n",
        "\n",
        "  model.train()\n",
        "\n",
        "  for ii in range(1, epochs+1):\n",
        "    hidden = hidden.data.unsqueeze(0)\n",
        "    pred, hidden = model(xtrain[:-1, :].unsqueeze(2), hidden)\n",
        "    loss = criterion(ytrain, pred)\n",
        "    optimizer.zero_grad()\n",
        "    loss.backward()\n",
        "    optimizer.step()\n",
        "    losses.append(loss.item())\n",
        "    if (ii%50 == 0):\n",
        "        print(f\"epoch: {ii}... loss: {losses[-1]}\")\n",
        "\n",
        "  model.eval()\n",
        "  with torch.no_grad():\n",
        "    pred, hidden = model(xtrain[-1:, :].unsqueeze(2), hidden[-1:, :].unsqueeze(0))\n",
        "    forecast.append(pred)"
      ]
    },
    {
      "cell_type": "code",
      "execution_count": null,
      "metadata": {
        "colab": {
          "base_uri": "https://localhost:8080/"
        },
        "id": "hcl0T0u9NjNf",
        "outputId": "081119ef-2b4c-49a8-ac86-8e2ada86c592"
      },
      "outputs": [
        {
          "data": {
            "text/plain": [
              "[tensor([[0.0010]]),\n",
              " tensor([[0.0011]]),\n",
              " tensor([[0.0009]]),\n",
              " tensor([[0.0008]]),\n",
              " tensor([[0.0006]]),\n",
              " tensor([[0.0005]]),\n",
              " tensor([[0.0005]]),\n",
              " tensor([[0.0008]]),\n",
              " tensor([[0.0009]]),\n",
              " tensor([[0.0010]]),\n",
              " tensor([[0.0010]]),\n",
              " tensor([[0.0009]]),\n",
              " tensor([[0.0008]]),\n",
              " tensor([[0.0007]]),\n",
              " tensor([[0.0008]]),\n",
              " tensor([[0.0009]]),\n",
              " tensor([[0.0008]]),\n",
              " tensor([[0.0008]]),\n",
              " tensor([[0.0007]]),\n",
              " tensor([[0.0007]]),\n",
              " tensor([[0.0007]]),\n",
              " tensor([[0.0008]]),\n",
              " tensor([[0.0007]]),\n",
              " tensor([[0.0006]]),\n",
              " tensor([[0.0006]]),\n",
              " tensor([[0.0005]]),\n",
              " tensor([[0.0005]]),\n",
              " tensor([[0.0005]]),\n",
              " tensor([[0.0006]]),\n",
              " tensor([[0.0005]]),\n",
              " tensor([[0.0005]]),\n",
              " tensor([[0.0004]]),\n",
              " tensor([[0.0003]]),\n",
              " tensor([[7.0408e-05]]),\n",
              " tensor([[0.0003]]),\n",
              " tensor([[0.0004]]),\n",
              " tensor([[0.0004]]),\n",
              " tensor([[0.0004]]),\n",
              " tensor([[0.0003]]),\n",
              " tensor([[0.0005]]),\n",
              " tensor([[0.0007]]),\n",
              " tensor([[0.0007]]),\n",
              " tensor([[0.0008]]),\n",
              " tensor([[0.0009]]),\n",
              " tensor([[0.0009]]),\n",
              " tensor([[0.0009]]),\n",
              " tensor([[0.0009]]),\n",
              " tensor([[0.0010]]),\n",
              " tensor([[0.0012]]),\n",
              " tensor([[0.0011]])]"
            ]
          },
          "execution_count": 66,
          "metadata": {},
          "output_type": "execute_result"
        }
      ],
      "source": [
        "forecast"
      ]
    },
    {
      "cell_type": "code",
      "execution_count": null,
      "metadata": {
        "colab": {
          "base_uri": "https://localhost:8080/"
        },
        "id": "lb7YmipeHpRb",
        "outputId": "e5021442-046a-419a-9685-4c78828e14af"
      },
      "outputs": [
        {
          "name": "stdout",
          "output_type": "stream",
          "text": [
            "RMSE=1.8834%\n"
          ]
        },
        {
          "name": "stderr",
          "output_type": "stream",
          "text": [
            "/usr/local/lib/python3.7/dist-packages/sklearn/utils/validation.py:746: FutureWarning: The input object of type 'Tensor' is an array-like implementing one of the corresponding protocols (`__array__`, `__array_interface__` or `__array_struct__`); but not a sequence (or 0-D). In the future, this object will be coerced as if it was first converted using `np.array(obj)`. To retain the old behaviour, you have to either modify the type 'Tensor', or assign to an empty array created with `np.empty(correct_shape, dtype=object)`.\n",
            "  array = np.asarray(array, order=order, dtype=dtype)\n",
            "/usr/local/lib/python3.7/dist-packages/sklearn/utils/validation.py:746: VisibleDeprecationWarning: Creating an ndarray from ragged nested sequences (which is a list-or-tuple of lists-or-tuples-or ndarrays with different lengths or shapes) is deprecated. If you meant to do this, you must specify 'dtype=object' when creating the ndarray.\n",
            "  array = np.asarray(array, order=order, dtype=dtype)\n",
            "/usr/local/lib/python3.7/dist-packages/sklearn/metrics/_regression.py:96: FutureWarning: Arrays of bytes/strings is being converted to decimal numbers if dtype='numeric'. This behavior is deprecated in 0.24 and will be removed in 1.1 (renaming of 0.26). Please convert your data to numeric values explicitly instead.\n",
            "  y_pred = check_array(y_pred, ensure_2d=False, dtype=dtype)\n"
          ]
        }
      ],
      "source": [
        "from sklearn.metrics import mean_squared_error\n",
        "\n",
        "rmse = mean_squared_error(rildf[-50:][\"Return\"], forecast, squared=False)\n",
        "print(f\"RMSE={rmse*100:.4f}%\")"
      ]
    },
    {
      "cell_type": "markdown",
      "metadata": {
        "id": "7HMRVFH9ZkXx"
      },
      "source": [
        "# 4. Machine Learning"
      ]
    },
    {
      "cell_type": "code",
      "execution_count": null,
      "metadata": {
        "colab": {
          "base_uri": "https://localhost:8080/"
        },
        "id": "gtXDcJmuS9jO",
        "outputId": "ff93152a-bf40-45ee-9bb6-628ca21b93d2"
      },
      "outputs": [
        {
          "name": "stdout",
          "output_type": "stream",
          "text": [
            "Requirement already satisfied: yfinance in /usr/local/lib/python3.7/dist-packages (0.1.70)\n",
            "Requirement already satisfied: multitasking>=0.0.7 in /usr/local/lib/python3.7/dist-packages (from yfinance) (0.0.10)\n",
            "Requirement already satisfied: requests>=2.26 in /usr/local/lib/python3.7/dist-packages (from yfinance) (2.27.1)\n",
            "Requirement already satisfied: pandas>=0.24.0 in /usr/local/lib/python3.7/dist-packages (from yfinance) (1.3.5)\n",
            "Requirement already satisfied: lxml>=4.5.1 in /usr/local/lib/python3.7/dist-packages (from yfinance) (4.8.0)\n",
            "Requirement already satisfied: numpy>=1.15 in /usr/local/lib/python3.7/dist-packages (from yfinance) (1.21.5)\n",
            "Requirement already satisfied: pytz>=2017.3 in /usr/local/lib/python3.7/dist-packages (from pandas>=0.24.0->yfinance) (2018.9)\n",
            "Requirement already satisfied: python-dateutil>=2.7.3 in /usr/local/lib/python3.7/dist-packages (from pandas>=0.24.0->yfinance) (2.8.2)\n",
            "Requirement already satisfied: six>=1.5 in /usr/local/lib/python3.7/dist-packages (from python-dateutil>=2.7.3->pandas>=0.24.0->yfinance) (1.15.0)\n",
            "Requirement already satisfied: certifi>=2017.4.17 in /usr/local/lib/python3.7/dist-packages (from requests>=2.26->yfinance) (2021.10.8)\n",
            "Requirement already satisfied: urllib3<1.27,>=1.21.1 in /usr/local/lib/python3.7/dist-packages (from requests>=2.26->yfinance) (1.24.3)\n",
            "Requirement already satisfied: idna<4,>=2.5 in /usr/local/lib/python3.7/dist-packages (from requests>=2.26->yfinance) (2.10)\n",
            "Requirement already satisfied: charset-normalizer~=2.0.0 in /usr/local/lib/python3.7/dist-packages (from requests>=2.26->yfinance) (2.0.12)\n",
            "Requirement already satisfied: yahoofinancials in /usr/local/lib/python3.7/dist-packages (1.6)\n",
            "Requirement already satisfied: pytz in /usr/local/lib/python3.7/dist-packages (from yahoofinancials) (2018.9)\n",
            "Requirement already satisfied: beautifulsoup4 in /usr/local/lib/python3.7/dist-packages (from yahoofinancials) (4.6.3)\n",
            "Requirement already satisfied: pmdarima in /usr/local/lib/python3.7/dist-packages (1.8.5)\n",
            "Requirement already satisfied: Cython!=0.29.18,>=0.29 in /usr/local/lib/python3.7/dist-packages (from pmdarima) (0.29.28)\n",
            "Requirement already satisfied: setuptools!=50.0.0,>=38.6.0 in /usr/local/lib/python3.7/dist-packages (from pmdarima) (57.4.0)\n",
            "Requirement already satisfied: urllib3 in /usr/local/lib/python3.7/dist-packages (from pmdarima) (1.24.3)\n",
            "Requirement already satisfied: numpy>=1.19.3 in /usr/local/lib/python3.7/dist-packages (from pmdarima) (1.21.5)\n",
            "Requirement already satisfied: statsmodels!=0.12.0,>=0.11 in /usr/local/lib/python3.7/dist-packages (from pmdarima) (0.13.2)\n",
            "Requirement already satisfied: scipy>=1.3.2 in /usr/local/lib/python3.7/dist-packages (from pmdarima) (1.4.1)\n",
            "Requirement already satisfied: joblib>=0.11 in /usr/local/lib/python3.7/dist-packages (from pmdarima) (1.1.0)\n",
            "Requirement already satisfied: scikit-learn>=0.22 in /usr/local/lib/python3.7/dist-packages (from pmdarima) (0.23.2)\n",
            "Requirement already satisfied: pandas>=0.19 in /usr/local/lib/python3.7/dist-packages (from pmdarima) (1.3.5)\n",
            "Requirement already satisfied: python-dateutil>=2.7.3 in /usr/local/lib/python3.7/dist-packages (from pandas>=0.19->pmdarima) (2.8.2)\n",
            "Requirement already satisfied: pytz>=2017.3 in /usr/local/lib/python3.7/dist-packages (from pandas>=0.19->pmdarima) (2018.9)\n",
            "Requirement already satisfied: six>=1.5 in /usr/local/lib/python3.7/dist-packages (from python-dateutil>=2.7.3->pandas>=0.19->pmdarima) (1.15.0)\n",
            "Requirement already satisfied: threadpoolctl>=2.0.0 in /usr/local/lib/python3.7/dist-packages (from scikit-learn>=0.22->pmdarima) (3.1.0)\n",
            "Requirement already satisfied: packaging>=21.3 in /usr/local/lib/python3.7/dist-packages (from statsmodels!=0.12.0,>=0.11->pmdarima) (21.3)\n",
            "Requirement already satisfied: patsy>=0.5.2 in /usr/local/lib/python3.7/dist-packages (from statsmodels!=0.12.0,>=0.11->pmdarima) (0.5.2)\n",
            "Requirement already satisfied: pyparsing!=3.0.5,>=2.0.2 in /usr/local/lib/python3.7/dist-packages (from packaging>=21.3->statsmodels!=0.12.0,>=0.11->pmdarima) (3.0.7)\n",
            "Requirement already satisfied: pycaret[full] in /usr/local/lib/python3.7/dist-packages (2.3.9)\n",
            "Requirement already satisfied: gensim<4.0.0 in /usr/local/lib/python3.7/dist-packages (from pycaret[full]) (3.6.0)\n",
            "Requirement already satisfied: seaborn in /usr/local/lib/python3.7/dist-packages (from pycaret[full]) (0.11.2)\n",
            "Requirement already satisfied: plotly>=4.4.1 in /usr/local/lib/python3.7/dist-packages (from pycaret[full]) (5.5.0)\n",
            "Requirement already satisfied: scikit-plot in /usr/local/lib/python3.7/dist-packages (from pycaret[full]) (0.3.7)\n",
            "Requirement already satisfied: pyod in /usr/local/lib/python3.7/dist-packages (from pycaret[full]) (0.9.8)\n",
            "Requirement already satisfied: Boruta in /usr/local/lib/python3.7/dist-packages (from pycaret[full]) (0.3)\n",
            "Requirement already satisfied: ipywidgets in /usr/local/lib/python3.7/dist-packages (from pycaret[full]) (7.7.0)\n",
            "Requirement already satisfied: textblob in /usr/local/lib/python3.7/dist-packages (from pycaret[full]) (0.15.3)\n",
            "Requirement already satisfied: scikit-learn==0.23.2 in /usr/local/lib/python3.7/dist-packages (from pycaret[full]) (0.23.2)\n",
            "Requirement already satisfied: lightgbm>=2.3.1 in /usr/local/lib/python3.7/dist-packages (from pycaret[full]) (3.3.2)\n",
            "Requirement already satisfied: matplotlib in /usr/local/lib/python3.7/dist-packages (from pycaret[full]) (3.2.2)\n",
            "Requirement already satisfied: kmodes>=0.10.1 in /usr/local/lib/python3.7/dist-packages (from pycaret[full]) (0.12.0)\n",
            "Requirement already satisfied: nltk in /usr/local/lib/python3.7/dist-packages (from pycaret[full]) (3.2.5)\n",
            "Requirement already satisfied: pyLDAvis in /usr/local/lib/python3.7/dist-packages (from pycaret[full]) (3.3.1)\n",
            "Requirement already satisfied: pyyaml<6.0.0 in /usr/local/lib/python3.7/dist-packages (from pycaret[full]) (3.13)\n",
            "Requirement already satisfied: imbalanced-learn==0.7.0 in /usr/local/lib/python3.7/dist-packages (from pycaret[full]) (0.7.0)\n",
            "Requirement already satisfied: pandas in /usr/local/lib/python3.7/dist-packages (from pycaret[full]) (1.3.5)\n",
            "Requirement already satisfied: pandas-profiling>=2.8.0 in /usr/local/lib/python3.7/dist-packages (from pycaret[full]) (3.1.0)\n",
            "Requirement already satisfied: spacy<2.4.0 in /usr/local/lib/python3.7/dist-packages (from pycaret[full]) (2.2.4)\n",
            "Requirement already satisfied: yellowbrick>=1.0.1 in /usr/local/lib/python3.7/dist-packages (from pycaret[full]) (1.4)\n",
            "Requirement already satisfied: cufflinks>=0.17.0 in /usr/local/lib/python3.7/dist-packages (from pycaret[full]) (0.17.3)\n",
            "Requirement already satisfied: mlxtend>=0.17.0 in /usr/local/lib/python3.7/dist-packages (from pycaret[full]) (0.19.0)\n",
            "Requirement already satisfied: joblib in /usr/local/lib/python3.7/dist-packages (from pycaret[full]) (1.1.0)\n",
            "Requirement already satisfied: wordcloud in /usr/local/lib/python3.7/dist-packages (from pycaret[full]) (1.5.0)\n",
            "Requirement already satisfied: umap-learn in /usr/local/lib/python3.7/dist-packages (from pycaret[full]) (0.5.2)\n",
            "Requirement already satisfied: numba<0.55 in /usr/local/lib/python3.7/dist-packages (from pycaret[full]) (0.51.2)\n",
            "Requirement already satisfied: scipy<=1.5.4 in /usr/local/lib/python3.7/dist-packages (from pycaret[full]) (1.4.1)\n",
            "Requirement already satisfied: IPython in /usr/local/lib/python3.7/dist-packages (from pycaret[full]) (5.5.0)\n",
            "Requirement already satisfied: mlflow in /usr/local/lib/python3.7/dist-packages (from pycaret[full]) (1.24.0)\n",
            "Requirement already satisfied: azure-storage-blob; extra == \"full\" in /usr/local/lib/python3.7/dist-packages (from pycaret[full]) (12.11.0)\n",
            "Requirement already satisfied: fastapi; extra == \"full\" in /usr/local/lib/python3.7/dist-packages (from pycaret[full]) (0.75.0)\n",
            "Requirement already satisfied: catboost>=0.23.2; extra == \"full\" in /usr/local/lib/python3.7/dist-packages (from pycaret[full]) (1.0.4)\n",
            "Requirement already satisfied: uvicorn; extra == \"full\" in /usr/local/lib/python3.7/dist-packages (from pycaret[full]) (0.17.6)\n",
            "Requirement already satisfied: autoviz; extra == \"full\" in /usr/local/lib/python3.7/dist-packages (from pycaret[full]) (0.1.37)\n",
            "Requirement already satisfied: optuna>=2.2.0; extra == \"full\" in /usr/local/lib/python3.7/dist-packages (from pycaret[full]) (2.10.0)\n",
            "Requirement already satisfied: psutil; extra == \"full\" in /usr/local/lib/python3.7/dist-packages (from pycaret[full]) (5.4.8)\n",
            "Requirement already satisfied: fugue>=0.6.5; extra == \"full\" in /usr/local/lib/python3.7/dist-packages (from pycaret[full]) (0.6.5)\n",
            "Requirement already satisfied: evidently; extra == \"full\" in /usr/local/lib/python3.7/dist-packages (from pycaret[full]) (0.1.47.dev1)\n",
            "Requirement already satisfied: explainerdashboard; extra == \"full\" in /usr/local/lib/python3.7/dist-packages (from pycaret[full]) (0.3.8)\n",
            "Requirement already satisfied: m2cgen; extra == \"full\" in /usr/local/lib/python3.7/dist-packages (from pycaret[full]) (0.9.0)\n",
            "Requirement already satisfied: shap; extra == \"full\" in /usr/local/lib/python3.7/dist-packages (from pycaret[full]) (0.40.0)\n",
            "Requirement already satisfied: google-cloud-storage; extra == \"full\" in /usr/local/lib/python3.7/dist-packages (from pycaret[full]) (1.18.1)\n",
            "Requirement already satisfied: xgboost>=1.1.0; extra == \"full\" in /usr/local/lib/python3.7/dist-packages (from pycaret[full]) (1.5.2)\n",
            "Requirement already satisfied: interpret<=0.2.4; extra == \"full\" in /usr/local/lib/python3.7/dist-packages (from pycaret[full]) (0.2.4)\n",
            "Requirement already satisfied: scikit-optimize>=0.8.1; extra == \"full\" in /usr/local/lib/python3.7/dist-packages (from pycaret[full]) (0.9.0)\n",
            "Requirement already satisfied: tune-sklearn>=0.2.1; extra == \"full\" in /usr/local/lib/python3.7/dist-packages (from pycaret[full]) (0.4.1)\n",
            "Requirement already satisfied: ray[tune]>=1.0.0; extra == \"full\" in /usr/local/lib/python3.7/dist-packages (from pycaret[full]) (1.11.0)\n",
            "Requirement already satisfied: hyperopt; extra == \"full\" in /usr/local/lib/python3.7/dist-packages (from pycaret[full]) (0.1.2)\n",
            "Requirement already satisfied: gradio; extra == \"full\" in /usr/local/lib/python3.7/dist-packages (from pycaret[full]) (2.9.0)\n",
            "Requirement already satisfied: boto3; extra == \"full\" in /usr/local/lib/python3.7/dist-packages (from pycaret[full]) (1.21.30)\n",
            "Requirement already satisfied: fairlearn; extra == \"full\" in /usr/local/lib/python3.7/dist-packages (from pycaret[full]) (0.7.0)\n",
            "Requirement already satisfied: numpy>=1.11.3 in /usr/local/lib/python3.7/dist-packages (from gensim<4.0.0->pycaret[full]) (1.21.5)\n",
            "Requirement already satisfied: six>=1.5.0 in /usr/local/lib/python3.7/dist-packages (from gensim<4.0.0->pycaret[full]) (1.15.0)\n",
            "Requirement already satisfied: smart-open>=1.2.1 in /usr/local/lib/python3.7/dist-packages (from gensim<4.0.0->pycaret[full]) (5.2.1)\n",
            "Requirement already satisfied: tenacity>=6.2.0 in /usr/local/lib/python3.7/dist-packages (from plotly>=4.4.1->pycaret[full]) (8.0.1)\n",
            "Requirement already satisfied: statsmodels in /usr/local/lib/python3.7/dist-packages (from pyod->pycaret[full]) (0.13.2)\n",
            "Requirement already satisfied: ipython-genutils~=0.2.0 in /usr/local/lib/python3.7/dist-packages (from ipywidgets->pycaret[full]) (0.2.0)\n",
            "Requirement already satisfied: traitlets>=4.3.1 in /usr/local/lib/python3.7/dist-packages (from ipywidgets->pycaret[full]) (5.1.1)\n",
            "Requirement already satisfied: jupyterlab-widgets>=1.0.0; python_version >= \"3.6\" in /usr/local/lib/python3.7/dist-packages (from ipywidgets->pycaret[full]) (1.1.0)\n",
            "Requirement already satisfied: ipykernel>=4.5.1 in /usr/local/lib/python3.7/dist-packages (from ipywidgets->pycaret[full]) (4.10.1)\n",
            "Requirement already satisfied: widgetsnbextension~=3.6.0 in /usr/local/lib/python3.7/dist-packages (from ipywidgets->pycaret[full]) (3.6.0)\n",
            "Requirement already satisfied: nbformat>=4.2.0 in /usr/local/lib/python3.7/dist-packages (from ipywidgets->pycaret[full]) (5.2.0)\n",
            "Requirement already satisfied: threadpoolctl>=2.0.0 in /usr/local/lib/python3.7/dist-packages (from scikit-learn==0.23.2->pycaret[full]) (3.1.0)\n",
            "Requirement already satisfied: wheel in /usr/local/lib/python3.7/dist-packages (from lightgbm>=2.3.1->pycaret[full]) (0.37.1)\n",
            "Requirement already satisfied: cycler>=0.10 in /usr/local/lib/python3.7/dist-packages (from matplotlib->pycaret[full]) (0.11.0)\n",
            "Requirement already satisfied: kiwisolver>=1.0.1 in /usr/local/lib/python3.7/dist-packages (from matplotlib->pycaret[full]) (1.4.0)\n",
            "Requirement already satisfied: pyparsing!=2.0.4,!=2.1.2,!=2.1.6,>=2.0.1 in /usr/local/lib/python3.7/dist-packages (from matplotlib->pycaret[full]) (3.0.7)\n",
            "Requirement already satisfied: python-dateutil>=2.1 in /usr/local/lib/python3.7/dist-packages (from matplotlib->pycaret[full]) (2.8.2)\n",
            "Requirement already satisfied: numexpr in /usr/local/lib/python3.7/dist-packages (from pyLDAvis->pycaret[full]) (2.8.1)\n",
            "Requirement already satisfied: future in /usr/local/lib/python3.7/dist-packages (from pyLDAvis->pycaret[full]) (0.16.0)\n",
            "Requirement already satisfied: jinja2 in /usr/local/lib/python3.7/dist-packages (from pyLDAvis->pycaret[full]) (2.11.3)\n",
            "Requirement already satisfied: sklearn in /usr/local/lib/python3.7/dist-packages (from pyLDAvis->pycaret[full]) (0.0)\n",
            "Requirement already satisfied: setuptools in /usr/local/lib/python3.7/dist-packages (from pyLDAvis->pycaret[full]) (57.4.0)\n",
            "Requirement already satisfied: funcy in /usr/local/lib/python3.7/dist-packages (from pyLDAvis->pycaret[full]) (1.17)\n",
            "Requirement already satisfied: pytz>=2017.3 in /usr/local/lib/python3.7/dist-packages (from pandas->pycaret[full]) (2018.9)\n",
            "Requirement already satisfied: visions[type_image_path]==0.7.4 in /usr/local/lib/python3.7/dist-packages (from pandas-profiling>=2.8.0->pycaret[full]) (0.7.4)\n",
            "Requirement already satisfied: requests>=2.24.0 in /usr/local/lib/python3.7/dist-packages (from pandas-profiling>=2.8.0->pycaret[full]) (2.27.1)\n",
            "Requirement already satisfied: tqdm>=4.48.2 in /usr/local/lib/python3.7/dist-packages (from pandas-profiling>=2.8.0->pycaret[full]) (4.63.0)\n",
            "Requirement already satisfied: phik>=0.11.1 in /usr/local/lib/python3.7/dist-packages (from pandas-profiling>=2.8.0->pycaret[full]) (0.12.2)\n",
            "Requirement already satisfied: markupsafe~=2.0.1 in /usr/local/lib/python3.7/dist-packages (from pandas-profiling>=2.8.0->pycaret[full]) (2.0.1)\n",
            "Requirement already satisfied: htmlmin>=0.1.12 in /usr/local/lib/python3.7/dist-packages (from pandas-profiling>=2.8.0->pycaret[full]) (0.1.12)\n",
            "Requirement already satisfied: missingno>=0.4.2 in /usr/local/lib/python3.7/dist-packages (from pandas-profiling>=2.8.0->pycaret[full]) (0.5.1)\n",
            "Requirement already satisfied: tangled-up-in-unicode==0.1.0 in /usr/local/lib/python3.7/dist-packages (from pandas-profiling>=2.8.0->pycaret[full]) (0.1.0)\n",
            "Requirement already satisfied: pydantic>=1.8.1 in /usr/local/lib/python3.7/dist-packages (from pandas-profiling>=2.8.0->pycaret[full]) (1.9.0)\n",
            "Requirement already satisfied: multimethod>=1.4 in /usr/local/lib/python3.7/dist-packages (from pandas-profiling>=2.8.0->pycaret[full]) (1.7)\n",
            "Requirement already satisfied: catalogue<1.1.0,>=0.0.7 in /usr/local/lib/python3.7/dist-packages (from spacy<2.4.0->pycaret[full]) (1.0.0)\n",
            "Requirement already satisfied: murmurhash<1.1.0,>=0.28.0 in /usr/local/lib/python3.7/dist-packages (from spacy<2.4.0->pycaret[full]) (1.0.6)\n",
            "Requirement already satisfied: preshed<3.1.0,>=3.0.2 in /usr/local/lib/python3.7/dist-packages (from spacy<2.4.0->pycaret[full]) (3.0.6)\n",
            "Requirement already satisfied: thinc==7.4.0 in /usr/local/lib/python3.7/dist-packages (from spacy<2.4.0->pycaret[full]) (7.4.0)\n",
            "Requirement already satisfied: blis<0.5.0,>=0.4.0 in /usr/local/lib/python3.7/dist-packages (from spacy<2.4.0->pycaret[full]) (0.4.1)\n",
            "Requirement already satisfied: srsly<1.1.0,>=1.0.2 in /usr/local/lib/python3.7/dist-packages (from spacy<2.4.0->pycaret[full]) (1.0.5)\n",
            "Requirement already satisfied: wasabi<1.1.0,>=0.4.0 in /usr/local/lib/python3.7/dist-packages (from spacy<2.4.0->pycaret[full]) (0.9.0)\n",
            "Requirement already satisfied: plac<1.2.0,>=0.9.6 in /usr/local/lib/python3.7/dist-packages (from spacy<2.4.0->pycaret[full]) (1.1.3)\n",
            "Requirement already satisfied: cymem<2.1.0,>=2.0.2 in /usr/local/lib/python3.7/dist-packages (from spacy<2.4.0->pycaret[full]) (2.0.6)\n",
            "Requirement already satisfied: colorlover>=0.2.1 in /usr/local/lib/python3.7/dist-packages (from cufflinks>=0.17.0->pycaret[full]) (0.3.0)\n",
            "Requirement already satisfied: pillow in /usr/local/lib/python3.7/dist-packages (from wordcloud->pycaret[full]) (7.1.2)\n",
            "Requirement already satisfied: pynndescent>=0.5 in /usr/local/lib/python3.7/dist-packages (from umap-learn->pycaret[full]) (0.5.6)\n",
            "Requirement already satisfied: llvmlite<0.35,>=0.34.0.dev0 in /usr/local/lib/python3.7/dist-packages (from numba<0.55->pycaret[full]) (0.34.0)\n",
            "Requirement already satisfied: prompt-toolkit<2.0.0,>=1.0.4 in /usr/local/lib/python3.7/dist-packages (from IPython->pycaret[full]) (1.0.18)\n",
            "Requirement already satisfied: pickleshare in /usr/local/lib/python3.7/dist-packages (from IPython->pycaret[full]) (0.7.5)\n",
            "Requirement already satisfied: pexpect; sys_platform != \"win32\" in /usr/local/lib/python3.7/dist-packages (from IPython->pycaret[full]) (4.8.0)\n",
            "Requirement already satisfied: pygments in /usr/local/lib/python3.7/dist-packages (from IPython->pycaret[full]) (2.6.1)\n",
            "Requirement already satisfied: simplegeneric>0.8 in /usr/local/lib/python3.7/dist-packages (from IPython->pycaret[full]) (0.8.1)\n",
            "Requirement already satisfied: decorator in /usr/local/lib/python3.7/dist-packages (from IPython->pycaret[full]) (4.4.2)\n",
            "Requirement already satisfied: gitpython>=2.1.0 in /usr/local/lib/python3.7/dist-packages (from mlflow->pycaret[full]) (3.1.27)\n",
            "Requirement already satisfied: Flask in /usr/local/lib/python3.7/dist-packages (from mlflow->pycaret[full]) (1.1.4)\n",
            "Requirement already satisfied: protobuf>=3.7.0 in /usr/local/lib/python3.7/dist-packages (from mlflow->pycaret[full]) (3.17.3)\n",
            "Requirement already satisfied: alembic in /usr/local/lib/python3.7/dist-packages (from mlflow->pycaret[full]) (1.7.7)\n",
            "Requirement already satisfied: sqlparse>=0.3.1 in /usr/local/lib/python3.7/dist-packages (from mlflow->pycaret[full]) (0.4.2)\n",
            "Requirement already satisfied: click>=7.0 in /usr/local/lib/python3.7/dist-packages (from mlflow->pycaret[full]) (7.1.2)\n",
            "Requirement already satisfied: querystring-parser in /usr/local/lib/python3.7/dist-packages (from mlflow->pycaret[full]) (1.2.4)\n",
            "Requirement already satisfied: docker>=4.0.0 in /usr/local/lib/python3.7/dist-packages (from mlflow->pycaret[full]) (5.0.3)\n",
            "Requirement already satisfied: entrypoints in /usr/local/lib/python3.7/dist-packages (from mlflow->pycaret[full]) (0.4)\n",
            "Requirement already satisfied: sqlalchemy in /usr/local/lib/python3.7/dist-packages (from mlflow->pycaret[full]) (1.4.32)\n",
            "Requirement already satisfied: cloudpickle in /usr/local/lib/python3.7/dist-packages (from mlflow->pycaret[full]) (1.3.0)\n",
            "Requirement already satisfied: packaging in /usr/local/lib/python3.7/dist-packages (from mlflow->pycaret[full]) (21.3)\n",
            "Requirement already satisfied: databricks-cli>=0.8.7 in /usr/local/lib/python3.7/dist-packages (from mlflow->pycaret[full]) (0.16.4)\n",
            "Requirement already satisfied: importlib-metadata!=4.7.0,>=3.7.0 in /usr/local/lib/python3.7/dist-packages (from mlflow->pycaret[full]) (4.11.3)\n",
            "Requirement already satisfied: prometheus-flask-exporter in /usr/local/lib/python3.7/dist-packages (from mlflow->pycaret[full]) (0.19.0)\n",
            "Requirement already satisfied: gunicorn; platform_system != \"Windows\" in /usr/local/lib/python3.7/dist-packages (from mlflow->pycaret[full]) (20.1.0)\n",
            "Requirement already satisfied: msrest>=0.6.21 in /usr/local/lib/python3.7/dist-packages (from azure-storage-blob; extra == \"full\"->pycaret[full]) (0.6.21)\n",
            "Requirement already satisfied: azure-core<2.0.0,>=1.15.0 in /usr/local/lib/python3.7/dist-packages (from azure-storage-blob; extra == \"full\"->pycaret[full]) (1.23.0)\n",
            "Requirement already satisfied: cryptography>=2.1.4 in /usr/local/lib/python3.7/dist-packages (from azure-storage-blob; extra == \"full\"->pycaret[full]) (36.0.2)\n",
            "Requirement already satisfied: starlette==0.17.1 in /usr/local/lib/python3.7/dist-packages (from fastapi; extra == \"full\"->pycaret[full]) (0.17.1)\n",
            "Requirement already satisfied: graphviz in /usr/local/lib/python3.7/dist-packages (from catboost>=0.23.2; extra == \"full\"->pycaret[full]) (0.10.1)\n",
            "Requirement already satisfied: typing-extensions; python_version < \"3.8\" in /usr/local/lib/python3.7/dist-packages (from uvicorn; extra == \"full\"->pycaret[full]) (4.1.1)\n",
            "Requirement already satisfied: h11>=0.8 in /usr/local/lib/python3.7/dist-packages (from uvicorn; extra == \"full\"->pycaret[full]) (0.13.0)\n",
            "Requirement already satisfied: asgiref>=3.4.0 in /usr/local/lib/python3.7/dist-packages (from uvicorn; extra == \"full\"->pycaret[full]) (3.5.0)\n",
            "Requirement already satisfied: jupyter in /usr/local/lib/python3.7/dist-packages (from autoviz; extra == \"full\"->pycaret[full]) (1.0.0)\n",
            "Requirement already satisfied: panel==0.12.6 in /usr/local/lib/python3.7/dist-packages (from autoviz; extra == \"full\"->pycaret[full]) (0.12.6)\n",
            "Requirement already satisfied: hvplot==0.7.3 in /usr/local/lib/python3.7/dist-packages (from autoviz; extra == \"full\"->pycaret[full]) (0.7.3)\n",
            "Requirement already satisfied: bokeh==2.4.2 in /usr/local/lib/python3.7/dist-packages (from autoviz; extra == \"full\"->pycaret[full]) (2.4.2)\n",
            "Requirement already satisfied: fsspec==0.8.3 in /usr/local/lib/python3.7/dist-packages (from autoviz; extra == \"full\"->pycaret[full]) (0.8.3)\n",
            "Requirement already satisfied: emoji in /usr/local/lib/python3.7/dist-packages (from autoviz; extra == \"full\"->pycaret[full]) (1.7.0)\n",
            "Requirement already satisfied: xlrd in /usr/local/lib/python3.7/dist-packages (from autoviz; extra == \"full\"->pycaret[full]) (1.1.0)\n",
            "Requirement already satisfied: holoviews==1.14.6 in /usr/local/lib/python3.7/dist-packages (from autoviz; extra == \"full\"->pycaret[full]) (1.14.6)\n",
            "Requirement already satisfied: colorlog in /usr/local/lib/python3.7/dist-packages (from optuna>=2.2.0; extra == \"full\"->pycaret[full]) (6.6.0)\n",
            "Requirement already satisfied: cliff in /usr/local/lib/python3.7/dist-packages (from optuna>=2.2.0; extra == \"full\"->pycaret[full]) (3.10.1)\n",
            "Requirement already satisfied: cmaes>=0.8.2 in /usr/local/lib/python3.7/dist-packages (from optuna>=2.2.0; extra == \"full\"->pycaret[full]) (0.8.2)\n",
            "Requirement already satisfied: adagio>=0.2.3 in /usr/local/lib/python3.7/dist-packages (from fugue>=0.6.5; extra == \"full\"->pycaret[full]) (0.2.3)\n",
            "Requirement already satisfied: qpd>=0.2.6 in /usr/local/lib/python3.7/dist-packages (from fugue>=0.6.5; extra == \"full\"->pycaret[full]) (0.2.6)\n",
            "Requirement already satisfied: triad>=0.6.0 in /usr/local/lib/python3.7/dist-packages (from fugue>=0.6.5; extra == \"full\"->pycaret[full]) (0.6.0)\n",
            "Requirement already satisfied: pyarrow>=0.15.1 in /usr/local/lib/python3.7/dist-packages (from fugue>=0.6.5; extra == \"full\"->pycaret[full]) (6.0.1)\n",
            "Requirement already satisfied: dataclasses>=0.6 in /usr/local/lib/python3.7/dist-packages (from evidently; extra == \"full\"->pycaret[full]) (0.6)\n",
            "Requirement already satisfied: dash-bootstrap-components<1 in /usr/local/lib/python3.7/dist-packages (from explainerdashboard; extra == \"full\"->pycaret[full]) (0.13.1)\n",
            "Requirement already satisfied: flask-simplelogin in /usr/local/lib/python3.7/dist-packages (from explainerdashboard; extra == \"full\"->pycaret[full]) (0.1.1)\n",
            "Requirement already satisfied: dash>=2 in /usr/local/lib/python3.7/dist-packages (from explainerdashboard; extra == \"full\"->pycaret[full]) (2.3.1)\n",
            "Requirement already satisfied: oyaml in /usr/local/lib/python3.7/dist-packages (from explainerdashboard; extra == \"full\"->pycaret[full]) (1.0)\n",
            "Requirement already satisfied: jupyter-dash in /usr/local/lib/python3.7/dist-packages (from explainerdashboard; extra == \"full\"->pycaret[full]) (0.4.1)\n",
            "Requirement already satisfied: waitress in /usr/local/lib/python3.7/dist-packages (from explainerdashboard; extra == \"full\"->pycaret[full]) (2.1.1)\n",
            "Requirement already satisfied: orjson in /usr/local/lib/python3.7/dist-packages (from explainerdashboard; extra == \"full\"->pycaret[full]) (3.6.7)\n",
            "Requirement already satisfied: dtreeviz>=1.3 in /usr/local/lib/python3.7/dist-packages (from explainerdashboard; extra == \"full\"->pycaret[full]) (1.3.5)\n",
            "Requirement already satisfied: dash-auth in /usr/local/lib/python3.7/dist-packages (from explainerdashboard; extra == \"full\"->pycaret[full]) (1.4.1)\n",
            "Requirement already satisfied: slicer==0.0.7 in /usr/local/lib/python3.7/dist-packages (from shap; extra == \"full\"->pycaret[full]) (0.0.7)\n",
            "Requirement already satisfied: google-cloud-core<2.0dev,>=1.0.0 in /usr/local/lib/python3.7/dist-packages (from google-cloud-storage; extra == \"full\"->pycaret[full]) (1.0.3)\n",
            "Requirement already satisfied: google-auth>=1.2.0 in /usr/local/lib/python3.7/dist-packages (from google-cloud-storage; extra == \"full\"->pycaret[full]) (1.35.0)\n",
            "Requirement already satisfied: google-resumable-media<0.5.0dev,>=0.3.1 in /usr/local/lib/python3.7/dist-packages (from google-cloud-storage; extra == \"full\"->pycaret[full]) (0.4.1)\n",
            "Requirement already satisfied: interpret-core[dash,debug,decisiontree,ebm,lime,linear,notebook,plotly,required,sensitivity,shap,skoperules,treeinterpreter]>=0.2.4 in /usr/local/lib/python3.7/dist-packages (from interpret<=0.2.4; extra == \"full\"->pycaret[full]) (0.2.7)\n",
            "Requirement already satisfied: pyaml>=16.9 in /usr/local/lib/python3.7/dist-packages (from scikit-optimize>=0.8.1; extra == \"full\"->pycaret[full]) (21.10.1)\n",
            "Requirement already satisfied: redis>=3.5.0 in /usr/local/lib/python3.7/dist-packages (from ray[tune]>=1.0.0; extra == \"full\"->pycaret[full]) (4.2.1)\n",
            "Requirement already satisfied: grpcio<=1.43.0,>=1.28.1 in /usr/local/lib/python3.7/dist-packages (from ray[tune]>=1.0.0; extra == \"full\"->pycaret[full]) (1.43.0)\n",
            "Requirement already satisfied: attrs in /usr/local/lib/python3.7/dist-packages (from ray[tune]>=1.0.0; extra == \"full\"->pycaret[full]) (21.4.0)\n",
            "Requirement already satisfied: jsonschema in /usr/local/lib/python3.7/dist-packages (from ray[tune]>=1.0.0; extra == \"full\"->pycaret[full]) (4.3.3)\n",
            "Requirement already satisfied: filelock in /usr/local/lib/python3.7/dist-packages (from ray[tune]>=1.0.0; extra == \"full\"->pycaret[full]) (3.6.0)\n",
            "Requirement already satisfied: msgpack<2.0.0,>=1.0.0 in /usr/local/lib/python3.7/dist-packages (from ray[tune]>=1.0.0; extra == \"full\"->pycaret[full]) (1.0.3)\n",
            "Requirement already satisfied: tabulate; extra == \"tune\" in /usr/local/lib/python3.7/dist-packages (from ray[tune]>=1.0.0; extra == \"full\"->pycaret[full]) (0.8.9)\n",
            "Requirement already satisfied: tensorboardX>=1.9; extra == \"tune\" in /usr/local/lib/python3.7/dist-packages (from ray[tune]>=1.0.0; extra == \"full\"->pycaret[full]) (2.5)\n",
            "Requirement already satisfied: pymongo in /usr/local/lib/python3.7/dist-packages (from hyperopt; extra == \"full\"->pycaret[full]) (4.0.2)\n",
            "Requirement already satisfied: networkx in /usr/local/lib/python3.7/dist-packages (from hyperopt; extra == \"full\"->pycaret[full]) (2.6.3)\n",
            "Requirement already satisfied: aiohttp in /usr/local/lib/python3.7/dist-packages (from gradio; extra == \"full\"->pycaret[full]) (3.8.1)\n",
            "Requirement already satisfied: markdown-it-py[linkify,plugins] in /usr/local/lib/python3.7/dist-packages (from gradio; extra == \"full\"->pycaret[full]) (2.0.1)\n",
            "Requirement already satisfied: pydub in /usr/local/lib/python3.7/dist-packages (from gradio; extra == \"full\"->pycaret[full]) (0.25.1)\n",
            "Requirement already satisfied: ffmpy in /usr/local/lib/python3.7/dist-packages (from gradio; extra == \"full\"->pycaret[full]) (0.3.0)\n",
            "Requirement already satisfied: analytics-python in /usr/local/lib/python3.7/dist-packages (from gradio; extra == \"full\"->pycaret[full]) (1.4.0)\n",
            "Requirement already satisfied: paramiko in /usr/local/lib/python3.7/dist-packages (from gradio; extra == \"full\"->pycaret[full]) (2.10.3)\n",
            "Requirement already satisfied: pycryptodome in /usr/local/lib/python3.7/dist-packages (from gradio; extra == \"full\"->pycaret[full]) (3.14.1)\n",
            "Requirement already satisfied: python-multipart in /usr/local/lib/python3.7/dist-packages (from gradio; extra == \"full\"->pycaret[full]) (0.0.5)\n",
            "Requirement already satisfied: jmespath<2.0.0,>=0.7.1 in /usr/local/lib/python3.7/dist-packages (from boto3; extra == \"full\"->pycaret[full]) (1.0.0)\n",
            "Requirement already satisfied: botocore<1.25.0,>=1.24.30 in /usr/local/lib/python3.7/dist-packages (from boto3; extra == \"full\"->pycaret[full]) (1.24.30)\n",
            "Requirement already satisfied: s3transfer<0.6.0,>=0.5.0 in /usr/local/lib/python3.7/dist-packages (from boto3; extra == \"full\"->pycaret[full]) (0.5.2)\n",
            "Requirement already satisfied: patsy>=0.5.2 in /usr/local/lib/python3.7/dist-packages (from statsmodels->pyod->pycaret[full]) (0.5.2)\n",
            "Requirement already satisfied: tornado>=4.0 in /usr/local/lib/python3.7/dist-packages (from ipykernel>=4.5.1->ipywidgets->pycaret[full]) (5.1.1)\n",
            "Requirement already satisfied: jupyter-client in /usr/local/lib/python3.7/dist-packages (from ipykernel>=4.5.1->ipywidgets->pycaret[full]) (5.3.5)\n",
            "Requirement already satisfied: notebook>=4.4.1 in /usr/local/lib/python3.7/dist-packages (from widgetsnbextension~=3.6.0->ipywidgets->pycaret[full]) (5.3.1)\n",
            "Requirement already satisfied: jupyter-core in /usr/local/lib/python3.7/dist-packages (from nbformat>=4.2.0->ipywidgets->pycaret[full]) (4.9.2)\n",
            "Requirement already satisfied: imagehash; extra == \"type_image_path\" in /usr/local/lib/python3.7/dist-packages (from visions[type_image_path]==0.7.4->pandas-profiling>=2.8.0->pycaret[full]) (4.2.1)\n",
            "Requirement already satisfied: charset-normalizer~=2.0.0; python_version >= \"3\" in /usr/local/lib/python3.7/dist-packages (from requests>=2.24.0->pandas-profiling>=2.8.0->pycaret[full]) (2.0.12)\n",
            "Requirement already satisfied: idna<4,>=2.5; python_version >= \"3\" in /usr/local/lib/python3.7/dist-packages (from requests>=2.24.0->pandas-profiling>=2.8.0->pycaret[full]) (2.10)\n",
            "Requirement already satisfied: urllib3<1.27,>=1.21.1 in /usr/local/lib/python3.7/dist-packages (from requests>=2.24.0->pandas-profiling>=2.8.0->pycaret[full]) (1.24.3)\n",
            "Requirement already satisfied: certifi>=2017.4.17 in /usr/local/lib/python3.7/dist-packages (from requests>=2.24.0->pandas-profiling>=2.8.0->pycaret[full]) (2021.10.8)\n",
            "Requirement already satisfied: wcwidth in /usr/local/lib/python3.7/dist-packages (from prompt-toolkit<2.0.0,>=1.0.4->IPython->pycaret[full]) (0.2.5)\n",
            "Requirement already satisfied: ptyprocess>=0.5 in /usr/local/lib/python3.7/dist-packages (from pexpect; sys_platform != \"win32\"->IPython->pycaret[full]) (0.7.0)\n",
            "Requirement already satisfied: gitdb<5,>=4.0.1 in /usr/local/lib/python3.7/dist-packages (from gitpython>=2.1.0->mlflow->pycaret[full]) (4.0.9)\n",
            "Requirement already satisfied: itsdangerous<2.0,>=0.24 in /usr/local/lib/python3.7/dist-packages (from Flask->mlflow->pycaret[full]) (1.1.0)\n",
            "Requirement already satisfied: Werkzeug<2.0,>=0.15 in /usr/local/lib/python3.7/dist-packages (from Flask->mlflow->pycaret[full]) (1.0.1)\n",
            "Requirement already satisfied: importlib-resources; python_version < \"3.9\" in /usr/local/lib/python3.7/dist-packages (from alembic->mlflow->pycaret[full]) (5.4.0)\n",
            "Requirement already satisfied: Mako in /usr/local/lib/python3.7/dist-packages (from alembic->mlflow->pycaret[full]) (1.2.0)\n",
            "Requirement already satisfied: websocket-client>=0.32.0 in /usr/local/lib/python3.7/dist-packages (from docker>=4.0.0->mlflow->pycaret[full]) (1.3.2)\n",
            "Requirement already satisfied: greenlet!=0.4.17; python_version >= \"3\" and (platform_machine == \"aarch64\" or (platform_machine == \"ppc64le\" or (platform_machine == \"x86_64\" or (platform_machine == \"amd64\" or (platform_machine == \"AMD64\" or (platform_machine == \"win32\" or platform_machine == \"WIN32\")))))) in /usr/local/lib/python3.7/dist-packages (from sqlalchemy->mlflow->pycaret[full]) (1.1.2)\n",
            "Requirement already satisfied: zipp>=0.5 in /usr/local/lib/python3.7/dist-packages (from importlib-metadata!=4.7.0,>=3.7.0->mlflow->pycaret[full]) (3.7.0)\n",
            "Requirement already satisfied: prometheus-client in /usr/local/lib/python3.7/dist-packages (from prometheus-flask-exporter->mlflow->pycaret[full]) (0.13.1)\n",
            "Requirement already satisfied: requests-oauthlib>=0.5.0 in /usr/local/lib/python3.7/dist-packages (from msrest>=0.6.21->azure-storage-blob; extra == \"full\"->pycaret[full]) (1.3.1)\n",
            "Requirement already satisfied: isodate>=0.6.0 in /usr/local/lib/python3.7/dist-packages (from msrest>=0.6.21->azure-storage-blob; extra == \"full\"->pycaret[full]) (0.6.1)\n",
            "Requirement already satisfied: cffi>=1.12 in /usr/local/lib/python3.7/dist-packages (from cryptography>=2.1.4->azure-storage-blob; extra == \"full\"->pycaret[full]) (1.15.0)\n",
            "Requirement already satisfied: anyio<4,>=3.0.0 in /usr/local/lib/python3.7/dist-packages (from starlette==0.17.1->fastapi; extra == \"full\"->pycaret[full]) (3.5.0)\n",
            "Requirement already satisfied: jupyter-console in /usr/local/lib/python3.7/dist-packages (from jupyter->autoviz; extra == \"full\"->pycaret[full]) (5.2.0)\n",
            "Requirement already satisfied: nbconvert in /usr/local/lib/python3.7/dist-packages (from jupyter->autoviz; extra == \"full\"->pycaret[full]) (5.6.1)\n",
            "Requirement already satisfied: qtconsole in /usr/local/lib/python3.7/dist-packages (from jupyter->autoviz; extra == \"full\"->pycaret[full]) (5.2.2)\n",
            "Requirement already satisfied: markdown in /usr/local/lib/python3.7/dist-packages (from panel==0.12.6->autoviz; extra == \"full\"->pycaret[full]) (3.3.6)\n",
            "Requirement already satisfied: pyviz-comms>=0.7.4 in /usr/local/lib/python3.7/dist-packages (from panel==0.12.6->autoviz; extra == \"full\"->pycaret[full]) (2.1.0)\n",
            "Requirement already satisfied: bleach in /usr/local/lib/python3.7/dist-packages (from panel==0.12.6->autoviz; extra == \"full\"->pycaret[full]) (4.1.0)\n",
            "Requirement already satisfied: param>=1.10.0 in /usr/local/lib/python3.7/dist-packages (from panel==0.12.6->autoviz; extra == \"full\"->pycaret[full]) (1.12.0)\n",
            "Requirement already satisfied: pyct>=0.4.4 in /usr/local/lib/python3.7/dist-packages (from panel==0.12.6->autoviz; extra == \"full\"->pycaret[full]) (0.4.8)\n",
            "Requirement already satisfied: colorcet>=2 in /usr/local/lib/python3.7/dist-packages (from hvplot==0.7.3->autoviz; extra == \"full\"->pycaret[full]) (3.0.0)\n",
            "Requirement already satisfied: autopage>=0.4.0 in /usr/local/lib/python3.7/dist-packages (from cliff->optuna>=2.2.0; extra == \"full\"->pycaret[full]) (0.5.0)\n",
            "Requirement already satisfied: stevedore>=2.0.1 in /usr/local/lib/python3.7/dist-packages (from cliff->optuna>=2.2.0; extra == \"full\"->pycaret[full]) (3.5.0)\n",
            "Requirement already satisfied: PrettyTable>=0.7.2 in /usr/local/lib/python3.7/dist-packages (from cliff->optuna>=2.2.0; extra == \"full\"->pycaret[full]) (3.2.0)\n",
            "Requirement already satisfied: pbr!=2.1.0,>=2.0.0 in /usr/local/lib/python3.7/dist-packages (from cliff->optuna>=2.2.0; extra == \"full\"->pycaret[full]) (5.8.1)\n",
            "Requirement already satisfied: cmd2>=1.0.0 in /usr/local/lib/python3.7/dist-packages (from cliff->optuna>=2.2.0; extra == \"full\"->pycaret[full]) (2.4.0)\n",
            "Requirement already satisfied: antlr4-python3-runtime in /usr/local/lib/python3.7/dist-packages (from qpd>=0.2.6->fugue>=0.6.5; extra == \"full\"->pycaret[full]) (4.9.3)\n",
            "Requirement already satisfied: fs in /usr/local/lib/python3.7/dist-packages (from triad>=0.6.0->fugue>=0.6.5; extra == \"full\"->pycaret[full]) (2.4.15)\n",
            "Requirement already satisfied: ciso8601; platform_system != \"Windows\" in /usr/local/lib/python3.7/dist-packages (from triad>=0.6.0->fugue>=0.6.5; extra == \"full\"->pycaret[full]) (2.2.0)\n",
            "Requirement already satisfied: Flask-WTF<0.16.0,>=0.15.1 in /usr/local/lib/python3.7/dist-packages (from flask-simplelogin->explainerdashboard; extra == \"full\"->pycaret[full]) (0.15.1)\n",
            "Requirement already satisfied: WTForms>=2.1 in /usr/local/lib/python3.7/dist-packages (from flask-simplelogin->explainerdashboard; extra == \"full\"->pycaret[full]) (3.0.1)\n",
            "Requirement already satisfied: dash-core-components==2.0.0 in /usr/local/lib/python3.7/dist-packages (from dash>=2->explainerdashboard; extra == \"full\"->pycaret[full]) (2.0.0)\n",
            "Requirement already satisfied: dash-table==5.0.0 in /usr/local/lib/python3.7/dist-packages (from dash>=2->explainerdashboard; extra == \"full\"->pycaret[full]) (5.0.0)\n",
            "Requirement already satisfied: flask-compress in /usr/local/lib/python3.7/dist-packages (from dash>=2->explainerdashboard; extra == \"full\"->pycaret[full]) (1.11)\n",
            "Requirement already satisfied: dash-html-components==2.0.0 in /usr/local/lib/python3.7/dist-packages (from dash>=2->explainerdashboard; extra == \"full\"->pycaret[full]) (2.0.0)\n",
            "Requirement already satisfied: retrying in /usr/local/lib/python3.7/dist-packages (from jupyter-dash->explainerdashboard; extra == \"full\"->pycaret[full]) (1.3.3)\n",
            "Requirement already satisfied: ansi2html in /usr/local/lib/python3.7/dist-packages (from jupyter-dash->explainerdashboard; extra == \"full\"->pycaret[full]) (1.7.0)\n",
            "Requirement already satisfied: colour in /usr/local/lib/python3.7/dist-packages (from dtreeviz>=1.3->explainerdashboard; extra == \"full\"->pycaret[full]) (0.1.5)\n",
            "Requirement already satisfied: pytest in /usr/local/lib/python3.7/dist-packages (from dtreeviz>=1.3->explainerdashboard; extra == \"full\"->pycaret[full]) (3.6.4)\n",
            "Requirement already satisfied: flask-seasurf in /usr/local/lib/python3.7/dist-packages (from dash-auth->explainerdashboard; extra == \"full\"->pycaret[full]) (0.3.1)\n",
            "Requirement already satisfied: ua-parser in /usr/local/lib/python3.7/dist-packages (from dash-auth->explainerdashboard; extra == \"full\"->pycaret[full]) (0.10.0)\n",
            "Requirement already satisfied: chart-studio>=1.0.0 in /usr/local/lib/python3.7/dist-packages (from dash-auth->explainerdashboard; extra == \"full\"->pycaret[full]) (1.1.0)\n",
            "Requirement already satisfied: google-api-core<2.0.0dev,>=1.14.0 in /usr/local/lib/python3.7/dist-packages (from google-cloud-core<2.0dev,>=1.0.0->google-cloud-storage; extra == \"full\"->pycaret[full]) (1.26.3)\n",
            "Requirement already satisfied: rsa<5,>=3.1.4; python_version >= \"3.6\" in /usr/local/lib/python3.7/dist-packages (from google-auth>=1.2.0->google-cloud-storage; extra == \"full\"->pycaret[full]) (4.8)\n",
            "Requirement already satisfied: pyasn1-modules>=0.2.1 in /usr/local/lib/python3.7/dist-packages (from google-auth>=1.2.0->google-cloud-storage; extra == \"full\"->pycaret[full]) (0.2.8)\n",
            "Requirement already satisfied: cachetools<5.0,>=2.0.0 in /usr/local/lib/python3.7/dist-packages (from google-auth>=1.2.0->google-cloud-storage; extra == \"full\"->pycaret[full]) (4.2.4)\n",
            "Requirement already satisfied: dash-cytoscape>=0.1.1; extra == \"dash\" in /usr/local/lib/python3.7/dist-packages (from interpret-core[dash,debug,decisiontree,ebm,lime,linear,notebook,plotly,required,sensitivity,shap,skoperules,treeinterpreter]>=0.2.4->interpret<=0.2.4; extra == \"full\"->pycaret[full]) (0.3.0)\n",
            "Requirement already satisfied: gevent>=1.3.6; extra == \"dash\" in /usr/local/lib/python3.7/dist-packages (from interpret-core[dash,debug,decisiontree,ebm,lime,linear,notebook,plotly,required,sensitivity,shap,skoperules,treeinterpreter]>=0.2.4->interpret<=0.2.4; extra == \"full\"->pycaret[full]) (21.12.0)\n",
            "Requirement already satisfied: lime>=0.1.1.33; extra == \"lime\" in /usr/local/lib/python3.7/dist-packages (from interpret-core[dash,debug,decisiontree,ebm,lime,linear,notebook,plotly,required,sensitivity,shap,skoperules,treeinterpreter]>=0.2.4->interpret<=0.2.4; extra == \"full\"->pycaret[full]) (0.2.0.1)\n",
            "Requirement already satisfied: SALib>=1.3.3; extra == \"sensitivity\" in /usr/local/lib/python3.7/dist-packages (from interpret-core[dash,debug,decisiontree,ebm,lime,linear,notebook,plotly,required,sensitivity,shap,skoperules,treeinterpreter]>=0.2.4->interpret<=0.2.4; extra == \"full\"->pycaret[full]) (1.4.5)\n",
            "Requirement already satisfied: dill>=0.2.5; extra == \"shap\" in /usr/local/lib/python3.7/dist-packages (from interpret-core[dash,debug,decisiontree,ebm,lime,linear,notebook,plotly,required,sensitivity,shap,skoperules,treeinterpreter]>=0.2.4->interpret<=0.2.4; extra == \"full\"->pycaret[full]) (0.3.4)\n",
            "Requirement already satisfied: skope-rules>=1.0.1; extra == \"skoperules\" in /usr/local/lib/python3.7/dist-packages (from interpret-core[dash,debug,decisiontree,ebm,lime,linear,notebook,plotly,required,sensitivity,shap,skoperules,treeinterpreter]>=0.2.4->interpret<=0.2.4; extra == \"full\"->pycaret[full]) (1.0.1)\n",
            "Requirement already satisfied: treeinterpreter>=0.2.2; extra == \"treeinterpreter\" in /usr/local/lib/python3.7/dist-packages (from interpret-core[dash,debug,decisiontree,ebm,lime,linear,notebook,plotly,required,sensitivity,shap,skoperules,treeinterpreter]>=0.2.4->interpret<=0.2.4; extra == \"full\"->pycaret[full]) (0.2.3)\n",
            "Requirement already satisfied: deprecated>=1.2.3 in /usr/local/lib/python3.7/dist-packages (from redis>=3.5.0->ray[tune]>=1.0.0; extra == \"full\"->pycaret[full]) (1.2.13)\n",
            "Requirement already satisfied: async-timeout>=4.0.2 in /usr/local/lib/python3.7/dist-packages (from redis>=3.5.0->ray[tune]>=1.0.0; extra == \"full\"->pycaret[full]) (4.0.2)\n",
            "Requirement already satisfied: pyrsistent!=0.17.0,!=0.17.1,!=0.17.2,>=0.14.0 in /usr/local/lib/python3.7/dist-packages (from jsonschema->ray[tune]>=1.0.0; extra == \"full\"->pycaret[full]) (0.18.1)\n",
            "Requirement already satisfied: yarl<2.0,>=1.0 in /usr/local/lib/python3.7/dist-packages (from aiohttp->gradio; extra == \"full\"->pycaret[full]) (1.7.2)\n",
            "Requirement already satisfied: frozenlist>=1.1.1 in /usr/local/lib/python3.7/dist-packages (from aiohttp->gradio; extra == \"full\"->pycaret[full]) (1.3.0)\n",
            "Requirement already satisfied: asynctest==0.13.0; python_version < \"3.8\" in /usr/local/lib/python3.7/dist-packages (from aiohttp->gradio; extra == \"full\"->pycaret[full]) (0.13.0)\n",
            "Requirement already satisfied: multidict<7.0,>=4.5 in /usr/local/lib/python3.7/dist-packages (from aiohttp->gradio; extra == \"full\"->pycaret[full]) (6.0.2)\n",
            "Requirement already satisfied: aiosignal>=1.1.2 in /usr/local/lib/python3.7/dist-packages (from aiohttp->gradio; extra == \"full\"->pycaret[full]) (1.2.0)\n",
            "Requirement already satisfied: mdurl~=0.1 in /usr/local/lib/python3.7/dist-packages (from markdown-it-py[linkify,plugins]->gradio; extra == \"full\"->pycaret[full]) (0.1.0)\n",
            "Requirement already satisfied: linkify-it-py~=1.0; extra == \"linkify\" in /usr/local/lib/python3.7/dist-packages (from markdown-it-py[linkify,plugins]->gradio; extra == \"full\"->pycaret[full]) (1.0.3)\n",
            "Requirement already satisfied: mdit-py-plugins; extra == \"plugins\" in /usr/local/lib/python3.7/dist-packages (from markdown-it-py[linkify,plugins]->gradio; extra == \"full\"->pycaret[full]) (0.3.0)\n",
            "Requirement already satisfied: backoff==1.10.0 in /usr/local/lib/python3.7/dist-packages (from analytics-python->gradio; extra == \"full\"->pycaret[full]) (1.10.0)\n",
            "Requirement already satisfied: monotonic>=1.5 in /usr/local/lib/python3.7/dist-packages (from analytics-python->gradio; extra == \"full\"->pycaret[full]) (1.6)\n",
            "Requirement already satisfied: bcrypt>=3.1.3 in /usr/local/lib/python3.7/dist-packages (from paramiko->gradio; extra == \"full\"->pycaret[full]) (3.2.0)\n",
            "Requirement already satisfied: pynacl>=1.0.1 in /usr/local/lib/python3.7/dist-packages (from paramiko->gradio; extra == \"full\"->pycaret[full]) (1.5.0)\n",
            "Requirement already satisfied: pyzmq>=13 in /usr/local/lib/python3.7/dist-packages (from jupyter-client->ipykernel>=4.5.1->ipywidgets->pycaret[full]) (22.3.0)\n",
            "Requirement already satisfied: terminado>=0.8.1 in /usr/local/lib/python3.7/dist-packages (from notebook>=4.4.1->widgetsnbextension~=3.6.0->ipywidgets->pycaret[full]) (0.13.3)\n",
            "Requirement already satisfied: Send2Trash in /usr/local/lib/python3.7/dist-packages (from notebook>=4.4.1->widgetsnbextension~=3.6.0->ipywidgets->pycaret[full]) (1.8.0)\n",
            "Requirement already satisfied: PyWavelets in /usr/local/lib/python3.7/dist-packages (from imagehash; extra == \"type_image_path\"->visions[type_image_path]==0.7.4->pandas-profiling>=2.8.0->pycaret[full]) (1.3.0)\n",
            "Requirement already satisfied: smmap<6,>=3.0.1 in /usr/local/lib/python3.7/dist-packages (from gitdb<5,>=4.0.1->gitpython>=2.1.0->mlflow->pycaret[full]) (5.0.0)\n",
            "Requirement already satisfied: oauthlib>=3.0.0 in /usr/local/lib/python3.7/dist-packages (from requests-oauthlib>=0.5.0->msrest>=0.6.21->azure-storage-blob; extra == \"full\"->pycaret[full]) (3.2.0)\n",
            "Requirement already satisfied: pycparser in /usr/local/lib/python3.7/dist-packages (from cffi>=1.12->cryptography>=2.1.4->azure-storage-blob; extra == \"full\"->pycaret[full]) (2.21)\n",
            "Requirement already satisfied: sniffio>=1.1 in /usr/local/lib/python3.7/dist-packages (from anyio<4,>=3.0.0->starlette==0.17.1->fastapi; extra == \"full\"->pycaret[full]) (1.2.0)\n",
            "Requirement already satisfied: pandocfilters>=1.4.1 in /usr/local/lib/python3.7/dist-packages (from nbconvert->jupyter->autoviz; extra == \"full\"->pycaret[full]) (1.5.0)\n",
            "Requirement already satisfied: mistune<2,>=0.8.1 in /usr/local/lib/python3.7/dist-packages (from nbconvert->jupyter->autoviz; extra == \"full\"->pycaret[full]) (0.8.4)\n",
            "Requirement already satisfied: testpath in /usr/local/lib/python3.7/dist-packages (from nbconvert->jupyter->autoviz; extra == \"full\"->pycaret[full]) (0.6.0)\n",
            "Requirement already satisfied: defusedxml in /usr/local/lib/python3.7/dist-packages (from nbconvert->jupyter->autoviz; extra == \"full\"->pycaret[full]) (0.7.1)\n",
            "Requirement already satisfied: qtpy in /usr/local/lib/python3.7/dist-packages (from qtconsole->jupyter->autoviz; extra == \"full\"->pycaret[full]) (2.0.1)\n",
            "Requirement already satisfied: webencodings in /usr/local/lib/python3.7/dist-packages (from bleach->panel==0.12.6->autoviz; extra == \"full\"->pycaret[full]) (0.5.1)\n",
            "Requirement already satisfied: pyperclip>=1.6 in /usr/local/lib/python3.7/dist-packages (from cmd2>=1.0.0->cliff->optuna>=2.2.0; extra == \"full\"->pycaret[full]) (1.8.2)\n",
            "Requirement already satisfied: appdirs~=1.4.3 in /usr/local/lib/python3.7/dist-packages (from fs->triad>=0.6.0->fugue>=0.6.5; extra == \"full\"->pycaret[full]) (1.4.4)\n",
            "Requirement already satisfied: brotli in /usr/local/lib/python3.7/dist-packages (from flask-compress->dash>=2->explainerdashboard; extra == \"full\"->pycaret[full]) (1.0.9)\n",
            "Requirement already satisfied: pluggy<0.8,>=0.5 in /usr/local/lib/python3.7/dist-packages (from pytest->dtreeviz>=1.3->explainerdashboard; extra == \"full\"->pycaret[full]) (0.7.1)\n",
            "Requirement already satisfied: more-itertools>=4.0.0 in /usr/local/lib/python3.7/dist-packages (from pytest->dtreeviz>=1.3->explainerdashboard; extra == \"full\"->pycaret[full]) (8.12.0)\n",
            "Requirement already satisfied: py>=1.5.0 in /usr/local/lib/python3.7/dist-packages (from pytest->dtreeviz>=1.3->explainerdashboard; extra == \"full\"->pycaret[full]) (1.11.0)\n",
            "Requirement already satisfied: atomicwrites>=1.0 in /usr/local/lib/python3.7/dist-packages (from pytest->dtreeviz>=1.3->explainerdashboard; extra == \"full\"->pycaret[full]) (1.4.0)\n",
            "Requirement already satisfied: googleapis-common-protos<2.0dev,>=1.6.0 in /usr/local/lib/python3.7/dist-packages (from google-api-core<2.0.0dev,>=1.14.0->google-cloud-core<2.0dev,>=1.0.0->google-cloud-storage; extra == \"full\"->pycaret[full]) (1.56.0)\n",
            "Requirement already satisfied: pyasn1>=0.1.3 in /usr/local/lib/python3.7/dist-packages (from rsa<5,>=3.1.4; python_version >= \"3.6\"->google-auth>=1.2.0->google-cloud-storage; extra == \"full\"->pycaret[full]) (0.4.8)\n",
            "Requirement already satisfied: zope.interface in /usr/local/lib/python3.7/dist-packages (from gevent>=1.3.6; extra == \"dash\"->interpret-core[dash,debug,decisiontree,ebm,lime,linear,notebook,plotly,required,sensitivity,shap,skoperules,treeinterpreter]>=0.2.4->interpret<=0.2.4; extra == \"full\"->pycaret[full]) (5.4.0)\n",
            "Requirement already satisfied: zope.event in /usr/local/lib/python3.7/dist-packages (from gevent>=1.3.6; extra == \"dash\"->interpret-core[dash,debug,decisiontree,ebm,lime,linear,notebook,plotly,required,sensitivity,shap,skoperules,treeinterpreter]>=0.2.4->interpret<=0.2.4; extra == \"full\"->pycaret[full]) (4.5.0)\n",
            "Requirement already satisfied: scikit-image>=0.12 in /usr/local/lib/python3.7/dist-packages (from lime>=0.1.1.33; extra == \"lime\"->interpret-core[dash,debug,decisiontree,ebm,lime,linear,notebook,plotly,required,sensitivity,shap,skoperules,treeinterpreter]>=0.2.4->interpret<=0.2.4; extra == \"full\"->pycaret[full]) (0.18.3)\n",
            "Requirement already satisfied: pathos in /usr/local/lib/python3.7/dist-packages (from SALib>=1.3.3; extra == \"sensitivity\"->interpret-core[dash,debug,decisiontree,ebm,lime,linear,notebook,plotly,required,sensitivity,shap,skoperules,treeinterpreter]>=0.2.4->interpret<=0.2.4; extra == \"full\"->pycaret[full]) (0.2.8)\n",
            "Requirement already satisfied: wrapt<2,>=1.10 in /usr/local/lib/python3.7/dist-packages (from deprecated>=1.2.3->redis>=3.5.0->ray[tune]>=1.0.0; extra == \"full\"->pycaret[full]) (1.14.0)\n",
            "Requirement already satisfied: uc-micro-py in /usr/local/lib/python3.7/dist-packages (from linkify-it-py~=1.0; extra == \"linkify\"->markdown-it-py[linkify,plugins]->gradio; extra == \"full\"->pycaret[full]) (1.0.1)\n",
            "Requirement already satisfied: imageio>=2.3.0 in /usr/local/lib/python3.7/dist-packages (from scikit-image>=0.12->lime>=0.1.1.33; extra == \"lime\"->interpret-core[dash,debug,decisiontree,ebm,lime,linear,notebook,plotly,required,sensitivity,shap,skoperules,treeinterpreter]>=0.2.4->interpret<=0.2.4; extra == \"full\"->pycaret[full]) (2.4.1)\n",
            "Requirement already satisfied: tifffile>=2019.7.26 in /usr/local/lib/python3.7/dist-packages (from scikit-image>=0.12->lime>=0.1.1.33; extra == \"lime\"->interpret-core[dash,debug,decisiontree,ebm,lime,linear,notebook,plotly,required,sensitivity,shap,skoperules,treeinterpreter]>=0.2.4->interpret<=0.2.4; extra == \"full\"->pycaret[full]) (2021.11.2)\n",
            "Requirement already satisfied: ppft>=1.6.6.4 in /usr/local/lib/python3.7/dist-packages (from pathos->SALib>=1.3.3; extra == \"sensitivity\"->interpret-core[dash,debug,decisiontree,ebm,lime,linear,notebook,plotly,required,sensitivity,shap,skoperules,treeinterpreter]>=0.2.4->interpret<=0.2.4; extra == \"full\"->pycaret[full]) (1.6.6.4)\n",
            "Requirement already satisfied: multiprocess>=0.70.12 in /usr/local/lib/python3.7/dist-packages (from pathos->SALib>=1.3.3; extra == \"sensitivity\"->interpret-core[dash,debug,decisiontree,ebm,lime,linear,notebook,plotly,required,sensitivity,shap,skoperules,treeinterpreter]>=0.2.4->interpret<=0.2.4; extra == \"full\"->pycaret[full]) (0.70.12.2)\n",
            "Requirement already satisfied: pox>=0.3.0 in /usr/local/lib/python3.7/dist-packages (from pathos->SALib>=1.3.3; extra == \"sensitivity\"->interpret-core[dash,debug,decisiontree,ebm,lime,linear,notebook,plotly,required,sensitivity,shap,skoperules,treeinterpreter]>=0.2.4->interpret<=0.2.4; extra == \"full\"->pycaret[full]) (0.3.0)\n"
          ]
        }
      ],
      "source": [
        "!pip install yfinance\n",
        "!pip install yahoofinancials\n",
        "!pip install pmdarima\n",
        "!pip install --use-deprecated=legacy-resolver pycaret[full]"
      ]
    },
    {
      "cell_type": "code",
      "execution_count": null,
      "metadata": {
        "id": "asqiYWml0kki"
      },
      "outputs": [],
      "source": [
        "import pandas as pd\n",
        "import numpy as np\n",
        "import yfinance as yf"
      ]
    },
    {
      "cell_type": "code",
      "execution_count": null,
      "metadata": {
        "id": "e3rapSUq0Y7h"
      },
      "outputs": [],
      "source": [
        "amexdf = yf.download(\"AXP\", start=\"2017-01-01\", progress=False)\n",
        "amazondf = yf.download(\"AMZN\", start=\"2017-01-01\", progress=False)\n",
        "eurodf = yf.download(\"USDEUR=X\", start=\"2017-01-01\", progress=False)\n",
        "treasurydf = yf.download(\"^TNX\", start=\"2017-01-01\", progress=False)\n",
        "inflationdf = yf.download(\"FCPI\", start=\"2017-01-01\", progress=False)"
      ]
    },
    {
      "cell_type": "code",
      "execution_count": null,
      "metadata": {
        "colab": {
          "base_uri": "https://localhost:8080/",
          "height": 174
        },
        "id": "Qt1BRk8C0fUU",
        "outputId": "4350204b-d708-4b6e-d3a1-1d502e770f7f"
      },
      "outputs": [
        {
          "data": {
            "text/html": [
              "\n",
              "  <div id=\"df-a21ef893-6a44-477c-9bc9-7bdd324da5b4\">\n",
              "    <div class=\"colab-df-container\">\n",
              "      <div>\n",
              "<style scoped>\n",
              "    .dataframe tbody tr th:only-of-type {\n",
              "        vertical-align: middle;\n",
              "    }\n",
              "\n",
              "    .dataframe tbody tr th {\n",
              "        vertical-align: top;\n",
              "    }\n",
              "\n",
              "    .dataframe thead th {\n",
              "        text-align: right;\n",
              "    }\n",
              "</style>\n",
              "<table border=\"1\" class=\"dataframe\">\n",
              "  <thead>\n",
              "    <tr style=\"text-align: right;\">\n",
              "      <th></th>\n",
              "      <th>Open</th>\n",
              "      <th>High</th>\n",
              "      <th>Low</th>\n",
              "      <th>Close</th>\n",
              "      <th>Adj Close</th>\n",
              "      <th>Volume</th>\n",
              "    </tr>\n",
              "    <tr>\n",
              "      <th>Date</th>\n",
              "      <th></th>\n",
              "      <th></th>\n",
              "      <th></th>\n",
              "      <th></th>\n",
              "      <th></th>\n",
              "      <th></th>\n",
              "    </tr>\n",
              "  </thead>\n",
              "  <tbody>\n",
              "    <tr>\n",
              "      <th>2019-11-07</th>\n",
              "      <td>25.070000</td>\n",
              "      <td>25.110001</td>\n",
              "      <td>25.028999</td>\n",
              "      <td>25.028999</td>\n",
              "      <td>23.581013</td>\n",
              "      <td>1400</td>\n",
              "    </tr>\n",
              "    <tr>\n",
              "      <th>2019-11-08</th>\n",
              "      <td>25.110001</td>\n",
              "      <td>25.134001</td>\n",
              "      <td>25.030001</td>\n",
              "      <td>25.134001</td>\n",
              "      <td>23.679937</td>\n",
              "      <td>1200</td>\n",
              "    </tr>\n",
              "    <tr>\n",
              "      <th>2019-11-11</th>\n",
              "      <td>25.129999</td>\n",
              "      <td>25.129999</td>\n",
              "      <td>25.080000</td>\n",
              "      <td>25.103001</td>\n",
              "      <td>23.650734</td>\n",
              "      <td>3300</td>\n",
              "    </tr>\n",
              "  </tbody>\n",
              "</table>\n",
              "</div>\n",
              "      <button class=\"colab-df-convert\" onclick=\"convertToInteractive('df-a21ef893-6a44-477c-9bc9-7bdd324da5b4')\"\n",
              "              title=\"Convert this dataframe to an interactive table.\"\n",
              "              style=\"display:none;\">\n",
              "        \n",
              "  <svg xmlns=\"http://www.w3.org/2000/svg\" height=\"24px\"viewBox=\"0 0 24 24\"\n",
              "       width=\"24px\">\n",
              "    <path d=\"M0 0h24v24H0V0z\" fill=\"none\"/>\n",
              "    <path d=\"M18.56 5.44l.94 2.06.94-2.06 2.06-.94-2.06-.94-.94-2.06-.94 2.06-2.06.94zm-11 1L8.5 8.5l.94-2.06 2.06-.94-2.06-.94L8.5 2.5l-.94 2.06-2.06.94zm10 10l.94 2.06.94-2.06 2.06-.94-2.06-.94-.94-2.06-.94 2.06-2.06.94z\"/><path d=\"M17.41 7.96l-1.37-1.37c-.4-.4-.92-.59-1.43-.59-.52 0-1.04.2-1.43.59L10.3 9.45l-7.72 7.72c-.78.78-.78 2.05 0 2.83L4 21.41c.39.39.9.59 1.41.59.51 0 1.02-.2 1.41-.59l7.78-7.78 2.81-2.81c.8-.78.8-2.07 0-2.86zM5.41 20L4 18.59l7.72-7.72 1.47 1.35L5.41 20z\"/>\n",
              "  </svg>\n",
              "      </button>\n",
              "      \n",
              "  <style>\n",
              "    .colab-df-container {\n",
              "      display:flex;\n",
              "      flex-wrap:wrap;\n",
              "      gap: 12px;\n",
              "    }\n",
              "\n",
              "    .colab-df-convert {\n",
              "      background-color: #E8F0FE;\n",
              "      border: none;\n",
              "      border-radius: 50%;\n",
              "      cursor: pointer;\n",
              "      display: none;\n",
              "      fill: #1967D2;\n",
              "      height: 32px;\n",
              "      padding: 0 0 0 0;\n",
              "      width: 32px;\n",
              "    }\n",
              "\n",
              "    .colab-df-convert:hover {\n",
              "      background-color: #E2EBFA;\n",
              "      box-shadow: 0px 1px 2px rgba(60, 64, 67, 0.3), 0px 1px 3px 1px rgba(60, 64, 67, 0.15);\n",
              "      fill: #174EA6;\n",
              "    }\n",
              "\n",
              "    [theme=dark] .colab-df-convert {\n",
              "      background-color: #3B4455;\n",
              "      fill: #D2E3FC;\n",
              "    }\n",
              "\n",
              "    [theme=dark] .colab-df-convert:hover {\n",
              "      background-color: #434B5C;\n",
              "      box-shadow: 0px 1px 3px 1px rgba(0, 0, 0, 0.15);\n",
              "      filter: drop-shadow(0px 1px 2px rgba(0, 0, 0, 0.3));\n",
              "      fill: #FFFFFF;\n",
              "    }\n",
              "  </style>\n",
              "\n",
              "      <script>\n",
              "        const buttonEl =\n",
              "          document.querySelector('#df-a21ef893-6a44-477c-9bc9-7bdd324da5b4 button.colab-df-convert');\n",
              "        buttonEl.style.display =\n",
              "          google.colab.kernel.accessAllowed ? 'block' : 'none';\n",
              "\n",
              "        async function convertToInteractive(key) {\n",
              "          const element = document.querySelector('#df-a21ef893-6a44-477c-9bc9-7bdd324da5b4');\n",
              "          const dataTable =\n",
              "            await google.colab.kernel.invokeFunction('convertToInteractive',\n",
              "                                                     [key], {});\n",
              "          if (!dataTable) return;\n",
              "\n",
              "          const docLinkHtml = 'Like what you see? Visit the ' +\n",
              "            '<a target=\"_blank\" href=https://colab.research.google.com/notebooks/data_table.ipynb>data table notebook</a>'\n",
              "            + ' to learn more about interactive tables.';\n",
              "          element.innerHTML = '';\n",
              "          dataTable['output_type'] = 'display_data';\n",
              "          await google.colab.output.renderOutput(dataTable, element);\n",
              "          const docLink = document.createElement('div');\n",
              "          docLink.innerHTML = docLinkHtml;\n",
              "          element.appendChild(docLink);\n",
              "        }\n",
              "      </script>\n",
              "    </div>\n",
              "  </div>\n",
              "  "
            ],
            "text/plain": [
              "                 Open       High        Low      Close  Adj Close  Volume\n",
              "Date                                                                     \n",
              "2019-11-07  25.070000  25.110001  25.028999  25.028999  23.581013    1400\n",
              "2019-11-08  25.110001  25.134001  25.030001  25.134001  23.679937    1200\n",
              "2019-11-11  25.129999  25.129999  25.080000  25.103001  23.650734    3300"
            ]
          },
          "execution_count": 4,
          "metadata": {},
          "output_type": "execute_result"
        }
      ],
      "source": [
        "amexdf.head(3)\n",
        "amazondf.head(3)\n",
        "eurodf.head(3)\n",
        "treasurydf.head(3)\n",
        "inflationdf.head(3)"
      ]
    },
    {
      "cell_type": "code",
      "execution_count": null,
      "metadata": {
        "id": "Di59Zzbx0pQv"
      },
      "outputs": [],
      "source": [
        "masterdf = pd.concat([amexdf[\"Adj Close\"], amazondf[\"Adj Close\"], eurodf[\"Adj Close\"], treasurydf[\"Adj Close\"], inflationdf[\"Adj Close\"]], axis=1, join=\"inner\")\n",
        "masterdf.columns = [\"amex price\", \"amazon price\", \"euro price\", \"treasury price\", \"inflation price\"]\n",
        "masterdf = np.log(masterdf).diff(1).dropna()\n",
        "masterdf.columns = [colname.replace(\"price\", \"return\") for colname in masterdf.columns]"
      ]
    },
    {
      "cell_type": "code",
      "execution_count": null,
      "metadata": {
        "colab": {
          "base_uri": "https://localhost:8080/",
          "height": 174
        },
        "id": "TuPvfJLLq5ZI",
        "outputId": "e450af13-d09d-4153-a0d1-f6764125732f"
      },
      "outputs": [
        {
          "data": {
            "text/html": [
              "\n",
              "  <div id=\"df-14f9becd-7d70-4f06-b75f-a271b96b15fd\">\n",
              "    <div class=\"colab-df-container\">\n",
              "      <div>\n",
              "<style scoped>\n",
              "    .dataframe tbody tr th:only-of-type {\n",
              "        vertical-align: middle;\n",
              "    }\n",
              "\n",
              "    .dataframe tbody tr th {\n",
              "        vertical-align: top;\n",
              "    }\n",
              "\n",
              "    .dataframe thead th {\n",
              "        text-align: right;\n",
              "    }\n",
              "</style>\n",
              "<table border=\"1\" class=\"dataframe\">\n",
              "  <thead>\n",
              "    <tr style=\"text-align: right;\">\n",
              "      <th></th>\n",
              "      <th>amex return</th>\n",
              "      <th>amazon return</th>\n",
              "      <th>euro return</th>\n",
              "      <th>treasury return</th>\n",
              "      <th>inflation return</th>\n",
              "    </tr>\n",
              "    <tr>\n",
              "      <th>Date</th>\n",
              "      <th></th>\n",
              "      <th></th>\n",
              "      <th></th>\n",
              "      <th></th>\n",
              "      <th></th>\n",
              "    </tr>\n",
              "  </thead>\n",
              "  <tbody>\n",
              "    <tr>\n",
              "      <th>2019-11-08</th>\n",
              "      <td>0.001565</td>\n",
              "      <td>-0.001298</td>\n",
              "      <td>0.004590</td>\n",
              "      <td>0.003628</td>\n",
              "      <td>0.004186</td>\n",
              "    </tr>\n",
              "    <tr>\n",
              "      <th>2019-11-11</th>\n",
              "      <td>-0.004703</td>\n",
              "      <td>-0.008000</td>\n",
              "      <td>-0.000249</td>\n",
              "      <td>0.005160</td>\n",
              "      <td>-0.001234</td>\n",
              "    </tr>\n",
              "    <tr>\n",
              "      <th>2019-11-12</th>\n",
              "      <td>-0.000083</td>\n",
              "      <td>0.003578</td>\n",
              "      <td>-0.001180</td>\n",
              "      <td>-0.017654</td>\n",
              "      <td>0.002029</td>\n",
              "    </tr>\n",
              "  </tbody>\n",
              "</table>\n",
              "</div>\n",
              "      <button class=\"colab-df-convert\" onclick=\"convertToInteractive('df-14f9becd-7d70-4f06-b75f-a271b96b15fd')\"\n",
              "              title=\"Convert this dataframe to an interactive table.\"\n",
              "              style=\"display:none;\">\n",
              "        \n",
              "  <svg xmlns=\"http://www.w3.org/2000/svg\" height=\"24px\"viewBox=\"0 0 24 24\"\n",
              "       width=\"24px\">\n",
              "    <path d=\"M0 0h24v24H0V0z\" fill=\"none\"/>\n",
              "    <path d=\"M18.56 5.44l.94 2.06.94-2.06 2.06-.94-2.06-.94-.94-2.06-.94 2.06-2.06.94zm-11 1L8.5 8.5l.94-2.06 2.06-.94-2.06-.94L8.5 2.5l-.94 2.06-2.06.94zm10 10l.94 2.06.94-2.06 2.06-.94-2.06-.94-.94-2.06-.94 2.06-2.06.94z\"/><path d=\"M17.41 7.96l-1.37-1.37c-.4-.4-.92-.59-1.43-.59-.52 0-1.04.2-1.43.59L10.3 9.45l-7.72 7.72c-.78.78-.78 2.05 0 2.83L4 21.41c.39.39.9.59 1.41.59.51 0 1.02-.2 1.41-.59l7.78-7.78 2.81-2.81c.8-.78.8-2.07 0-2.86zM5.41 20L4 18.59l7.72-7.72 1.47 1.35L5.41 20z\"/>\n",
              "  </svg>\n",
              "      </button>\n",
              "      \n",
              "  <style>\n",
              "    .colab-df-container {\n",
              "      display:flex;\n",
              "      flex-wrap:wrap;\n",
              "      gap: 12px;\n",
              "    }\n",
              "\n",
              "    .colab-df-convert {\n",
              "      background-color: #E8F0FE;\n",
              "      border: none;\n",
              "      border-radius: 50%;\n",
              "      cursor: pointer;\n",
              "      display: none;\n",
              "      fill: #1967D2;\n",
              "      height: 32px;\n",
              "      padding: 0 0 0 0;\n",
              "      width: 32px;\n",
              "    }\n",
              "\n",
              "    .colab-df-convert:hover {\n",
              "      background-color: #E2EBFA;\n",
              "      box-shadow: 0px 1px 2px rgba(60, 64, 67, 0.3), 0px 1px 3px 1px rgba(60, 64, 67, 0.15);\n",
              "      fill: #174EA6;\n",
              "    }\n",
              "\n",
              "    [theme=dark] .colab-df-convert {\n",
              "      background-color: #3B4455;\n",
              "      fill: #D2E3FC;\n",
              "    }\n",
              "\n",
              "    [theme=dark] .colab-df-convert:hover {\n",
              "      background-color: #434B5C;\n",
              "      box-shadow: 0px 1px 3px 1px rgba(0, 0, 0, 0.15);\n",
              "      filter: drop-shadow(0px 1px 2px rgba(0, 0, 0, 0.3));\n",
              "      fill: #FFFFFF;\n",
              "    }\n",
              "  </style>\n",
              "\n",
              "      <script>\n",
              "        const buttonEl =\n",
              "          document.querySelector('#df-14f9becd-7d70-4f06-b75f-a271b96b15fd button.colab-df-convert');\n",
              "        buttonEl.style.display =\n",
              "          google.colab.kernel.accessAllowed ? 'block' : 'none';\n",
              "\n",
              "        async function convertToInteractive(key) {\n",
              "          const element = document.querySelector('#df-14f9becd-7d70-4f06-b75f-a271b96b15fd');\n",
              "          const dataTable =\n",
              "            await google.colab.kernel.invokeFunction('convertToInteractive',\n",
              "                                                     [key], {});\n",
              "          if (!dataTable) return;\n",
              "\n",
              "          const docLinkHtml = 'Like what you see? Visit the ' +\n",
              "            '<a target=\"_blank\" href=https://colab.research.google.com/notebooks/data_table.ipynb>data table notebook</a>'\n",
              "            + ' to learn more about interactive tables.';\n",
              "          element.innerHTML = '';\n",
              "          dataTable['output_type'] = 'display_data';\n",
              "          await google.colab.output.renderOutput(dataTable, element);\n",
              "          const docLink = document.createElement('div');\n",
              "          docLink.innerHTML = docLinkHtml;\n",
              "          element.appendChild(docLink);\n",
              "        }\n",
              "      </script>\n",
              "    </div>\n",
              "  </div>\n",
              "  "
            ],
            "text/plain": [
              "            amex return  amazon return  euro return  treasury return  \\\n",
              "Date                                                                   \n",
              "2019-11-08     0.001565      -0.001298     0.004590         0.003628   \n",
              "2019-11-11    -0.004703      -0.008000    -0.000249         0.005160   \n",
              "2019-11-12    -0.000083       0.003578    -0.001180        -0.017654   \n",
              "\n",
              "            inflation return  \n",
              "Date                          \n",
              "2019-11-08          0.004186  \n",
              "2019-11-11         -0.001234  \n",
              "2019-11-12          0.002029  "
            ]
          },
          "execution_count": 6,
          "metadata": {},
          "output_type": "execute_result"
        }
      ],
      "source": [
        "masterdf.head(3)"
      ]
    },
    {
      "cell_type": "code",
      "execution_count": null,
      "metadata": {
        "id": "d2PE9VrVEWUv"
      },
      "outputs": [],
      "source": [
        "import copy\n",
        "\n",
        "def ts2mldataset(ts, lag=5):\n",
        "  dflist = []\n",
        "  df = copy.deepcopy(masterdf)\n",
        "  df.columns = [colname+\"(t)\" for colname in df.columns]\n",
        "  dflist.append(df)\n",
        "\n",
        "  for ii in range(1, lag+1):\n",
        "    df = copy.deepcopy(masterdf)\n",
        "    df.columns = [colname+f\"(t-{ii})\" for colname in df.columns]\n",
        "\n",
        "    for jj in range(ii):\n",
        "      df = df.shift(1)\n",
        "    dflist.append(df)\n",
        "\n",
        "  return pd.concat(dflist, axis=1)"
      ]
    },
    {
      "cell_type": "code",
      "execution_count": null,
      "metadata": {
        "id": "XgQH4jloFDmp"
      },
      "outputs": [],
      "source": [
        "mldf = ts2mldataset(masterdf, lag=10)"
      ]
    },
    {
      "cell_type": "code",
      "execution_count": null,
      "metadata": {
        "colab": {
          "base_uri": "https://localhost:8080/",
          "height": 354
        },
        "id": "SRkUR3cvFaS5",
        "outputId": "13ed37e8-8005-4a99-e1ba-0b25a1564d40"
      },
      "outputs": [
        {
          "data": {
            "text/html": [
              "\n",
              "  <div id=\"df-aa26714a-680e-40bb-8c64-45c672b08658\">\n",
              "    <div class=\"colab-df-container\">\n",
              "      <div>\n",
              "<style scoped>\n",
              "    .dataframe tbody tr th:only-of-type {\n",
              "        vertical-align: middle;\n",
              "    }\n",
              "\n",
              "    .dataframe tbody tr th {\n",
              "        vertical-align: top;\n",
              "    }\n",
              "\n",
              "    .dataframe thead th {\n",
              "        text-align: right;\n",
              "    }\n",
              "</style>\n",
              "<table border=\"1\" class=\"dataframe\">\n",
              "  <thead>\n",
              "    <tr style=\"text-align: right;\">\n",
              "      <th></th>\n",
              "      <th>amex return(t)</th>\n",
              "      <th>amazon return(t)</th>\n",
              "      <th>euro return(t)</th>\n",
              "      <th>treasury return(t)</th>\n",
              "      <th>inflation return(t)</th>\n",
              "      <th>amex return(t-1)</th>\n",
              "      <th>amazon return(t-1)</th>\n",
              "      <th>euro return(t-1)</th>\n",
              "      <th>treasury return(t-1)</th>\n",
              "      <th>inflation return(t-1)</th>\n",
              "      <th>...</th>\n",
              "      <th>amex return(t-9)</th>\n",
              "      <th>amazon return(t-9)</th>\n",
              "      <th>euro return(t-9)</th>\n",
              "      <th>treasury return(t-9)</th>\n",
              "      <th>inflation return(t-9)</th>\n",
              "      <th>amex return(t-10)</th>\n",
              "      <th>amazon return(t-10)</th>\n",
              "      <th>euro return(t-10)</th>\n",
              "      <th>treasury return(t-10)</th>\n",
              "      <th>inflation return(t-10)</th>\n",
              "    </tr>\n",
              "    <tr>\n",
              "      <th>Date</th>\n",
              "      <th></th>\n",
              "      <th></th>\n",
              "      <th></th>\n",
              "      <th></th>\n",
              "      <th></th>\n",
              "      <th></th>\n",
              "      <th></th>\n",
              "      <th></th>\n",
              "      <th></th>\n",
              "      <th></th>\n",
              "      <th></th>\n",
              "      <th></th>\n",
              "      <th></th>\n",
              "      <th></th>\n",
              "      <th></th>\n",
              "      <th></th>\n",
              "      <th></th>\n",
              "      <th></th>\n",
              "      <th></th>\n",
              "      <th></th>\n",
              "      <th></th>\n",
              "    </tr>\n",
              "  </thead>\n",
              "  <tbody>\n",
              "    <tr>\n",
              "      <th>2019-11-22</th>\n",
              "      <td>0.002186</td>\n",
              "      <td>0.006327</td>\n",
              "      <td>0.001174</td>\n",
              "      <td>0.001128</td>\n",
              "      <td>0.003677</td>\n",
              "      <td>-0.004200</td>\n",
              "      <td>-0.006218</td>\n",
              "      <td>0.000103</td>\n",
              "      <td>0.019374</td>\n",
              "      <td>-0.001820</td>\n",
              "      <td>...</td>\n",
              "      <td>-0.004703</td>\n",
              "      <td>-0.008000</td>\n",
              "      <td>-0.000249</td>\n",
              "      <td>0.005160</td>\n",
              "      <td>-0.001234</td>\n",
              "      <td>0.001565</td>\n",
              "      <td>-0.001298</td>\n",
              "      <td>0.004590</td>\n",
              "      <td>0.003628</td>\n",
              "      <td>0.004186</td>\n",
              "    </tr>\n",
              "    <tr>\n",
              "      <th>2019-11-25</th>\n",
              "      <td>0.012852</td>\n",
              "      <td>0.015980</td>\n",
              "      <td>0.003921</td>\n",
              "      <td>-0.005653</td>\n",
              "      <td>0.008918</td>\n",
              "      <td>0.002186</td>\n",
              "      <td>0.006327</td>\n",
              "      <td>0.001174</td>\n",
              "      <td>0.001128</td>\n",
              "      <td>0.003677</td>\n",
              "      <td>...</td>\n",
              "      <td>-0.000083</td>\n",
              "      <td>0.003578</td>\n",
              "      <td>-0.001180</td>\n",
              "      <td>-0.017654</td>\n",
              "      <td>0.002029</td>\n",
              "      <td>-0.004703</td>\n",
              "      <td>-0.008000</td>\n",
              "      <td>-0.000249</td>\n",
              "      <td>0.005160</td>\n",
              "      <td>-0.001234</td>\n",
              "    </tr>\n",
              "    <tr>\n",
              "      <th>2019-11-26</th>\n",
              "      <td>-0.006739</td>\n",
              "      <td>0.012939</td>\n",
              "      <td>0.000738</td>\n",
              "      <td>-0.013699</td>\n",
              "      <td>0.002500</td>\n",
              "      <td>0.012852</td>\n",
              "      <td>0.015980</td>\n",
              "      <td>0.003921</td>\n",
              "      <td>-0.005653</td>\n",
              "      <td>0.008918</td>\n",
              "      <td>...</td>\n",
              "      <td>-0.005225</td>\n",
              "      <td>-0.014098</td>\n",
              "      <td>0.002095</td>\n",
              "      <td>-0.020641</td>\n",
              "      <td>0.000000</td>\n",
              "      <td>-0.000083</td>\n",
              "      <td>0.003578</td>\n",
              "      <td>-0.001180</td>\n",
              "      <td>-0.017654</td>\n",
              "      <td>0.002029</td>\n",
              "    </tr>\n",
              "  </tbody>\n",
              "</table>\n",
              "<p>3 rows × 55 columns</p>\n",
              "</div>\n",
              "      <button class=\"colab-df-convert\" onclick=\"convertToInteractive('df-aa26714a-680e-40bb-8c64-45c672b08658')\"\n",
              "              title=\"Convert this dataframe to an interactive table.\"\n",
              "              style=\"display:none;\">\n",
              "        \n",
              "  <svg xmlns=\"http://www.w3.org/2000/svg\" height=\"24px\"viewBox=\"0 0 24 24\"\n",
              "       width=\"24px\">\n",
              "    <path d=\"M0 0h24v24H0V0z\" fill=\"none\"/>\n",
              "    <path d=\"M18.56 5.44l.94 2.06.94-2.06 2.06-.94-2.06-.94-.94-2.06-.94 2.06-2.06.94zm-11 1L8.5 8.5l.94-2.06 2.06-.94-2.06-.94L8.5 2.5l-.94 2.06-2.06.94zm10 10l.94 2.06.94-2.06 2.06-.94-2.06-.94-.94-2.06-.94 2.06-2.06.94z\"/><path d=\"M17.41 7.96l-1.37-1.37c-.4-.4-.92-.59-1.43-.59-.52 0-1.04.2-1.43.59L10.3 9.45l-7.72 7.72c-.78.78-.78 2.05 0 2.83L4 21.41c.39.39.9.59 1.41.59.51 0 1.02-.2 1.41-.59l7.78-7.78 2.81-2.81c.8-.78.8-2.07 0-2.86zM5.41 20L4 18.59l7.72-7.72 1.47 1.35L5.41 20z\"/>\n",
              "  </svg>\n",
              "      </button>\n",
              "      \n",
              "  <style>\n",
              "    .colab-df-container {\n",
              "      display:flex;\n",
              "      flex-wrap:wrap;\n",
              "      gap: 12px;\n",
              "    }\n",
              "\n",
              "    .colab-df-convert {\n",
              "      background-color: #E8F0FE;\n",
              "      border: none;\n",
              "      border-radius: 50%;\n",
              "      cursor: pointer;\n",
              "      display: none;\n",
              "      fill: #1967D2;\n",
              "      height: 32px;\n",
              "      padding: 0 0 0 0;\n",
              "      width: 32px;\n",
              "    }\n",
              "\n",
              "    .colab-df-convert:hover {\n",
              "      background-color: #E2EBFA;\n",
              "      box-shadow: 0px 1px 2px rgba(60, 64, 67, 0.3), 0px 1px 3px 1px rgba(60, 64, 67, 0.15);\n",
              "      fill: #174EA6;\n",
              "    }\n",
              "\n",
              "    [theme=dark] .colab-df-convert {\n",
              "      background-color: #3B4455;\n",
              "      fill: #D2E3FC;\n",
              "    }\n",
              "\n",
              "    [theme=dark] .colab-df-convert:hover {\n",
              "      background-color: #434B5C;\n",
              "      box-shadow: 0px 1px 3px 1px rgba(0, 0, 0, 0.15);\n",
              "      filter: drop-shadow(0px 1px 2px rgba(0, 0, 0, 0.3));\n",
              "      fill: #FFFFFF;\n",
              "    }\n",
              "  </style>\n",
              "\n",
              "      <script>\n",
              "        const buttonEl =\n",
              "          document.querySelector('#df-aa26714a-680e-40bb-8c64-45c672b08658 button.colab-df-convert');\n",
              "        buttonEl.style.display =\n",
              "          google.colab.kernel.accessAllowed ? 'block' : 'none';\n",
              "\n",
              "        async function convertToInteractive(key) {\n",
              "          const element = document.querySelector('#df-aa26714a-680e-40bb-8c64-45c672b08658');\n",
              "          const dataTable =\n",
              "            await google.colab.kernel.invokeFunction('convertToInteractive',\n",
              "                                                     [key], {});\n",
              "          if (!dataTable) return;\n",
              "\n",
              "          const docLinkHtml = 'Like what you see? Visit the ' +\n",
              "            '<a target=\"_blank\" href=https://colab.research.google.com/notebooks/data_table.ipynb>data table notebook</a>'\n",
              "            + ' to learn more about interactive tables.';\n",
              "          element.innerHTML = '';\n",
              "          dataTable['output_type'] = 'display_data';\n",
              "          await google.colab.output.renderOutput(dataTable, element);\n",
              "          const docLink = document.createElement('div');\n",
              "          docLink.innerHTML = docLinkHtml;\n",
              "          element.appendChild(docLink);\n",
              "        }\n",
              "      </script>\n",
              "    </div>\n",
              "  </div>\n",
              "  "
            ],
            "text/plain": [
              "            amex return(t)  amazon return(t)  euro return(t)  \\\n",
              "Date                                                           \n",
              "2019-11-22        0.002186          0.006327        0.001174   \n",
              "2019-11-25        0.012852          0.015980        0.003921   \n",
              "2019-11-26       -0.006739          0.012939        0.000738   \n",
              "\n",
              "            treasury return(t)  inflation return(t)  amex return(t-1)  \\\n",
              "Date                                                                    \n",
              "2019-11-22            0.001128             0.003677         -0.004200   \n",
              "2019-11-25           -0.005653             0.008918          0.002186   \n",
              "2019-11-26           -0.013699             0.002500          0.012852   \n",
              "\n",
              "            amazon return(t-1)  euro return(t-1)  treasury return(t-1)  \\\n",
              "Date                                                                     \n",
              "2019-11-22           -0.006218          0.000103              0.019374   \n",
              "2019-11-25            0.006327          0.001174              0.001128   \n",
              "2019-11-26            0.015980          0.003921             -0.005653   \n",
              "\n",
              "            inflation return(t-1)  ...  amex return(t-9)  amazon return(t-9)  \\\n",
              "Date                               ...                                         \n",
              "2019-11-22              -0.001820  ...         -0.004703           -0.008000   \n",
              "2019-11-25               0.003677  ...         -0.000083            0.003578   \n",
              "2019-11-26               0.008918  ...         -0.005225           -0.014098   \n",
              "\n",
              "            euro return(t-9)  treasury return(t-9)  inflation return(t-9)  \\\n",
              "Date                                                                        \n",
              "2019-11-22         -0.000249              0.005160              -0.001234   \n",
              "2019-11-25         -0.001180             -0.017654               0.002029   \n",
              "2019-11-26          0.002095             -0.020641               0.000000   \n",
              "\n",
              "            amex return(t-10)  amazon return(t-10)  euro return(t-10)  \\\n",
              "Date                                                                    \n",
              "2019-11-22           0.001565            -0.001298           0.004590   \n",
              "2019-11-25          -0.004703            -0.008000          -0.000249   \n",
              "2019-11-26          -0.000083             0.003578          -0.001180   \n",
              "\n",
              "            treasury return(t-10)  inflation return(t-10)  \n",
              "Date                                                       \n",
              "2019-11-22               0.003628                0.004186  \n",
              "2019-11-25               0.005160               -0.001234  \n",
              "2019-11-26              -0.017654                0.002029  \n",
              "\n",
              "[3 rows x 55 columns]"
            ]
          },
          "execution_count": 9,
          "metadata": {},
          "output_type": "execute_result"
        }
      ],
      "source": [
        "mldf.dropna(inplace=True)\n",
        "mldf.shape\n",
        "mldf.head(3)"
      ]
    },
    {
      "cell_type": "code",
      "execution_count": null,
      "metadata": {
        "id": "HwyD3XwK7SwZ"
      },
      "outputs": [],
      "source": [
        "from pycaret.regression import *\n",
        "import pandas as pd"
      ]
    },
    {
      "cell_type": "code",
      "execution_count": null,
      "metadata": {
        "colab": {
          "base_uri": "https://localhost:8080/",
          "height": 1000
        },
        "id": "9Yhdn_BGHIhZ",
        "outputId": "650379c4-200f-409d-e2c6-8fa9d804c9e1"
      },
      "outputs": [
        {
          "data": {
            "text/html": [
              "\n",
              "  <div id=\"df-d8fd1d40-a5dd-4004-a8e3-29e0c2895978\">\n",
              "    <div class=\"colab-df-container\">\n",
              "      <div>\n",
              "<style scoped>\n",
              "    .dataframe tbody tr th:only-of-type {\n",
              "        vertical-align: middle;\n",
              "    }\n",
              "\n",
              "    .dataframe tbody tr th {\n",
              "        vertical-align: top;\n",
              "    }\n",
              "\n",
              "    .dataframe thead th {\n",
              "        text-align: right;\n",
              "    }\n",
              "</style>\n",
              "<table border=\"1\" class=\"dataframe\">\n",
              "  <thead>\n",
              "    <tr style=\"text-align: right;\">\n",
              "      <th></th>\n",
              "      <th>Description</th>\n",
              "      <th>Value</th>\n",
              "    </tr>\n",
              "  </thead>\n",
              "  <tbody>\n",
              "    <tr>\n",
              "      <th>0</th>\n",
              "      <td>session_id</td>\n",
              "      <td>3382</td>\n",
              "    </tr>\n",
              "    <tr>\n",
              "      <th>1</th>\n",
              "      <td>Target</td>\n",
              "      <td>amex return(t)</td>\n",
              "    </tr>\n",
              "    <tr>\n",
              "      <th>2</th>\n",
              "      <td>Original Data</td>\n",
              "      <td>(593, 55)</td>\n",
              "    </tr>\n",
              "    <tr>\n",
              "      <th>3</th>\n",
              "      <td>Missing Values</td>\n",
              "      <td>False</td>\n",
              "    </tr>\n",
              "    <tr>\n",
              "      <th>4</th>\n",
              "      <td>Numeric Features</td>\n",
              "      <td>54</td>\n",
              "    </tr>\n",
              "    <tr>\n",
              "      <th>5</th>\n",
              "      <td>Categorical Features</td>\n",
              "      <td>0</td>\n",
              "    </tr>\n",
              "    <tr>\n",
              "      <th>6</th>\n",
              "      <td>Ordinal Features</td>\n",
              "      <td>False</td>\n",
              "    </tr>\n",
              "    <tr>\n",
              "      <th>7</th>\n",
              "      <td>High Cardinality Features</td>\n",
              "      <td>False</td>\n",
              "    </tr>\n",
              "    <tr>\n",
              "      <th>8</th>\n",
              "      <td>High Cardinality Method</td>\n",
              "      <td>None</td>\n",
              "    </tr>\n",
              "    <tr>\n",
              "      <th>9</th>\n",
              "      <td>Transformed Train Set</td>\n",
              "      <td>(394, 54)</td>\n",
              "    </tr>\n",
              "    <tr>\n",
              "      <th>10</th>\n",
              "      <td>Transformed Test Set</td>\n",
              "      <td>(178, 54)</td>\n",
              "    </tr>\n",
              "    <tr>\n",
              "      <th>11</th>\n",
              "      <td>Shuffle Train-Test</td>\n",
              "      <td>True</td>\n",
              "    </tr>\n",
              "    <tr>\n",
              "      <th>12</th>\n",
              "      <td>Stratify Train-Test</td>\n",
              "      <td>False</td>\n",
              "    </tr>\n",
              "    <tr>\n",
              "      <th>13</th>\n",
              "      <td>Fold Generator</td>\n",
              "      <td>KFold</td>\n",
              "    </tr>\n",
              "    <tr>\n",
              "      <th>14</th>\n",
              "      <td>Fold Number</td>\n",
              "      <td>10</td>\n",
              "    </tr>\n",
              "    <tr>\n",
              "      <th>15</th>\n",
              "      <td>CPU Jobs</td>\n",
              "      <td>-1</td>\n",
              "    </tr>\n",
              "    <tr>\n",
              "      <th>16</th>\n",
              "      <td>Use GPU</td>\n",
              "      <td>False</td>\n",
              "    </tr>\n",
              "    <tr>\n",
              "      <th>17</th>\n",
              "      <td>Log Experiment</td>\n",
              "      <td>False</td>\n",
              "    </tr>\n",
              "    <tr>\n",
              "      <th>18</th>\n",
              "      <td>Experiment Name</td>\n",
              "      <td>reg-default-name</td>\n",
              "    </tr>\n",
              "    <tr>\n",
              "      <th>19</th>\n",
              "      <td>USI</td>\n",
              "      <td>5c67</td>\n",
              "    </tr>\n",
              "    <tr>\n",
              "      <th>20</th>\n",
              "      <td>Imputation Type</td>\n",
              "      <td>simple</td>\n",
              "    </tr>\n",
              "    <tr>\n",
              "      <th>21</th>\n",
              "      <td>Iterative Imputation Iteration</td>\n",
              "      <td>None</td>\n",
              "    </tr>\n",
              "    <tr>\n",
              "      <th>22</th>\n",
              "      <td>Numeric Imputer</td>\n",
              "      <td>mean</td>\n",
              "    </tr>\n",
              "    <tr>\n",
              "      <th>23</th>\n",
              "      <td>Iterative Imputation Numeric Model</td>\n",
              "      <td>None</td>\n",
              "    </tr>\n",
              "    <tr>\n",
              "      <th>24</th>\n",
              "      <td>Categorical Imputer</td>\n",
              "      <td>constant</td>\n",
              "    </tr>\n",
              "    <tr>\n",
              "      <th>25</th>\n",
              "      <td>Iterative Imputation Categorical Model</td>\n",
              "      <td>None</td>\n",
              "    </tr>\n",
              "    <tr>\n",
              "      <th>26</th>\n",
              "      <td>Unknown Categoricals Handling</td>\n",
              "      <td>least_frequent</td>\n",
              "    </tr>\n",
              "    <tr>\n",
              "      <th>27</th>\n",
              "      <td>Normalize</td>\n",
              "      <td>True</td>\n",
              "    </tr>\n",
              "    <tr>\n",
              "      <th>28</th>\n",
              "      <td>Normalize Method</td>\n",
              "      <td>zscore</td>\n",
              "    </tr>\n",
              "    <tr>\n",
              "      <th>29</th>\n",
              "      <td>Transformation</td>\n",
              "      <td>True</td>\n",
              "    </tr>\n",
              "    <tr>\n",
              "      <th>30</th>\n",
              "      <td>Transformation Method</td>\n",
              "      <td>yeo-johnson</td>\n",
              "    </tr>\n",
              "    <tr>\n",
              "      <th>31</th>\n",
              "      <td>PCA</td>\n",
              "      <td>False</td>\n",
              "    </tr>\n",
              "    <tr>\n",
              "      <th>32</th>\n",
              "      <td>PCA Method</td>\n",
              "      <td>None</td>\n",
              "    </tr>\n",
              "    <tr>\n",
              "      <th>33</th>\n",
              "      <td>PCA Components</td>\n",
              "      <td>None</td>\n",
              "    </tr>\n",
              "    <tr>\n",
              "      <th>34</th>\n",
              "      <td>Ignore Low Variance</td>\n",
              "      <td>True</td>\n",
              "    </tr>\n",
              "    <tr>\n",
              "      <th>35</th>\n",
              "      <td>Combine Rare Levels</td>\n",
              "      <td>True</td>\n",
              "    </tr>\n",
              "    <tr>\n",
              "      <th>36</th>\n",
              "      <td>Rare Level Threshold</td>\n",
              "      <td>0.1</td>\n",
              "    </tr>\n",
              "    <tr>\n",
              "      <th>37</th>\n",
              "      <td>Numeric Binning</td>\n",
              "      <td>False</td>\n",
              "    </tr>\n",
              "    <tr>\n",
              "      <th>38</th>\n",
              "      <td>Remove Outliers</td>\n",
              "      <td>True</td>\n",
              "    </tr>\n",
              "    <tr>\n",
              "      <th>39</th>\n",
              "      <td>Outliers Threshold</td>\n",
              "      <td>0.05</td>\n",
              "    </tr>\n",
              "    <tr>\n",
              "      <th>40</th>\n",
              "      <td>Remove Multicollinearity</td>\n",
              "      <td>True</td>\n",
              "    </tr>\n",
              "    <tr>\n",
              "      <th>41</th>\n",
              "      <td>Multicollinearity Threshold</td>\n",
              "      <td>0.9</td>\n",
              "    </tr>\n",
              "    <tr>\n",
              "      <th>42</th>\n",
              "      <td>Remove Perfect Collinearity</td>\n",
              "      <td>True</td>\n",
              "    </tr>\n",
              "    <tr>\n",
              "      <th>43</th>\n",
              "      <td>Clustering</td>\n",
              "      <td>False</td>\n",
              "    </tr>\n",
              "    <tr>\n",
              "      <th>44</th>\n",
              "      <td>Clustering Iteration</td>\n",
              "      <td>None</td>\n",
              "    </tr>\n",
              "    <tr>\n",
              "      <th>45</th>\n",
              "      <td>Polynomial Features</td>\n",
              "      <td>False</td>\n",
              "    </tr>\n",
              "    <tr>\n",
              "      <th>46</th>\n",
              "      <td>Polynomial Degree</td>\n",
              "      <td>None</td>\n",
              "    </tr>\n",
              "    <tr>\n",
              "      <th>47</th>\n",
              "      <td>Trignometry Features</td>\n",
              "      <td>False</td>\n",
              "    </tr>\n",
              "    <tr>\n",
              "      <th>48</th>\n",
              "      <td>Polynomial Threshold</td>\n",
              "      <td>None</td>\n",
              "    </tr>\n",
              "    <tr>\n",
              "      <th>49</th>\n",
              "      <td>Group Features</td>\n",
              "      <td>False</td>\n",
              "    </tr>\n",
              "    <tr>\n",
              "      <th>50</th>\n",
              "      <td>Feature Selection</td>\n",
              "      <td>False</td>\n",
              "    </tr>\n",
              "    <tr>\n",
              "      <th>51</th>\n",
              "      <td>Feature Selection Method</td>\n",
              "      <td>classic</td>\n",
              "    </tr>\n",
              "    <tr>\n",
              "      <th>52</th>\n",
              "      <td>Features Selection Threshold</td>\n",
              "      <td>None</td>\n",
              "    </tr>\n",
              "    <tr>\n",
              "      <th>53</th>\n",
              "      <td>Feature Interaction</td>\n",
              "      <td>False</td>\n",
              "    </tr>\n",
              "    <tr>\n",
              "      <th>54</th>\n",
              "      <td>Feature Ratio</td>\n",
              "      <td>False</td>\n",
              "    </tr>\n",
              "    <tr>\n",
              "      <th>55</th>\n",
              "      <td>Interaction Threshold</td>\n",
              "      <td>None</td>\n",
              "    </tr>\n",
              "    <tr>\n",
              "      <th>56</th>\n",
              "      <td>Transform Target</td>\n",
              "      <td>False</td>\n",
              "    </tr>\n",
              "    <tr>\n",
              "      <th>57</th>\n",
              "      <td>Transform Target Method</td>\n",
              "      <td>box-cox</td>\n",
              "    </tr>\n",
              "  </tbody>\n",
              "</table>\n",
              "</div>\n",
              "      <button class=\"colab-df-convert\" onclick=\"convertToInteractive('df-d8fd1d40-a5dd-4004-a8e3-29e0c2895978')\"\n",
              "              title=\"Convert this dataframe to an interactive table.\"\n",
              "              style=\"display:none;\">\n",
              "        \n",
              "  <svg xmlns=\"http://www.w3.org/2000/svg\" height=\"24px\"viewBox=\"0 0 24 24\"\n",
              "       width=\"24px\">\n",
              "    <path d=\"M0 0h24v24H0V0z\" fill=\"none\"/>\n",
              "    <path d=\"M18.56 5.44l.94 2.06.94-2.06 2.06-.94-2.06-.94-.94-2.06-.94 2.06-2.06.94zm-11 1L8.5 8.5l.94-2.06 2.06-.94-2.06-.94L8.5 2.5l-.94 2.06-2.06.94zm10 10l.94 2.06.94-2.06 2.06-.94-2.06-.94-.94-2.06-.94 2.06-2.06.94z\"/><path d=\"M17.41 7.96l-1.37-1.37c-.4-.4-.92-.59-1.43-.59-.52 0-1.04.2-1.43.59L10.3 9.45l-7.72 7.72c-.78.78-.78 2.05 0 2.83L4 21.41c.39.39.9.59 1.41.59.51 0 1.02-.2 1.41-.59l7.78-7.78 2.81-2.81c.8-.78.8-2.07 0-2.86zM5.41 20L4 18.59l7.72-7.72 1.47 1.35L5.41 20z\"/>\n",
              "  </svg>\n",
              "      </button>\n",
              "      \n",
              "  <style>\n",
              "    .colab-df-container {\n",
              "      display:flex;\n",
              "      flex-wrap:wrap;\n",
              "      gap: 12px;\n",
              "    }\n",
              "\n",
              "    .colab-df-convert {\n",
              "      background-color: #E8F0FE;\n",
              "      border: none;\n",
              "      border-radius: 50%;\n",
              "      cursor: pointer;\n",
              "      display: none;\n",
              "      fill: #1967D2;\n",
              "      height: 32px;\n",
              "      padding: 0 0 0 0;\n",
              "      width: 32px;\n",
              "    }\n",
              "\n",
              "    .colab-df-convert:hover {\n",
              "      background-color: #E2EBFA;\n",
              "      box-shadow: 0px 1px 2px rgba(60, 64, 67, 0.3), 0px 1px 3px 1px rgba(60, 64, 67, 0.15);\n",
              "      fill: #174EA6;\n",
              "    }\n",
              "\n",
              "    [theme=dark] .colab-df-convert {\n",
              "      background-color: #3B4455;\n",
              "      fill: #D2E3FC;\n",
              "    }\n",
              "\n",
              "    [theme=dark] .colab-df-convert:hover {\n",
              "      background-color: #434B5C;\n",
              "      box-shadow: 0px 1px 3px 1px rgba(0, 0, 0, 0.15);\n",
              "      filter: drop-shadow(0px 1px 2px rgba(0, 0, 0, 0.3));\n",
              "      fill: #FFFFFF;\n",
              "    }\n",
              "  </style>\n",
              "\n",
              "      <script>\n",
              "        const buttonEl =\n",
              "          document.querySelector('#df-d8fd1d40-a5dd-4004-a8e3-29e0c2895978 button.colab-df-convert');\n",
              "        buttonEl.style.display =\n",
              "          google.colab.kernel.accessAllowed ? 'block' : 'none';\n",
              "\n",
              "        async function convertToInteractive(key) {\n",
              "          const element = document.querySelector('#df-d8fd1d40-a5dd-4004-a8e3-29e0c2895978');\n",
              "          const dataTable =\n",
              "            await google.colab.kernel.invokeFunction('convertToInteractive',\n",
              "                                                     [key], {});\n",
              "          if (!dataTable) return;\n",
              "\n",
              "          const docLinkHtml = 'Like what you see? Visit the ' +\n",
              "            '<a target=\"_blank\" href=https://colab.research.google.com/notebooks/data_table.ipynb>data table notebook</a>'\n",
              "            + ' to learn more about interactive tables.';\n",
              "          element.innerHTML = '';\n",
              "          dataTable['output_type'] = 'display_data';\n",
              "          await google.colab.output.renderOutput(dataTable, element);\n",
              "          const docLink = document.createElement('div');\n",
              "          docLink.innerHTML = docLinkHtml;\n",
              "          element.appendChild(docLink);\n",
              "        }\n",
              "      </script>\n",
              "    </div>\n",
              "  </div>\n",
              "  "
            ],
            "text/plain": [
              "                               Description             Value\n",
              "0                               session_id              3382\n",
              "1                                   Target    amex return(t)\n",
              "2                            Original Data         (593, 55)\n",
              "3                           Missing Values             False\n",
              "4                         Numeric Features                54\n",
              "5                     Categorical Features                 0\n",
              "6                         Ordinal Features             False\n",
              "7                High Cardinality Features             False\n",
              "8                  High Cardinality Method              None\n",
              "9                    Transformed Train Set         (394, 54)\n",
              "10                    Transformed Test Set         (178, 54)\n",
              "11                      Shuffle Train-Test              True\n",
              "12                     Stratify Train-Test             False\n",
              "13                          Fold Generator             KFold\n",
              "14                             Fold Number                10\n",
              "15                                CPU Jobs                -1\n",
              "16                                 Use GPU             False\n",
              "17                          Log Experiment             False\n",
              "18                         Experiment Name  reg-default-name\n",
              "19                                     USI              5c67\n",
              "20                         Imputation Type            simple\n",
              "21          Iterative Imputation Iteration              None\n",
              "22                         Numeric Imputer              mean\n",
              "23      Iterative Imputation Numeric Model              None\n",
              "24                     Categorical Imputer          constant\n",
              "25  Iterative Imputation Categorical Model              None\n",
              "26           Unknown Categoricals Handling    least_frequent\n",
              "27                               Normalize              True\n",
              "28                        Normalize Method            zscore\n",
              "29                          Transformation              True\n",
              "30                   Transformation Method       yeo-johnson\n",
              "31                                     PCA             False\n",
              "32                              PCA Method              None\n",
              "33                          PCA Components              None\n",
              "34                     Ignore Low Variance              True\n",
              "35                     Combine Rare Levels              True\n",
              "36                    Rare Level Threshold               0.1\n",
              "37                         Numeric Binning             False\n",
              "38                         Remove Outliers              True\n",
              "39                      Outliers Threshold              0.05\n",
              "40                Remove Multicollinearity              True\n",
              "41             Multicollinearity Threshold               0.9\n",
              "42             Remove Perfect Collinearity              True\n",
              "43                              Clustering             False\n",
              "44                    Clustering Iteration              None\n",
              "45                     Polynomial Features             False\n",
              "46                       Polynomial Degree              None\n",
              "47                    Trignometry Features             False\n",
              "48                    Polynomial Threshold              None\n",
              "49                          Group Features             False\n",
              "50                       Feature Selection             False\n",
              "51                Feature Selection Method           classic\n",
              "52            Features Selection Threshold              None\n",
              "53                     Feature Interaction             False\n",
              "54                           Feature Ratio             False\n",
              "55                   Interaction Threshold              None\n",
              "56                        Transform Target             False\n",
              "57                 Transform Target Method           box-cox"
            ]
          },
          "metadata": {},
          "output_type": "display_data"
        }
      ],
      "source": [
        "demo = setup(data = mldf, target = 'amex return(t)', \n",
        "                   ignore_features = [],normalize = True,\n",
        "                   transformation= True, transformation_method = 'yeo-johnson', \n",
        "                   transform_target = False, remove_outliers= True,\n",
        "                   remove_multicollinearity = True,\n",
        "                   ignore_low_variance = True, combine_rare_levels = True) "
      ]
    },
    {
      "cell_type": "code",
      "execution_count": null,
      "metadata": {
        "colab": {
          "base_uri": "https://localhost:8080/",
          "height": 713
        },
        "id": "v-mn24n0HfoA",
        "outputId": "b0bf1441-6ee9-4046-f875-b4f767e6edac"
      },
      "outputs": [
        {
          "data": {
            "text/html": [
              "\n",
              "  <div id=\"df-12531022-48e1-407e-9df1-ef3d77febb99\">\n",
              "    <div class=\"colab-df-container\">\n",
              "      <div>\n",
              "<style scoped>\n",
              "    .dataframe tbody tr th:only-of-type {\n",
              "        vertical-align: middle;\n",
              "    }\n",
              "\n",
              "    .dataframe tbody tr th {\n",
              "        vertical-align: top;\n",
              "    }\n",
              "\n",
              "    .dataframe thead th {\n",
              "        text-align: right;\n",
              "    }\n",
              "</style>\n",
              "<table border=\"1\" class=\"dataframe\">\n",
              "  <thead>\n",
              "    <tr style=\"text-align: right;\">\n",
              "      <th></th>\n",
              "      <th>Model</th>\n",
              "      <th>MAE</th>\n",
              "      <th>MSE</th>\n",
              "      <th>RMSE</th>\n",
              "      <th>R2</th>\n",
              "      <th>RMSLE</th>\n",
              "      <th>MAPE</th>\n",
              "      <th>TT (Sec)</th>\n",
              "    </tr>\n",
              "  </thead>\n",
              "  <tbody>\n",
              "    <tr>\n",
              "      <th>omp</th>\n",
              "      <td>Orthogonal Matching Pursuit</td>\n",
              "      <td>0.0120</td>\n",
              "      <td>0.0003</td>\n",
              "      <td>0.0168</td>\n",
              "      <td>0.3915</td>\n",
              "      <td>0.0140</td>\n",
              "      <td>2.4378</td>\n",
              "      <td>0.016</td>\n",
              "    </tr>\n",
              "    <tr>\n",
              "      <th>huber</th>\n",
              "      <td>Huber Regressor</td>\n",
              "      <td>0.0123</td>\n",
              "      <td>0.0003</td>\n",
              "      <td>0.0173</td>\n",
              "      <td>0.3650</td>\n",
              "      <td>0.0146</td>\n",
              "      <td>2.5249</td>\n",
              "      <td>0.034</td>\n",
              "    </tr>\n",
              "    <tr>\n",
              "      <th>et</th>\n",
              "      <td>Extra Trees Regressor</td>\n",
              "      <td>0.0122</td>\n",
              "      <td>0.0004</td>\n",
              "      <td>0.0177</td>\n",
              "      <td>0.3427</td>\n",
              "      <td>0.0150</td>\n",
              "      <td>2.0965</td>\n",
              "      <td>0.692</td>\n",
              "    </tr>\n",
              "    <tr>\n",
              "      <th>br</th>\n",
              "      <td>Bayesian Ridge</td>\n",
              "      <td>0.0126</td>\n",
              "      <td>0.0003</td>\n",
              "      <td>0.0176</td>\n",
              "      <td>0.3266</td>\n",
              "      <td>0.0146</td>\n",
              "      <td>2.6804</td>\n",
              "      <td>0.018</td>\n",
              "    </tr>\n",
              "    <tr>\n",
              "      <th>rf</th>\n",
              "      <td>Random Forest Regressor</td>\n",
              "      <td>0.0124</td>\n",
              "      <td>0.0004</td>\n",
              "      <td>0.0179</td>\n",
              "      <td>0.3263</td>\n",
              "      <td>0.0151</td>\n",
              "      <td>2.2779</td>\n",
              "      <td>1.162</td>\n",
              "    </tr>\n",
              "    <tr>\n",
              "      <th>catboost</th>\n",
              "      <td>CatBoost Regressor</td>\n",
              "      <td>0.0127</td>\n",
              "      <td>0.0004</td>\n",
              "      <td>0.0182</td>\n",
              "      <td>0.3071</td>\n",
              "      <td>0.0156</td>\n",
              "      <td>2.1482</td>\n",
              "      <td>17.470</td>\n",
              "    </tr>\n",
              "    <tr>\n",
              "      <th>ada</th>\n",
              "      <td>AdaBoost Regressor</td>\n",
              "      <td>0.0123</td>\n",
              "      <td>0.0004</td>\n",
              "      <td>0.0183</td>\n",
              "      <td>0.3027</td>\n",
              "      <td>0.0153</td>\n",
              "      <td>1.7106</td>\n",
              "      <td>0.211</td>\n",
              "    </tr>\n",
              "    <tr>\n",
              "      <th>ridge</th>\n",
              "      <td>Ridge Regression</td>\n",
              "      <td>0.0132</td>\n",
              "      <td>0.0004</td>\n",
              "      <td>0.0182</td>\n",
              "      <td>0.2606</td>\n",
              "      <td>0.0148</td>\n",
              "      <td>3.0783</td>\n",
              "      <td>0.021</td>\n",
              "    </tr>\n",
              "    <tr>\n",
              "      <th>lr</th>\n",
              "      <td>Linear Regression</td>\n",
              "      <td>0.0132</td>\n",
              "      <td>0.0004</td>\n",
              "      <td>0.0182</td>\n",
              "      <td>0.2560</td>\n",
              "      <td>0.0148</td>\n",
              "      <td>3.0965</td>\n",
              "      <td>0.372</td>\n",
              "    </tr>\n",
              "    <tr>\n",
              "      <th>lar</th>\n",
              "      <td>Least Angle Regression</td>\n",
              "      <td>0.0135</td>\n",
              "      <td>0.0004</td>\n",
              "      <td>0.0185</td>\n",
              "      <td>0.2165</td>\n",
              "      <td>0.0149</td>\n",
              "      <td>3.1235</td>\n",
              "      <td>0.026</td>\n",
              "    </tr>\n",
              "    <tr>\n",
              "      <th>gbr</th>\n",
              "      <td>Gradient Boosting Regressor</td>\n",
              "      <td>0.0133</td>\n",
              "      <td>0.0004</td>\n",
              "      <td>0.0193</td>\n",
              "      <td>0.2039</td>\n",
              "      <td>0.0158</td>\n",
              "      <td>2.1862</td>\n",
              "      <td>0.443</td>\n",
              "    </tr>\n",
              "    <tr>\n",
              "      <th>lightgbm</th>\n",
              "      <td>Light Gradient Boosting Machine</td>\n",
              "      <td>0.0140</td>\n",
              "      <td>0.0004</td>\n",
              "      <td>0.0195</td>\n",
              "      <td>0.1761</td>\n",
              "      <td>0.0159</td>\n",
              "      <td>2.6489</td>\n",
              "      <td>0.221</td>\n",
              "    </tr>\n",
              "    <tr>\n",
              "      <th>xgboost</th>\n",
              "      <td>Extreme Gradient Boosting</td>\n",
              "      <td>0.0137</td>\n",
              "      <td>0.0005</td>\n",
              "      <td>0.0202</td>\n",
              "      <td>0.1399</td>\n",
              "      <td>0.0168</td>\n",
              "      <td>2.7343</td>\n",
              "      <td>1.485</td>\n",
              "    </tr>\n",
              "    <tr>\n",
              "      <th>knn</th>\n",
              "      <td>K Neighbors Regressor</td>\n",
              "      <td>0.0153</td>\n",
              "      <td>0.0005</td>\n",
              "      <td>0.0214</td>\n",
              "      <td>0.0349</td>\n",
              "      <td>0.0179</td>\n",
              "      <td>2.0927</td>\n",
              "      <td>0.064</td>\n",
              "    </tr>\n",
              "    <tr>\n",
              "      <th>lasso</th>\n",
              "      <td>Lasso Regression</td>\n",
              "      <td>0.0158</td>\n",
              "      <td>0.0005</td>\n",
              "      <td>0.0220</td>\n",
              "      <td>-0.0260</td>\n",
              "      <td>0.0196</td>\n",
              "      <td>1.4405</td>\n",
              "      <td>0.017</td>\n",
              "    </tr>\n",
              "    <tr>\n",
              "      <th>en</th>\n",
              "      <td>Elastic Net</td>\n",
              "      <td>0.0158</td>\n",
              "      <td>0.0005</td>\n",
              "      <td>0.0220</td>\n",
              "      <td>-0.0260</td>\n",
              "      <td>0.0196</td>\n",
              "      <td>1.4405</td>\n",
              "      <td>0.018</td>\n",
              "    </tr>\n",
              "    <tr>\n",
              "      <th>llar</th>\n",
              "      <td>Lasso Least Angle Regression</td>\n",
              "      <td>0.0158</td>\n",
              "      <td>0.0005</td>\n",
              "      <td>0.0220</td>\n",
              "      <td>-0.0260</td>\n",
              "      <td>0.0196</td>\n",
              "      <td>1.4405</td>\n",
              "      <td>0.015</td>\n",
              "    </tr>\n",
              "    <tr>\n",
              "      <th>dummy</th>\n",
              "      <td>Dummy Regressor</td>\n",
              "      <td>0.0158</td>\n",
              "      <td>0.0005</td>\n",
              "      <td>0.0220</td>\n",
              "      <td>-0.0260</td>\n",
              "      <td>0.0196</td>\n",
              "      <td>1.4405</td>\n",
              "      <td>0.012</td>\n",
              "    </tr>\n",
              "    <tr>\n",
              "      <th>par</th>\n",
              "      <td>Passive Aggressive Regressor</td>\n",
              "      <td>0.0181</td>\n",
              "      <td>0.0007</td>\n",
              "      <td>0.0246</td>\n",
              "      <td>-0.3172</td>\n",
              "      <td>0.0180</td>\n",
              "      <td>2.5462</td>\n",
              "      <td>0.017</td>\n",
              "    </tr>\n",
              "    <tr>\n",
              "      <th>dt</th>\n",
              "      <td>Decision Tree Regressor</td>\n",
              "      <td>0.0181</td>\n",
              "      <td>0.0008</td>\n",
              "      <td>0.0270</td>\n",
              "      <td>-0.7533</td>\n",
              "      <td>0.0205</td>\n",
              "      <td>5.1265</td>\n",
              "      <td>0.029</td>\n",
              "    </tr>\n",
              "  </tbody>\n",
              "</table>\n",
              "</div>\n",
              "      <button class=\"colab-df-convert\" onclick=\"convertToInteractive('df-12531022-48e1-407e-9df1-ef3d77febb99')\"\n",
              "              title=\"Convert this dataframe to an interactive table.\"\n",
              "              style=\"display:none;\">\n",
              "        \n",
              "  <svg xmlns=\"http://www.w3.org/2000/svg\" height=\"24px\"viewBox=\"0 0 24 24\"\n",
              "       width=\"24px\">\n",
              "    <path d=\"M0 0h24v24H0V0z\" fill=\"none\"/>\n",
              "    <path d=\"M18.56 5.44l.94 2.06.94-2.06 2.06-.94-2.06-.94-.94-2.06-.94 2.06-2.06.94zm-11 1L8.5 8.5l.94-2.06 2.06-.94-2.06-.94L8.5 2.5l-.94 2.06-2.06.94zm10 10l.94 2.06.94-2.06 2.06-.94-2.06-.94-.94-2.06-.94 2.06-2.06.94z\"/><path d=\"M17.41 7.96l-1.37-1.37c-.4-.4-.92-.59-1.43-.59-.52 0-1.04.2-1.43.59L10.3 9.45l-7.72 7.72c-.78.78-.78 2.05 0 2.83L4 21.41c.39.39.9.59 1.41.59.51 0 1.02-.2 1.41-.59l7.78-7.78 2.81-2.81c.8-.78.8-2.07 0-2.86zM5.41 20L4 18.59l7.72-7.72 1.47 1.35L5.41 20z\"/>\n",
              "  </svg>\n",
              "      </button>\n",
              "      \n",
              "  <style>\n",
              "    .colab-df-container {\n",
              "      display:flex;\n",
              "      flex-wrap:wrap;\n",
              "      gap: 12px;\n",
              "    }\n",
              "\n",
              "    .colab-df-convert {\n",
              "      background-color: #E8F0FE;\n",
              "      border: none;\n",
              "      border-radius: 50%;\n",
              "      cursor: pointer;\n",
              "      display: none;\n",
              "      fill: #1967D2;\n",
              "      height: 32px;\n",
              "      padding: 0 0 0 0;\n",
              "      width: 32px;\n",
              "    }\n",
              "\n",
              "    .colab-df-convert:hover {\n",
              "      background-color: #E2EBFA;\n",
              "      box-shadow: 0px 1px 2px rgba(60, 64, 67, 0.3), 0px 1px 3px 1px rgba(60, 64, 67, 0.15);\n",
              "      fill: #174EA6;\n",
              "    }\n",
              "\n",
              "    [theme=dark] .colab-df-convert {\n",
              "      background-color: #3B4455;\n",
              "      fill: #D2E3FC;\n",
              "    }\n",
              "\n",
              "    [theme=dark] .colab-df-convert:hover {\n",
              "      background-color: #434B5C;\n",
              "      box-shadow: 0px 1px 3px 1px rgba(0, 0, 0, 0.15);\n",
              "      filter: drop-shadow(0px 1px 2px rgba(0, 0, 0, 0.3));\n",
              "      fill: #FFFFFF;\n",
              "    }\n",
              "  </style>\n",
              "\n",
              "      <script>\n",
              "        const buttonEl =\n",
              "          document.querySelector('#df-12531022-48e1-407e-9df1-ef3d77febb99 button.colab-df-convert');\n",
              "        buttonEl.style.display =\n",
              "          google.colab.kernel.accessAllowed ? 'block' : 'none';\n",
              "\n",
              "        async function convertToInteractive(key) {\n",
              "          const element = document.querySelector('#df-12531022-48e1-407e-9df1-ef3d77febb99');\n",
              "          const dataTable =\n",
              "            await google.colab.kernel.invokeFunction('convertToInteractive',\n",
              "                                                     [key], {});\n",
              "          if (!dataTable) return;\n",
              "\n",
              "          const docLinkHtml = 'Like what you see? Visit the ' +\n",
              "            '<a target=\"_blank\" href=https://colab.research.google.com/notebooks/data_table.ipynb>data table notebook</a>'\n",
              "            + ' to learn more about interactive tables.';\n",
              "          element.innerHTML = '';\n",
              "          dataTable['output_type'] = 'display_data';\n",
              "          await google.colab.output.renderOutput(dataTable, element);\n",
              "          const docLink = document.createElement('div');\n",
              "          docLink.innerHTML = docLinkHtml;\n",
              "          element.appendChild(docLink);\n",
              "        }\n",
              "      </script>\n",
              "    </div>\n",
              "  </div>\n",
              "  "
            ],
            "text/plain": [
              "                                    Model     MAE     MSE    RMSE      R2  \\\n",
              "omp           Orthogonal Matching Pursuit  0.0120  0.0003  0.0168  0.3915   \n",
              "huber                     Huber Regressor  0.0123  0.0003  0.0173  0.3650   \n",
              "et                  Extra Trees Regressor  0.0122  0.0004  0.0177  0.3427   \n",
              "br                         Bayesian Ridge  0.0126  0.0003  0.0176  0.3266   \n",
              "rf                Random Forest Regressor  0.0124  0.0004  0.0179  0.3263   \n",
              "catboost               CatBoost Regressor  0.0127  0.0004  0.0182  0.3071   \n",
              "ada                    AdaBoost Regressor  0.0123  0.0004  0.0183  0.3027   \n",
              "ridge                    Ridge Regression  0.0132  0.0004  0.0182  0.2606   \n",
              "lr                      Linear Regression  0.0132  0.0004  0.0182  0.2560   \n",
              "lar                Least Angle Regression  0.0135  0.0004  0.0185  0.2165   \n",
              "gbr           Gradient Boosting Regressor  0.0133  0.0004  0.0193  0.2039   \n",
              "lightgbm  Light Gradient Boosting Machine  0.0140  0.0004  0.0195  0.1761   \n",
              "xgboost         Extreme Gradient Boosting  0.0137  0.0005  0.0202  0.1399   \n",
              "knn                 K Neighbors Regressor  0.0153  0.0005  0.0214  0.0349   \n",
              "lasso                    Lasso Regression  0.0158  0.0005  0.0220 -0.0260   \n",
              "en                            Elastic Net  0.0158  0.0005  0.0220 -0.0260   \n",
              "llar         Lasso Least Angle Regression  0.0158  0.0005  0.0220 -0.0260   \n",
              "dummy                     Dummy Regressor  0.0158  0.0005  0.0220 -0.0260   \n",
              "par          Passive Aggressive Regressor  0.0181  0.0007  0.0246 -0.3172   \n",
              "dt                Decision Tree Regressor  0.0181  0.0008  0.0270 -0.7533   \n",
              "\n",
              "           RMSLE    MAPE  TT (Sec)  \n",
              "omp       0.0140  2.4378     0.016  \n",
              "huber     0.0146  2.5249     0.034  \n",
              "et        0.0150  2.0965     0.692  \n",
              "br        0.0146  2.6804     0.018  \n",
              "rf        0.0151  2.2779     1.162  \n",
              "catboost  0.0156  2.1482    17.470  \n",
              "ada       0.0153  1.7106     0.211  \n",
              "ridge     0.0148  3.0783     0.021  \n",
              "lr        0.0148  3.0965     0.372  \n",
              "lar       0.0149  3.1235     0.026  \n",
              "gbr       0.0158  2.1862     0.443  \n",
              "lightgbm  0.0159  2.6489     0.221  \n",
              "xgboost   0.0168  2.7343     1.485  \n",
              "knn       0.0179  2.0927     0.064  \n",
              "lasso     0.0196  1.4405     0.017  \n",
              "en        0.0196  1.4405     0.018  \n",
              "llar      0.0196  1.4405     0.015  \n",
              "dummy     0.0196  1.4405     0.012  \n",
              "par       0.0180  2.5462     0.017  \n",
              "dt        0.0205  5.1265     0.029  "
            ]
          },
          "metadata": {},
          "output_type": "display_data"
        },
        {
          "data": {
            "text/plain": [
              "OrthogonalMatchingPursuit(fit_intercept=True, n_nonzero_coefs=None,\n",
              "                          normalize=True, precompute='auto', tol=None)"
            ]
          },
          "execution_count": 13,
          "metadata": {},
          "output_type": "execute_result"
        }
      ],
      "source": [
        "compare_models()"
      ]
    },
    {
      "cell_type": "code",
      "execution_count": null,
      "metadata": {
        "colab": {
          "base_uri": "https://localhost:8080/",
          "height": 456
        },
        "id": "GLdOztDZHu50",
        "outputId": "fdce2921-37b6-4a94-ad21-3b5ce6222c9c"
      },
      "outputs": [
        {
          "data": {
            "text/html": [
              "\n",
              "  <div id=\"df-09b6cbb5-eaf4-48d0-9912-2b7b934325e9\">\n",
              "    <div class=\"colab-df-container\">\n",
              "      <div>\n",
              "<style scoped>\n",
              "    .dataframe tbody tr th:only-of-type {\n",
              "        vertical-align: middle;\n",
              "    }\n",
              "\n",
              "    .dataframe tbody tr th {\n",
              "        vertical-align: top;\n",
              "    }\n",
              "\n",
              "    .dataframe thead th {\n",
              "        text-align: right;\n",
              "    }\n",
              "</style>\n",
              "<table border=\"1\" class=\"dataframe\">\n",
              "  <thead>\n",
              "    <tr style=\"text-align: right;\">\n",
              "      <th></th>\n",
              "      <th>MAE</th>\n",
              "      <th>MSE</th>\n",
              "      <th>RMSE</th>\n",
              "      <th>R2</th>\n",
              "      <th>RMSLE</th>\n",
              "      <th>MAPE</th>\n",
              "    </tr>\n",
              "    <tr>\n",
              "      <th>Fold</th>\n",
              "      <th></th>\n",
              "      <th></th>\n",
              "      <th></th>\n",
              "      <th></th>\n",
              "      <th></th>\n",
              "      <th></th>\n",
              "    </tr>\n",
              "  </thead>\n",
              "  <tbody>\n",
              "    <tr>\n",
              "      <th>0</th>\n",
              "      <td>0.0151</td>\n",
              "      <td>0.0005</td>\n",
              "      <td>0.0216</td>\n",
              "      <td>-0.2355</td>\n",
              "      <td>0.0155</td>\n",
              "      <td>1.3768</td>\n",
              "    </tr>\n",
              "    <tr>\n",
              "      <th>1</th>\n",
              "      <td>0.0105</td>\n",
              "      <td>0.0002</td>\n",
              "      <td>0.0129</td>\n",
              "      <td>0.1866</td>\n",
              "      <td>0.0116</td>\n",
              "      <td>4.1990</td>\n",
              "    </tr>\n",
              "    <tr>\n",
              "      <th>2</th>\n",
              "      <td>0.0152</td>\n",
              "      <td>0.0005</td>\n",
              "      <td>0.0228</td>\n",
              "      <td>0.0340</td>\n",
              "      <td>0.0191</td>\n",
              "      <td>2.2066</td>\n",
              "    </tr>\n",
              "    <tr>\n",
              "      <th>3</th>\n",
              "      <td>0.0181</td>\n",
              "      <td>0.0007</td>\n",
              "      <td>0.0267</td>\n",
              "      <td>0.1369</td>\n",
              "      <td>0.0200</td>\n",
              "      <td>4.1790</td>\n",
              "    </tr>\n",
              "    <tr>\n",
              "      <th>4</th>\n",
              "      <td>0.0120</td>\n",
              "      <td>0.0002</td>\n",
              "      <td>0.0157</td>\n",
              "      <td>0.2640</td>\n",
              "      <td>0.0097</td>\n",
              "      <td>1.6690</td>\n",
              "    </tr>\n",
              "    <tr>\n",
              "      <th>5</th>\n",
              "      <td>0.0169</td>\n",
              "      <td>0.0006</td>\n",
              "      <td>0.0237</td>\n",
              "      <td>0.3099</td>\n",
              "      <td>0.0216</td>\n",
              "      <td>2.1067</td>\n",
              "    </tr>\n",
              "    <tr>\n",
              "      <th>6</th>\n",
              "      <td>0.0134</td>\n",
              "      <td>0.0004</td>\n",
              "      <td>0.0208</td>\n",
              "      <td>-0.3456</td>\n",
              "      <td>0.0186</td>\n",
              "      <td>2.9258</td>\n",
              "    </tr>\n",
              "    <tr>\n",
              "      <th>7</th>\n",
              "      <td>0.0125</td>\n",
              "      <td>0.0002</td>\n",
              "      <td>0.0155</td>\n",
              "      <td>0.0397</td>\n",
              "      <td>0.0136</td>\n",
              "      <td>2.1001</td>\n",
              "    </tr>\n",
              "    <tr>\n",
              "      <th>8</th>\n",
              "      <td>0.0169</td>\n",
              "      <td>0.0010</td>\n",
              "      <td>0.0312</td>\n",
              "      <td>0.2310</td>\n",
              "      <td>0.0273</td>\n",
              "      <td>0.9639</td>\n",
              "    </tr>\n",
              "    <tr>\n",
              "      <th>9</th>\n",
              "      <td>0.0105</td>\n",
              "      <td>0.0002</td>\n",
              "      <td>0.0131</td>\n",
              "      <td>0.2723</td>\n",
              "      <td>0.0097</td>\n",
              "      <td>2.6930</td>\n",
              "    </tr>\n",
              "    <tr>\n",
              "      <th>Mean</th>\n",
              "      <td>0.0141</td>\n",
              "      <td>0.0004</td>\n",
              "      <td>0.0204</td>\n",
              "      <td>0.0893</td>\n",
              "      <td>0.0167</td>\n",
              "      <td>2.4420</td>\n",
              "    </tr>\n",
              "    <tr>\n",
              "      <th>Std</th>\n",
              "      <td>0.0026</td>\n",
              "      <td>0.0002</td>\n",
              "      <td>0.0058</td>\n",
              "      <td>0.2108</td>\n",
              "      <td>0.0054</td>\n",
              "      <td>1.0297</td>\n",
              "    </tr>\n",
              "  </tbody>\n",
              "</table>\n",
              "</div>\n",
              "      <button class=\"colab-df-convert\" onclick=\"convertToInteractive('df-09b6cbb5-eaf4-48d0-9912-2b7b934325e9')\"\n",
              "              title=\"Convert this dataframe to an interactive table.\"\n",
              "              style=\"display:none;\">\n",
              "        \n",
              "  <svg xmlns=\"http://www.w3.org/2000/svg\" height=\"24px\"viewBox=\"0 0 24 24\"\n",
              "       width=\"24px\">\n",
              "    <path d=\"M0 0h24v24H0V0z\" fill=\"none\"/>\n",
              "    <path d=\"M18.56 5.44l.94 2.06.94-2.06 2.06-.94-2.06-.94-.94-2.06-.94 2.06-2.06.94zm-11 1L8.5 8.5l.94-2.06 2.06-.94-2.06-.94L8.5 2.5l-.94 2.06-2.06.94zm10 10l.94 2.06.94-2.06 2.06-.94-2.06-.94-.94-2.06-.94 2.06-2.06.94z\"/><path d=\"M17.41 7.96l-1.37-1.37c-.4-.4-.92-.59-1.43-.59-.52 0-1.04.2-1.43.59L10.3 9.45l-7.72 7.72c-.78.78-.78 2.05 0 2.83L4 21.41c.39.39.9.59 1.41.59.51 0 1.02-.2 1.41-.59l7.78-7.78 2.81-2.81c.8-.78.8-2.07 0-2.86zM5.41 20L4 18.59l7.72-7.72 1.47 1.35L5.41 20z\"/>\n",
              "  </svg>\n",
              "      </button>\n",
              "      \n",
              "  <style>\n",
              "    .colab-df-container {\n",
              "      display:flex;\n",
              "      flex-wrap:wrap;\n",
              "      gap: 12px;\n",
              "    }\n",
              "\n",
              "    .colab-df-convert {\n",
              "      background-color: #E8F0FE;\n",
              "      border: none;\n",
              "      border-radius: 50%;\n",
              "      cursor: pointer;\n",
              "      display: none;\n",
              "      fill: #1967D2;\n",
              "      height: 32px;\n",
              "      padding: 0 0 0 0;\n",
              "      width: 32px;\n",
              "    }\n",
              "\n",
              "    .colab-df-convert:hover {\n",
              "      background-color: #E2EBFA;\n",
              "      box-shadow: 0px 1px 2px rgba(60, 64, 67, 0.3), 0px 1px 3px 1px rgba(60, 64, 67, 0.15);\n",
              "      fill: #174EA6;\n",
              "    }\n",
              "\n",
              "    [theme=dark] .colab-df-convert {\n",
              "      background-color: #3B4455;\n",
              "      fill: #D2E3FC;\n",
              "    }\n",
              "\n",
              "    [theme=dark] .colab-df-convert:hover {\n",
              "      background-color: #434B5C;\n",
              "      box-shadow: 0px 1px 3px 1px rgba(0, 0, 0, 0.15);\n",
              "      filter: drop-shadow(0px 1px 2px rgba(0, 0, 0, 0.3));\n",
              "      fill: #FFFFFF;\n",
              "    }\n",
              "  </style>\n",
              "\n",
              "      <script>\n",
              "        const buttonEl =\n",
              "          document.querySelector('#df-09b6cbb5-eaf4-48d0-9912-2b7b934325e9 button.colab-df-convert');\n",
              "        buttonEl.style.display =\n",
              "          google.colab.kernel.accessAllowed ? 'block' : 'none';\n",
              "\n",
              "        async function convertToInteractive(key) {\n",
              "          const element = document.querySelector('#df-09b6cbb5-eaf4-48d0-9912-2b7b934325e9');\n",
              "          const dataTable =\n",
              "            await google.colab.kernel.invokeFunction('convertToInteractive',\n",
              "                                                     [key], {});\n",
              "          if (!dataTable) return;\n",
              "\n",
              "          const docLinkHtml = 'Like what you see? Visit the ' +\n",
              "            '<a target=\"_blank\" href=https://colab.research.google.com/notebooks/data_table.ipynb>data table notebook</a>'\n",
              "            + ' to learn more about interactive tables.';\n",
              "          element.innerHTML = '';\n",
              "          dataTable['output_type'] = 'display_data';\n",
              "          await google.colab.output.renderOutput(dataTable, element);\n",
              "          const docLink = document.createElement('div');\n",
              "          docLink.innerHTML = docLinkHtml;\n",
              "          element.appendChild(docLink);\n",
              "        }\n",
              "      </script>\n",
              "    </div>\n",
              "  </div>\n",
              "  "
            ],
            "text/plain": [
              "         MAE     MSE    RMSE      R2   RMSLE    MAPE\n",
              "Fold                                                \n",
              "0     0.0151  0.0005  0.0216 -0.2355  0.0155  1.3768\n",
              "1     0.0105  0.0002  0.0129  0.1866  0.0116  4.1990\n",
              "2     0.0152  0.0005  0.0228  0.0340  0.0191  2.2066\n",
              "3     0.0181  0.0007  0.0267  0.1369  0.0200  4.1790\n",
              "4     0.0120  0.0002  0.0157  0.2640  0.0097  1.6690\n",
              "5     0.0169  0.0006  0.0237  0.3099  0.0216  2.1067\n",
              "6     0.0134  0.0004  0.0208 -0.3456  0.0186  2.9258\n",
              "7     0.0125  0.0002  0.0155  0.0397  0.0136  2.1001\n",
              "8     0.0169  0.0010  0.0312  0.2310  0.0273  0.9639\n",
              "9     0.0105  0.0002  0.0131  0.2723  0.0097  2.6930\n",
              "Mean  0.0141  0.0004  0.0204  0.0893  0.0167  2.4420\n",
              "Std   0.0026  0.0002  0.0058  0.2108  0.0054  1.0297"
            ]
          },
          "metadata": {},
          "output_type": "display_data"
        }
      ],
      "source": [
        "xg_boost = create_model('xgboost')\n",
        "tuned_xgboost = tune_model(xg_boost)"
      ]
    },
    {
      "cell_type": "code",
      "execution_count": null,
      "metadata": {
        "colab": {
          "base_uri": "https://localhost:8080/",
          "height": 895
        },
        "id": "CiVbgh78KZ8b",
        "outputId": "f30662b4-3959-4631-e5a9-9eb1fabbba9d"
      },
      "outputs": [
        {
          "data": {
            "text/html": [
              "\n",
              "  <div id=\"df-97c9cc2f-d0b5-46a1-b3af-88cd24557396\">\n",
              "    <div class=\"colab-df-container\">\n",
              "      <div>\n",
              "<style scoped>\n",
              "    .dataframe tbody tr th:only-of-type {\n",
              "        vertical-align: middle;\n",
              "    }\n",
              "\n",
              "    .dataframe tbody tr th {\n",
              "        vertical-align: top;\n",
              "    }\n",
              "\n",
              "    .dataframe thead th {\n",
              "        text-align: right;\n",
              "    }\n",
              "</style>\n",
              "<table border=\"1\" class=\"dataframe\">\n",
              "  <thead>\n",
              "    <tr style=\"text-align: right;\">\n",
              "      <th></th>\n",
              "      <th>Name</th>\n",
              "      <th>Reference</th>\n",
              "      <th>Turbo</th>\n",
              "    </tr>\n",
              "    <tr>\n",
              "      <th>ID</th>\n",
              "      <th></th>\n",
              "      <th></th>\n",
              "      <th></th>\n",
              "    </tr>\n",
              "  </thead>\n",
              "  <tbody>\n",
              "    <tr>\n",
              "      <th>lr</th>\n",
              "      <td>Linear Regression</td>\n",
              "      <td>sklearn.linear_model._base.LinearRegression</td>\n",
              "      <td>True</td>\n",
              "    </tr>\n",
              "    <tr>\n",
              "      <th>lasso</th>\n",
              "      <td>Lasso Regression</td>\n",
              "      <td>sklearn.linear_model._coordinate_descent.Lasso</td>\n",
              "      <td>True</td>\n",
              "    </tr>\n",
              "    <tr>\n",
              "      <th>ridge</th>\n",
              "      <td>Ridge Regression</td>\n",
              "      <td>sklearn.linear_model._ridge.Ridge</td>\n",
              "      <td>True</td>\n",
              "    </tr>\n",
              "    <tr>\n",
              "      <th>en</th>\n",
              "      <td>Elastic Net</td>\n",
              "      <td>sklearn.linear_model._coordinate_descent.Elast...</td>\n",
              "      <td>True</td>\n",
              "    </tr>\n",
              "    <tr>\n",
              "      <th>lar</th>\n",
              "      <td>Least Angle Regression</td>\n",
              "      <td>sklearn.linear_model._least_angle.Lars</td>\n",
              "      <td>True</td>\n",
              "    </tr>\n",
              "    <tr>\n",
              "      <th>llar</th>\n",
              "      <td>Lasso Least Angle Regression</td>\n",
              "      <td>sklearn.linear_model._least_angle.LassoLars</td>\n",
              "      <td>True</td>\n",
              "    </tr>\n",
              "    <tr>\n",
              "      <th>omp</th>\n",
              "      <td>Orthogonal Matching Pursuit</td>\n",
              "      <td>sklearn.linear_model._omp.OrthogonalMatchingPu...</td>\n",
              "      <td>True</td>\n",
              "    </tr>\n",
              "    <tr>\n",
              "      <th>br</th>\n",
              "      <td>Bayesian Ridge</td>\n",
              "      <td>sklearn.linear_model._bayes.BayesianRidge</td>\n",
              "      <td>True</td>\n",
              "    </tr>\n",
              "    <tr>\n",
              "      <th>ard</th>\n",
              "      <td>Automatic Relevance Determination</td>\n",
              "      <td>sklearn.linear_model._bayes.ARDRegression</td>\n",
              "      <td>False</td>\n",
              "    </tr>\n",
              "    <tr>\n",
              "      <th>par</th>\n",
              "      <td>Passive Aggressive Regressor</td>\n",
              "      <td>sklearn.linear_model._passive_aggressive.Passi...</td>\n",
              "      <td>True</td>\n",
              "    </tr>\n",
              "    <tr>\n",
              "      <th>ransac</th>\n",
              "      <td>Random Sample Consensus</td>\n",
              "      <td>sklearn.linear_model._ransac.RANSACRegressor</td>\n",
              "      <td>False</td>\n",
              "    </tr>\n",
              "    <tr>\n",
              "      <th>tr</th>\n",
              "      <td>TheilSen Regressor</td>\n",
              "      <td>sklearn.linear_model._theil_sen.TheilSenRegressor</td>\n",
              "      <td>False</td>\n",
              "    </tr>\n",
              "    <tr>\n",
              "      <th>huber</th>\n",
              "      <td>Huber Regressor</td>\n",
              "      <td>sklearn.linear_model._huber.HuberRegressor</td>\n",
              "      <td>True</td>\n",
              "    </tr>\n",
              "    <tr>\n",
              "      <th>kr</th>\n",
              "      <td>Kernel Ridge</td>\n",
              "      <td>sklearn.kernel_ridge.KernelRidge</td>\n",
              "      <td>False</td>\n",
              "    </tr>\n",
              "    <tr>\n",
              "      <th>svm</th>\n",
              "      <td>Support Vector Regression</td>\n",
              "      <td>sklearn.svm._classes.SVR</td>\n",
              "      <td>False</td>\n",
              "    </tr>\n",
              "    <tr>\n",
              "      <th>knn</th>\n",
              "      <td>K Neighbors Regressor</td>\n",
              "      <td>sklearn.neighbors._regression.KNeighborsRegressor</td>\n",
              "      <td>True</td>\n",
              "    </tr>\n",
              "    <tr>\n",
              "      <th>dt</th>\n",
              "      <td>Decision Tree Regressor</td>\n",
              "      <td>sklearn.tree._classes.DecisionTreeRegressor</td>\n",
              "      <td>True</td>\n",
              "    </tr>\n",
              "    <tr>\n",
              "      <th>rf</th>\n",
              "      <td>Random Forest Regressor</td>\n",
              "      <td>sklearn.ensemble._forest.RandomForestRegressor</td>\n",
              "      <td>True</td>\n",
              "    </tr>\n",
              "    <tr>\n",
              "      <th>et</th>\n",
              "      <td>Extra Trees Regressor</td>\n",
              "      <td>sklearn.ensemble._forest.ExtraTreesRegressor</td>\n",
              "      <td>True</td>\n",
              "    </tr>\n",
              "    <tr>\n",
              "      <th>ada</th>\n",
              "      <td>AdaBoost Regressor</td>\n",
              "      <td>sklearn.ensemble._weight_boosting.AdaBoostRegr...</td>\n",
              "      <td>True</td>\n",
              "    </tr>\n",
              "    <tr>\n",
              "      <th>gbr</th>\n",
              "      <td>Gradient Boosting Regressor</td>\n",
              "      <td>sklearn.ensemble._gb.GradientBoostingRegressor</td>\n",
              "      <td>True</td>\n",
              "    </tr>\n",
              "    <tr>\n",
              "      <th>mlp</th>\n",
              "      <td>MLP Regressor</td>\n",
              "      <td>sklearn.neural_network._multilayer_perceptron....</td>\n",
              "      <td>False</td>\n",
              "    </tr>\n",
              "    <tr>\n",
              "      <th>xgboost</th>\n",
              "      <td>Extreme Gradient Boosting</td>\n",
              "      <td>xgboost.sklearn.XGBRegressor</td>\n",
              "      <td>True</td>\n",
              "    </tr>\n",
              "    <tr>\n",
              "      <th>lightgbm</th>\n",
              "      <td>Light Gradient Boosting Machine</td>\n",
              "      <td>lightgbm.sklearn.LGBMRegressor</td>\n",
              "      <td>True</td>\n",
              "    </tr>\n",
              "    <tr>\n",
              "      <th>catboost</th>\n",
              "      <td>CatBoost Regressor</td>\n",
              "      <td>catboost.core.CatBoostRegressor</td>\n",
              "      <td>True</td>\n",
              "    </tr>\n",
              "    <tr>\n",
              "      <th>dummy</th>\n",
              "      <td>Dummy Regressor</td>\n",
              "      <td>sklearn.dummy.DummyRegressor</td>\n",
              "      <td>True</td>\n",
              "    </tr>\n",
              "  </tbody>\n",
              "</table>\n",
              "</div>\n",
              "      <button class=\"colab-df-convert\" onclick=\"convertToInteractive('df-97c9cc2f-d0b5-46a1-b3af-88cd24557396')\"\n",
              "              title=\"Convert this dataframe to an interactive table.\"\n",
              "              style=\"display:none;\">\n",
              "        \n",
              "  <svg xmlns=\"http://www.w3.org/2000/svg\" height=\"24px\"viewBox=\"0 0 24 24\"\n",
              "       width=\"24px\">\n",
              "    <path d=\"M0 0h24v24H0V0z\" fill=\"none\"/>\n",
              "    <path d=\"M18.56 5.44l.94 2.06.94-2.06 2.06-.94-2.06-.94-.94-2.06-.94 2.06-2.06.94zm-11 1L8.5 8.5l.94-2.06 2.06-.94-2.06-.94L8.5 2.5l-.94 2.06-2.06.94zm10 10l.94 2.06.94-2.06 2.06-.94-2.06-.94-.94-2.06-.94 2.06-2.06.94z\"/><path d=\"M17.41 7.96l-1.37-1.37c-.4-.4-.92-.59-1.43-.59-.52 0-1.04.2-1.43.59L10.3 9.45l-7.72 7.72c-.78.78-.78 2.05 0 2.83L4 21.41c.39.39.9.59 1.41.59.51 0 1.02-.2 1.41-.59l7.78-7.78 2.81-2.81c.8-.78.8-2.07 0-2.86zM5.41 20L4 18.59l7.72-7.72 1.47 1.35L5.41 20z\"/>\n",
              "  </svg>\n",
              "      </button>\n",
              "      \n",
              "  <style>\n",
              "    .colab-df-container {\n",
              "      display:flex;\n",
              "      flex-wrap:wrap;\n",
              "      gap: 12px;\n",
              "    }\n",
              "\n",
              "    .colab-df-convert {\n",
              "      background-color: #E8F0FE;\n",
              "      border: none;\n",
              "      border-radius: 50%;\n",
              "      cursor: pointer;\n",
              "      display: none;\n",
              "      fill: #1967D2;\n",
              "      height: 32px;\n",
              "      padding: 0 0 0 0;\n",
              "      width: 32px;\n",
              "    }\n",
              "\n",
              "    .colab-df-convert:hover {\n",
              "      background-color: #E2EBFA;\n",
              "      box-shadow: 0px 1px 2px rgba(60, 64, 67, 0.3), 0px 1px 3px 1px rgba(60, 64, 67, 0.15);\n",
              "      fill: #174EA6;\n",
              "    }\n",
              "\n",
              "    [theme=dark] .colab-df-convert {\n",
              "      background-color: #3B4455;\n",
              "      fill: #D2E3FC;\n",
              "    }\n",
              "\n",
              "    [theme=dark] .colab-df-convert:hover {\n",
              "      background-color: #434B5C;\n",
              "      box-shadow: 0px 1px 3px 1px rgba(0, 0, 0, 0.15);\n",
              "      filter: drop-shadow(0px 1px 2px rgba(0, 0, 0, 0.3));\n",
              "      fill: #FFFFFF;\n",
              "    }\n",
              "  </style>\n",
              "\n",
              "      <script>\n",
              "        const buttonEl =\n",
              "          document.querySelector('#df-97c9cc2f-d0b5-46a1-b3af-88cd24557396 button.colab-df-convert');\n",
              "        buttonEl.style.display =\n",
              "          google.colab.kernel.accessAllowed ? 'block' : 'none';\n",
              "\n",
              "        async function convertToInteractive(key) {\n",
              "          const element = document.querySelector('#df-97c9cc2f-d0b5-46a1-b3af-88cd24557396');\n",
              "          const dataTable =\n",
              "            await google.colab.kernel.invokeFunction('convertToInteractive',\n",
              "                                                     [key], {});\n",
              "          if (!dataTable) return;\n",
              "\n",
              "          const docLinkHtml = 'Like what you see? Visit the ' +\n",
              "            '<a target=\"_blank\" href=https://colab.research.google.com/notebooks/data_table.ipynb>data table notebook</a>'\n",
              "            + ' to learn more about interactive tables.';\n",
              "          element.innerHTML = '';\n",
              "          dataTable['output_type'] = 'display_data';\n",
              "          await google.colab.output.renderOutput(dataTable, element);\n",
              "          const docLink = document.createElement('div');\n",
              "          docLink.innerHTML = docLinkHtml;\n",
              "          element.appendChild(docLink);\n",
              "        }\n",
              "      </script>\n",
              "    </div>\n",
              "  </div>\n",
              "  "
            ],
            "text/plain": [
              "                                       Name  \\\n",
              "ID                                            \n",
              "lr                        Linear Regression   \n",
              "lasso                      Lasso Regression   \n",
              "ridge                      Ridge Regression   \n",
              "en                              Elastic Net   \n",
              "lar                  Least Angle Regression   \n",
              "llar           Lasso Least Angle Regression   \n",
              "omp             Orthogonal Matching Pursuit   \n",
              "br                           Bayesian Ridge   \n",
              "ard       Automatic Relevance Determination   \n",
              "par            Passive Aggressive Regressor   \n",
              "ransac              Random Sample Consensus   \n",
              "tr                       TheilSen Regressor   \n",
              "huber                       Huber Regressor   \n",
              "kr                             Kernel Ridge   \n",
              "svm               Support Vector Regression   \n",
              "knn                   K Neighbors Regressor   \n",
              "dt                  Decision Tree Regressor   \n",
              "rf                  Random Forest Regressor   \n",
              "et                    Extra Trees Regressor   \n",
              "ada                      AdaBoost Regressor   \n",
              "gbr             Gradient Boosting Regressor   \n",
              "mlp                           MLP Regressor   \n",
              "xgboost           Extreme Gradient Boosting   \n",
              "lightgbm    Light Gradient Boosting Machine   \n",
              "catboost                 CatBoost Regressor   \n",
              "dummy                       Dummy Regressor   \n",
              "\n",
              "                                                  Reference  Turbo  \n",
              "ID                                                                  \n",
              "lr              sklearn.linear_model._base.LinearRegression   True  \n",
              "lasso        sklearn.linear_model._coordinate_descent.Lasso   True  \n",
              "ridge                     sklearn.linear_model._ridge.Ridge   True  \n",
              "en        sklearn.linear_model._coordinate_descent.Elast...   True  \n",
              "lar                  sklearn.linear_model._least_angle.Lars   True  \n",
              "llar            sklearn.linear_model._least_angle.LassoLars   True  \n",
              "omp       sklearn.linear_model._omp.OrthogonalMatchingPu...   True  \n",
              "br                sklearn.linear_model._bayes.BayesianRidge   True  \n",
              "ard               sklearn.linear_model._bayes.ARDRegression  False  \n",
              "par       sklearn.linear_model._passive_aggressive.Passi...   True  \n",
              "ransac         sklearn.linear_model._ransac.RANSACRegressor  False  \n",
              "tr        sklearn.linear_model._theil_sen.TheilSenRegressor  False  \n",
              "huber            sklearn.linear_model._huber.HuberRegressor   True  \n",
              "kr                         sklearn.kernel_ridge.KernelRidge  False  \n",
              "svm                                sklearn.svm._classes.SVR  False  \n",
              "knn       sklearn.neighbors._regression.KNeighborsRegressor   True  \n",
              "dt              sklearn.tree._classes.DecisionTreeRegressor   True  \n",
              "rf           sklearn.ensemble._forest.RandomForestRegressor   True  \n",
              "et             sklearn.ensemble._forest.ExtraTreesRegressor   True  \n",
              "ada       sklearn.ensemble._weight_boosting.AdaBoostRegr...   True  \n",
              "gbr          sklearn.ensemble._gb.GradientBoostingRegressor   True  \n",
              "mlp       sklearn.neural_network._multilayer_perceptron....  False  \n",
              "xgboost                        xgboost.sklearn.XGBRegressor   True  \n",
              "lightgbm                     lightgbm.sklearn.LGBMRegressor   True  \n",
              "catboost                    catboost.core.CatBoostRegressor   True  \n",
              "dummy                          sklearn.dummy.DummyRegressor   True  "
            ]
          },
          "execution_count": 12,
          "metadata": {},
          "output_type": "execute_result"
        }
      ],
      "source": [
        "models()"
      ]
    },
    {
      "cell_type": "code",
      "execution_count": null,
      "metadata": {
        "id": "GysneB7wppVF"
      },
      "outputs": [],
      "source": [
        ""
      ]
    }
  ],
  "metadata": {
    "colab": {
      "collapsed_sections": [],
      "name": "FA Assignment.ipynb",
      "provenance": []
    },
    "kernelspec": {
      "display_name": "Python 3",
      "name": "python3"
    },
    "language_info": {
      "name": "python"
    }
  },
  "nbformat": 4,
  "nbformat_minor": 0
}